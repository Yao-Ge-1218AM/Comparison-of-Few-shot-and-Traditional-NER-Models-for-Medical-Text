{
  "nbformat": 4,
  "nbformat_minor": 0,
  "metadata": {
    "colab": {
      "provenance": []
    },
    "kernelspec": {
      "name": "python3",
      "display_name": "Python 3"
    },
    "language_info": {
      "name": "python"
    }
  },
  "cells": [
    {
      "cell_type": "code",
      "metadata": {
        "id": "9aLtje7H2op_"
      },
      "source": [
        "!tar -xvf /content/2014_training-PHI-Gold-Set1.tar.gz"
      ],
      "execution_count": null,
      "outputs": []
    },
    {
      "cell_type": "code",
      "metadata": {
        "id": "vm0IMOzs2sjV"
      },
      "source": [
        "!tar -xvf /content/testing-PHI-Gold-fixed.tar.gz"
      ],
      "execution_count": null,
      "outputs": []
    },
    {
      "cell_type": "markdown",
      "metadata": {
        "id": "6PwuX7wi3a-N"
      },
      "source": [
        "read xml"
      ]
    },
    {
      "cell_type": "code",
      "metadata": {
        "colab": {
          "base_uri": "https://localhost:8080/"
        },
        "id": "BgXurBX03LOX",
        "outputId": "ea324662-e27f-442d-d520-96b59f2065c8"
      },
      "source": [
        "!pip install xmltodict"
      ],
      "execution_count": null,
      "outputs": [
        {
          "output_type": "stream",
          "text": [
            "Collecting xmltodict\n",
            "  Downloading https://files.pythonhosted.org/packages/28/fd/30d5c1d3ac29ce229f6bdc40bbc20b28f716e8b363140c26eff19122d8a5/xmltodict-0.12.0-py2.py3-none-any.whl\n",
            "Installing collected packages: xmltodict\n",
            "Successfully installed xmltodict-0.12.0\n"
          ],
          "name": "stdout"
        }
      ]
    },
    {
      "cell_type": "markdown",
      "metadata": {
        "id": "q3tozGe34FR3"
      },
      "source": [
        "xml to json"
      ]
    },
    {
      "cell_type": "code",
      "metadata": {
        "id": "-3l6MD103dwM"
      },
      "source": [
        "import json\n",
        "import xmltodict\n",
        "import os\n",
        "\n",
        "#data_dir = \"/content/training-PHI-Gold-Set1\"\n",
        "data_dir = \"/content/testing-PHI-Gold-fixed\"\n",
        "\n",
        "for file in os.listdir(data_dir):\n",
        "  #print(file[:6])\n",
        "  with open(data_dir + \"/\" + file, \"r\") as xml_file:\n",
        "    data_dict = xmltodict.parse(xml_file.read())\n",
        "    json_data = json.dumps(data_dict)\n",
        "\n",
        "      # Write the json data to output\n",
        "      # json file\n",
        "    with open(\"/content/test_json/\" + file[:6] + \".json\", \"w\") as json_file:\n",
        "      json_file.write(json_data)\n",
        "      json_file.close()\n",
        "\n"
      ],
      "execution_count": null,
      "outputs": []
    },
    {
      "cell_type": "code",
      "metadata": {
        "id": "MczgKxsh4Em5"
      },
      "source": [
        "import json\n",
        "import os\n",
        "\n",
        "#data_dir = \"/content/training_json\"\n",
        "data_dir = \"/content/test_json\"\n",
        "\n",
        "for file in os.listdir(data_dir):\n",
        "  with open(data_dir + \"/\" + file, \"r\") as f:\n",
        "    with open(\"/content/test_text/\" + file[:6] + \".txt\", \"w\") as wf:\n",
        "      json_str = json.load(f)\n",
        "      #print(json_str)\n",
        "      for key,value in json_str.items():\n",
        "        #print(value)\n",
        "        i = 0\n",
        "        for key1,value1 in value.items():\n",
        "          #print(key1)\n",
        "          i+=1\n",
        "          if(i==1):\n",
        "            print(value1)\n",
        "            wf.write(value1)\n",
        "            #wf.close()\n"
      ],
      "execution_count": null,
      "outputs": []
    },
    {
      "cell_type": "code",
      "metadata": {
        "colab": {
          "base_uri": "https://localhost:8080/"
        },
        "id": "4qzMLK1-1gRl",
        "outputId": "05fc3970-b1d6-4828-cc74-1aded33b8cfd"
      },
      "source": [
        "!tar -czf training_text.tar.gz /content/training_text"
      ],
      "execution_count": null,
      "outputs": [
        {
          "output_type": "stream",
          "text": [
            "tar: Removing leading `/' from member names\n"
          ],
          "name": "stdout"
        }
      ]
    },
    {
      "cell_type": "code",
      "metadata": {
        "colab": {
          "base_uri": "https://localhost:8080/"
        },
        "id": "wyVLeiwr3AnP",
        "outputId": "65d24889-0c99-407c-f9d9-7020a1613b8e"
      },
      "source": [
        "!tar -czf test_text.tar.gz /content/test_text"
      ],
      "execution_count": null,
      "outputs": [
        {
          "output_type": "stream",
          "text": [
            "tar: Removing leading `/' from member names\n"
          ],
          "name": "stdout"
        }
      ]
    },
    {
      "cell_type": "markdown",
      "metadata": {
        "id": "4tCLzvqA_9Re"
      },
      "source": [
        "to ann"
      ]
    },
    {
      "cell_type": "code",
      "metadata": {
        "id": "ne8vNmlB_-uC"
      },
      "source": [
        "import json\n",
        "import os\n",
        "\n",
        "data_dir = \"/content/training_json\"\n",
        "#data_dir = \"/content/test_json\"\n",
        "\n",
        "for file in os.listdir(data_dir):\n",
        "  with open(data_dir + \"/\" + file, \"r\") as f:\n",
        "  #with open(\"/content/training_json/110-01.json\",\"r\") as f:\n",
        "    with open(\"/content/training_ann/\" + file[:6] + \".ann\", \"w\") as wf:\n",
        "      json_str = json.load(f)\n",
        "      #print(json_str)\n",
        "      for key,value in json_str.items():\n",
        "        #print(value)\n",
        "        i = 0\n",
        "        for key1,value1 in value.items():\n",
        "          #print(key1)\n",
        "          i+=1\n",
        "          if(i!=1):\n",
        "            for key2,value2 in value1.items():\n",
        "              #print(key2)\n",
        "              #print(str(value2)[0])\n",
        "              if(str(value2)[0]==\"{\"):\n",
        "                #print(value2)\n",
        "                wf.write(str(value2['@id']) + \"\\t\" + str(value2['@TYPE']) + \"\\t\" + str(value2['@start']) + \" \" + str(value2['@end']) + \"\\t\" + str(value2['@text']) + \"\\n\")\n",
        "              else:\n",
        "                for dictx in value2:\n",
        "                  #print(dictx)\n",
        "                  #print(dictx['@TYPE'])\n",
        "                  wf.write(str(dictx['@id']) + \"\\t\" + str(dictx['@TYPE']) + \"\\t\" + str(dictx['@start']) + \" \" + str(dictx['@end']) + \"\\t\" + str(dictx['@text']) + \"\\n\")\n",
        "              print(\"----------\")\n",
        ""
      ],
      "execution_count": null,
      "outputs": []
    },
    {
      "cell_type": "code",
      "metadata": {
        "id": "bXL31C-fQe3j"
      },
      "source": [
        "wf.write(str(dictx['@id']) + \"\\t\" + str(dictx['@TYPE']) + \"\\t\" + str(dictx['@start']) + \" \" + str(dictx['@end']) + \"\\t\" + str(dictx['@text']))"
      ],
      "execution_count": null,
      "outputs": []
    },
    {
      "cell_type": "code",
      "metadata": {
        "id": "onmlotUzZLRT"
      },
      "source": [
        "!rm -r /content/test_ann"
      ],
      "execution_count": null,
      "outputs": []
    },
    {
      "cell_type": "code",
      "metadata": {
        "id": "H8songXsaPk-"
      },
      "source": [
        "!tar -czf test_ann.tar.gz /content/test_ann/"
      ],
      "execution_count": null,
      "outputs": []
    },
    {
      "cell_type": "code",
      "metadata": {
        "id": "iS09QXs2aztA"
      },
      "source": [
        "!tar -czf training_ann.tar.gz /content/training_ann/"
      ],
      "execution_count": null,
      "outputs": []
    }
  ]
}