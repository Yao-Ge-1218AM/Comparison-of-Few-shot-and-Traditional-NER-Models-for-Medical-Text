{
  "nbformat": 4,
  "nbformat_minor": 0,
  "metadata": {
    "colab": {
      "provenance": []
    },
    "kernelspec": {
      "name": "python3",
      "display_name": "Python 3"
    },
    "language_info": {
      "name": "python"
    }
  },
  "cells": [
    {
      "cell_type": "code",
      "execution_count": null,
      "metadata": {
        "id": "u7OB8FtM69S1",
        "colab": {
          "base_uri": "https://localhost:8080/"
        },
        "outputId": "6f523519-6614-4334-82e1-b6f7ca119fe3"
      },
      "outputs": [
        {
          "output_type": "stream",
          "name": "stdout",
          "text": [
            "=======================\n",
            "['I-Strength'] 2848\n",
            "=======================\n",
            "['I-Strength'] 3072\n",
            "=======================\n",
            "['I-Strength'] 3199\n",
            "=======================\n",
            "['I-Drug'] 4063\n",
            "=======================\n",
            "['B-Reason'] 8271\n",
            "=======================\n",
            "['I-Strength'] 8572\n",
            "=======================\n",
            "['I-Strength'] 8927\n",
            "=======================\n",
            "['I-Strength'] 16877\n",
            "=======================\n",
            "['I-Strength'] 21308\n",
            "=======================\n",
            "['O'] 24138\n",
            "=======================\n",
            "['I-Strength'] 30345\n",
            "=======================\n",
            "['I-Strength'] 30479\n",
            "=======================\n",
            "['I-Strength'] 30639\n",
            "=======================\n",
            "['I-Strength'] 30665\n",
            "=======================\n",
            "['I-Strength'] 48519\n",
            "=======================\n",
            "['I-Strength'] 48547\n",
            "=======================\n",
            "['I-Strength'] 54203\n",
            "=======================\n",
            "['I-Strength'] 54250\n",
            "=======================\n",
            "['I-Strength'] 54277\n",
            "=======================\n",
            "['I-Strength'] 54304\n",
            "=======================\n",
            "['I-Strength'] 54540\n",
            "=======================\n",
            "['I-Strength'] 54724\n",
            "=======================\n",
            "['I-Strength'] 54727\n",
            "=======================\n",
            "['I-Strength'] 55205\n",
            "=======================\n",
            "['I-Strength'] 55248\n",
            "=======================\n",
            "['I-Strength'] 55272\n",
            "=======================\n",
            "['I-Strength'] 55296\n",
            "=======================\n",
            "['I-Strength'] 55504\n",
            "=======================\n",
            "['I-Reason'] 94161\n",
            "=======================\n",
            "['I-Strength'] 96753\n",
            "=======================\n",
            "['I-Strength'] 98836\n",
            "=======================\n",
            "['I-Reason'] 99050\n"
          ]
        }
      ],
      "source": [
        "with open(\"/content/dev22.txt\",'r') as f:\n",
        "  with open(\"/content/dev33.txt\",'a') as wf:\n",
        "    lines = f.readlines()\n",
        "    i = 0\n",
        "    for line in lines:\n",
        "      i = i+1\n",
        "      if(line!=\"\\n\"):\n",
        "        new_line = line.strip().split(\" \")\n",
        "        if(len(new_line)!=2):\n",
        "          print(\"=======================\")\n",
        "          print(new_line,i)\n",
        "          #wf.write(\"\\t\")\n",
        "        else:\n",
        "          #print(new_line)\n",
        "          wf.write(line)\n",
        "      else:\n",
        "        #print(new_line)\n",
        "        wf.write(line)\n",
        ""
      ]
    },
    {
      "cell_type": "code",
      "source": [
        "with open(\"/content/train22.txt\",'r') as f:\n",
        "  alines = f.readlines()\n",
        "  i = 0\n",
        "  for line in lines:\n",
        "    i = i+1\n",
        "    if(line!=\"\\n\"):\n",
        "        new_line = line.strip().split(\" \")\n",
        "        if(len(new_line)!=2):\n",
        "          print(line)"
      ],
      "metadata": {
        "id": "epwLOBir8XyJ"
      },
      "execution_count": null,
      "outputs": []
    },
    {
      "cell_type": "code",
      "source": [
        "with open(\"/content/dev.txt\",\"r\") as f:\n",
        "  with open(\"/content/dev11.txt\",\"a\") as wf:\n",
        "    text = f.readlines()\n",
        "    for line in text:\n",
        "      if(line.istitle() and (line[0].isdigit()==0)):\n",
        "        #print(line)\n",
        "        wf.write(\"\\n\")\n",
        "        wf.write(line)\n",
        "      else:\n",
        "        wf.write(line)"
      ],
      "metadata": {
        "id": "-nl9kaLNItgu"
      },
      "execution_count": null,
      "outputs": []
    },
    {
      "cell_type": "markdown",
      "source": [
        "去除文档中所有标点"
      ],
      "metadata": {
        "id": "u20jCQoxP0nT"
      }
    },
    {
      "cell_type": "code",
      "source": [
        "import string\n",
        "#stri = 'today is friday, so happy..!!!'\n",
        "punctuation_string = string.punctuation\n",
        "\n",
        "print(\"所有的英文标点符号：\", punctuation_string)\n",
        "#for i in punctuation_string:\n",
        "    #stri = stri.replace(i, '')\n",
        "#print(stri)\n",
        "\n",
        "with open(\"/content/dev11.txt\",\"r\") as f:\n",
        "  with open(\"/content/dev22.txt\",\"a\") as wf:\n",
        "    text = f.readlines()\n",
        "    for line in text:\n",
        "      for i in punctuation_string:\n",
        "        if(i!='-'):\n",
        "          line = line.replace(i, '')\n",
        "      #print(new_line)\n",
        "      wf.write(line)"
      ],
      "metadata": {
        "colab": {
          "base_uri": "https://localhost:8080/"
        },
        "id": "4M-QsM4bP3Vs",
        "outputId": "402bfe5a-5196-45f6-9e46-8482771a98be"
      },
      "execution_count": null,
      "outputs": [
        {
          "output_type": "stream",
          "name": "stdout",
          "text": [
            "所有的英文标点符号： !\"#$%&'()*+,-./:;<=>?@[\\]^_`{|}~\n"
          ]
        }
      ]
    },
    {
      "cell_type": "code",
      "source": [
        "import string\n",
        "#stri = 'today is friday, so happy..!!!'\n",
        "punctuation_string = string.punctuation\n",
        "\n",
        "print(\"所有的英文标点符号：\", punctuation_string)"
      ],
      "metadata": {
        "colab": {
          "base_uri": "https://localhost:8080/"
        },
        "id": "uyFzE7svRSCN",
        "outputId": "1423fe91-3e0e-40b6-9e19-cb8ba4c92afb"
      },
      "execution_count": null,
      "outputs": [
        {
          "output_type": "stream",
          "name": "stdout",
          "text": [
            "所有的英文标点符号： !\"#$%&'()*+,-./:;<=>?@[\\]^_`{|}~\n"
          ]
        }
      ]
    },
    {
      "cell_type": "code",
      "source": [
        "with open(\"/content/test.txt\",\"r\") as f:\n",
        "  with open(\"/content/test11.txt\",\"a\") as wf:\n",
        "    text = f.readlines()\n",
        "    for line in text:\n",
        "      if(line.istitle() and (line[0].isdigit()==0)):\n",
        "        #print(line)\n",
        "        wf.write(\"\\n\")\n",
        "        wf.write(line)\n",
        "      else:\n",
        "        wf.write(line)"
      ],
      "metadata": {
        "id": "4vrGaL5vfsLg"
      },
      "execution_count": null,
      "outputs": []
    }
  ]
}