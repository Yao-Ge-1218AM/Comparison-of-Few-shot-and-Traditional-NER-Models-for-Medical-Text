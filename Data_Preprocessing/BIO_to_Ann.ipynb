{
  "nbformat": 4,
  "nbformat_minor": 0,
  "metadata": {
    "colab": {
      "provenance": []
    },
    "kernelspec": {
      "name": "python3",
      "display_name": "Python 3"
    },
    "language_info": {
      "name": "python"
    }
  },
  "cells": [
    {
      "cell_type": "markdown",
      "metadata": {
        "id": "2plvBK91vHIZ"
      },
      "source": [
        "文档按\\n划分"
      ]
    },
    {
      "cell_type": "code",
      "metadata": {
        "id": "pFQBa4P-vnLY"
      },
      "source": [
        "path = \"/content/devel.txt\"\n",
        "\n",
        "path1 = \"/content/dev_txt\"\n",
        "\n",
        "cc=1\n",
        "with open(path,'r') as f:\n",
        "  text = f.readlines()\n",
        "  for line in text:\n",
        "    new_line = line.strip(\"\\n\").split(\" \")\n",
        "    #with open(path1 + \"/file_\" + i + \".txt\",'a') as wf:\n",
        "    if(line!=\"\\n\"):\n",
        "      with open(path1 + \"/\" + str(cc) + \".txt\",'a') as wf:\n",
        "        wf.write(str(new_line[0]) + \" \" + str(new_line[1]) + \"\\n\")\n",
        "    else:\n",
        "      cc = cc+1\n"
      ],
      "execution_count": null,
      "outputs": []
    },
    {
      "cell_type": "code",
      "metadata": {
        "id": "3aF0BAEh0r_5"
      },
      "source": [
        "!rm -r /content/train_txt/"
      ],
      "execution_count": null,
      "outputs": []
    },
    {
      "cell_type": "code",
      "metadata": {
        "id": "rWbXuVFR0va7"
      },
      "source": [
        "!mkdir /content/train_txt/"
      ],
      "execution_count": null,
      "outputs": []
    },
    {
      "cell_type": "code",
      "metadata": {
        "colab": {
          "base_uri": "https://localhost:8080/"
        },
        "id": "EZ0X85ji0ggh",
        "outputId": "5b807bd1-80e8-46c4-ab17-8ad19512273c"
      },
      "source": [
        "print(cc)"
      ],
      "execution_count": null,
      "outputs": [
        {
          "output_type": "stream",
          "name": "stdout",
          "text": [
            "2520\n"
          ]
        }
      ]
    },
    {
      "cell_type": "code",
      "metadata": {
        "colab": {
          "base_uri": "https://localhost:8080/"
        },
        "id": "YZ15aNFHtdHj",
        "outputId": "ff439686-d361-4ab9-fa69-d28541641095"
      },
      "source": [
        "#path = '/content/train/file_10001.txt'\n",
        "path = '/content/dev_txt/1000.txt'\n",
        "from collections import defaultdict\n",
        "\n",
        "count = 0\n",
        "\n",
        "pred = defaultdict(list)\n",
        "text = \"\"\n",
        "with open(path,'r') as f:\n",
        "\n",
        "  for line in f:\n",
        "    #tmp = []\n",
        "    if(line=='\\n'):\n",
        "      count+=1\n",
        "      #print(count)\n",
        "    if(line!='\\n'):\n",
        "      line = line.strip('\\n')\n",
        "      #line = line.split(\"\\t\")\n",
        "      line = line.split(\" \")\n",
        "      text += line[0] + \" \"\n",
        "      if(line[1]!='O'):\n",
        "        #print(line[0], line[1])\n",
        "        #print(count+1)\n",
        "        #pred_tmp.append(line[1])\n",
        "        #tmp.append(count+1)\n",
        "        #tmp.append(line[0])\n",
        "        pred[count+1].append(line[0])\n",
        "    #if(len(tmp)>0):\n",
        "      #print(tmp)\n",
        "#print(count)\n",
        "print(pred)\n",
        "print(text)"
      ],
      "execution_count": null,
      "outputs": [
        {
          "output_type": "stream",
          "name": "stdout",
          "text": [
            "defaultdict(<class 'list'>, {1: ['Small', 'GTPases', 'Ypt', 'Rab']})\n",
            "Small GTPases of the Ypt / Rab family are involved in the regulation of vesicular transport . \n"
          ]
        }
      ]
    },
    {
      "cell_type": "code",
      "metadata": {
        "colab": {
          "base_uri": "https://localhost:8080/"
        },
        "id": "RvMcda3C26M_",
        "outputId": "57331e19-4f4c-4f65-f082-5184a60e219b"
      },
      "source": [
        "from collections import defaultdict\n",
        "\n",
        "count = 0\n",
        "\n",
        "pred1 = defaultdict(list)\n",
        "\n",
        "for key,value in pred.items():\n",
        "  #print(key,value)\n",
        "\n",
        "  for i in range(len(value)-1,-1,-1):\n",
        "    tag = 0\n",
        "    str = ''\n",
        "    if(value[i].startswith('##')):\n",
        "      #print(value[i])\n",
        "      str = value[i-1] + value[i][2:]\n",
        "      print(str)\n",
        "      value[i-1] = str\n",
        "      value[i] = ''\n",
        "print(pred)"
      ],
      "execution_count": null,
      "outputs": [
        {
          "output_type": "stream",
          "name": "stdout",
          "text": [
            "defaultdict(<class 'list'>, {1: ['Small', 'GTPases', 'Ypt', 'Rab']})\n"
          ]
        }
      ]
    },
    {
      "cell_type": "code",
      "metadata": {
        "colab": {
          "base_uri": "https://localhost:8080/"
        },
        "id": "3vcrAN7B2_Tb",
        "outputId": "ceaaca16-6919-4829-bd8f-49f1c36b1ab6"
      },
      "source": [
        "from collections import defaultdict\n",
        "\n",
        "count = 0\n",
        "\n",
        "pred1 = defaultdict(list)\n",
        "\n",
        "for key,value in pred.items():\n",
        "  for i in range(len(value)):\n",
        "    if(value[i]!=''):\n",
        "      #print(value[i])\n",
        "      pred1[key].append(value[i])\n",
        "print(pred1)"
      ],
      "execution_count": null,
      "outputs": [
        {
          "output_type": "stream",
          "name": "stdout",
          "text": [
            "defaultdict(<class 'list'>, {1: ['Small', 'GTPases', 'Ypt', 'Rab']})\n"
          ]
        }
      ]
    },
    {
      "cell_type": "code",
      "metadata": {
        "colab": {
          "base_uri": "https://localhost:8080/"
        },
        "id": "w63ZQzy63Lpx",
        "outputId": "c8d7f412-9624-4e7a-b3da-87181df6eb80"
      },
      "source": [
        "def findSubStr01(substr, str):\n",
        "    i=1\n",
        "    while i > 0:\n",
        "        index = str.find(substr)   #第一次出现的位置\n",
        "        #index2=str.find(substr,index+1)  #第二次出现的位置\n",
        "        #index3=str.find(substr,index2+1)  #第三次出现的位置\n",
        "        #print(index)\n",
        "        #print(index2)\n",
        "        #print(index3)\n",
        "        i-=1\n",
        "    return index\n",
        "\n",
        "text = \"does cymbalta have the side effect of making someone a habitual liar. that's what i think of one of my class members\"\n",
        "substr = \"liar\"\n",
        "index = findSubStr01(substr,text)\n",
        "end = index + len(substr)\n",
        "print(index,end)"
      ],
      "execution_count": null,
      "outputs": [
        {
          "output_type": "stream",
          "name": "stdout",
          "text": [
            "64 68\n"
          ]
        }
      ]
    },
    {
      "cell_type": "code",
      "metadata": {
        "colab": {
          "base_uri": "https://localhost:8080/"
        },
        "id": "BknVvuU_6lbn",
        "outputId": "0186e8ab-fbbb-4f35-b430-795bf9af64d3"
      },
      "source": [
        "def findSubStr01(substr, str):\n",
        "    i=1\n",
        "    while i > 0:\n",
        "        index = str.find(substr)   #第一次出现的位置\n",
        "        #index2=str.find(substr,index+1)  #第二次出现的位置\n",
        "        #index3=str.find(substr,index2+1)  #第三次出现的位置\n",
        "        #print(index)\n",
        "        #print(index2)\n",
        "        #print(index3)\n",
        "        i-=1\n",
        "    return index\n",
        "\n",
        "for key,value in pred1.items():\n",
        "  print(key,value,count)\n",
        "  for vv in value:\n",
        "    index = findSubStr01(vv,text)\n",
        "    print(index,index+len(vv),vv)"
      ],
      "execution_count": null,
      "outputs": [
        {
          "output_type": "stream",
          "name": "stdout",
          "text": [
            "1 ['Small', 'GTPases', 'Ypt', 'Rab'] 0\n",
            "-1 4 Small\n",
            "-1 6 GTPases\n",
            "-1 2 Ypt\n",
            "-1 2 Rab\n"
          ]
        }
      ]
    }
  ]
}