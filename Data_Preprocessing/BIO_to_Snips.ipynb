{
  "nbformat": 4,
  "nbformat_minor": 0,
  "metadata": {
    "colab": {
      "provenance": []
    },
    "kernelspec": {
      "name": "python3",
      "display_name": "Python 3"
    },
    "language_info": {
      "name": "python"
    }
  },
  "cells": [
    {
      "cell_type": "code",
      "execution_count": null,
      "metadata": {
        "id": "k5z8T0VX3xeH"
      },
      "outputs": [],
      "source": [
        "with open(\"/content/train.txt\",\"r\") as f:\n",
        "  with open(\"/content/seq_in1.txt\",\"a\") as wf1:\n",
        "    with open(\"/content/seq_out1.txt\",\"a\") as wf2:\n",
        "      with open(\"/content/label.txt\",\"a\") as wf3:\n",
        "        text = f.readlines()\n",
        "        for line in text:\n",
        "          if(line!=\"\\n\"):\n",
        "            new_line = line.strip(\"\\n\").split(\" \")\n",
        "            wf1.write(new_line[0]+ \" \")\n",
        "            wf2.write(new_line[1]+ \" \")\n",
        "          else:\n",
        "            wf1.write(\"\\n\")\n",
        "            wf2.write(\"\\n\")\n",
        "            wf3.write(\"I2B2\" + \"\\n\")\n"
      ]
    },
    {
      "cell_type": "markdown",
      "source": [
        "我想去掉N2C2里所有的一行只有一个单词的那种数据"
      ],
      "metadata": {
        "id": "Ir6yWMvy_ZZf"
      }
    },
    {
      "cell_type": "code",
      "source": [
        "with open(\"/content/seq_out1.txt\",\"r\") as f:\n",
        "  with open(\"/content/seq_out.txt\",\"a\") as wf:\n",
        "    text = f.readlines()\n",
        "    for line in text:\n",
        "      if(line!=\"\\n\"):\n",
        "        new_line = line.strip(\" \\n\").split(\" \")\n",
        "        #print(len(new_line))\n",
        "        if(len(new_line)!=1):\n",
        "          wf.write(line.strip(\" \\n\") + \"\\n\")\n",
        "      #else:\n",
        "        #wf.write(line)"
      ],
      "metadata": {
        "id": "YeTVu_B4_eoZ"
      },
      "execution_count": null,
      "outputs": []
    },
    {
      "cell_type": "code",
      "source": [
        "with open(\"/content/seq_in1.txt\",\"r\") as f:\n",
        "  with open(\"/content/seq_in.txt\",\"a\") as wf:\n",
        "    text = f.readlines()\n",
        "    for line in text:\n",
        "      if(line!=\"\\n\"):\n",
        "        new_line = line.strip(\" \\n\").split(\" \")\n",
        "        #print(len(new_line))\n",
        "        if(len(new_line)!=1):\n",
        "          wf.write(line.strip(\" \\n\") + \"\\n\")\n",
        "      #else:\n",
        "        #wf.write(line)"
      ],
      "metadata": {
        "id": "y0TS_9rwC61O"
      },
      "execution_count": null,
      "outputs": []
    }
  ]
}