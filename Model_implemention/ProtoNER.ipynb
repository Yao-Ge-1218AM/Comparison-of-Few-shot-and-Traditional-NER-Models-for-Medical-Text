{
  "nbformat": 4,
  "nbformat_minor": 0,
  "metadata": {
    "colab": {
      "provenance": []
    },
    "kernelspec": {
      "name": "python3",
      "display_name": "Python 3"
    },
    "language_info": {
      "name": "python"
    }
  },
  "cells": [
    {
      "cell_type": "code",
      "metadata": {
        "colab": {
          "base_uri": "https://localhost:8080/"
        },
        "id": "c_dOCFI39JLP",
        "outputId": "cf8e53db-ffc9-40ff-a401-e1d70f2afb65"
      },
      "source": [
        "!git clone https://github.com/Fritz449/ProtoNER"
      ],
      "execution_count": null,
      "outputs": [
        {
          "output_type": "stream",
          "name": "stdout",
          "text": [
            "Cloning into 'ProtoNER'...\n",
            "remote: Enumerating objects: 51, done.\u001b[K\n",
            "remote: Total 51 (delta 0), reused 0 (delta 0), pack-reused 51\u001b[K\n",
            "Unpacking objects: 100% (51/51), done.\n"
          ]
        }
      ]
    },
    {
      "cell_type": "code",
      "metadata": {
        "colab": {
          "base_uri": "https://localhost:8080/"
        },
        "id": "SFORoMcQ9Wzp",
        "outputId": "1d49bdbe-c813-450d-9f52-cf0035cac918"
      },
      "source": [
        "cd ProtoNER/"
      ],
      "execution_count": null,
      "outputs": [
        {
          "output_type": "stream",
          "name": "stdout",
          "text": [
            "/content/ProtoNER\n"
          ]
        }
      ]
    },
    {
      "cell_type": "code",
      "metadata": {
        "colab": {
          "base_uri": "https://localhost:8080/"
        },
        "id": "z3kLxygB9ZAL",
        "outputId": "2047c3cc-6930-4d45-ba56-ed7c8b50a308"
      },
      "source": [
        "cd warm_protonet/"
      ],
      "execution_count": null,
      "outputs": [
        {
          "output_type": "stream",
          "text": [
            "/content/ProtoNER/warm_protonet\n"
          ],
          "name": "stdout"
        }
      ]
    },
    {
      "cell_type": "code",
      "metadata": {
        "colab": {
          "base_uri": "https://localhost:8080/"
        },
        "id": "8KfBOFK89feU",
        "outputId": "95cb82f3-f571-4326-9eae-dd9cff14d6ac"
      },
      "source": [
        "!pip install allennlp==0.6.0"
      ],
      "execution_count": null,
      "outputs": [
        {
          "output_type": "stream",
          "name": "stdout",
          "text": [
            "Collecting allennlp==0.6.0\n",
            "  Using cached allennlp-0.6.0-py3-none-any.whl (5.8 MB)\n",
            "Requirement already satisfied: numpydoc==0.8.0 in /usr/local/lib/python3.7/dist-packages (from allennlp==0.6.0) (0.8.0)\n",
            "Requirement already satisfied: gevent==1.3.5 in /usr/local/lib/python3.7/dist-packages (from allennlp==0.6.0) (1.3.5)\n",
            "Requirement already satisfied: flask-cors==3.0.3 in /usr/local/lib/python3.7/dist-packages (from allennlp==0.6.0) (3.0.3)\n",
            "Requirement already satisfied: numpy in /usr/local/lib/python3.7/dist-packages (from allennlp==0.6.0) (1.15.1)\n",
            "Requirement already satisfied: torch<0.5.0,>=0.4.0 in /usr/local/lib/python3.7/dist-packages (from allennlp==0.6.0) (0.4.1)\n",
            "Requirement already satisfied: pytz==2017.3 in /usr/local/lib/python3.7/dist-packages (from allennlp==0.6.0) (2017.3)\n",
            "Requirement already satisfied: h5py in /usr/local/lib/python3.7/dist-packages (from allennlp==0.6.0) (3.1.0)\n",
            "Requirement already satisfied: scikit-learn in /usr/local/lib/python3.7/dist-packages (from allennlp==0.6.0) (0.20.1)\n",
            "Requirement already satisfied: scipy in /usr/local/lib/python3.7/dist-packages (from allennlp==0.6.0) (1.4.1)\n",
            "Requirement already satisfied: tensorboardX==1.2 in /usr/local/lib/python3.7/dist-packages (from allennlp==0.6.0) (1.2)\n",
            "Collecting awscli>=1.11.91\n",
            "  Using cached awscli-1.22.4-py3-none-any.whl (3.8 MB)\n",
            "Requirement already satisfied: flask==0.12.1 in /usr/local/lib/python3.7/dist-packages (from allennlp==0.6.0) (0.12.1)\n",
            "Requirement already satisfied: editdistance in /usr/local/lib/python3.7/dist-packages (from allennlp==0.6.0) (0.5.3)\n",
            "Requirement already satisfied: unidecode in /usr/local/lib/python3.7/dist-packages (from allennlp==0.6.0) (1.3.2)\n",
            "Requirement already satisfied: typing in /usr/local/lib/python3.7/dist-packages (from allennlp==0.6.0) (3.6.4)\n",
            "Requirement already satisfied: overrides in /usr/local/lib/python3.7/dist-packages (from allennlp==0.6.0) (1.9)\n",
            "Requirement already satisfied: tqdm>=4.19 in /usr/local/lib/python3.7/dist-packages (from allennlp==0.6.0) (4.62.3)\n",
            "Requirement already satisfied: flaky in /usr/local/lib/python3.7/dist-packages (from allennlp==0.6.0) (3.7.0)\n",
            "Requirement already satisfied: requests>=2.18 in /usr/local/lib/python3.7/dist-packages (from allennlp==0.6.0) (2.23.0)\n",
            "Requirement already satisfied: responses>=0.7 in /usr/local/lib/python3.7/dist-packages (from allennlp==0.6.0) (0.15.0)\n",
            "Requirement already satisfied: pytest in /usr/local/lib/python3.7/dist-packages (from allennlp==0.6.0) (3.6.4)\n",
            "Requirement already satisfied: spacy<2.1,>=2.0 in /usr/local/lib/python3.7/dist-packages (from allennlp==0.6.0) (2.0.18)\n",
            "Requirement already satisfied: jsonnet==0.10.0 in /usr/local/lib/python3.7/dist-packages (from allennlp==0.6.0) (0.10.0)\n",
            "Requirement already satisfied: parsimonious==0.8.0 in /usr/local/lib/python3.7/dist-packages (from allennlp==0.6.0) (0.8.0)\n",
            "Requirement already satisfied: conllu==0.11 in /usr/local/lib/python3.7/dist-packages (from allennlp==0.6.0) (0.11)\n",
            "Collecting cffi==1.11.2\n",
            "  Using cached cffi-1.11.2.tar.gz (435 kB)\n",
            "Requirement already satisfied: nltk in /usr/local/lib/python3.7/dist-packages (from allennlp==0.6.0) (3.2.5)\n",
            "Requirement already satisfied: pycparser in /usr/local/lib/python3.7/dist-packages (from cffi==1.11.2->allennlp==0.6.0) (2.21)\n",
            "Requirement already satisfied: itsdangerous>=0.21 in /usr/local/lib/python3.7/dist-packages (from flask==0.12.1->allennlp==0.6.0) (1.1.0)\n",
            "Requirement already satisfied: Werkzeug>=0.7 in /usr/local/lib/python3.7/dist-packages (from flask==0.12.1->allennlp==0.6.0) (1.0.1)\n",
            "Requirement already satisfied: Jinja2>=2.4 in /usr/local/lib/python3.7/dist-packages (from flask==0.12.1->allennlp==0.6.0) (2.11.3)\n",
            "Requirement already satisfied: click>=2.0 in /usr/local/lib/python3.7/dist-packages (from flask==0.12.1->allennlp==0.6.0) (7.1.2)\n",
            "Requirement already satisfied: Six in /usr/local/lib/python3.7/dist-packages (from flask-cors==3.0.3->allennlp==0.6.0) (1.15.0)\n",
            "Requirement already satisfied: greenlet>=0.4.13 in /usr/local/lib/python3.7/dist-packages (from gevent==1.3.5->allennlp==0.6.0) (1.1.2)\n",
            "Requirement already satisfied: sphinx>=1.2.3 in /usr/local/lib/python3.7/dist-packages (from numpydoc==0.8.0->allennlp==0.6.0) (1.8.5)\n",
            "Requirement already satisfied: protobuf>=0.3.2 in /usr/local/lib/python3.7/dist-packages (from tensorboardX==1.2->allennlp==0.6.0) (3.17.3)\n",
            "Requirement already satisfied: PyYAML<5.5,>=3.10 in /usr/local/lib/python3.7/dist-packages (from awscli>=1.11.91->allennlp==0.6.0) (3.13)\n",
            "Requirement already satisfied: s3transfer<0.6.0,>=0.5.0 in /usr/local/lib/python3.7/dist-packages (from awscli>=1.11.91->allennlp==0.6.0) (0.5.0)\n",
            "Requirement already satisfied: botocore==1.23.4 in /usr/local/lib/python3.7/dist-packages (from awscli>=1.11.91->allennlp==0.6.0) (1.23.4)\n",
            "Requirement already satisfied: docutils<0.16,>=0.10 in /usr/local/lib/python3.7/dist-packages (from awscli>=1.11.91->allennlp==0.6.0) (0.15.2)\n",
            "Requirement already satisfied: colorama<0.4.4,>=0.2.5 in /usr/local/lib/python3.7/dist-packages (from awscli>=1.11.91->allennlp==0.6.0) (0.4.3)\n",
            "Requirement already satisfied: rsa<4.8,>=3.1.2 in /usr/local/lib/python3.7/dist-packages (from awscli>=1.11.91->allennlp==0.6.0) (4.7.2)\n",
            "Requirement already satisfied: python-dateutil<3.0.0,>=2.1 in /usr/local/lib/python3.7/dist-packages (from botocore==1.23.4->awscli>=1.11.91->allennlp==0.6.0) (2.8.2)\n",
            "Requirement already satisfied: urllib3<1.27,>=1.25.4 in /usr/local/lib/python3.7/dist-packages (from botocore==1.23.4->awscli>=1.11.91->allennlp==0.6.0) (1.25.11)\n",
            "Requirement already satisfied: jmespath<1.0.0,>=0.7.1 in /usr/local/lib/python3.7/dist-packages (from botocore==1.23.4->awscli>=1.11.91->allennlp==0.6.0) (0.10.0)\n",
            "Requirement already satisfied: MarkupSafe>=0.23 in /usr/local/lib/python3.7/dist-packages (from Jinja2>=2.4->flask==0.12.1->allennlp==0.6.0) (2.0.1)\n",
            "Requirement already satisfied: certifi>=2017.4.17 in /usr/local/lib/python3.7/dist-packages (from requests>=2.18->allennlp==0.6.0) (2021.10.8)\n",
            "Requirement already satisfied: chardet<4,>=3.0.2 in /usr/local/lib/python3.7/dist-packages (from requests>=2.18->allennlp==0.6.0) (3.0.4)\n",
            "Requirement already satisfied: idna<3,>=2.5 in /usr/local/lib/python3.7/dist-packages (from requests>=2.18->allennlp==0.6.0) (2.10)\n",
            "Requirement already satisfied: pyasn1>=0.1.3 in /usr/local/lib/python3.7/dist-packages (from rsa<4.8,>=3.1.2->awscli>=1.11.91->allennlp==0.6.0) (0.4.8)\n",
            "Requirement already satisfied: murmurhash<1.1.0,>=0.28.0 in /usr/local/lib/python3.7/dist-packages (from spacy<2.1,>=2.0->allennlp==0.6.0) (1.0.6)\n",
            "Requirement already satisfied: plac<1.0.0,>=0.9.6 in /usr/local/lib/python3.7/dist-packages (from spacy<2.1,>=2.0->allennlp==0.6.0) (0.9.6)\n",
            "Requirement already satisfied: regex==2018.01.10 in /usr/local/lib/python3.7/dist-packages (from spacy<2.1,>=2.0->allennlp==0.6.0) (2018.1.10)\n",
            "Requirement already satisfied: cymem<2.1.0,>=2.0.2 in /usr/local/lib/python3.7/dist-packages (from spacy<2.1,>=2.0->allennlp==0.6.0) (2.0.6)\n",
            "Requirement already satisfied: preshed<2.1.0,>=2.0.1 in /usr/local/lib/python3.7/dist-packages (from spacy<2.1,>=2.0->allennlp==0.6.0) (2.0.1)\n",
            "Requirement already satisfied: ujson>=1.35 in /usr/local/lib/python3.7/dist-packages (from spacy<2.1,>=2.0->allennlp==0.6.0) (4.2.0)\n",
            "Requirement already satisfied: dill<0.3,>=0.2 in /usr/local/lib/python3.7/dist-packages (from spacy<2.1,>=2.0->allennlp==0.6.0) (0.2.9)\n",
            "Requirement already satisfied: thinc<6.13.0,>=6.12.1 in /usr/local/lib/python3.7/dist-packages (from spacy<2.1,>=2.0->allennlp==0.6.0) (6.12.1)\n",
            "Requirement already satisfied: snowballstemmer>=1.1 in /usr/local/lib/python3.7/dist-packages (from sphinx>=1.2.3->numpydoc==0.8.0->allennlp==0.6.0) (2.1.0)\n",
            "Requirement already satisfied: babel!=2.0,>=1.3 in /usr/local/lib/python3.7/dist-packages (from sphinx>=1.2.3->numpydoc==0.8.0->allennlp==0.6.0) (2.9.1)\n",
            "Requirement already satisfied: setuptools in /usr/local/lib/python3.7/dist-packages (from sphinx>=1.2.3->numpydoc==0.8.0->allennlp==0.6.0) (57.4.0)\n",
            "Requirement already satisfied: imagesize in /usr/local/lib/python3.7/dist-packages (from sphinx>=1.2.3->numpydoc==0.8.0->allennlp==0.6.0) (1.3.0)\n",
            "Requirement already satisfied: sphinxcontrib-websupport in /usr/local/lib/python3.7/dist-packages (from sphinx>=1.2.3->numpydoc==0.8.0->allennlp==0.6.0) (1.2.4)\n",
            "Requirement already satisfied: packaging in /usr/local/lib/python3.7/dist-packages (from sphinx>=1.2.3->numpydoc==0.8.0->allennlp==0.6.0) (21.2)\n",
            "Requirement already satisfied: alabaster<0.8,>=0.7 in /usr/local/lib/python3.7/dist-packages (from sphinx>=1.2.3->numpydoc==0.8.0->allennlp==0.6.0) (0.7.12)\n",
            "Requirement already satisfied: Pygments>=2.0 in /usr/local/lib/python3.7/dist-packages (from sphinx>=1.2.3->numpydoc==0.8.0->allennlp==0.6.0) (2.6.1)\n",
            "Requirement already satisfied: wrapt<1.11.0,>=1.10.0 in /usr/local/lib/python3.7/dist-packages (from thinc<6.13.0,>=6.12.1->spacy<2.1,>=2.0->allennlp==0.6.0) (1.10.11)\n",
            "Requirement already satisfied: msgpack<0.6.0,>=0.5.6 in /usr/local/lib/python3.7/dist-packages (from thinc<6.13.0,>=6.12.1->spacy<2.1,>=2.0->allennlp==0.6.0) (0.5.6)\n",
            "Requirement already satisfied: msgpack-numpy<0.4.4 in /usr/local/lib/python3.7/dist-packages (from thinc<6.13.0,>=6.12.1->spacy<2.1,>=2.0->allennlp==0.6.0) (0.4.3.2)\n",
            "Requirement already satisfied: cytoolz<0.10,>=0.9.0 in /usr/local/lib/python3.7/dist-packages (from thinc<6.13.0,>=6.12.1->spacy<2.1,>=2.0->allennlp==0.6.0) (0.9.0.1)\n",
            "Requirement already satisfied: toolz>=0.8.0 in /usr/local/lib/python3.7/dist-packages (from cytoolz<0.10,>=0.9.0->thinc<6.13.0,>=6.12.1->spacy<2.1,>=2.0->allennlp==0.6.0) (0.11.2)\n",
            "Requirement already satisfied: cached-property in /usr/local/lib/python3.7/dist-packages (from h5py->allennlp==0.6.0) (1.5.2)\n",
            "Requirement already satisfied: pyparsing<3,>=2.0.2 in /usr/local/lib/python3.7/dist-packages (from packaging->sphinx>=1.2.3->numpydoc==0.8.0->allennlp==0.6.0) (2.4.7)\n",
            "Requirement already satisfied: more-itertools>=4.0.0 in /usr/local/lib/python3.7/dist-packages (from pytest->allennlp==0.6.0) (8.10.0)\n",
            "Requirement already satisfied: atomicwrites>=1.0 in /usr/local/lib/python3.7/dist-packages (from pytest->allennlp==0.6.0) (1.4.0)\n",
            "Requirement already satisfied: pluggy<0.8,>=0.5 in /usr/local/lib/python3.7/dist-packages (from pytest->allennlp==0.6.0) (0.7.1)\n",
            "Requirement already satisfied: py>=1.5.0 in /usr/local/lib/python3.7/dist-packages (from pytest->allennlp==0.6.0) (1.11.0)\n",
            "Requirement already satisfied: attrs>=17.4.0 in /usr/local/lib/python3.7/dist-packages (from pytest->allennlp==0.6.0) (21.2.0)\n",
            "Requirement already satisfied: sphinxcontrib-serializinghtml in /usr/local/lib/python3.7/dist-packages (from sphinxcontrib-websupport->sphinx>=1.2.3->numpydoc==0.8.0->allennlp==0.6.0) (1.1.5)\n",
            "Building wheels for collected packages: cffi\n",
            "  Building wheel for cffi (setup.py) ... \u001b[?25lerror\n",
            "\u001b[31m  ERROR: Failed building wheel for cffi\u001b[0m\n",
            "\u001b[?25h  Running setup.py clean for cffi\n",
            "Failed to build cffi\n",
            "Installing collected packages: cffi, awscli, allennlp\n",
            "  Attempting uninstall: cffi\n",
            "    Found existing installation: cffi 1.15.0\n",
            "    Uninstalling cffi-1.15.0:\n",
            "      Successfully uninstalled cffi-1.15.0\n",
            "    Running setup.py install for cffi ... \u001b[?25l\u001b[?25herror\n",
            "  Rolling back uninstall of cffi\n",
            "  Moving to /usr/local/lib/python3.7/dist-packages/_cffi_backend.cpython-37m-x86_64-linux-gnu.so\n",
            "   from /tmp/pip-uninstall-auy785eu/_cffi_backend.cpython-37m-x86_64-linux-gnu.so\n",
            "  Moving to /usr/local/lib/python3.7/dist-packages/cffi-1.15.0.dist-info/\n",
            "   from /usr/local/lib/python3.7/dist-packages/~ffi-1.15.0.dist-info\n",
            "  Moving to /usr/local/lib/python3.7/dist-packages/cffi.libs/\n",
            "   from /usr/local/lib/python3.7/dist-packages/~ffi.libs\n",
            "  Moving to /usr/local/lib/python3.7/dist-packages/cffi/\n",
            "   from /usr/local/lib/python3.7/dist-packages/~ffi\n",
            "\u001b[31mERROR: Command errored out with exit status 1: /usr/bin/python3 -u -c 'import io, os, sys, setuptools, tokenize; sys.argv[0] = '\"'\"'/tmp/pip-install-u7q1phge/cffi_8163a0b0a40b4fd2afafb2a6888f0c7c/setup.py'\"'\"'; __file__='\"'\"'/tmp/pip-install-u7q1phge/cffi_8163a0b0a40b4fd2afafb2a6888f0c7c/setup.py'\"'\"';f = getattr(tokenize, '\"'\"'open'\"'\"', open)(__file__) if os.path.exists(__file__) else io.StringIO('\"'\"'from setuptools import setup; setup()'\"'\"');code = f.read().replace('\"'\"'\\r\\n'\"'\"', '\"'\"'\\n'\"'\"');f.close();exec(compile(code, __file__, '\"'\"'exec'\"'\"'))' install --record /tmp/pip-record-jp1n7rpy/install-record.txt --single-version-externally-managed --compile --install-headers /usr/local/include/python3.7/cffi Check the logs for full command output.\u001b[0m\n"
          ]
        }
      ]
    },
    {
      "cell_type": "code",
      "metadata": {
        "id": "i-9Nszcj-JpD"
      },
      "source": [
        "!pip install overrides==1.9"
      ],
      "execution_count": null,
      "outputs": []
    },
    {
      "cell_type": "code",
      "metadata": {
        "id": "o4c76sFC-NSS"
      },
      "source": [
        "!pip install torch==0.4.1"
      ],
      "execution_count": null,
      "outputs": []
    },
    {
      "cell_type": "code",
      "metadata": {
        "id": "pwIXg135-PM6"
      },
      "source": [
        "!pip install pandas==0.23.4"
      ],
      "execution_count": null,
      "outputs": []
    },
    {
      "cell_type": "code",
      "metadata": {
        "id": "i0026Frq-Q3i"
      },
      "source": [
        "!pip install scikit_learn==0.20.1"
      ],
      "execution_count": null,
      "outputs": []
    },
    {
      "cell_type": "code",
      "metadata": {
        "id": "BzbLofdr-S3P"
      },
      "source": [
        "!pip install typing==3.6.4"
      ],
      "execution_count": null,
      "outputs": []
    },
    {
      "cell_type": "code",
      "metadata": {
        "id": "kI6_CIRI-U4o"
      },
      "source": [
        "!pip install numpy==1.15.1"
      ],
      "execution_count": null,
      "outputs": []
    },
    {
      "cell_type": "code",
      "metadata": {
        "id": "9VqN_6e9_B-_"
      },
      "source": [
        "!pip install allennlp"
      ],
      "execution_count": null,
      "outputs": []
    },
    {
      "cell_type": "code",
      "metadata": {
        "colab": {
          "base_uri": "https://localhost:8080/"
        },
        "id": "QjYVSX05AFZq",
        "outputId": "22e21a1c-7e00-42ad-95a6-9b67d7855cfa"
      },
      "source": [
        "cd .."
      ],
      "execution_count": null,
      "outputs": [
        {
          "output_type": "stream",
          "text": [
            "/content/ProtoNER\n"
          ],
          "name": "stdout"
        }
      ]
    },
    {
      "cell_type": "code",
      "metadata": {
        "colab": {
          "base_uri": "https://localhost:8080/"
        },
        "id": "3OWufjn2AHTO",
        "outputId": "68349486-5f83-4272-e6fe-7d0c284c642d"
      },
      "source": [
        "cd simple_base/"
      ],
      "execution_count": null,
      "outputs": [
        {
          "output_type": "stream",
          "name": "stdout",
          "text": [
            "/content/ProtoNER/simple_base\n"
          ]
        }
      ]
    },
    {
      "cell_type": "code",
      "metadata": {
        "colab": {
          "base_uri": "https://localhost:8080/"
        },
        "id": "N16zspYd9bje",
        "outputId": "d9c2ce75-fc0f-44af-89ff-109ab649fab9"
      },
      "source": [
        "!python global_experiment.py"
      ],
      "execution_count": null,
      "outputs": [
        {
          "output_type": "stream",
          "name": "stdout",
          "text": [
            "Traceback (most recent call last):\n",
            "  File \"global_experiment.py\", line 8, in <module>\n",
            "    from allennlp.nn import util\n",
            "ModuleNotFoundError: No module named 'allennlp'\n"
          ]
        }
      ]
    },
    {
      "cell_type": "code",
      "metadata": {
        "id": "gGcSfo0Gk-Jb"
      },
      "source": [
        "!pip install -r /content/ProtoNER/requirements.txt"
      ],
      "execution_count": null,
      "outputs": []
    },
    {
      "cell_type": "code",
      "metadata": {
        "colab": {
          "base_uri": "https://localhost:8080/"
        },
        "id": "4Pkcc_2ZnEc_",
        "outputId": "249b526b-c06e-4619-c99c-1f3fe74c5e96"
      },
      "source": [
        "!allennlp --help"
      ],
      "execution_count": null,
      "outputs": [
        {
          "output_type": "stream",
          "name": "stdout",
          "text": [
            "/bin/bash: allennlp: command not found\n"
          ]
        }
      ]
    },
    {
      "cell_type": "code",
      "metadata": {
        "colab": {
          "base_uri": "https://localhost:8080/"
        },
        "id": "p_ZPoZwIn90p",
        "outputId": "0c326818-1bb7-4ee6-cbee-313395adf1dd"
      },
      "source": [
        "cd .."
      ],
      "execution_count": null,
      "outputs": [
        {
          "output_type": "stream",
          "name": "stdout",
          "text": [
            "/content\n"
          ]
        }
      ]
    },
    {
      "cell_type": "code",
      "metadata": {
        "colab": {
          "base_uri": "https://localhost:8080/"
        },
        "id": "CCQDbPrxn6lF",
        "outputId": "4ab54cdb-2faf-4faf-a955-167b46c0556b"
      },
      "source": [
        "!pip install --editable ."
      ],
      "execution_count": null,
      "outputs": [
        {
          "output_type": "stream",
          "name": "stdout",
          "text": [
            "\u001b[31mERROR: File \"setup.py\" or \"setup.cfg\" not found. Directory cannot be installed in editable mode: /content\u001b[0m\n"
          ]
        }
      ]
    },
    {
      "cell_type": "markdown",
      "metadata": {
        "id": "Z4gS6eG2q9gg"
      },
      "source": [
        "失败的"
      ]
    },
    {
      "cell_type": "code",
      "metadata": {
        "colab": {
          "base_uri": "https://localhost:8080/",
          "height": 394
        },
        "id": "XDskjI9Qqobt",
        "outputId": "22bcdf69-3810-45b9-e8ed-ee2920346bdf"
      },
      "source": [
        "!pip3 install cffi==1.11.2"
      ],
      "execution_count": null,
      "outputs": [
        {
          "output_type": "stream",
          "name": "stdout",
          "text": [
            "Collecting cffi==1.11.2\n",
            "  Using cached cffi-1.11.2.tar.gz (435 kB)\n",
            "Requirement already satisfied: pycparser in /usr/local/lib/python3.7/dist-packages (from cffi==1.11.2) (2.21)\n",
            "Building wheels for collected packages: cffi\n",
            "  Building wheel for cffi (setup.py) ... \u001b[?25l\u001b[?25hdone\n",
            "  Created wheel for cffi: filename=cffi-1.11.2-cp37-cp37m-linux_x86_64.whl size=308048 sha256=ba29ca999d54820040727d06f667269a766575797d37172d1a65d4299e312c8e\n",
            "  Stored in directory: /root/.cache/pip/wheels/93/9d/fa/66090d5eff65056c95139b8dcaa86b0dffd2fa94f853ecfeac\n",
            "Successfully built cffi\n",
            "Installing collected packages: cffi\n",
            "  Attempting uninstall: cffi\n",
            "    Found existing installation: cffi 1.15.0\n",
            "    Uninstalling cffi-1.15.0:\n",
            "      Successfully uninstalled cffi-1.15.0\n",
            "\u001b[31mERROR: pip's dependency resolver does not currently take into account all the packages that are installed. This behaviour is the source of the following dependency conflicts.\n",
            "kapre 0.3.5 requires numpy>=1.18.5, but you have numpy 1.15.1 which is incompatible.\u001b[0m\n",
            "Successfully installed cffi-1.11.2\n"
          ]
        },
        {
          "output_type": "display_data",
          "data": {
            "application/vnd.colab-display-data+json": {
              "pip_warning": {
                "packages": [
                  "cffi"
                ]
              }
            }
          },
          "metadata": {}
        }
      ]
    },
    {
      "cell_type": "code",
      "metadata": {
        "colab": {
          "base_uri": "https://localhost:8080/"
        },
        "id": "t86c68h7q-5T",
        "outputId": "15128216-4250-482b-993e-ec0af604e50a"
      },
      "source": [
        "!apt install libffi-dev"
      ],
      "execution_count": null,
      "outputs": [
        {
          "output_type": "stream",
          "name": "stdout",
          "text": [
            "Reading package lists... Done\n",
            "Building dependency tree       \n",
            "Reading state information... Done\n",
            "The following NEW packages will be installed:\n",
            "  libffi-dev\n",
            "0 upgraded, 1 newly installed, 0 to remove and 37 not upgraded.\n",
            "Need to get 156 kB of archives.\n",
            "After this operation, 362 kB of additional disk space will be used.\n",
            "Get:1 http://archive.ubuntu.com/ubuntu bionic/main amd64 libffi-dev amd64 3.2.1-8 [156 kB]\n",
            "Fetched 156 kB in 1s (203 kB/s)\n",
            "Selecting previously unselected package libffi-dev:amd64.\n",
            "(Reading database ... 155219 files and directories currently installed.)\n",
            "Preparing to unpack .../libffi-dev_3.2.1-8_amd64.deb ...\n",
            "Unpacking libffi-dev:amd64 (3.2.1-8) ...\n",
            "Setting up libffi-dev:amd64 (3.2.1-8) ...\n",
            "Processing triggers for man-db (2.8.3-2ubuntu0.1) ...\n"
          ]
        }
      ]
    }
  ]
}