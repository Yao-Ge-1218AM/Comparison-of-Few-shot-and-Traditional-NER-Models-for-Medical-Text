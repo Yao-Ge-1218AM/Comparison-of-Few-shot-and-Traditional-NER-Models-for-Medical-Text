{
  "nbformat": 4,
  "nbformat_minor": 0,
  "metadata": {
    "colab": {
      "provenance": []
    },
    "kernelspec": {
      "name": "python3",
      "display_name": "Python 3"
    },
    "language_info": {
      "name": "python"
    },
    "widgets": {
      "application/vnd.jupyter.widget-state+json": {
        "ae09074e2e0b49db8710ee1737d5b565": {
          "model_module": "@jupyter-widgets/controls",
          "model_name": "HBoxModel",
          "model_module_version": "1.5.0",
          "state": {
            "_view_name": "HBoxView",
            "_dom_classes": [],
            "_model_name": "HBoxModel",
            "_view_module": "@jupyter-widgets/controls",
            "_model_module_version": "1.5.0",
            "_view_count": null,
            "_view_module_version": "1.5.0",
            "box_style": "",
            "layout": "IPY_MODEL_8b53f0cbc3c44a6185d4294e8739b6c6",
            "_model_module": "@jupyter-widgets/controls",
            "children": [
              "IPY_MODEL_1a1e12277f764b99bb8595e516057ed5",
              "IPY_MODEL_9bbc5f32a9554898baf6ee18244cc6eb",
              "IPY_MODEL_500684977a2944f3b1772aa56455edfd"
            ]
          }
        },
        "8b53f0cbc3c44a6185d4294e8739b6c6": {
          "model_module": "@jupyter-widgets/base",
          "model_name": "LayoutModel",
          "model_module_version": "1.2.0",
          "state": {
            "_view_name": "LayoutView",
            "grid_template_rows": null,
            "right": null,
            "justify_content": null,
            "_view_module": "@jupyter-widgets/base",
            "overflow": null,
            "_model_module_version": "1.2.0",
            "_view_count": null,
            "flex_flow": null,
            "width": null,
            "min_width": null,
            "border": null,
            "align_items": null,
            "bottom": null,
            "_model_module": "@jupyter-widgets/base",
            "top": null,
            "grid_column": null,
            "overflow_y": null,
            "overflow_x": null,
            "grid_auto_flow": null,
            "grid_area": null,
            "grid_template_columns": null,
            "flex": null,
            "_model_name": "LayoutModel",
            "justify_items": null,
            "grid_row": null,
            "max_height": null,
            "align_content": null,
            "visibility": null,
            "align_self": null,
            "height": null,
            "min_height": null,
            "padding": null,
            "grid_auto_rows": null,
            "grid_gap": null,
            "max_width": null,
            "order": null,
            "_view_module_version": "1.2.0",
            "grid_template_areas": null,
            "object_position": null,
            "object_fit": null,
            "grid_auto_columns": null,
            "margin": null,
            "display": null,
            "left": null
          }
        },
        "1a1e12277f764b99bb8595e516057ed5": {
          "model_module": "@jupyter-widgets/controls",
          "model_name": "HTMLModel",
          "model_module_version": "1.5.0",
          "state": {
            "_view_name": "HTMLView",
            "style": "IPY_MODEL_5de3a547a0634b218350db8484f71bba",
            "_dom_classes": [],
            "description": "",
            "_model_name": "HTMLModel",
            "placeholder": "​",
            "_view_module": "@jupyter-widgets/controls",
            "_model_module_version": "1.5.0",
            "value": "Downloading: 100%",
            "_view_count": null,
            "_view_module_version": "1.5.0",
            "description_tooltip": null,
            "_model_module": "@jupyter-widgets/controls",
            "layout": "IPY_MODEL_906e10c435854c67a63be9baf9b4aec9"
          }
        },
        "9bbc5f32a9554898baf6ee18244cc6eb": {
          "model_module": "@jupyter-widgets/controls",
          "model_name": "FloatProgressModel",
          "model_module_version": "1.5.0",
          "state": {
            "_view_name": "ProgressView",
            "style": "IPY_MODEL_df35287dc18843619137fae952fecb08",
            "_dom_classes": [],
            "description": "",
            "_model_name": "FloatProgressModel",
            "bar_style": "success",
            "max": 231508,
            "_view_module": "@jupyter-widgets/controls",
            "_model_module_version": "1.5.0",
            "value": 231508,
            "_view_count": null,
            "_view_module_version": "1.5.0",
            "orientation": "horizontal",
            "min": 0,
            "description_tooltip": null,
            "_model_module": "@jupyter-widgets/controls",
            "layout": "IPY_MODEL_110ff47762a447cba0ce6bf0901a4d19"
          }
        },
        "500684977a2944f3b1772aa56455edfd": {
          "model_module": "@jupyter-widgets/controls",
          "model_name": "HTMLModel",
          "model_module_version": "1.5.0",
          "state": {
            "_view_name": "HTMLView",
            "style": "IPY_MODEL_e974ad16c6ea41369ae4b93c609b74f9",
            "_dom_classes": [],
            "description": "",
            "_model_name": "HTMLModel",
            "placeholder": "​",
            "_view_module": "@jupyter-widgets/controls",
            "_model_module_version": "1.5.0",
            "value": " 226k/226k [00:00&lt;00:00, 3.83MB/s]",
            "_view_count": null,
            "_view_module_version": "1.5.0",
            "description_tooltip": null,
            "_model_module": "@jupyter-widgets/controls",
            "layout": "IPY_MODEL_1dc7253c687c43a6b9a761ed864998fa"
          }
        },
        "5de3a547a0634b218350db8484f71bba": {
          "model_module": "@jupyter-widgets/controls",
          "model_name": "DescriptionStyleModel",
          "model_module_version": "1.5.0",
          "state": {
            "_view_name": "StyleView",
            "_model_name": "DescriptionStyleModel",
            "description_width": "",
            "_view_module": "@jupyter-widgets/base",
            "_model_module_version": "1.5.0",
            "_view_count": null,
            "_view_module_version": "1.2.0",
            "_model_module": "@jupyter-widgets/controls"
          }
        },
        "906e10c435854c67a63be9baf9b4aec9": {
          "model_module": "@jupyter-widgets/base",
          "model_name": "LayoutModel",
          "model_module_version": "1.2.0",
          "state": {
            "_view_name": "LayoutView",
            "grid_template_rows": null,
            "right": null,
            "justify_content": null,
            "_view_module": "@jupyter-widgets/base",
            "overflow": null,
            "_model_module_version": "1.2.0",
            "_view_count": null,
            "flex_flow": null,
            "width": null,
            "min_width": null,
            "border": null,
            "align_items": null,
            "bottom": null,
            "_model_module": "@jupyter-widgets/base",
            "top": null,
            "grid_column": null,
            "overflow_y": null,
            "overflow_x": null,
            "grid_auto_flow": null,
            "grid_area": null,
            "grid_template_columns": null,
            "flex": null,
            "_model_name": "LayoutModel",
            "justify_items": null,
            "grid_row": null,
            "max_height": null,
            "align_content": null,
            "visibility": null,
            "align_self": null,
            "height": null,
            "min_height": null,
            "padding": null,
            "grid_auto_rows": null,
            "grid_gap": null,
            "max_width": null,
            "order": null,
            "_view_module_version": "1.2.0",
            "grid_template_areas": null,
            "object_position": null,
            "object_fit": null,
            "grid_auto_columns": null,
            "margin": null,
            "display": null,
            "left": null
          }
        },
        "df35287dc18843619137fae952fecb08": {
          "model_module": "@jupyter-widgets/controls",
          "model_name": "ProgressStyleModel",
          "model_module_version": "1.5.0",
          "state": {
            "_view_name": "StyleView",
            "_model_name": "ProgressStyleModel",
            "description_width": "",
            "_view_module": "@jupyter-widgets/base",
            "_model_module_version": "1.5.0",
            "_view_count": null,
            "_view_module_version": "1.2.0",
            "bar_color": null,
            "_model_module": "@jupyter-widgets/controls"
          }
        },
        "110ff47762a447cba0ce6bf0901a4d19": {
          "model_module": "@jupyter-widgets/base",
          "model_name": "LayoutModel",
          "model_module_version": "1.2.0",
          "state": {
            "_view_name": "LayoutView",
            "grid_template_rows": null,
            "right": null,
            "justify_content": null,
            "_view_module": "@jupyter-widgets/base",
            "overflow": null,
            "_model_module_version": "1.2.0",
            "_view_count": null,
            "flex_flow": null,
            "width": null,
            "min_width": null,
            "border": null,
            "align_items": null,
            "bottom": null,
            "_model_module": "@jupyter-widgets/base",
            "top": null,
            "grid_column": null,
            "overflow_y": null,
            "overflow_x": null,
            "grid_auto_flow": null,
            "grid_area": null,
            "grid_template_columns": null,
            "flex": null,
            "_model_name": "LayoutModel",
            "justify_items": null,
            "grid_row": null,
            "max_height": null,
            "align_content": null,
            "visibility": null,
            "align_self": null,
            "height": null,
            "min_height": null,
            "padding": null,
            "grid_auto_rows": null,
            "grid_gap": null,
            "max_width": null,
            "order": null,
            "_view_module_version": "1.2.0",
            "grid_template_areas": null,
            "object_position": null,
            "object_fit": null,
            "grid_auto_columns": null,
            "margin": null,
            "display": null,
            "left": null
          }
        },
        "e974ad16c6ea41369ae4b93c609b74f9": {
          "model_module": "@jupyter-widgets/controls",
          "model_name": "DescriptionStyleModel",
          "model_module_version": "1.5.0",
          "state": {
            "_view_name": "StyleView",
            "_model_name": "DescriptionStyleModel",
            "description_width": "",
            "_view_module": "@jupyter-widgets/base",
            "_model_module_version": "1.5.0",
            "_view_count": null,
            "_view_module_version": "1.2.0",
            "_model_module": "@jupyter-widgets/controls"
          }
        },
        "1dc7253c687c43a6b9a761ed864998fa": {
          "model_module": "@jupyter-widgets/base",
          "model_name": "LayoutModel",
          "model_module_version": "1.2.0",
          "state": {
            "_view_name": "LayoutView",
            "grid_template_rows": null,
            "right": null,
            "justify_content": null,
            "_view_module": "@jupyter-widgets/base",
            "overflow": null,
            "_model_module_version": "1.2.0",
            "_view_count": null,
            "flex_flow": null,
            "width": null,
            "min_width": null,
            "border": null,
            "align_items": null,
            "bottom": null,
            "_model_module": "@jupyter-widgets/base",
            "top": null,
            "grid_column": null,
            "overflow_y": null,
            "overflow_x": null,
            "grid_auto_flow": null,
            "grid_area": null,
            "grid_template_columns": null,
            "flex": null,
            "_model_name": "LayoutModel",
            "justify_items": null,
            "grid_row": null,
            "max_height": null,
            "align_content": null,
            "visibility": null,
            "align_self": null,
            "height": null,
            "min_height": null,
            "padding": null,
            "grid_auto_rows": null,
            "grid_gap": null,
            "max_width": null,
            "order": null,
            "_view_module_version": "1.2.0",
            "grid_template_areas": null,
            "object_position": null,
            "object_fit": null,
            "grid_auto_columns": null,
            "margin": null,
            "display": null,
            "left": null
          }
        },
        "1895b417c8af430bb30bb632f7c915c3": {
          "model_module": "@jupyter-widgets/controls",
          "model_name": "HBoxModel",
          "model_module_version": "1.5.0",
          "state": {
            "_view_name": "HBoxView",
            "_dom_classes": [],
            "_model_name": "HBoxModel",
            "_view_module": "@jupyter-widgets/controls",
            "_model_module_version": "1.5.0",
            "_view_count": null,
            "_view_module_version": "1.5.0",
            "box_style": "",
            "layout": "IPY_MODEL_5fb22c9b90cb41aabdc5ed93dc47bd55",
            "_model_module": "@jupyter-widgets/controls",
            "children": [
              "IPY_MODEL_67b29f585c464a2fa6a2970eba834d4b",
              "IPY_MODEL_3e84c5c40c8d4c39ae7e24162b3f5455",
              "IPY_MODEL_29da8cc5495f40739dcbf98c3e6351b5"
            ]
          }
        },
        "5fb22c9b90cb41aabdc5ed93dc47bd55": {
          "model_module": "@jupyter-widgets/base",
          "model_name": "LayoutModel",
          "model_module_version": "1.2.0",
          "state": {
            "_view_name": "LayoutView",
            "grid_template_rows": null,
            "right": null,
            "justify_content": null,
            "_view_module": "@jupyter-widgets/base",
            "overflow": null,
            "_model_module_version": "1.2.0",
            "_view_count": null,
            "flex_flow": null,
            "width": null,
            "min_width": null,
            "border": null,
            "align_items": null,
            "bottom": null,
            "_model_module": "@jupyter-widgets/base",
            "top": null,
            "grid_column": null,
            "overflow_y": null,
            "overflow_x": null,
            "grid_auto_flow": null,
            "grid_area": null,
            "grid_template_columns": null,
            "flex": null,
            "_model_name": "LayoutModel",
            "justify_items": null,
            "grid_row": null,
            "max_height": null,
            "align_content": null,
            "visibility": null,
            "align_self": null,
            "height": null,
            "min_height": null,
            "padding": null,
            "grid_auto_rows": null,
            "grid_gap": null,
            "max_width": null,
            "order": null,
            "_view_module_version": "1.2.0",
            "grid_template_areas": null,
            "object_position": null,
            "object_fit": null,
            "grid_auto_columns": null,
            "margin": null,
            "display": null,
            "left": null
          }
        },
        "67b29f585c464a2fa6a2970eba834d4b": {
          "model_module": "@jupyter-widgets/controls",
          "model_name": "HTMLModel",
          "model_module_version": "1.5.0",
          "state": {
            "_view_name": "HTMLView",
            "style": "IPY_MODEL_2043109f24504c0db9d6cca705fc8eae",
            "_dom_classes": [],
            "description": "",
            "_model_name": "HTMLModel",
            "placeholder": "​",
            "_view_module": "@jupyter-widgets/controls",
            "_model_module_version": "1.5.0",
            "value": "Downloading: 100%",
            "_view_count": null,
            "_view_module_version": "1.5.0",
            "description_tooltip": null,
            "_model_module": "@jupyter-widgets/controls",
            "layout": "IPY_MODEL_f396e5403c6a4c1391c686b6e0e88d29"
          }
        },
        "3e84c5c40c8d4c39ae7e24162b3f5455": {
          "model_module": "@jupyter-widgets/controls",
          "model_name": "FloatProgressModel",
          "model_module_version": "1.5.0",
          "state": {
            "_view_name": "ProgressView",
            "style": "IPY_MODEL_5c7b7778c14248938ac47f458d67610a",
            "_dom_classes": [],
            "description": "",
            "_model_name": "FloatProgressModel",
            "bar_style": "success",
            "max": 28,
            "_view_module": "@jupyter-widgets/controls",
            "_model_module_version": "1.5.0",
            "value": 28,
            "_view_count": null,
            "_view_module_version": "1.5.0",
            "orientation": "horizontal",
            "min": 0,
            "description_tooltip": null,
            "_model_module": "@jupyter-widgets/controls",
            "layout": "IPY_MODEL_b130d4f1e52446ea80af6b2ad5305cfd"
          }
        },
        "29da8cc5495f40739dcbf98c3e6351b5": {
          "model_module": "@jupyter-widgets/controls",
          "model_name": "HTMLModel",
          "model_module_version": "1.5.0",
          "state": {
            "_view_name": "HTMLView",
            "style": "IPY_MODEL_a41f2102e1da4f45b8910a6d2749332f",
            "_dom_classes": [],
            "description": "",
            "_model_name": "HTMLModel",
            "placeholder": "​",
            "_view_module": "@jupyter-widgets/controls",
            "_model_module_version": "1.5.0",
            "value": " 28.0/28.0 [00:00&lt;00:00, 455B/s]",
            "_view_count": null,
            "_view_module_version": "1.5.0",
            "description_tooltip": null,
            "_model_module": "@jupyter-widgets/controls",
            "layout": "IPY_MODEL_c05d26918b9748c6876791da074a9982"
          }
        },
        "2043109f24504c0db9d6cca705fc8eae": {
          "model_module": "@jupyter-widgets/controls",
          "model_name": "DescriptionStyleModel",
          "model_module_version": "1.5.0",
          "state": {
            "_view_name": "StyleView",
            "_model_name": "DescriptionStyleModel",
            "description_width": "",
            "_view_module": "@jupyter-widgets/base",
            "_model_module_version": "1.5.0",
            "_view_count": null,
            "_view_module_version": "1.2.0",
            "_model_module": "@jupyter-widgets/controls"
          }
        },
        "f396e5403c6a4c1391c686b6e0e88d29": {
          "model_module": "@jupyter-widgets/base",
          "model_name": "LayoutModel",
          "model_module_version": "1.2.0",
          "state": {
            "_view_name": "LayoutView",
            "grid_template_rows": null,
            "right": null,
            "justify_content": null,
            "_view_module": "@jupyter-widgets/base",
            "overflow": null,
            "_model_module_version": "1.2.0",
            "_view_count": null,
            "flex_flow": null,
            "width": null,
            "min_width": null,
            "border": null,
            "align_items": null,
            "bottom": null,
            "_model_module": "@jupyter-widgets/base",
            "top": null,
            "grid_column": null,
            "overflow_y": null,
            "overflow_x": null,
            "grid_auto_flow": null,
            "grid_area": null,
            "grid_template_columns": null,
            "flex": null,
            "_model_name": "LayoutModel",
            "justify_items": null,
            "grid_row": null,
            "max_height": null,
            "align_content": null,
            "visibility": null,
            "align_self": null,
            "height": null,
            "min_height": null,
            "padding": null,
            "grid_auto_rows": null,
            "grid_gap": null,
            "max_width": null,
            "order": null,
            "_view_module_version": "1.2.0",
            "grid_template_areas": null,
            "object_position": null,
            "object_fit": null,
            "grid_auto_columns": null,
            "margin": null,
            "display": null,
            "left": null
          }
        },
        "5c7b7778c14248938ac47f458d67610a": {
          "model_module": "@jupyter-widgets/controls",
          "model_name": "ProgressStyleModel",
          "model_module_version": "1.5.0",
          "state": {
            "_view_name": "StyleView",
            "_model_name": "ProgressStyleModel",
            "description_width": "",
            "_view_module": "@jupyter-widgets/base",
            "_model_module_version": "1.5.0",
            "_view_count": null,
            "_view_module_version": "1.2.0",
            "bar_color": null,
            "_model_module": "@jupyter-widgets/controls"
          }
        },
        "b130d4f1e52446ea80af6b2ad5305cfd": {
          "model_module": "@jupyter-widgets/base",
          "model_name": "LayoutModel",
          "model_module_version": "1.2.0",
          "state": {
            "_view_name": "LayoutView",
            "grid_template_rows": null,
            "right": null,
            "justify_content": null,
            "_view_module": "@jupyter-widgets/base",
            "overflow": null,
            "_model_module_version": "1.2.0",
            "_view_count": null,
            "flex_flow": null,
            "width": null,
            "min_width": null,
            "border": null,
            "align_items": null,
            "bottom": null,
            "_model_module": "@jupyter-widgets/base",
            "top": null,
            "grid_column": null,
            "overflow_y": null,
            "overflow_x": null,
            "grid_auto_flow": null,
            "grid_area": null,
            "grid_template_columns": null,
            "flex": null,
            "_model_name": "LayoutModel",
            "justify_items": null,
            "grid_row": null,
            "max_height": null,
            "align_content": null,
            "visibility": null,
            "align_self": null,
            "height": null,
            "min_height": null,
            "padding": null,
            "grid_auto_rows": null,
            "grid_gap": null,
            "max_width": null,
            "order": null,
            "_view_module_version": "1.2.0",
            "grid_template_areas": null,
            "object_position": null,
            "object_fit": null,
            "grid_auto_columns": null,
            "margin": null,
            "display": null,
            "left": null
          }
        },
        "a41f2102e1da4f45b8910a6d2749332f": {
          "model_module": "@jupyter-widgets/controls",
          "model_name": "DescriptionStyleModel",
          "model_module_version": "1.5.0",
          "state": {
            "_view_name": "StyleView",
            "_model_name": "DescriptionStyleModel",
            "description_width": "",
            "_view_module": "@jupyter-widgets/base",
            "_model_module_version": "1.5.0",
            "_view_count": null,
            "_view_module_version": "1.2.0",
            "_model_module": "@jupyter-widgets/controls"
          }
        },
        "c05d26918b9748c6876791da074a9982": {
          "model_module": "@jupyter-widgets/base",
          "model_name": "LayoutModel",
          "model_module_version": "1.2.0",
          "state": {
            "_view_name": "LayoutView",
            "grid_template_rows": null,
            "right": null,
            "justify_content": null,
            "_view_module": "@jupyter-widgets/base",
            "overflow": null,
            "_model_module_version": "1.2.0",
            "_view_count": null,
            "flex_flow": null,
            "width": null,
            "min_width": null,
            "border": null,
            "align_items": null,
            "bottom": null,
            "_model_module": "@jupyter-widgets/base",
            "top": null,
            "grid_column": null,
            "overflow_y": null,
            "overflow_x": null,
            "grid_auto_flow": null,
            "grid_area": null,
            "grid_template_columns": null,
            "flex": null,
            "_model_name": "LayoutModel",
            "justify_items": null,
            "grid_row": null,
            "max_height": null,
            "align_content": null,
            "visibility": null,
            "align_self": null,
            "height": null,
            "min_height": null,
            "padding": null,
            "grid_auto_rows": null,
            "grid_gap": null,
            "max_width": null,
            "order": null,
            "_view_module_version": "1.2.0",
            "grid_template_areas": null,
            "object_position": null,
            "object_fit": null,
            "grid_auto_columns": null,
            "margin": null,
            "display": null,
            "left": null
          }
        },
        "35cf166996db4af8a9506647859df1b3": {
          "model_module": "@jupyter-widgets/controls",
          "model_name": "HBoxModel",
          "model_module_version": "1.5.0",
          "state": {
            "_view_name": "HBoxView",
            "_dom_classes": [],
            "_model_name": "HBoxModel",
            "_view_module": "@jupyter-widgets/controls",
            "_model_module_version": "1.5.0",
            "_view_count": null,
            "_view_module_version": "1.5.0",
            "box_style": "",
            "layout": "IPY_MODEL_a11433fbb1be49e9aa9edc65fbf478c6",
            "_model_module": "@jupyter-widgets/controls",
            "children": [
              "IPY_MODEL_6290154dc5bb4282a38b3fd2f786e184",
              "IPY_MODEL_7b412f5091ae436d89e70a7ea2a972a2",
              "IPY_MODEL_4837f5093d7a4d26806192d778484826"
            ]
          }
        },
        "a11433fbb1be49e9aa9edc65fbf478c6": {
          "model_module": "@jupyter-widgets/base",
          "model_name": "LayoutModel",
          "model_module_version": "1.2.0",
          "state": {
            "_view_name": "LayoutView",
            "grid_template_rows": null,
            "right": null,
            "justify_content": null,
            "_view_module": "@jupyter-widgets/base",
            "overflow": null,
            "_model_module_version": "1.2.0",
            "_view_count": null,
            "flex_flow": null,
            "width": null,
            "min_width": null,
            "border": null,
            "align_items": null,
            "bottom": null,
            "_model_module": "@jupyter-widgets/base",
            "top": null,
            "grid_column": null,
            "overflow_y": null,
            "overflow_x": null,
            "grid_auto_flow": null,
            "grid_area": null,
            "grid_template_columns": null,
            "flex": null,
            "_model_name": "LayoutModel",
            "justify_items": null,
            "grid_row": null,
            "max_height": null,
            "align_content": null,
            "visibility": null,
            "align_self": null,
            "height": null,
            "min_height": null,
            "padding": null,
            "grid_auto_rows": null,
            "grid_gap": null,
            "max_width": null,
            "order": null,
            "_view_module_version": "1.2.0",
            "grid_template_areas": null,
            "object_position": null,
            "object_fit": null,
            "grid_auto_columns": null,
            "margin": null,
            "display": null,
            "left": null
          }
        },
        "6290154dc5bb4282a38b3fd2f786e184": {
          "model_module": "@jupyter-widgets/controls",
          "model_name": "HTMLModel",
          "model_module_version": "1.5.0",
          "state": {
            "_view_name": "HTMLView",
            "style": "IPY_MODEL_74f833bb586c42b78f5818c6c2571cf9",
            "_dom_classes": [],
            "description": "",
            "_model_name": "HTMLModel",
            "placeholder": "​",
            "_view_module": "@jupyter-widgets/controls",
            "_model_module_version": "1.5.0",
            "value": "Downloading: 100%",
            "_view_count": null,
            "_view_module_version": "1.5.0",
            "description_tooltip": null,
            "_model_module": "@jupyter-widgets/controls",
            "layout": "IPY_MODEL_140c19901b784217814af148240c5113"
          }
        },
        "7b412f5091ae436d89e70a7ea2a972a2": {
          "model_module": "@jupyter-widgets/controls",
          "model_name": "FloatProgressModel",
          "model_module_version": "1.5.0",
          "state": {
            "_view_name": "ProgressView",
            "style": "IPY_MODEL_3c88e19f5dae460687c94e39f9ae2b78",
            "_dom_classes": [],
            "description": "",
            "_model_name": "FloatProgressModel",
            "bar_style": "success",
            "max": 466062,
            "_view_module": "@jupyter-widgets/controls",
            "_model_module_version": "1.5.0",
            "value": 466062,
            "_view_count": null,
            "_view_module_version": "1.5.0",
            "orientation": "horizontal",
            "min": 0,
            "description_tooltip": null,
            "_model_module": "@jupyter-widgets/controls",
            "layout": "IPY_MODEL_e00158575a0a41d0b7e1078da1a34815"
          }
        },
        "4837f5093d7a4d26806192d778484826": {
          "model_module": "@jupyter-widgets/controls",
          "model_name": "HTMLModel",
          "model_module_version": "1.5.0",
          "state": {
            "_view_name": "HTMLView",
            "style": "IPY_MODEL_b7737e89de7d4cce8ae60e54727fe29e",
            "_dom_classes": [],
            "description": "",
            "_model_name": "HTMLModel",
            "placeholder": "​",
            "_view_module": "@jupyter-widgets/controls",
            "_model_module_version": "1.5.0",
            "value": " 455k/455k [00:00&lt;00:00, 7.23MB/s]",
            "_view_count": null,
            "_view_module_version": "1.5.0",
            "description_tooltip": null,
            "_model_module": "@jupyter-widgets/controls",
            "layout": "IPY_MODEL_ba311d38453a4f3a8aa45bc57e81f869"
          }
        },
        "74f833bb586c42b78f5818c6c2571cf9": {
          "model_module": "@jupyter-widgets/controls",
          "model_name": "DescriptionStyleModel",
          "model_module_version": "1.5.0",
          "state": {
            "_view_name": "StyleView",
            "_model_name": "DescriptionStyleModel",
            "description_width": "",
            "_view_module": "@jupyter-widgets/base",
            "_model_module_version": "1.5.0",
            "_view_count": null,
            "_view_module_version": "1.2.0",
            "_model_module": "@jupyter-widgets/controls"
          }
        },
        "140c19901b784217814af148240c5113": {
          "model_module": "@jupyter-widgets/base",
          "model_name": "LayoutModel",
          "model_module_version": "1.2.0",
          "state": {
            "_view_name": "LayoutView",
            "grid_template_rows": null,
            "right": null,
            "justify_content": null,
            "_view_module": "@jupyter-widgets/base",
            "overflow": null,
            "_model_module_version": "1.2.0",
            "_view_count": null,
            "flex_flow": null,
            "width": null,
            "min_width": null,
            "border": null,
            "align_items": null,
            "bottom": null,
            "_model_module": "@jupyter-widgets/base",
            "top": null,
            "grid_column": null,
            "overflow_y": null,
            "overflow_x": null,
            "grid_auto_flow": null,
            "grid_area": null,
            "grid_template_columns": null,
            "flex": null,
            "_model_name": "LayoutModel",
            "justify_items": null,
            "grid_row": null,
            "max_height": null,
            "align_content": null,
            "visibility": null,
            "align_self": null,
            "height": null,
            "min_height": null,
            "padding": null,
            "grid_auto_rows": null,
            "grid_gap": null,
            "max_width": null,
            "order": null,
            "_view_module_version": "1.2.0",
            "grid_template_areas": null,
            "object_position": null,
            "object_fit": null,
            "grid_auto_columns": null,
            "margin": null,
            "display": null,
            "left": null
          }
        },
        "3c88e19f5dae460687c94e39f9ae2b78": {
          "model_module": "@jupyter-widgets/controls",
          "model_name": "ProgressStyleModel",
          "model_module_version": "1.5.0",
          "state": {
            "_view_name": "StyleView",
            "_model_name": "ProgressStyleModel",
            "description_width": "",
            "_view_module": "@jupyter-widgets/base",
            "_model_module_version": "1.5.0",
            "_view_count": null,
            "_view_module_version": "1.2.0",
            "bar_color": null,
            "_model_module": "@jupyter-widgets/controls"
          }
        },
        "e00158575a0a41d0b7e1078da1a34815": {
          "model_module": "@jupyter-widgets/base",
          "model_name": "LayoutModel",
          "model_module_version": "1.2.0",
          "state": {
            "_view_name": "LayoutView",
            "grid_template_rows": null,
            "right": null,
            "justify_content": null,
            "_view_module": "@jupyter-widgets/base",
            "overflow": null,
            "_model_module_version": "1.2.0",
            "_view_count": null,
            "flex_flow": null,
            "width": null,
            "min_width": null,
            "border": null,
            "align_items": null,
            "bottom": null,
            "_model_module": "@jupyter-widgets/base",
            "top": null,
            "grid_column": null,
            "overflow_y": null,
            "overflow_x": null,
            "grid_auto_flow": null,
            "grid_area": null,
            "grid_template_columns": null,
            "flex": null,
            "_model_name": "LayoutModel",
            "justify_items": null,
            "grid_row": null,
            "max_height": null,
            "align_content": null,
            "visibility": null,
            "align_self": null,
            "height": null,
            "min_height": null,
            "padding": null,
            "grid_auto_rows": null,
            "grid_gap": null,
            "max_width": null,
            "order": null,
            "_view_module_version": "1.2.0",
            "grid_template_areas": null,
            "object_position": null,
            "object_fit": null,
            "grid_auto_columns": null,
            "margin": null,
            "display": null,
            "left": null
          }
        },
        "b7737e89de7d4cce8ae60e54727fe29e": {
          "model_module": "@jupyter-widgets/controls",
          "model_name": "DescriptionStyleModel",
          "model_module_version": "1.5.0",
          "state": {
            "_view_name": "StyleView",
            "_model_name": "DescriptionStyleModel",
            "description_width": "",
            "_view_module": "@jupyter-widgets/base",
            "_model_module_version": "1.5.0",
            "_view_count": null,
            "_view_module_version": "1.2.0",
            "_model_module": "@jupyter-widgets/controls"
          }
        },
        "ba311d38453a4f3a8aa45bc57e81f869": {
          "model_module": "@jupyter-widgets/base",
          "model_name": "LayoutModel",
          "model_module_version": "1.2.0",
          "state": {
            "_view_name": "LayoutView",
            "grid_template_rows": null,
            "right": null,
            "justify_content": null,
            "_view_module": "@jupyter-widgets/base",
            "overflow": null,
            "_model_module_version": "1.2.0",
            "_view_count": null,
            "flex_flow": null,
            "width": null,
            "min_width": null,
            "border": null,
            "align_items": null,
            "bottom": null,
            "_model_module": "@jupyter-widgets/base",
            "top": null,
            "grid_column": null,
            "overflow_y": null,
            "overflow_x": null,
            "grid_auto_flow": null,
            "grid_area": null,
            "grid_template_columns": null,
            "flex": null,
            "_model_name": "LayoutModel",
            "justify_items": null,
            "grid_row": null,
            "max_height": null,
            "align_content": null,
            "visibility": null,
            "align_self": null,
            "height": null,
            "min_height": null,
            "padding": null,
            "grid_auto_rows": null,
            "grid_gap": null,
            "max_width": null,
            "order": null,
            "_view_module_version": "1.2.0",
            "grid_template_areas": null,
            "object_position": null,
            "object_fit": null,
            "grid_auto_columns": null,
            "margin": null,
            "display": null,
            "left": null
          }
        },
        "835d094e5b9f41bea9f43be8f0b870e6": {
          "model_module": "@jupyter-widgets/controls",
          "model_name": "HBoxModel",
          "model_module_version": "1.5.0",
          "state": {
            "_view_name": "HBoxView",
            "_dom_classes": [],
            "_model_name": "HBoxModel",
            "_view_module": "@jupyter-widgets/controls",
            "_model_module_version": "1.5.0",
            "_view_count": null,
            "_view_module_version": "1.5.0",
            "box_style": "",
            "layout": "IPY_MODEL_dd70ebf21dad4a38bf0ab456a221a2d9",
            "_model_module": "@jupyter-widgets/controls",
            "children": [
              "IPY_MODEL_e556c7aa0dba446bbbb439059746a76c",
              "IPY_MODEL_2158550a5b2a4d00b292dcbc27f87fcf",
              "IPY_MODEL_2f605fa239914600928eae26e09bb143"
            ]
          }
        },
        "dd70ebf21dad4a38bf0ab456a221a2d9": {
          "model_module": "@jupyter-widgets/base",
          "model_name": "LayoutModel",
          "model_module_version": "1.2.0",
          "state": {
            "_view_name": "LayoutView",
            "grid_template_rows": null,
            "right": null,
            "justify_content": null,
            "_view_module": "@jupyter-widgets/base",
            "overflow": null,
            "_model_module_version": "1.2.0",
            "_view_count": null,
            "flex_flow": null,
            "width": null,
            "min_width": null,
            "border": null,
            "align_items": null,
            "bottom": null,
            "_model_module": "@jupyter-widgets/base",
            "top": null,
            "grid_column": null,
            "overflow_y": null,
            "overflow_x": null,
            "grid_auto_flow": null,
            "grid_area": null,
            "grid_template_columns": null,
            "flex": null,
            "_model_name": "LayoutModel",
            "justify_items": null,
            "grid_row": null,
            "max_height": null,
            "align_content": null,
            "visibility": null,
            "align_self": null,
            "height": null,
            "min_height": null,
            "padding": null,
            "grid_auto_rows": null,
            "grid_gap": null,
            "max_width": null,
            "order": null,
            "_view_module_version": "1.2.0",
            "grid_template_areas": null,
            "object_position": null,
            "object_fit": null,
            "grid_auto_columns": null,
            "margin": null,
            "display": null,
            "left": null
          }
        },
        "e556c7aa0dba446bbbb439059746a76c": {
          "model_module": "@jupyter-widgets/controls",
          "model_name": "HTMLModel",
          "model_module_version": "1.5.0",
          "state": {
            "_view_name": "HTMLView",
            "style": "IPY_MODEL_6942e7446cdb4d30b0949d30aec489d7",
            "_dom_classes": [],
            "description": "",
            "_model_name": "HTMLModel",
            "placeholder": "​",
            "_view_module": "@jupyter-widgets/controls",
            "_model_module_version": "1.5.0",
            "value": "Downloading: 100%",
            "_view_count": null,
            "_view_module_version": "1.5.0",
            "description_tooltip": null,
            "_model_module": "@jupyter-widgets/controls",
            "layout": "IPY_MODEL_29bc24060be243f4b039e01ca9f5552d"
          }
        },
        "2158550a5b2a4d00b292dcbc27f87fcf": {
          "model_module": "@jupyter-widgets/controls",
          "model_name": "FloatProgressModel",
          "model_module_version": "1.5.0",
          "state": {
            "_view_name": "ProgressView",
            "style": "IPY_MODEL_ea44818d3bbe4fceaadbc2ece8b2073f",
            "_dom_classes": [],
            "description": "",
            "_model_name": "FloatProgressModel",
            "bar_style": "success",
            "max": 570,
            "_view_module": "@jupyter-widgets/controls",
            "_model_module_version": "1.5.0",
            "value": 570,
            "_view_count": null,
            "_view_module_version": "1.5.0",
            "orientation": "horizontal",
            "min": 0,
            "description_tooltip": null,
            "_model_module": "@jupyter-widgets/controls",
            "layout": "IPY_MODEL_9f0188f9eecd45c8919f906d01af105d"
          }
        },
        "2f605fa239914600928eae26e09bb143": {
          "model_module": "@jupyter-widgets/controls",
          "model_name": "HTMLModel",
          "model_module_version": "1.5.0",
          "state": {
            "_view_name": "HTMLView",
            "style": "IPY_MODEL_61424d40252446bea640909fc6771271",
            "_dom_classes": [],
            "description": "",
            "_model_name": "HTMLModel",
            "placeholder": "​",
            "_view_module": "@jupyter-widgets/controls",
            "_model_module_version": "1.5.0",
            "value": " 570/570 [00:00&lt;00:00, 11.6kB/s]",
            "_view_count": null,
            "_view_module_version": "1.5.0",
            "description_tooltip": null,
            "_model_module": "@jupyter-widgets/controls",
            "layout": "IPY_MODEL_5a3f8e691baa4aef83252191d606ac87"
          }
        },
        "6942e7446cdb4d30b0949d30aec489d7": {
          "model_module": "@jupyter-widgets/controls",
          "model_name": "DescriptionStyleModel",
          "model_module_version": "1.5.0",
          "state": {
            "_view_name": "StyleView",
            "_model_name": "DescriptionStyleModel",
            "description_width": "",
            "_view_module": "@jupyter-widgets/base",
            "_model_module_version": "1.5.0",
            "_view_count": null,
            "_view_module_version": "1.2.0",
            "_model_module": "@jupyter-widgets/controls"
          }
        },
        "29bc24060be243f4b039e01ca9f5552d": {
          "model_module": "@jupyter-widgets/base",
          "model_name": "LayoutModel",
          "model_module_version": "1.2.0",
          "state": {
            "_view_name": "LayoutView",
            "grid_template_rows": null,
            "right": null,
            "justify_content": null,
            "_view_module": "@jupyter-widgets/base",
            "overflow": null,
            "_model_module_version": "1.2.0",
            "_view_count": null,
            "flex_flow": null,
            "width": null,
            "min_width": null,
            "border": null,
            "align_items": null,
            "bottom": null,
            "_model_module": "@jupyter-widgets/base",
            "top": null,
            "grid_column": null,
            "overflow_y": null,
            "overflow_x": null,
            "grid_auto_flow": null,
            "grid_area": null,
            "grid_template_columns": null,
            "flex": null,
            "_model_name": "LayoutModel",
            "justify_items": null,
            "grid_row": null,
            "max_height": null,
            "align_content": null,
            "visibility": null,
            "align_self": null,
            "height": null,
            "min_height": null,
            "padding": null,
            "grid_auto_rows": null,
            "grid_gap": null,
            "max_width": null,
            "order": null,
            "_view_module_version": "1.2.0",
            "grid_template_areas": null,
            "object_position": null,
            "object_fit": null,
            "grid_auto_columns": null,
            "margin": null,
            "display": null,
            "left": null
          }
        },
        "ea44818d3bbe4fceaadbc2ece8b2073f": {
          "model_module": "@jupyter-widgets/controls",
          "model_name": "ProgressStyleModel",
          "model_module_version": "1.5.0",
          "state": {
            "_view_name": "StyleView",
            "_model_name": "ProgressStyleModel",
            "description_width": "",
            "_view_module": "@jupyter-widgets/base",
            "_model_module_version": "1.5.0",
            "_view_count": null,
            "_view_module_version": "1.2.0",
            "bar_color": null,
            "_model_module": "@jupyter-widgets/controls"
          }
        },
        "9f0188f9eecd45c8919f906d01af105d": {
          "model_module": "@jupyter-widgets/base",
          "model_name": "LayoutModel",
          "model_module_version": "1.2.0",
          "state": {
            "_view_name": "LayoutView",
            "grid_template_rows": null,
            "right": null,
            "justify_content": null,
            "_view_module": "@jupyter-widgets/base",
            "overflow": null,
            "_model_module_version": "1.2.0",
            "_view_count": null,
            "flex_flow": null,
            "width": null,
            "min_width": null,
            "border": null,
            "align_items": null,
            "bottom": null,
            "_model_module": "@jupyter-widgets/base",
            "top": null,
            "grid_column": null,
            "overflow_y": null,
            "overflow_x": null,
            "grid_auto_flow": null,
            "grid_area": null,
            "grid_template_columns": null,
            "flex": null,
            "_model_name": "LayoutModel",
            "justify_items": null,
            "grid_row": null,
            "max_height": null,
            "align_content": null,
            "visibility": null,
            "align_self": null,
            "height": null,
            "min_height": null,
            "padding": null,
            "grid_auto_rows": null,
            "grid_gap": null,
            "max_width": null,
            "order": null,
            "_view_module_version": "1.2.0",
            "grid_template_areas": null,
            "object_position": null,
            "object_fit": null,
            "grid_auto_columns": null,
            "margin": null,
            "display": null,
            "left": null
          }
        },
        "61424d40252446bea640909fc6771271": {
          "model_module": "@jupyter-widgets/controls",
          "model_name": "DescriptionStyleModel",
          "model_module_version": "1.5.0",
          "state": {
            "_view_name": "StyleView",
            "_model_name": "DescriptionStyleModel",
            "description_width": "",
            "_view_module": "@jupyter-widgets/base",
            "_model_module_version": "1.5.0",
            "_view_count": null,
            "_view_module_version": "1.2.0",
            "_model_module": "@jupyter-widgets/controls"
          }
        },
        "5a3f8e691baa4aef83252191d606ac87": {
          "model_module": "@jupyter-widgets/base",
          "model_name": "LayoutModel",
          "model_module_version": "1.2.0",
          "state": {
            "_view_name": "LayoutView",
            "grid_template_rows": null,
            "right": null,
            "justify_content": null,
            "_view_module": "@jupyter-widgets/base",
            "overflow": null,
            "_model_module_version": "1.2.0",
            "_view_count": null,
            "flex_flow": null,
            "width": null,
            "min_width": null,
            "border": null,
            "align_items": null,
            "bottom": null,
            "_model_module": "@jupyter-widgets/base",
            "top": null,
            "grid_column": null,
            "overflow_y": null,
            "overflow_x": null,
            "grid_auto_flow": null,
            "grid_area": null,
            "grid_template_columns": null,
            "flex": null,
            "_model_name": "LayoutModel",
            "justify_items": null,
            "grid_row": null,
            "max_height": null,
            "align_content": null,
            "visibility": null,
            "align_self": null,
            "height": null,
            "min_height": null,
            "padding": null,
            "grid_auto_rows": null,
            "grid_gap": null,
            "max_width": null,
            "order": null,
            "_view_module_version": "1.2.0",
            "grid_template_areas": null,
            "object_position": null,
            "object_fit": null,
            "grid_auto_columns": null,
            "margin": null,
            "display": null,
            "left": null
          }
        }
      }
    }
  },
  "cells": [
    {
      "cell_type": "markdown",
      "metadata": {
        "id": "jAUaXL94tmo9"
      },
      "source": [
        "ADE"
      ]
    },
    {
      "cell_type": "code",
      "metadata": {
        "id": "V_aVz2Mcse4Y"
      },
      "source": [
        "path = \"/content/dev_n2c2.txt\"\n",
        "\n",
        "count = 0\n",
        "with open(path,'r') as f:\n",
        "  text = f.readlines()\n",
        "  #print(str(text).count('B-ADE', 0, len(str(text))))\n",
        "  with open(\"/content/text2.txt\",'a') as wf:\n",
        "    for line in text:\n",
        "      #if \"B-ADE\"  in line:\n",
        "       #count+=1\n",
        "      if line== \"\\n\":\n",
        "        line = line.replace(\"\\n\",\"\\t\\n\")\n",
        "        print(line)\n",
        "\n",
        "        wf.write(line)\n",
        "      else:\n",
        "        wf.write(line)\n",
        "  #print(count)"
      ],
      "execution_count": null,
      "outputs": []
    },
    {
      "cell_type": "code",
      "metadata": {
        "colab": {
          "base_uri": "https://localhost:8080/"
        },
        "id": "rPtzBCVT1_JG",
        "outputId": "2838b0c2-0fa4-41ff-fd3c-6131a1323334"
      },
      "source": [
        "#path = \"/content/text1.txt\"\n",
        "path = \"/content/dev_n2c2.txt\"\n",
        "\n",
        "count = 0\n",
        "with open(path,'r') as f:\n",
        "  text = f.readlines()\n",
        "  #print(str(text).count('B-ADE', 0, len(str(text))))\n",
        "  print(str(text).count('B-', 0, len(str(text))))\n",
        "  for line in text:\n",
        "    #print(line)\n",
        "    #if \"B-ADE\"  in line:\n",
        "    if \"B-\" in line:\n",
        "       with open(\"/content/text5.txt\",'a') as wf:\n",
        "         wf.write(line)\n",
        "print(count)"
      ],
      "execution_count": null,
      "outputs": [
        {
          "output_type": "stream",
          "name": "stdout",
          "text": [
            "6350\n",
            "0\n"
          ]
        }
      ]
    },
    {
      "cell_type": "markdown",
      "metadata": {
        "id": "aa2yQmIz5Q3F"
      },
      "source": [
        "find 100 support set"
      ]
    },
    {
      "cell_type": "code",
      "metadata": {
        "colab": {
          "base_uri": "https://localhost:8080/"
        },
        "id": "Z15L-BKN23LF",
        "outputId": "961ce32c-01a4-40c0-e3c2-2a68a1d8d242"
      },
      "source": [
        "import random\n",
        "\n",
        "random_list = [random.randint(0,6350) for _ in range(100)]\n",
        "print(random_list)\n",
        "path = \"/content/text2.txt\"\n",
        "\n",
        "count = 0\n",
        "with open(path,'r') as f:\n",
        "  text = f.readlines()\n",
        "  #print(str(text).count('B-ADE', 0, len(str(text))))\n",
        "  print(str(text).count('B-', 0, len(str(text))))\n",
        "  for line in text:\n",
        "    count+=1\n",
        "    if count in random_list:\n",
        "      with open(\"/content/text3.txt\",'a') as wf:\n",
        "         wf.write(line)\n",
        "    else:\n",
        "      with open(\"/content/text4.txt\",'a') as wf:\n",
        "         wf.write(line)\n",
        "print(count)"
      ],
      "execution_count": null,
      "outputs": [
        {
          "output_type": "stream",
          "name": "stdout",
          "text": [
            "[5237, 2749, 651, 4554, 2664, 4782, 6340, 1303, 5132, 1591, 5013, 3903, 1380, 4167, 5183, 2420, 752, 3751, 6198, 2124, 576, 5606, 2683, 1273, 2446, 1423, 2657, 2646, 5657, 5606, 4920, 650, 2174, 2577, 1705, 2461, 3258, 1923, 4044, 2622, 4484, 3838, 930, 4312, 3942, 4665, 4745, 3677, 3297, 3231, 3635, 1216, 3504, 5235, 1428, 1852, 5571, 820, 2264, 1708, 1645, 1646, 3157, 2299, 3191, 342, 5396, 3988, 361, 2485, 5952, 4511, 1067, 53, 3566, 4088, 5983, 5113, 5862, 2400, 4450, 6048, 1410, 1047, 204, 3775, 3548, 3209, 4171, 1466, 1322, 1787, 6069, 1655, 2303, 4742, 626, 6035, 5101, 378]\n",
            "6350\n",
            "84991\n"
          ]
        }
      ]
    },
    {
      "cell_type": "code",
      "metadata": {
        "id": "Al6YSeWVAmY5"
      },
      "source": [
        "path = \"/content/support-ADE-100.txt\"\n",
        "\n",
        "count = 0\n",
        "with open(path,'r') as f:\n",
        "  text = f.readlines()\n",
        "  str(text).replace(\" O\\n##\",\"\")\n",
        "  with open(\"/content/text7.txt\", 'w') as wf:\n",
        "    wf.write(str(text))"
      ],
      "execution_count": null,
      "outputs": []
    },
    {
      "cell_type": "markdown",
      "metadata": {
        "id": "avKw6aqrDOqO"
      },
      "source": [
        "delete ##, recover to original text"
      ]
    },
    {
      "cell_type": "code",
      "metadata": {
        "id": "U6rJQgTCDSxf"
      },
      "source": [
        "#path = \"/content/queries-del##.txt\"\n",
        "path = \"/content/text1.txt\"\n",
        "\n",
        "count = 0\n",
        "with open(path,'r') as f:\n",
        "  text = f.readlines()\n",
        "  for i in range(len(text)-1):\n",
        "    if(text[i].endswith(\"O\\n\") and text[i+1].endswith(\"I-ADE\\n\")):\n",
        "      #print(text[i],text[i+1])\n",
        "      text[i+1] = text[i+1].replace(\"I-ADE\",\"B-ADE\")\n",
        "    with open(\"/content/text13--del##.txt\",'a') as wf:\n",
        "      wf.write(text[i])"
      ],
      "execution_count": null,
      "outputs": []
    },
    {
      "cell_type": "markdown",
      "metadata": {
        "id": "bywgfOFJExHi"
      },
      "source": [
        "delete punctuation"
      ]
    },
    {
      "cell_type": "code",
      "metadata": {
        "id": "BUocm3uJEy8E"
      },
      "source": [
        "import string\n",
        "\n",
        "punctuation_string = string.punctuation\n",
        "path = \"/content/test_n2c2.txt\"\n",
        "#path = \"/content/support-ADE-100.txt\"\n",
        "#path = \"/content/queries.txt\"\n",
        "\n",
        "count = 0\n",
        "#print(punctuation_string)\n",
        "punctuation_string = punctuation_string.replace(\"-\",\"\")\n",
        "with open(path,'r') as f:\n",
        "  text = f.readlines()\n",
        "  for line in text:\n",
        "    for i in punctuation_string:\n",
        "      line = line.replace(i, '\\t')\n",
        "    #with open(\"/content/support-ADE-100--del-punc.txt\",'a') as wf:\n",
        "    with open(\"/content/test_n2c2_del-punc.txt\",'a') as wf:\n",
        "      wf.write(line)"
      ],
      "execution_count": null,
      "outputs": []
    },
    {
      "cell_type": "markdown",
      "metadata": {
        "id": "iNqkjzI0NXIa"
      },
      "source": [
        "write to slottagging format"
      ]
    },
    {
      "cell_type": "code",
      "metadata": {
        "colab": {
          "base_uri": "https://localhost:8080/"
        },
        "id": "SHN8BClMOxql",
        "outputId": "bbcc4297-ff37-4d72-d413-11acebc65f78"
      },
      "source": [
        "#path = \"/content/text6.txt\"\n",
        "\n",
        "count = 0\n",
        "count1 = 0\n",
        "support_list = [0]\n",
        "#with open(\"/content/support--del-punc.txt\", 'r') as f1:\n",
        "with open(\"/content/dev-bionlp.txt\",'r') as f1:\n",
        "  text = f1.readlines()\n",
        "  for line in text:\n",
        "    count +=1\n",
        "    if(line==\"\\n\"):\n",
        "      count1+=1\n",
        "      support_list.append(count)\n",
        "print(count,count1)\n"
      ],
      "execution_count": null,
      "outputs": [
        {
          "output_type": "stream",
          "name": "stdout",
          "text": [
            "73561 2519\n"
          ]
        }
      ]
    },
    {
      "cell_type": "code",
      "source": [
        "print(support_list)"
      ],
      "metadata": {
        "colab": {
          "base_uri": "https://localhost:8080/"
        },
        "id": "rYYdRmF1OX-y",
        "outputId": "04c5282d-512a-463c-d3a8-a48970b3ab1f"
      },
      "execution_count": null,
      "outputs": [
        {
          "output_type": "stream",
          "name": "stdout",
          "text": [
            "[0, 5, 18, 34, 51, 59, 91, 131, 169, 209, 253, 262, 269, 296, 320, 337, 372, 404, 419, 454, 480, 518, 550, 580, 583, 617, 635, 666, 685, 722, 760, 825, 845, 857, 865, 879, 916, 953, 977, 1014, 1051, 1067, 1091, 1108, 1159, 1202, 1228, 1245, 1251, 1267, 1300, 1306, 1331, 1347, 1382, 1410, 1436, 1462, 1491, 1534, 1578, 1603, 1640, 1643, 1671, 1692, 1714, 1739, 1764, 1785, 1797, 1848, 1881, 1923, 1951, 1975, 2036, 2062, 2087, 2146, 2166, 2201, 2262, 2280, 2302, 2329, 2348, 2378, 2407, 2427, 2448, 2461, 2497, 2512, 2574, 2608, 2640, 2678, 2703, 2739, 2768, 2816, 2826, 2855, 2886, 2923, 2952, 2981, 3020, 3050, 3061, 3084, 3095, 3129, 3199, 3220, 3241, 3271, 3307, 3363, 3398, 3417, 3469, 3503, 3533, 3575, 3605, 3615, 3650, 3686, 3705, 3745, 3765, 3772, 3836, 3877, 3893, 3939, 3946, 3977, 4031, 4040, 4068, 4100, 4107, 4187, 4237, 4275, 4296, 4322, 4354, 4371, 4382, 4417, 4440, 4498, 4537, 4565, 4593, 4622, 4691, 4740, 4755, 4789, 4807, 4846, 4875, 4904, 4941, 5024, 5045, 5132, 5145, 5162, 5180, 5207, 5222, 5250, 5283, 5287, 5310, 5313, 5343, 5365, 5401, 5427, 5441, 5452, 5495, 5518, 5555, 5589, 5606, 5632, 5658, 5693, 5715, 5728, 5756, 5771, 5798, 5813, 5837, 5856, 5868, 5883, 5948, 5978, 5996, 6006, 6027, 6066, 6086, 6139, 6169, 6187, 6208, 6236, 6254, 6303, 6347, 6370, 6416, 6443, 6467, 6497, 6525, 6579, 6601, 6629, 6663, 6696, 6709, 6746, 6778, 6791, 6831, 6861, 6865, 6892, 6914, 6955, 6987, 7033, 7050, 7076, 7110, 7132, 7187, 7209, 7245, 7311, 7343, 7370, 7404, 7448, 7483, 7524, 7547, 7555, 7574, 7623, 7650, 7664, 7691, 7722, 7765, 7788, 7837, 7871, 7915, 7924, 7948, 7969, 7996, 8026, 8061, 8098, 8133, 8143, 8194, 8220, 8265, 8297, 8331, 8364, 8398, 8426, 8459, 8483, 8523, 8553, 8598, 8629, 8672, 8684, 8741, 8764, 8790, 8818, 8872, 8889, 8909, 8926, 8957, 8998, 9007, 9030, 9059, 9144, 9164, 9188, 9202, 9212, 9238, 9255, 9307, 9352, 9381, 9419, 9465, 9518, 9568, 9588, 9601, 9650, 9673, 9736, 9764, 9812, 9851, 9912, 9924, 9949, 9977, 10004, 10025, 10031, 10053, 10099, 10112, 10124, 10162, 10178, 10210, 10233, 10243, 10263, 10340, 10366, 10398, 10411, 10432, 10450, 10469, 10508, 10529, 10543, 10561, 10591, 10611, 10628, 10663, 10686, 10693, 10710, 10754, 10797, 10810, 10852, 10895, 10914, 10940, 10992, 11047, 11102, 11152, 11169, 11221, 11306, 11324, 11336, 11343, 11377, 11403, 11438, 11463, 11481, 11491, 11520, 11549, 11568, 11575, 11578, 11610, 11627, 11674, 11683, 11700, 11730, 11774, 11793, 11835, 11843, 11846, 11869, 11876, 11919, 11971, 11999, 12007, 12013, 12049, 12065, 12091, 12114, 12152, 12161, 12176, 12196, 12213, 12242, 12259, 12262, 12299, 12321, 12335, 12376, 12402, 12420, 12431, 12449, 12466, 12482, 12520, 12541, 12576, 12598, 12616, 12633, 12639, 12649, 12697, 12708, 12742, 12779, 12804, 12863, 12890, 12944, 13008, 13033, 13072, 13129, 13145, 13241, 13274, 13279, 13324, 13352, 13415, 13460, 13489, 13520, 13535, 13545, 13576, 13611, 13620, 13662, 13693, 13775, 13778, 13816, 13831, 13858, 13886, 13911, 13954, 14008, 14026, 14101, 14127, 14173, 14208, 14234, 14256, 14276, 14297, 14329, 14346, 14364, 14400, 14410, 14422, 14448, 14463, 14474, 14494, 14515, 14543, 14580, 14631, 14647, 14677, 14695, 14716, 14758, 14793, 14818, 14869, 14876, 14884, 14897, 14900, 14920, 14945, 14976, 15020, 15048, 15100, 15134, 15164, 15172, 15202, 15239, 15278, 15305, 15328, 15359, 15379, 15407, 15435, 15440, 15449, 15479, 15499, 15526, 15544, 15584, 15605, 15619, 15638, 15666, 15679, 15724, 15739, 15792, 15814, 15830, 15884, 15904, 15934, 15977, 16014, 16049, 16091, 16111, 16134, 16151, 16176, 16223, 16248, 16266, 16293, 16346, 16358, 16383, 16416, 16449, 16484, 16507, 16536, 16559, 16580, 16644, 16671, 16712, 16722, 16729, 16747, 16772, 16846, 16867, 16907, 16943, 16959, 16972, 17012, 17033, 17069, 17095, 17120, 17164, 17190, 17215, 17265, 17298, 17325, 17407, 17428, 17439, 17475, 17521, 17537, 17579, 17607, 17640, 17678, 17697, 17720, 17741, 17782, 17804, 17839, 17883, 17918, 17958, 17974, 18013, 18046, 18090, 18093, 18112, 18193, 18222, 18292, 18332, 18342, 18352, 18376, 18415, 18433, 18463, 18517, 18594, 18606, 18624, 18651, 18660, 18693, 18742, 18760, 18782, 18826, 18865, 18898, 18935, 18964, 18991, 19005, 19041, 19051, 19076, 19098, 19125, 19157, 19173, 19217, 19249, 19282, 19285, 19308, 19314, 19345, 19369, 19415, 19437, 19453, 19485, 19501, 19507, 19565, 19582, 19592, 19641, 19674, 19693, 19751, 19801, 19816, 19846, 19890, 19897, 19914, 19937, 19962, 19991, 20011, 20055, 20078, 20103, 20131, 20154, 20194, 20230, 20262, 20284, 20303, 20337, 20368, 20374, 20434, 20469, 20515, 20518, 20536, 20557, 20586, 20629, 20645, 20681, 20705, 20728, 20750, 20786, 20829, 20864, 20881, 20890, 20901, 20924, 20930, 20951, 20987, 21013, 21034, 21080, 21107, 21147, 21180, 21218, 21247, 21280, 21297, 21319, 21340, 21375, 21397, 21424, 21433, 21456, 21482, 21516, 21587, 21616, 21638, 21657, 21696, 21716, 21776, 21811, 21841, 21849, 21878, 21928, 21952, 21985, 21995, 22025, 22077, 22104, 22122, 22152, 22182, 22240, 22266, 22287, 22305, 22336, 22352, 22377, 22399, 22419, 22445, 22467, 22518, 22543, 22579, 22629, 22662, 22724, 22736, 22752, 22790, 22807, 22816, 22833, 22864, 22912, 22935, 22955, 22965, 22979, 23011, 23047, 23093, 23118, 23148, 23164, 23196, 23222, 23258, 23289, 23304, 23341, 23370, 23393, 23410, 23440, 23472, 23498, 23536, 23553, 23584, 23615, 23642, 23671, 23692, 23735, 23791, 23817, 23846, 23897, 23933, 23951, 23962, 23999, 24056, 24067, 24077, 24090, 24102, 24133, 24156, 24190, 24211, 24244, 24275, 24298, 24312, 24325, 24354, 24364, 24385, 24414, 24435, 24480, 24523, 24578, 24601, 24633, 24653, 24688, 24713, 24719, 24744, 24769, 24785, 24844, 24874, 24903, 24913, 24947, 24964, 24992, 25031, 25050, 25071, 25096, 25144, 25185, 25224, 25237, 25277, 25299, 25347, 25386, 25407, 25421, 25437, 25446, 25474, 25500, 25525, 25550, 25591, 25630, 25659, 25683, 25699, 25740, 25773, 25822, 25856, 25884, 25907, 25932, 25963, 25971, 26002, 26030, 26090, 26100, 26122, 26156, 26191, 26209, 26241, 26283, 26325, 26368, 26401, 26422, 26435, 26514, 26553, 26574, 26600, 26625, 26640, 26675, 26702, 26737, 26763, 26771, 26794, 26845, 26919, 26933, 26973, 27008, 27047, 27070, 27094, 27128, 27164, 27280, 27307, 27322, 27339, 27358, 27371, 27411, 27434, 27463, 27488, 27528, 27549, 27582, 27621, 27647, 27681, 27705, 27724, 27734, 27746, 27756, 27787, 27792, 27848, 27875, 27908, 27964, 27990, 28009, 28018, 28062, 28105, 28119, 28169, 28196, 28227, 28238, 28255, 28263, 28299, 28313, 28335, 28349, 28362, 28382, 28408, 28428, 28449, 28458, 28510, 28565, 28603, 28633, 28665, 28686, 28724, 28746, 28781, 28800, 28820, 28851, 28895, 28939, 28957, 28985, 29009, 29015, 29033, 29056, 29082, 29111, 29146, 29177, 29217, 29238, 29275, 29295, 29330, 29362, 29392, 29406, 29441, 29459, 29498, 29525, 29557, 29574, 29608, 29620, 29681, 29718, 29761, 29765, 29801, 29840, 29857, 29880, 29911, 29931, 29966, 29986, 30028, 30063, 30116, 30164, 30175, 30200, 30262, 30286, 30309, 30314, 30360, 30386, 30400, 30423, 30487, 30513, 30545, 30568, 30592, 30608, 30630, 30637, 30763, 30798, 30803, 30809, 30812, 30835, 30873, 30921, 30982, 30999, 31025, 31047, 31077, 31120, 31134, 31172, 31202, 31239, 31274, 31303, 31321, 31364, 31413, 31431, 31450, 31474, 31494, 31518, 31543, 31583, 31600, 31616, 31628, 31661, 31694, 31729, 31773, 31813, 31836, 31896, 31925, 31970, 32005, 32045, 32058, 32090, 32193, 32230, 32248, 32285, 32328, 32373, 32409, 32441, 32479, 32507, 32543, 32571, 32597, 32623, 32637, 32659, 32683, 32723, 32763, 32783, 32811, 32827, 32860, 32874, 32899, 32931, 32962, 32986, 33193, 33231, 33251, 33266, 33288, 33310, 33339, 33370, 33402, 33421, 33433, 33462, 33514, 33548, 33586, 33606, 33623, 33642, 33666, 33675, 33697, 33727, 33776, 33798, 33814, 33826, 33852, 33863, 33883, 33906, 33940, 33957, 34005, 34027, 34053, 34075, 34108, 34127, 34162, 34192, 34213, 34250, 34262, 34292, 34325, 34359, 34379, 34413, 34437, 34463, 34502, 34526, 34554, 34561, 34592, 34617, 34625, 34644, 34661, 34723, 34750, 34804, 34845, 34868, 34914, 34976, 34991, 35023, 35039, 35063, 35075, 35124, 35147, 35180, 35215, 35249, 35302, 35328, 35359, 35398, 35419, 35425, 35469, 35555, 35566, 35579, 35590, 35606, 35613, 35646, 35680, 35696, 35719, 35728, 35769, 35819, 35832, 35863, 35898, 35917, 35968, 35996, 36029, 36060, 36102, 36137, 36156, 36176, 36222, 36249, 36278, 36326, 36347, 36361, 36383, 36404, 36417, 36439, 36476, 36490, 36521, 36548, 36573, 36592, 36621, 36642, 36679, 36721, 36762, 36787, 36800, 36829, 36838, 36871, 36928, 36956, 36984, 37020, 37056, 37071, 37090, 37118, 37145, 37165, 37190, 37201, 37247, 37300, 37352, 37366, 37379, 37412, 37454, 37478, 37529, 37562, 37586, 37615, 37645, 37678, 37716, 37758, 37776, 37791, 37854, 37874, 37909, 37933, 37946, 38015, 38028, 38055, 38084, 38112, 38139, 38170, 38180, 38204, 38235, 38256, 38292, 38325, 38363, 38391, 38417, 38454, 38477, 38490, 38511, 38540, 38556, 38579, 38638, 38657, 38675, 38693, 38713, 38758, 38767, 38806, 38818, 38844, 38874, 38893, 38925, 38943, 38975, 39000, 39011, 39047, 39074, 39340, 39377, 39410, 39498, 39529, 39547, 39597, 39625, 39649, 39661, 39682, 39692, 39723, 39740, 39776, 39810, 39836, 39864, 39904, 39929, 39957, 39961, 39985, 39998, 40049, 40075, 40101, 40132, 40167, 40208, 40315, 40332, 40359, 40388, 40419, 40450, 40486, 40524, 40538, 40580, 40627, 40638, 40660, 40692, 40709, 40732, 40762, 40794, 40815, 40831, 40857, 40899, 40915, 40934, 40982, 41015, 41049, 41077, 41118, 41148, 41202, 41217, 41273, 41285, 41310, 41335, 41378, 41411, 41430, 41471, 41478, 41503, 41518, 41549, 41579, 41601, 41642, 41654, 41683, 41725, 41754, 41766, 41810, 41817, 41846, 41873, 41915, 41938, 41947, 41955, 41984, 41995, 42024, 42056, 42095, 42108, 42127, 42186, 42208, 42250, 42287, 42315, 42351, 42376, 42405, 42433, 42461, 42496, 42510, 42523, 42540, 42583, 42605, 42629, 42649, 42659, 42683, 42715, 42822, 42844, 42867, 42914, 42928, 42965, 42984, 43004, 43038, 43064, 43096, 43126, 43163, 43187, 43286, 43336, 43373, 43395, 43433, 43455, 43493, 43525, 43545, 43582, 43598, 43676, 43693, 43741, 43762, 43793, 43829, 43837, 43868, 43886, 43906, 43935, 43972, 43992, 44022, 44041, 44059, 44081, 44134, 44149, 44164, 44181, 44200, 44221, 44234, 44330, 44340, 44373, 44419, 44444, 44463, 44486, 44506, 44538, 44568, 44601, 44628, 44682, 44720, 44746, 44809, 44869, 44907, 44931, 44953, 44982, 44992, 45010, 45024, 45055, 45070, 45095, 45121, 45170, 45232, 45305, 45351, 45369, 45395, 45467, 45491, 45519, 45531, 45559, 45597, 45617, 45643, 45666, 45698, 45725, 45750, 45765, 45792, 45806, 45834, 45839, 45867, 45884, 45892, 45900, 45947, 45961, 45984, 46015, 46050, 46113, 46150, 46194, 46210, 46259, 46278, 46316, 46367, 46402, 46423, 46428, 46476, 46510, 46538, 46572, 46605, 46625, 46657, 46689, 46704, 46728, 46764, 46781, 46794, 46828, 46837, 46876, 46899, 46912, 46937, 46969, 46981, 47003, 47038, 47062, 47092, 47106, 47136, 47186, 47205, 47240, 47265, 47291, 47314, 47340, 47348, 47362, 47383, 47407, 47445, 47457, 47485, 47488, 47513, 47555, 47578, 47605, 47663, 47702, 47721, 47763, 47810, 47952, 47970, 47997, 48021, 48033, 48075, 48092, 48129, 48185, 48213, 48227, 48253, 48300, 48318, 48337, 48374, 48391, 48437, 48465, 48481, 48506, 48537, 48556, 48581, 48602, 48670, 48705, 48724, 48736, 48765, 48788, 48806, 48841, 48862, 48889, 48917, 48963, 48994, 49024, 49052, 49081, 49124, 49152, 49176, 49193, 49229, 49295, 49352, 49367, 49394, 49423, 49445, 49484, 49493, 49520, 49541, 49555, 49572, 49602, 49627, 49655, 49665, 49687, 49713, 49761, 49779, 49804, 49811, 49830, 49862, 49891, 49911, 49932, 49960, 49992, 50003, 50051, 50077, 50095, 50102, 50147, 50175, 50190, 50200, 50223, 50251, 50275, 50301, 50346, 50370, 50511, 50544, 50575, 50592, 50622, 50662, 50690, 50709, 50768, 50783, 50812, 50846, 50865, 50912, 50962, 50986, 51013, 51067, 51092, 51147, 51163, 51191, 51211, 51245, 51292, 51314, 51333, 51362, 51377, 51401, 51409, 51463, 51475, 51508, 51522, 51558, 51579, 51606, 51629, 51649, 51673, 51706, 51729, 51779, 51830, 51874, 51904, 51968, 51984, 51998, 52013, 52042, 52076, 52094, 52121, 52160, 52179, 52202, 52227, 52268, 52304, 52319, 52407, 52424, 52464, 52505, 52548, 52564, 52583, 52604, 52625, 52649, 52711, 52727, 52753, 52778, 52794, 52836, 52841, 52854, 52867, 52894, 52933, 52940, 52956, 52963, 53000, 53008, 53023, 53041, 53081, 53101, 53104, 53164, 53199, 53216, 53253, 53275, 53278, 53292, 53306, 53340, 53369, 53390, 53420, 53442, 53461, 53470, 53489, 53528, 53547, 53604, 53615, 53633, 53678, 53706, 53742, 53776, 53823, 53863, 53902, 53933, 53949, 53979, 53984, 54028, 54054, 54087, 54108, 54140, 54176, 54202, 54220, 54237, 54259, 54300, 54324, 54365, 54389, 54408, 54453, 54484, 54529, 54564, 54591, 54612, 54649, 54690, 54730, 54740, 54764, 54772, 54803, 54844, 54847, 54851, 54928, 54960, 54981, 55004, 55036, 55066, 55075, 55089, 55111, 55139, 55168, 55210, 55233, 55285, 55319, 55345, 55382, 55440, 55452, 55480, 55494, 55535, 55590, 55619, 55652, 55697, 55726, 55744, 55769, 55779, 55808, 55845, 55860, 55926, 55961, 55987, 56018, 56035, 56060, 56084, 56115, 56136, 56169, 56188, 56213, 56261, 56291, 56324, 56358, 56389, 56428, 56489, 56503, 56544, 56552, 56574, 56618, 56643, 56652, 56761, 56779, 56815, 56841, 56872, 56904, 56957, 56980, 56995, 57011, 57044, 57088, 57166, 57216, 57264, 57296, 57319, 57360, 57398, 57416, 57439, 57453, 57499, 57514, 57541, 57555, 57581, 57606, 57649, 57678, 57688, 57704, 57745, 57771, 57812, 57839, 57862, 57894, 57922, 57967, 57987, 58028, 58078, 58099, 58129, 58166, 58188, 58219, 58231, 58303, 58344, 58359, 58399, 58437, 58440, 58460, 58487, 58508, 58551, 58574, 58627, 58634, 58639, 58665, 58690, 58722, 58733, 58747, 58793, 58821, 58836, 58860, 58884, 58891, 58899, 58944, 58956, 58987, 59006, 59033, 59053, 59078, 59121, 59143, 59170, 59194, 59221, 59226, 59271, 59310, 59342, 59370, 59410, 59461, 59478, 59502, 59535, 59588, 59616, 59635, 59652, 59695, 59715, 59746, 59798, 59804, 59831, 59865, 59896, 59929, 59950, 59978, 59995, 60022, 60073, 60106, 60117, 60140, 60175, 60230, 60273, 60306, 60321, 60354, 60392, 60438, 60483, 60508, 60536, 60571, 60623, 60641, 60682, 60725, 60762, 60804, 60825, 60869, 60882, 60919, 60930, 60951, 60976, 60996, 61027, 61098, 61138, 61178, 61202, 61222, 61269, 61311, 61321, 61374, 61415, 61482, 61521, 61617, 61631, 61651, 61722, 61735, 61774, 61795, 61798, 61833, 61846, 61856, 61896, 61933, 61970, 61998, 62039, 62090, 62113, 62124, 62145, 62186, 62219, 62249, 62274, 62292, 62322, 62331, 62361, 62423, 62468, 62485, 62518, 62580, 62583, 62615, 62623, 62688, 62708, 62750, 62764, 62799, 62831, 62840, 62859, 62901, 62915, 62925, 62954, 62974, 62995, 63036, 63059, 63085, 63103, 63111, 63135, 63165, 63192, 63214, 63217, 63266, 63281, 63287, 63300, 63351, 63369, 63383, 63453, 63470, 63524, 63559, 63613, 63632, 63666, 63699, 63724, 63746, 63780, 63830, 63848, 63875, 63899, 63939, 63962, 63994, 64031, 64057, 64074, 64097, 64121, 64143, 64170, 64190, 64222, 64229, 64273, 64301, 64311, 64344, 64352, 64387, 64401, 64412, 64450, 64463, 64486, 64524, 64568, 64594, 64609, 64618, 64653, 64676, 64708, 64729, 64772, 64804, 64814, 64857, 64889, 64923, 64944, 65018, 65107, 65137, 65147, 65202, 65222, 65270, 65294, 65320, 65337, 65376, 65388, 65417, 65448, 65475, 65515, 65534, 65545, 65574, 65594, 65615, 65635, 65660, 65695, 65710, 65714, 65742, 65763, 65790, 65831, 65859, 65870, 65898, 65941, 65962, 66007, 66027, 66072, 66141, 66156, 66163, 66197, 66226, 66257, 66300, 66329, 66372, 66427, 66489, 66521, 66544, 66567, 66577, 66595, 66610, 66628, 66633, 66642, 66656, 66710, 66770, 66783, 66813, 66921, 66940, 66958, 66993, 67066, 67116, 67149, 67167, 67175, 67214, 67252, 67298, 67324, 67352, 67386, 67429, 67463, 67538, 67542, 67563, 67587, 67628, 67646, 67663, 67703, 67715, 67757, 67779, 67782, 67806, 67825, 67865, 67904, 67929, 67969, 67987, 68003, 68033, 68060, 68077, 68099, 68107, 68132, 68169, 68188, 68221, 68239, 68259, 68276, 68363, 68377, 68393, 68426, 68466, 68495, 68518, 68541, 68554, 68581, 68609, 68620, 68682, 68708, 68740, 68783, 68808, 68860, 68882, 68935, 68962, 68994, 69006, 69026, 69060, 69075, 69107, 69135, 69150, 69186, 69204, 69244, 69272, 69308, 69335, 69347, 69375, 69407, 69416, 69457, 69475, 69504, 69518, 69537, 69578, 69605, 69632, 69661, 69692, 69717, 69750, 69795, 69806, 69831, 69849, 69872, 69900, 69920, 69932, 69970, 70013, 70076, 70097, 70105, 70114, 70159, 70177, 70203, 70241, 70260, 70287, 70328, 70354, 70396, 70399, 70413, 70450, 70472, 70491, 70514, 70525, 70545, 70576, 70616, 70642, 70668, 70697, 70751, 70773, 70795, 70825, 70840, 70880, 70891, 70945, 70971, 71016, 71058, 71103, 71114, 71151, 71174, 71189, 71205, 71235, 71240, 71266, 71303, 71371, 71393, 71436, 71443, 71456, 71471, 71508, 71518, 71543, 71582, 71629, 71654, 71694, 71721, 71755, 71790, 71804, 71839, 71872, 71875, 71928, 71940, 71951, 71968, 72004, 72021, 72024, 72040, 72046, 72080, 72116, 72137, 72151, 72173, 72231, 72277, 72315, 72334, 72356, 72371, 72402, 72418, 72435, 72458, 72471, 72527, 72553, 72579, 72610, 72667, 72688, 72711, 72741, 72761, 72786, 72824, 72861, 72884, 72913, 72933, 72950, 72969, 72983, 73003, 73043, 73062, 73081, 73115, 73135, 73158, 73232, 73271, 73298, 73313, 73370, 73390, 73421, 73455, 73473, 73494, 73544, 73561]\n"
          ]
        }
      ]
    },
    {
      "cell_type": "code",
      "metadata": {
        "colab": {
          "base_uri": "https://localhost:8080/",
          "height": 166
        },
        "id": "SWdXqo6-Paj6",
        "outputId": "b3634388-f69c-4648-f971-1b8bcadd3de7"
      },
      "source": [
        "print(support_token_list)"
      ],
      "execution_count": null,
      "outputs": [
        {
          "output_type": "error",
          "ename": "NameError",
          "evalue": "ignored",
          "traceback": [
            "\u001b[0;31m---------------------------------------------------------------------------\u001b[0m",
            "\u001b[0;31mNameError\u001b[0m                                 Traceback (most recent call last)",
            "\u001b[0;32m<ipython-input-4-7ee6936d177e>\u001b[0m in \u001b[0;36m<module>\u001b[0;34m()\u001b[0m\n\u001b[0;32m----> 1\u001b[0;31m \u001b[0mprint\u001b[0m\u001b[0;34m(\u001b[0m\u001b[0msupport_token_list\u001b[0m\u001b[0;34m)\u001b[0m\u001b[0;34m\u001b[0m\u001b[0;34m\u001b[0m\u001b[0m\n\u001b[0m",
            "\u001b[0;31mNameError\u001b[0m: name 'support_token_list' is not defined"
          ]
        }
      ]
    },
    {
      "cell_type": "code",
      "metadata": {
        "colab": {
          "base_uri": "https://localhost:8080/"
        },
        "id": "mQ4eTli2bzKq",
        "outputId": "87116ddb-6168-4d1e-b5bc-5f804c39047d"
      },
      "source": [
        "#path = \"/content/text6.txt\"\n",
        "\n",
        "count = 0\n",
        "count1 = 0\n",
        "support_token_list = [0]\n",
        "with open(\"/content/support-ADE-100--del-punc.txt\", 'r') as f1:\n",
        "  text = f1.readlines()\n",
        "  for line in text:\n",
        "    count +=1\n",
        "    if(line==\"\\n\"):\n",
        "      count1+=1\n",
        "      support_token_list.append(count)\n",
        "print(count,count1)\n"
      ],
      "execution_count": null,
      "outputs": [
        {
          "output_type": "stream",
          "text": [
            "2712 97\n"
          ],
          "name": "stdout"
        }
      ]
    },
    {
      "cell_type": "code",
      "metadata": {
        "colab": {
          "base_uri": "https://localhost:8080/"
        },
        "id": "TRGjhhO_PjQu",
        "outputId": "0f6f2135-3312-4974-cc7a-e096cbd77ef7"
      },
      "source": [
        "count = 0\n",
        "count1 = 0\n",
        "query_list = [0]\n",
        "with open(\"/content/query--del-punc.txt\", 'r') as f1:\n",
        "  text = f1.readlines()\n",
        "  for line in text:\n",
        "    count +=1\n",
        "    if(line==\"\\n\"):\n",
        "      count1+=1\n",
        "      query_list.append(count)\n",
        "print(count,count1)"
      ],
      "execution_count": null,
      "outputs": [
        {
          "output_type": "stream",
          "text": [
            "349905 19916\n"
          ],
          "name": "stdout"
        }
      ]
    },
    {
      "cell_type": "code",
      "metadata": {
        "colab": {
          "base_uri": "https://localhost:8080/"
        },
        "id": "kBMHcz9ob6sD",
        "outputId": "9c099873-3e0b-4c1d-e97e-725519ccd5fe"
      },
      "source": [
        "count = 0\n",
        "count1 = 0\n",
        "query_token_list = [0]\n",
        "with open(\"/content/queries--del-punc.txt\", 'r') as f1:\n",
        "  text = f1.readlines()\n",
        "  for line in text:\n",
        "    count +=1\n",
        "    if(line==\"\\n\"):\n",
        "      count1+=1\n",
        "      query_token_list.append(count)\n",
        "print(count,count1)"
      ],
      "execution_count": null,
      "outputs": [
        {
          "output_type": "stream",
          "text": [
            "518450 19916\n"
          ],
          "name": "stdout"
        }
      ]
    },
    {
      "cell_type": "code",
      "metadata": {
        "id": "_6qtblLtPtO5"
      },
      "source": [
        "path = \"/content/slot-format1.txt\"\n",
        "\n",
        "with open(path,'a') as wf:\n",
        "  with open(\"/content/support--del-punc.txt\", 'r') as f1:\n",
        "    text1 = f1.readlines()\n",
        "    with open(\"/content/query--del-punc.txt\", 'r') as f2:\n",
        "      text2 = f2.readlines()\n",
        "      with open(\"/content/support-ADE-100--del-punc.txt\", 'r') as f3:\n",
        "        text3 = f3.readlines()\n",
        "        with open(\"/content/queries--del-punc.txt\", 'r') as f4:\n",
        "          text4 = f4.readlines()\n",
        "          wf.write('{\"N2C2\": [')\n",
        "          #for i in range(len(support_list)):\n",
        "          for i in range(2):\n",
        "            ## support start\n",
        "\n",
        "            wf.write('{\"support\": {\"seq_ins\": [[')\n",
        "            start = support_list[i]\n",
        "            end = support_list[i+1]-1\n",
        "            for j in range(start,end-1):\n",
        "              #print(text1[j].strip(\"\\n\").split(\" \"))\n",
        "              wf.write('\"'+ str(text1[j].strip(\"\\n\").split(\" \")[0]) + '\"' + ', ')\n",
        "            wf.write('\"'+ str(text1[end-1].strip(\"\\n\").split(\" \")[0]) + '\"' + ']')\n",
        "            wf.write('], \"labels\": [\"N2C2\"], \"seq_outs\": [[')\n",
        "            for j in range(start,end-1):\n",
        "              #print(text1[j].strip(\"\\n\").split(\" \"))\n",
        "              wf.write('\"'+ str(text1[j].strip(\"\\n\").split(\" \")[1]) + '\"' + ', ')\n",
        "            wf.write('\"'+ str(text1[end-1].strip(\"\\n\").split(\" \")[1]) + '\"' + ']')\n",
        "            wf.write('], \"word_piece_marks\": [[')\n",
        "            for j in range(start,end-1):\n",
        "              label = str(text1[j].strip(\"\\n\").split(\" \")[1])\n",
        "              #print(label)\n",
        "              if(str(text1[j].strip(\"\\n\").split(\" \")[1])==\"O\"):\n",
        "                wf.write('0' + ',')\n",
        "              else:\n",
        "                wf.write('1' + ',')\n",
        "            if(str(text1[end-1].strip(\"\\n\").split(\" \")[1])=='O'):\n",
        "              wf.write('0' + ']')\n",
        "            else:\n",
        "              wf.write('1' + ']')\n",
        "            wf.write('], \"tokenized_texts\": [[')\n",
        "            start1 = support_token_list[i]\n",
        "            end1 = support_token_list[i+1]-1\n",
        "            for j in range(start1,end1-1):\n",
        "              #print(text1[j].strip(\"\\n\").split(\" \"))\n",
        "              wf.write('\"'+ str(text3[j].strip(\"\\n\").split(\" \")[0]) + '\"' + ', ')\n",
        "            wf.write('\"'+ str(text3[end1-1].strip(\"\\n\").split(\" \")[0]) + '\"' + ']')\n",
        "            wf.write('], \"word_piece_labels\": [[')\n",
        "            for j in range(start1,end1-1):\n",
        "              #print(text1[j].strip(\"\\n\").split(\" \"))\n",
        "              wf.write('\"'+ str(text3[j].strip(\"\\n\").split(\" \")[1]) + '\"' + \", \")\n",
        "            wf.write('\"'+ str(text3[end1-1].strip(\"\\n\").split(\" \")[1]) + '\"' + ']')\n",
        "            wf.write(']}, \"batch\": {\"seq_ins\": [')\n",
        "\n",
        "            ## batch start:\n",
        "\n",
        "            rand_list = []\n",
        "            for k in range(20):\n",
        "              while True:\n",
        "                rand = random.randint(0,19916)\n",
        "                if(rand not in rand_list):\n",
        "                  rand_list.append(rand)\n",
        "                  break\n",
        "              start2 = query_list[rand]+1\n",
        "              end2 = query_list[rand+1]-1\n",
        "              for j in range(start2,end2-1):\n",
        "                #print(text1[j].strip(\"\\n\").split(\" \"))\n",
        "                if(j==start2):\n",
        "                  wf.write('[')\n",
        "                wf.write('\"'+ str(text2[j].strip(\"\\n\").split(\" \")[0]) + '\"' + ', ')\n",
        "              if(k!=19):\n",
        "                wf.write('\"'+ str(text2[end2-1].strip(\"\\n\").split(\" \")[0]) + '\"' + '], ')\n",
        "              else:\n",
        "                wf.write('\"'+ str(text2[end2-1].strip(\"\\n\").split(\" \")[0]) + '\"' + ']], ')\n",
        "            wf.write('\"labels\": [\"N2C2\", \"N2C2\", \"N2C2\", \"N2C2\", \"N2C2\", \"N2C2\", \"N2C2\", \"N2C2\", \"N2C2\", \"N2C2\", \"N2C2\", \"N2C2\", \"N2C2\", \"N2C2\", \"N2C2\", \"N2C2\", \"N2C2\", \"N2C2\", \"N2C2\", \"N2C2\"], \"seq_outs\": [')\n",
        "\n",
        "            k = 0\n",
        "            for rand in rand_list:\n",
        "              k+=1\n",
        "              start2 = query_list[rand]+1\n",
        "              end2 = query_list[rand+1]-1\n",
        "              for j in range(start2,end2-1):\n",
        "                #print(text1[j].strip(\"\\n\").split(\" \"))\n",
        "                if(j==start2):\n",
        "                  wf.write('[')\n",
        "                wf.write('\"'+ str(text2[j].strip(\"\\n\").split(\" \")[1]) + '\"' + ', ')\n",
        "              if(k!=20):\n",
        "                wf.write('\"'+ str(text2[end2-1].strip(\"\\n\").split(\" \")[1]) + '\"' + '], ')\n",
        "              else:\n",
        "                wf.write('\"'+ str(text2[end2-1].strip(\"\\n\").split(\" \")[1]) + '\"' + ']], ')\n",
        "            wf.write('\"word_piece_marks\": [')\n",
        "\n",
        "            k = 0\n",
        "            for rand in rand_list:\n",
        "              k+=1\n",
        "              start2 = query_list[rand]+1\n",
        "              end2 = query_list[rand+1]-1\n",
        "              for j in range(start2,end2-1):\n",
        "                label = str(text2[j].strip(\"\\n\").split(\" \")[1])\n",
        "                #print(label)\n",
        "                if(j==start2):\n",
        "                  wf.write('[')\n",
        "                if(str(text2[j].strip(\"\\n\").split(\" \")[1])==\"O\"):\n",
        "                  wf.write('0' + ',')\n",
        "                else:\n",
        "                  wf.write('1' + ',')\n",
        "              if(k!=20):\n",
        "                if(str(text2[end2-1].strip(\"\\n\").split(\" \")[1])=='O'):\n",
        "                  wf.write('0' + '], ')\n",
        "                else:\n",
        "                  wf.write('1' + '], ')\n",
        "              else:\n",
        "                if(str(text2[end2-1].strip(\"\\n\").split(\" \")[1])=='O'):\n",
        "                  wf.write('0' + ']], ')\n",
        "                else:\n",
        "                  wf.write('1' + ']], ')\n",
        "            wf.write('\"tokenized_texts\": [')\n",
        "\n",
        "            k = 0\n",
        "            for rand in rand_list:\n",
        "              k+=1\n",
        "              start3 = query_token_list[rand]\n",
        "              end3 = query_token_list[rand+1]-1\n",
        "              for j in range(start3,end3-1):\n",
        "                if(j==start3):\n",
        "                  wf.write('[')\n",
        "                wf.write('\"'+ str(text4[j].strip(\"\\n\").split(\" \")[0]) + '\"' + ', ')\n",
        "              if(k!=20):\n",
        "                wf.write('\"'+ str(text4[end3-1].strip(\"\\n\").split(\" \")[0]) + '\"' + '], ')\n",
        "              else:\n",
        "                wf.write('\"'+ str(text4[end3-1].strip(\"\\n\").split(\" \")[0]) + '\"' + ']], ')\n",
        "            wf.write('\"word_piece_labels\": [')\n",
        "\n",
        "            k = 0\n",
        "            for rand in rand_list:\n",
        "              k+=1\n",
        "              start3 = query_token_list[rand]\n",
        "              end3 = query_token_list[rand+1]-1\n",
        "              for j in range(start3,end3-1):\n",
        "                if(j==start3):\n",
        "                  wf.write('[')\n",
        "                wf.write('\"'+ str(text4[j].strip(\"\\n\").split(\" \")[1]) + '\"' + ', ')\n",
        "              if(k!=20):\n",
        "                wf.write('\"'+ str(text4[end3-1].strip(\"\\n\").split(\" \")[1]) + '\"' + '], ')\n",
        "              else:\n",
        "                wf.write('\"'+ str(text4[end3-1].strip(\"\\n\").split(\" \")[1]) + '\"' + ']]}}, ')\n"
      ],
      "execution_count": null,
      "outputs": []
    },
    {
      "cell_type": "code",
      "metadata": {
        "colab": {
          "base_uri": "https://localhost:8080/"
        },
        "id": "Kmh5rUR3e9rA",
        "outputId": "7987d2ad-0d36-4c87-c780-e4afd0ee5fc9"
      },
      "source": [
        "rand = random.randint(0,19916)\n",
        "print(rand)"
      ],
      "execution_count": null,
      "outputs": [
        {
          "output_type": "stream",
          "text": [
            "5947\n"
          ],
          "name": "stdout"
        }
      ]
    },
    {
      "cell_type": "code",
      "metadata": {
        "colab": {
          "base_uri": "https://localhost:8080/"
        },
        "id": "93b7p5QRv1oc",
        "outputId": "6897afc5-3ea3-441e-d9aa-74286c9d9d7e"
      },
      "source": [
        "with open(\"/content/slot-format1.txt\", 'r') as f:\n",
        "  text = f.readlines()\n",
        "  text_str = str(text)\n",
        "  print(text_str[14544:14560])"
      ],
      "execution_count": null,
      "outputs": [
        {
          "output_type": "stream",
          "text": [
            " [\"shit\", \"my\", \n"
          ],
          "name": "stdout"
        }
      ]
    },
    {
      "cell_type": "markdown",
      "metadata": {
        "id": "cJLWyxzvlle9"
      },
      "source": [
        "their codes"
      ]
    },
    {
      "cell_type": "code",
      "metadata": {
        "colab": {
          "base_uri": "https://localhost:8080/"
        },
        "id": "F95cFOpnm8FE",
        "outputId": "cf40f174-1f41-44ba-cf99-725fed423b23"
      },
      "source": [
        "!pip install pytorch-pretrained-bert"
      ],
      "execution_count": null,
      "outputs": [
        {
          "output_type": "stream",
          "text": [
            "Collecting pytorch-pretrained-bert\n",
            "\u001b[?25l  Downloading https://files.pythonhosted.org/packages/d7/e0/c08d5553b89973d9a240605b9c12404bcf8227590de62bae27acbcfe076b/pytorch_pretrained_bert-0.6.2-py3-none-any.whl (123kB)\n",
            "\r\u001b[K     |██▋                             | 10kB 21.5MB/s eta 0:00:01\r\u001b[K     |█████▎                          | 20kB 26.7MB/s eta 0:00:01\r\u001b[K     |████████                        | 30kB 32.6MB/s eta 0:00:01\r\u001b[K     |██████████▋                     | 40kB 24.7MB/s eta 0:00:01\r\u001b[K     |█████████████▎                  | 51kB 14.2MB/s eta 0:00:01\r\u001b[K     |███████████████▉                | 61kB 13.0MB/s eta 0:00:01\r\u001b[K     |██████████████████▌             | 71kB 11.5MB/s eta 0:00:01\r\u001b[K     |█████████████████████▏          | 81kB 12.4MB/s eta 0:00:01\r\u001b[K     |███████████████████████▉        | 92kB 13.4MB/s eta 0:00:01\r\u001b[K     |██████████████████████████▌     | 102kB 13.7MB/s eta 0:00:01\r\u001b[K     |█████████████████████████████▏  | 112kB 13.7MB/s eta 0:00:01\r\u001b[K     |███████████████████████████████▊| 122kB 13.7MB/s eta 0:00:01\r\u001b[K     |████████████████████████████████| 133kB 13.7MB/s \n",
            "\u001b[?25hRequirement already satisfied: torch>=0.4.1 in /usr/local/lib/python3.7/dist-packages (from pytorch-pretrained-bert) (1.8.1+cu101)\n",
            "Collecting boto3\n",
            "\u001b[?25l  Downloading https://files.pythonhosted.org/packages/a4/35/d606b0abba3b98f81a477745069e8ee3e0c4eb27e7ce038f9a06bcf5cceb/boto3-1.17.91-py2.py3-none-any.whl (131kB)\n",
            "\u001b[K     |████████████████████████████████| 133kB 27.9MB/s \n",
            "\u001b[?25hRequirement already satisfied: regex in /usr/local/lib/python3.7/dist-packages (from pytorch-pretrained-bert) (2019.12.20)\n",
            "Requirement already satisfied: requests in /usr/local/lib/python3.7/dist-packages (from pytorch-pretrained-bert) (2.23.0)\n",
            "Requirement already satisfied: tqdm in /usr/local/lib/python3.7/dist-packages (from pytorch-pretrained-bert) (4.41.1)\n",
            "Requirement already satisfied: numpy in /usr/local/lib/python3.7/dist-packages (from pytorch-pretrained-bert) (1.19.5)\n",
            "Requirement already satisfied: typing-extensions in /usr/local/lib/python3.7/dist-packages (from torch>=0.4.1->pytorch-pretrained-bert) (3.7.4.3)\n",
            "Collecting jmespath<1.0.0,>=0.7.1\n",
            "  Downloading https://files.pythonhosted.org/packages/07/cb/5f001272b6faeb23c1c9e0acc04d48eaaf5c862c17709d20e3469c6e0139/jmespath-0.10.0-py2.py3-none-any.whl\n",
            "Collecting s3transfer<0.5.0,>=0.4.0\n",
            "\u001b[?25l  Downloading https://files.pythonhosted.org/packages/63/d0/693477c688348654ddc21dcdce0817653a294aa43f41771084c25e7ff9c7/s3transfer-0.4.2-py2.py3-none-any.whl (79kB)\n",
            "\u001b[K     |████████████████████████████████| 81kB 7.9MB/s \n",
            "\u001b[?25hCollecting botocore<1.21.0,>=1.20.91\n",
            "\u001b[?25l  Downloading https://files.pythonhosted.org/packages/9c/8a/75eceb06b51a930bd295571b58bf5d68a04aaea2bb8751a33c404bbd7a1b/botocore-1.20.91-py2.py3-none-any.whl (7.6MB)\n",
            "\u001b[K     |████████████████████████████████| 7.6MB 22.4MB/s \n",
            "\u001b[?25hRequirement already satisfied: urllib3!=1.25.0,!=1.25.1,<1.26,>=1.21.1 in /usr/local/lib/python3.7/dist-packages (from requests->pytorch-pretrained-bert) (1.24.3)\n",
            "Requirement already satisfied: idna<3,>=2.5 in /usr/local/lib/python3.7/dist-packages (from requests->pytorch-pretrained-bert) (2.10)\n",
            "Requirement already satisfied: chardet<4,>=3.0.2 in /usr/local/lib/python3.7/dist-packages (from requests->pytorch-pretrained-bert) (3.0.4)\n",
            "Requirement already satisfied: certifi>=2017.4.17 in /usr/local/lib/python3.7/dist-packages (from requests->pytorch-pretrained-bert) (2020.12.5)\n",
            "Requirement already satisfied: python-dateutil<3.0.0,>=2.1 in /usr/local/lib/python3.7/dist-packages (from botocore<1.21.0,>=1.20.91->boto3->pytorch-pretrained-bert) (2.8.1)\n",
            "Requirement already satisfied: six>=1.5 in /usr/local/lib/python3.7/dist-packages (from python-dateutil<3.0.0,>=2.1->botocore<1.21.0,>=1.20.91->boto3->pytorch-pretrained-bert) (1.15.0)\n",
            "\u001b[31mERROR: botocore 1.20.91 has requirement urllib3<1.27,>=1.25.4, but you'll have urllib3 1.24.3 which is incompatible.\u001b[0m\n",
            "Installing collected packages: jmespath, botocore, s3transfer, boto3, pytorch-pretrained-bert\n",
            "Successfully installed boto3-1.17.91 botocore-1.20.91 jmespath-0.10.0 pytorch-pretrained-bert-0.6.2 s3transfer-0.4.2\n"
          ],
          "name": "stdout"
        }
      ]
    },
    {
      "cell_type": "code",
      "metadata": {
        "id": "hRGenMtInc5q"
      },
      "source": [
        "!pip install allennlp"
      ],
      "execution_count": null,
      "outputs": []
    },
    {
      "cell_type": "code",
      "metadata": {
        "colab": {
          "base_uri": "https://localhost:8080/"
        },
        "id": "PX4BLCAsn1H4",
        "outputId": "c8b4fbb6-25aa-4445-c69c-557a58672502"
      },
      "source": [
        "!pip install pytorch-nlp"
      ],
      "execution_count": null,
      "outputs": [
        {
          "output_type": "stream",
          "text": [
            "Collecting pytorch-nlp\n",
            "\u001b[?25l  Downloading https://files.pythonhosted.org/packages/4f/51/f0ee1efb75f7cc2e3065c5da1363d6be2eec79691b2821594f3f2329528c/pytorch_nlp-0.5.0-py3-none-any.whl (90kB)\n",
            "\r\u001b[K     |███▋                            | 10kB 20.0MB/s eta 0:00:01\r\u001b[K     |███████▎                        | 20kB 26.9MB/s eta 0:00:01\r\u001b[K     |███████████                     | 30kB 23.0MB/s eta 0:00:01\r\u001b[K     |██████████████▌                 | 40kB 18.4MB/s eta 0:00:01\r\u001b[K     |██████████████████▏             | 51kB 15.2MB/s eta 0:00:01\r\u001b[K     |█████████████████████▉          | 61kB 11.5MB/s eta 0:00:01\r\u001b[K     |█████████████████████████▌      | 71kB 13.0MB/s eta 0:00:01\r\u001b[K     |█████████████████████████████   | 81kB 13.8MB/s eta 0:00:01\r\u001b[K     |████████████████████████████████| 92kB 6.6MB/s \n",
            "\u001b[?25hRequirement already satisfied: tqdm in /usr/local/lib/python3.7/dist-packages (from pytorch-nlp) (4.41.1)\n",
            "Requirement already satisfied: numpy in /usr/local/lib/python3.7/dist-packages (from pytorch-nlp) (1.19.5)\n",
            "Installing collected packages: pytorch-nlp\n",
            "Successfully installed pytorch-nlp-0.5.0\n"
          ],
          "name": "stdout"
        }
      ]
    },
    {
      "cell_type": "code",
      "metadata": {
        "colab": {
          "base_uri": "https://localhost:8080/"
        },
        "id": "qslF1-6rloJl",
        "outputId": "eb8d6017-8835-4496-bad8-80471a042ad7"
      },
      "source": [
        "!git clone https://github.com/AtmaHou/MetaDialog"
      ],
      "execution_count": null,
      "outputs": [
        {
          "output_type": "stream",
          "text": [
            "Cloning into 'MetaDialog'...\n",
            "remote: Enumerating objects: 131, done.\u001b[K\n",
            "remote: Counting objects: 100% (8/8), done.\u001b[K\n",
            "remote: Compressing objects: 100% (8/8), done.\u001b[K\n",
            "remote: Total 131 (delta 1), reused 1 (delta 0), pack-reused 123\u001b[K\n",
            "Receiving objects: 100% (131/131), 114.76 KiB | 5.22 MiB/s, done.\n",
            "Resolving deltas: 100% (63/63), done.\n"
          ],
          "name": "stdout"
        }
      ]
    },
    {
      "cell_type": "code",
      "metadata": {
        "id": "2oFKoWBDlrya"
      },
      "source": [
        "!unzip /content/snips.zip"
      ],
      "execution_count": null,
      "outputs": []
    },
    {
      "cell_type": "code",
      "metadata": {
        "colab": {
          "base_uri": "https://localhost:8080/"
        },
        "id": "tKINoYSwE2D2",
        "outputId": "59c6ada5-2e7b-4411-d824-e31573d2debd"
      },
      "source": [
        "!unzip /content/atis.zip"
      ],
      "execution_count": null,
      "outputs": [
        {
          "output_type": "stream",
          "text": [
            "Archive:  /content/atis.zip\n",
            "   creating: atis/\n",
            "   creating: atis/test/\n",
            "  inflating: atis/test/label         \n",
            "  inflating: atis/test/seq.in        \n",
            "  inflating: atis/test/seq.out       \n",
            "   creating: atis/train/\n",
            "  inflating: atis/train/label        \n",
            "  inflating: atis/train/seq.in       \n",
            "  inflating: atis/train/seq.out      \n",
            "   creating: atis/valid/\n",
            "  inflating: atis/valid/label        \n",
            "  inflating: atis/valid/seq.in       \n",
            "  inflating: atis/valid/seq.out      \n"
          ],
          "name": "stdout"
        }
      ]
    },
    {
      "cell_type": "code",
      "metadata": {
        "colab": {
          "base_uri": "https://localhost:8080/"
        },
        "id": "Q9YftFnRmy2E",
        "outputId": "ef352396-ef47-452d-e570-75aa726b7c4c"
      },
      "source": [
        "cd /content/MetaDialog"
      ],
      "execution_count": null,
      "outputs": [
        {
          "output_type": "stream",
          "text": [
            "/content/MetaDialog\n"
          ],
          "name": "stdout"
        }
      ]
    },
    {
      "cell_type": "code",
      "metadata": {
        "colab": {
          "base_uri": "https://localhost:8080/"
        },
        "id": "v5evgmL1m1Q8",
        "outputId": "5dc9fb32-2b6d-4532-d76c-682d44adf6a1"
      },
      "source": [
        "!source ./scripts/gen_meta_data.sh snips"
      ],
      "execution_count": null,
      "outputs": [
        {
          "output_type": "stream",
          "text": [
            "usage: pass dataset list as param, split with space\n",
            "eg: source gen_mate_data.sh atis\n",
            "[START] set jobs on dataset [ snips ]\n",
            "[CLI] generate with [ --use_fix_support ]\n"
          ],
          "name": "stdout"
        }
      ]
    },
    {
      "cell_type": "code",
      "metadata": {
        "id": "mQsk-1FDLZPZ"
      },
      "source": [
        "!rm -r /content/results"
      ],
      "execution_count": null,
      "outputs": []
    },
    {
      "cell_type": "code",
      "metadata": {
        "colab": {
          "base_uri": "https://localhost:8080/"
        },
        "id": "oIKqRL_1LbsZ",
        "outputId": "1d01504d-b3ff-4bf0-9ffb-da5d39564d8a"
      },
      "source": [
        "cd .."
      ],
      "execution_count": null,
      "outputs": [
        {
          "output_type": "stream",
          "text": [
            "/content\n"
          ],
          "name": "stdout"
        }
      ]
    },
    {
      "cell_type": "code",
      "metadata": {
        "id": "uAVT1xbtLc5_"
      },
      "source": [
        "!mkdir /content/results"
      ],
      "execution_count": null,
      "outputs": []
    },
    {
      "cell_type": "code",
      "metadata": {
        "id": "-ZgFvFUdSul-"
      },
      "source": [
        "!python /content/MetaDialog/scripts/other_tool/meta_dataset_generator/gen_config.py"
      ],
      "execution_count": null,
      "outputs": []
    },
    {
      "cell_type": "markdown",
      "metadata": {
        "id": "26-1OrjZ82HV"
      },
      "source": [
        "BIO to Snips format\n"
      ]
    },
    {
      "cell_type": "code",
      "metadata": {
        "id": "NS4831Dl84Sa"
      },
      "source": [
        "#path1 = \"/content/train_del-punc.txt\"\n",
        "#path2 = \"/content/dev_del-punc.txt\"\n",
        "#path3 = \"/content/test_del-punc.txt\"\n",
        "path1 = \"/content/test.txt\"\n",
        "\n",
        "with open(path1,\"r\") as f:\n",
        "  with open(\"/content/snips-n2c2/test/seq.in\", 'a') as wf1:\n",
        "    with open(\"/content/snips-n2c2/test/seq.out\", 'a') as wf2:\n",
        "      text = f.readlines()\n",
        "      for line in text:\n",
        "        if(line != \"\\n\"):\n",
        "          line = line.strip(\"\\n\").split(\" \")\n",
        "          #print(line)\n",
        "          wf1.write(str(line[0]) + \" \")\n",
        "          wf2.write(str(line[1]) + \" \")\n",
        "        else:\n",
        "          wf1.write(\"\\n\")\n",
        "          wf2.write(\"\\n\")"
      ],
      "execution_count": null,
      "outputs": []
    },
    {
      "cell_type": "code",
      "metadata": {
        "id": "ftRoMmKN_sRs"
      },
      "source": [
        "with open(\"/content/snips-n2c2/test/label\", 'a') as wf:\n",
        "  for i in range(12841):\n",
        "    wf.write(\"ADE\" + \"\\n\")"
      ],
      "execution_count": null,
      "outputs": []
    },
    {
      "cell_type": "markdown",
      "metadata": {
        "id": "fssOzfeZihWk"
      },
      "source": [
        "n2c2 delete \" O\\n\""
      ]
    },
    {
      "cell_type": "code",
      "metadata": {
        "id": "E7NuuAr0ii4j"
      },
      "source": [
        "with open(\"/content/test_n2c2_del-punc.txt\",\"r\") as f:\n",
        "  with open(\"/content/test_n2c2_del-punc2.txt\",\"a\") as wf:\n",
        "    text = f.readlines()\n",
        "    for line in text:\n",
        "      if(line.startswith(\" O\")):\n",
        "        print(line)\n",
        "      else:\n",
        "        wf.write(line)"
      ],
      "execution_count": null,
      "outputs": []
    },
    {
      "cell_type": "markdown",
      "source": [
        "2021.12.06 upadate"
      ],
      "metadata": {
        "id": "Zws2batSa4xy"
      }
    },
    {
      "cell_type": "markdown",
      "source": [
        "首先我需要200个带有标签的数据作为support，实际上每个support都有4个seq_in\n",
        "\n",
        "然后我需要200个带有标签的数据作为batch，实际上每个batch都有20个seq_in\n",
        "\n",
        "同时我还需要它们的tokenized的形式\n"
      ],
      "metadata": {
        "id": "LyFd1DaOMShC"
      }
    },
    {
      "cell_type": "markdown",
      "source": [
        "1.先找所有有标签的数据"
      ],
      "metadata": {
        "id": "NdU_kAypapxv"
      }
    },
    {
      "cell_type": "code",
      "source": [
        "#path = \"/content/text6.txt\"\n",
        "\n",
        "count = 0\n",
        "count1 = 0\n",
        "support_list = [0]\n",
        "#with open(\"/content/support--del-punc.txt\", 'r') as f1:\n",
        "with open(\"/content/dev-n2c2.txt\",'r') as f1:\n",
        "  text = f1.readlines()\n",
        "  for line in text:\n",
        "    count +=1\n",
        "    if(line==\"\\n\"):\n",
        "      count1+=1\n",
        "      support_list.append(count)\n",
        "print(count,count1)"
      ],
      "metadata": {
        "colab": {
          "base_uri": "https://localhost:8080/"
        },
        "id": "R6HPJKPgasb4",
        "outputId": "db017947-4ee1-47b4-f134-34bb9e9c7d56"
      },
      "execution_count": null,
      "outputs": [
        {
          "output_type": "stream",
          "name": "stdout",
          "text": [
            "102193 18767\n"
          ]
        }
      ]
    },
    {
      "cell_type": "code",
      "source": [
        "print(support_list)"
      ],
      "metadata": {
        "colab": {
          "base_uri": "https://localhost:8080/"
        },
        "id": "0g9nllz4bF33",
        "outputId": "0d1eb13a-184b-4f0d-e973-87bbda9405a7"
      },
      "execution_count": null,
      "outputs": [
        {
          "output_type": "stream",
          "name": "stdout",
          "text": [
            "[0, 5, 8, 13, 16, 19, 25, 29, 32, 38, 43, 49, 53, 56, 59, 61, 63, 65, 93, 99, 109, 112, 119, 137, 139, 141, 158, 165, 167, 169, 171, 173, 178, 207, 217, 240, 243, 250, 262, 281, 287, 290, 318, 340, 351, 360, 387, 395, 409, 419, 422, 431, 452, 464, 473, 475, 481, 487, 489, 491, 493, 496, 500, 521, 534, 536, 542, 551, 556, 558, 560, 563, 565, 579, 588, 590, 593, 595, 605, 611, 629, 633, 656, 670, 672, 674, 679, 686, 696, 703, 708, 712, 714, 718, 720, 729, 731, 733, 736, 739, 745, 753, 760, 766, 768, 774, 776, 778, 780, 785, 792, 795, 799, 811, 813, 817, 823, 826, 833, 835, 856, 864, 871, 873, 882, 886, 891, 893, 902, 905, 909, 916, 921, 931, 934, 936, 940, 942, 945, 971, 975, 992, 1003, 1008, 1011, 1022, 1042, 1048, 1062, 1077, 1086, 1089, 1091, 1098, 1110, 1125, 1134, 1139, 1152, 1173, 1179, 1187, 1194, 1215, 1221, 1229, 1236, 1240, 1247, 1259, 1263, 1279, 1284, 1346, 1365, 1380, 1394, 1405, 1410, 1412, 1418, 1420, 1442, 1467, 1480, 1491, 1494, 1500, 1509, 1514, 1544, 1554, 1560, 1566, 1571, 1605, 1622, 1626, 1631, 1641, 1652, 1660, 1665, 1671, 1673, 1675, 1703, 1707, 1716, 1720, 1728, 1733, 1741, 1757, 1775, 1783, 1787, 1789, 1791, 1799, 1804, 1807, 1819, 1822, 1837, 1848, 1858, 1868, 1884, 1893, 1905, 1916, 1925, 1950, 1965, 1972, 1981, 1984, 1986, 1996, 2016, 2018, 2022, 2027, 2040, 2045, 2054, 2058, 2062, 2071, 2084, 2094, 2110, 2120, 2122, 2127, 2139, 2142, 2164, 2171, 2187, 2199, 2202, 2204, 2210, 2225, 2230, 2233, 2235, 2237, 2249, 2260, 2262, 2265, 2281, 2283, 2286, 2291, 2293, 2303, 2305, 2317, 2319, 2330, 2350, 2352, 2355, 2357, 2361, 2363, 2365, 2368, 2371, 2373, 2379, 2383, 2387, 2389, 2392, 2394, 2396, 2399, 2401, 2404, 2406, 2411, 2413, 2418, 2426, 2434, 2436, 2440, 2446, 2456, 2461, 2465, 2467, 2476, 2478, 2486, 2488, 2493, 2495, 2498, 2504, 2518, 2523, 2529, 2534, 2539, 2541, 2544, 2548, 2550, 2552, 2554, 2556, 2562, 2566, 2568, 2570, 2572, 2574, 2585, 2589, 2591, 2593, 2595, 2597, 2608, 2612, 2614, 2616, 2618, 2620, 2624, 2626, 2629, 2632, 2637, 2639, 2641, 2643, 2645, 2648, 2654, 2657, 2660, 2662, 2665, 2670, 2678, 2682, 2684, 2687, 2692, 2695, 2697, 2701, 2703, 2705, 2709, 2711, 2713, 2715, 2717, 2719, 2725, 2731, 2735, 2737, 2739, 2741, 2743, 2747, 2750, 2754, 2756, 2758, 2760, 2762, 2770, 2779, 2785, 2792, 2794, 2798, 2800, 2802, 2804, 2806, 2808, 2810, 2814, 2817, 2819, 2821, 2825, 2827, 2829, 2831, 2833, 2837, 2839, 2842, 2844, 2846, 2848, 2850, 2852, 2854, 2856, 2864, 2868, 2870, 2872, 2874, 2876, 2881, 2888, 2900, 2903, 2906, 2910, 2912, 2914, 2916, 2918, 2924, 2928, 2930, 2932, 2934, 2936, 2938, 2940, 2947, 2949, 2955, 2957, 2959, 2961, 2964, 2969, 2972, 2975, 2979, 2981, 2983, 2985, 2987, 2992, 2995, 3005, 3009, 3011, 3013, 3015, 3017, 3019, 3021, 3025, 3028, 3030, 3034, 3036, 3038, 3040, 3042, 3046, 3055, 3058, 3061, 3064, 3066, 3068, 3070, 3072, 3074, 3076, 3078, 3087, 3100, 3104, 3111, 3114, 3117, 3121, 3123, 3125, 3127, 3129, 3133, 3142, 3145, 3148, 3152, 3154, 3156, 3158, 3160, 3162, 3164, 3166, 3168, 3174, 3176, 3178, 3181, 3184, 3186, 3189, 3191, 3193, 3195, 3197, 3199, 3201, 3203, 3208, 3211, 3214, 3218, 3220, 3222, 3224, 3226, 3233, 3235, 3237, 3239, 3241, 3243, 3245, 3247, 3251, 3253, 3257, 3259, 3261, 3264, 3273, 3276, 3285, 3287, 3289, 3291, 3293, 3297, 3300, 3302, 3306, 3308, 3310, 3312, 3318, 3320, 3322, 3332, 3335, 3360, 3371, 3384, 3395, 3416, 3433, 3438, 3467, 3478, 3487, 3490, 3492, 3510, 3513, 3523, 3535, 3543, 3547, 3551, 3555, 3564, 3577, 3582, 3584, 3602, 3614, 3624, 3645, 3673, 3680, 3682, 3684, 3687, 3699, 3715, 3719, 3721, 3723, 3726, 3731, 3733, 3735, 3743, 3745, 3747, 3751, 3753, 3758, 3760, 3763, 3766, 3768, 3770, 3772, 3774, 3777, 3779, 3784, 3786, 3789, 3792, 3794, 3796, 3798, 3800, 3802, 3804, 3809, 3811, 3814, 3817, 3821, 3824, 3829, 3831, 3833, 3835, 3837, 3839, 3841, 3846, 3848, 3851, 3854, 3856, 3858, 3860, 3862, 3864, 3867, 3870, 3873, 3875, 3877, 3879, 3881, 3883, 3885, 3887, 3889, 3892, 3894, 3897, 3899, 3902, 3904, 3906, 3908, 3912, 3914, 3916, 3918, 3920, 3923, 3925, 3927, 3930, 3932, 3936, 3941, 3944, 3949, 3951, 3955, 3957, 3962, 3964, 3967, 3969, 3971, 3974, 3976, 3979, 3981, 3984, 3988, 3990, 3992, 3995, 3997, 4021, 4023, 4025, 4027, 4029, 4031, 4033, 4036, 4038, 4040, 4042, 4044, 4047, 4049, 4051, 4053, 4055, 4057, 4059, 4061, 4065, 4067, 4071, 4073, 4076, 4078, 4080, 4085, 4087, 4089, 4091, 4098, 4101, 4103, 4106, 4113, 4121, 4131, 4134, 4149, 4152, 4154, 4163, 4167, 4177, 4179, 4196, 4198, 4200, 4222, 4224, 4226, 4230, 4235, 4237, 4240, 4242, 4253, 4273, 4282, 4291, 4298, 4300, 4303, 4319, 4328, 4331, 4333, 4335, 4337, 4340, 4346, 4352, 4357, 4363, 4365, 4369, 4371, 4373, 4379, 4387, 4403, 4410, 4415, 4422, 4428, 4444, 4449, 4473, 4477, 4480, 4497, 4499, 4505, 4507, 4510, 4512, 4518, 4520, 4523, 4525, 4527, 4529, 4531, 4561, 4563, 4566, 4568, 4571, 4573, 4576, 4579, 4581, 4583, 4585, 4587, 4589, 4591, 4594, 4596, 4598, 4600, 4602, 4605, 4607, 4612, 4614, 4616, 4619, 4621, 4623, 4627, 4629, 4631, 4633, 4635, 4637, 4640, 4642, 4645, 4649, 4652, 4654, 4657, 4660, 4662, 4666, 4670, 4672, 4675, 4679, 4682, 4684, 4687, 4690, 4693, 4700, 4708, 4711, 4716, 4719, 4721, 4723, 4725, 4751, 4778, 4807, 4826, 4844, 4860, 4878, 4902, 4905, 4917, 4930, 4948, 4964, 4974, 4976, 5000, 5017, 5030, 5037, 5039, 5041, 5049, 5052, 5066, 5072, 5079, 5095, 5116, 5118, 5120, 5122, 5127, 5133, 5139, 5142, 5148, 5150, 5155, 5159, 5161, 5163, 5165, 5177, 5184, 5193, 5195, 5205, 5216, 5223, 5225, 5228, 5230, 5234, 5239, 5259, 5261, 5264, 5266, 5274, 5279, 5281, 5284, 5293, 5302, 5308, 5310, 5317, 5329, 5331, 5333, 5335, 5368, 5382, 5387, 5389, 5391, 5394, 5402, 5404, 5418, 5427, 5430, 5436, 5440, 5442, 5445, 5447, 5450, 5453, 5462, 5470, 5479, 5481, 5497, 5499, 5515, 5517, 5531, 5545, 5551, 5560, 5568, 5570, 5583, 5609, 5625, 5632, 5637, 5639, 5643, 5650, 5663, 5668, 5670, 5680, 5686, 5694, 5716, 5730, 5743, 5749, 5757, 5762, 5765, 5769, 5778, 5784, 5792, 5807, 5814, 5832, 5840, 5851, 5858, 5864, 5871, 5880, 5887, 5897, 5902, 5914, 5916, 5918, 5926, 5934, 5954, 5960, 5962, 5971, 5973, 5979, 5990, 5995, 6000, 6007, 6013, 6021, 6027, 6038, 6040, 6046, 6056, 6062, 6065, 6068, 6073, 6083, 6092, 6100, 6118, 6121, 6123, 6152, 6160, 6211, 6230, 6246, 6259, 6270, 6287, 6296, 6311, 6334, 6336, 6339, 6346, 6350, 6375, 6377, 6383, 6396, 6417, 6442, 6448, 6462, 6471, 6481, 6483, 6487, 6500, 6514, 6521, 6529, 6539, 6541, 6543, 6545, 6558, 6561, 6571, 6573, 6575, 6577, 6584, 6588, 6590, 6593, 6596, 6598, 6601, 6604, 6607, 6609, 6614, 6616, 6634, 6638, 6651, 6660, 6662, 6666, 6668, 6687, 6690, 6692, 6711, 6714, 6716, 6718, 6732, 6734, 6739, 6742, 6754, 6760, 6762, 6768, 6770, 6772, 6786, 6789, 6791, 6793, 6795, 6799, 6810, 6812, 6814, 6816, 6822, 6824, 6826, 6828, 6858, 6864, 6897, 6899, 6901, 6918, 6922, 6940, 6957, 6970, 6986, 7007, 7021, 7023, 7031, 7034, 7048, 7054, 7072, 7085, 7091, 7095, 7111, 7114, 7129, 7131, 7149, 7164, 7170, 7179, 7189, 7199, 7204, 7233, 7256, 7271, 7284, 7301, 7318, 7338, 7345, 7355, 7359, 7376, 7393, 7396, 7400, 7413, 7415, 7421, 7423, 7426, 7434, 7436, 7438, 7450, 7457, 7468, 7477, 7482, 7491, 7504, 7517, 7519, 7522, 7524, 7538, 7546, 7559, 7571, 7593, 7598, 7623, 7635, 7656, 7662, 7673, 7675, 7684, 7689, 7698, 7712, 7723, 7725, 7730, 7736, 7753, 7755, 7774, 7787, 7790, 7794, 7803, 7818, 7834, 7858, 7860, 7875, 7893, 7907, 7924, 7937, 7942, 7951, 7953, 7956, 7969, 7971, 7995, 8011, 8019, 8023, 8028, 8032, 8039, 8051, 8053, 8056, 8058, 8078, 8093, 8108, 8122, 8126, 8128, 8142, 8161, 8185, 8197, 8219, 8233, 8235, 8237, 8239, 8248, 8254, 8256, 8258, 8261, 8268, 8270, 8280, 8291, 8310, 8312, 8317, 8321, 8333, 8335, 8340, 8343, 8346, 8351, 8353, 8357, 8360, 8366, 8368, 8370, 8380, 8385, 8400, 8403, 8405, 8408, 8411, 8413, 8416, 8418, 8420, 8422, 8426, 8429, 8433, 8435, 8439, 8441, 8443, 8446, 8448, 8453, 8455, 8459, 8463, 8465, 8468, 8471, 8483, 8487, 8489, 8491, 8493, 8495, 8497, 8499, 8501, 8503, 8505, 8507, 8510, 8516, 8520, 8522, 8524, 8526, 8528, 8530, 8532, 8534, 8540, 8542, 8545, 8547, 8549, 8551, 8553, 8555, 8563, 8567, 8569, 8571, 8573, 8575, 8577, 8579, 8583, 8586, 8588, 8592, 8594, 8596, 8599, 8601, 8603, 8605, 8607, 8609, 8614, 8617, 8621, 8623, 8625, 8627, 8629, 8636, 8640, 8642, 8644, 8646, 8648, 8652, 8662, 8666, 8668, 8670, 8672, 8674, 8678, 8684, 8686, 8690, 8692, 8694, 8696, 8698, 8700, 8702, 8704, 8706, 8713, 8716, 8721, 8723, 8725, 8727, 8730, 8732, 8746, 8757, 8759, 8761, 8763, 8766, 8769, 8771, 8777, 8781, 8783, 8785, 8787, 8789, 8793, 8799, 8801, 8805, 8807, 8809, 8811, 8813, 8817, 8823, 8827, 8829, 8831, 8833, 8835, 8839, 8842, 8846, 8848, 8850, 8852, 8854, 8857, 8866, 8870, 8872, 8874, 8876, 8878, 8881, 8893, 8895, 8898, 8900, 8902, 8904, 8906, 8908, 8915, 8917, 8919, 8921, 8923, 8925, 8928, 8930, 8934, 8936, 8938, 8940, 8944, 8946, 8948, 8960, 8970, 8974, 8979, 8989, 8994, 8996, 9012, 9014, 9016, 9030, 9049, 9060, 9082, 9089, 9098, 9100, 9106, 9108, 9111, 9123, 9134, 9136, 9138, 9147, 9150, 9175, 9192, 9199, 9206, 9208, 9217, 9234, 9242, 9252, 9264, 9283, 9285, 9288, 9290, 9292, 9294, 9297, 9299, 9303, 9318, 9321, 9324, 9326, 9328, 9331, 9333, 9336, 9339, 9341, 9345, 9347, 9349, 9351, 9353, 9359, 9361, 9363, 9366, 9368, 9372, 9375, 9377, 9383, 9385, 9387, 9389, 9391, 9394, 9396, 9401, 9407, 9409, 9411, 9413, 9415, 9418, 9420, 9422, 9424, 9427, 9429, 9435, 9447, 9450, 9463, 9475, 9484, 9486, 9499, 9502, 9504, 9506, 9508, 9510, 9512, 9514, 9517, 9519, 9521, 9523, 9525, 9528, 9530, 9532, 9534, 9536, 9540, 9542, 9544, 9549, 9551, 9554, 9556, 9558, 9560, 9562, 9565, 9567, 9574, 9588, 9597, 9606, 9614, 9619, 9635, 9652, 9659, 9664, 9668, 9677, 9685, 9697, 9708, 9716, 9735, 9754, 9774, 9776, 9778, 9780, 9797, 9801, 9806, 9821, 9823, 9825, 9836, 9851, 9854, 9861, 9874, 9894, 9910, 9915, 9925, 9937, 9943, 9958, 9992, 10014, 10016, 10023, 10046, 10060, 10066, 10072, 10082, 10086, 10092, 10102, 10108, 10115, 10124, 10147, 10155, 10163, 10170, 10172, 10174, 10176, 10179, 10181, 10183, 10185, 10187, 10189, 10193, 10204, 10206, 10208, 10210, 10218, 10221, 10227, 10230, 10235, 10237, 10243, 10245, 10247, 10250, 10254, 10260, 10262, 10266, 10268, 10270, 10272, 10274, 10276, 10284, 10301, 10310, 10323, 10330, 10332, 10334, 10345, 10349, 10356, 10358, 10364, 10374, 10384, 10395, 10406, 10418, 10424, 10427, 10441, 10457, 10470, 10485, 10491, 10495, 10500, 10502, 10507, 10513, 10515, 10521, 10523, 10525, 10531, 10533, 10539, 10541, 10543, 10547, 10549, 10551, 10555, 10557, 10559, 10561, 10563, 10565, 10572, 10576, 10579, 10581, 10583, 10585, 10589, 10597, 10604, 10607, 10611, 10613, 10617, 10619, 10621, 10623, 10628, 10630, 10640, 10642, 10647, 10655, 10669, 10676, 10691, 10702, 10710, 10726, 10733, 10745, 10774, 10779, 10807, 10822, 10840, 10862, 10881, 10890, 10918, 10926, 10939, 10948, 10971, 10993, 11004, 11028, 11033, 11035, 11037, 11041, 11048, 11062, 11074, 11085, 11090, 11107, 11110, 11133, 11140, 11161, 11164, 11166, 11173, 11176, 11178, 11180, 11183, 11185, 11188, 11196, 11212, 11217, 11220, 11227, 11238, 11249, 11251, 11259, 11261, 11265, 11267, 11272, 11274, 11279, 11287, 11291, 11300, 11303, 11305, 11311, 11313, 11315, 11321, 11329, 11334, 11339, 11341, 11349, 11354, 11356, 11358, 11361, 11363, 11365, 11368, 11370, 11373, 11381, 11399, 11429, 11442, 11458, 11468, 11477, 11486, 11493, 11499, 11510, 11524, 11526, 11529, 11533, 11539, 11548, 11555, 11557, 11565, 11571, 11576, 11580, 11582, 11593, 11599, 11606, 11614, 11620, 11627, 11636, 11641, 11647, 11651, 11653, 11658, 11667, 11673, 11677, 11688, 11695, 11700, 11708, 11711, 11719, 11722, 11741, 11751, 11775, 11779, 11783, 11791, 11793, 11795, 11799, 11819, 11837, 11840, 11844, 11866, 11871, 11878, 11881, 11888, 11900, 11903, 11910, 11915, 11917, 11919, 11921, 11925, 11936, 11940, 11943, 11950, 11955, 11957, 11961, 11963, 11965, 11967, 11969, 11973, 11975, 11980, 11982, 11984, 11986, 11988, 11994, 11998, 12000, 12002, 12004, 12006, 12010, 12012, 12016, 12018, 12020, 12022, 12024, 12028, 12030, 12035, 12039, 12041, 12043, 12045, 12047, 12051, 12053, 12058, 12063, 12065, 12067, 12069, 12071, 12075, 12080, 12087, 12089, 12093, 12095, 12097, 12099, 12101, 12103, 12105, 12107, 12109, 12111, 12113, 12116, 12121, 12125, 12127, 12129, 12131, 12133, 12137, 12142, 12146, 12148, 12150, 12152, 12154, 12158, 12160, 12165, 12167, 12169, 12171, 12174, 12177, 12188, 12192, 12194, 12196, 12198, 12200, 12202, 12204, 12206, 12208, 12213, 12223, 12227, 12229, 12231, 12233, 12235, 12237, 12241, 12243, 12246, 12248, 12252, 12254, 12256, 12258, 12260, 12266, 12269, 12271, 12276, 12278, 12282, 12287, 12308, 12310, 12316, 12318, 12320, 12322, 12324, 12327, 12336, 12338, 12340, 12342, 12344, 12348, 12359, 12361, 12363, 12365, 12367, 12371, 12381, 12383, 12385, 12387, 12389, 12393, 12402, 12404, 12406, 12408, 12410, 12414, 12420, 12422, 12424, 12426, 12428, 12430, 12432, 12434, 12436, 12438, 12440, 12450, 12452, 12454, 12456, 12458, 12468, 12470, 12472, 12474, 12476, 12479, 12489, 12491, 12496, 12502, 12505, 12511, 12513, 12515, 12517, 12519, 12522, 12532, 12534, 12536, 12538, 12540, 12544, 12549, 12552, 12558, 12560, 12562, 12564, 12566, 12575, 12578, 12584, 12586, 12588, 12590, 12592, 12594, 12596, 12598, 12600, 12603, 12608, 12610, 12612, 12615, 12621, 12623, 12625, 12627, 12629, 12632, 12641, 12644, 12650, 12652, 12654, 12656, 12658, 12662, 12667, 12670, 12679, 12681, 12683, 12685, 12688, 12693, 12696, 12699, 12701, 12703, 12706, 12711, 12716, 12718, 12729, 12731, 12733, 12735, 12737, 12739, 12743, 12745, 12747, 12771, 12785, 12787, 12789, 12791, 12793, 12797, 12800, 12802, 12806, 12808, 12810, 12812, 12814, 12816, 12818, 12823, 12825, 12827, 12829, 12868, 12877, 12880, 12903, 12905, 12907, 12909, 12911, 12914, 12916, 12921, 12923, 12926, 12928, 12931, 12933, 12937, 12939, 12942, 12944, 12948, 12953, 12955, 12957, 12959, 12961, 12964, 12966, 12971, 12973, 12976, 12979, 12981, 12983, 12986, 12988, 12992, 12996, 12998, 13001, 13004, 13006, 13008, 13010, 13012, 13015, 13017, 13022, 13024, 13027, 13030, 13033, 13035, 13037, 13039, 13041, 13043, 13045, 13048, 13050, 13052, 13054, 13056, 13059, 13061, 13063, 13065, 13067, 13069, 13071, 13073, 13075, 13077, 13081, 13083, 13085, 13088, 13090, 13093, 13095, 13097, 13104, 13106, 13109, 13111, 13122, 13139, 13149, 13152, 13164, 13173, 13186, 13197, 13199, 13201, 13203, 13205, 13209, 13211, 13214, 13220, 13225, 13233, 13236, 13240, 13246, 13248, 13250, 13256, 13261, 13263, 13266, 13268, 13270, 13288, 13290, 13294, 13296, 13307, 13309, 13317, 13319, 13321, 13330, 13341, 13347, 13349, 13352, 13354, 13357, 13365, 13375, 13402, 13409, 13419, 13421, 13424, 13446, 13453, 13461, 13469, 13479, 13482, 13497, 13499, 13501, 13503, 13510, 13515, 13517, 13532, 13534, 13554, 13556, 13566, 13574, 13581, 13594, 13596, 13605, 13611, 13619, 13622, 13632, 13641, 13667, 13669, 13683, 13697, 13724, 13726, 13754, 13764, 13778, 13814, 13827, 13844, 13846, 13859, 13876, 13889, 13891, 13898, 13900, 13903, 13923, 13939, 13957, 13975, 13987, 13989, 13992, 13994, 13996, 14001, 14003, 14007, 14009, 14011, 14016, 14018, 14023, 14025, 14028, 14030, 14037, 14039, 14046, 14053, 14056, 14064, 14066, 14068, 14070, 14081, 14084, 14090, 14092, 14094, 14096, 14098, 14104, 14109, 14113, 14116, 14118, 14121, 14123, 14125, 14127, 14129, 14131, 14133, 14135, 14139, 14142, 14144, 14146, 14148, 14150, 14154, 14157, 14159, 14163, 14165, 14167, 14169, 14171, 14173, 14175, 14177, 14189, 14191, 14198, 14208, 14218, 14231, 14244, 14260, 14275, 14291, 14307, 14328, 14339, 14344, 14346, 14359, 14375, 14384, 14403, 14413, 14418, 14426, 14440, 14443, 14445, 14447, 14450, 14460, 14487, 14489, 14491, 14493, 14495, 14497, 14499, 14501, 14504, 14506, 14511, 14513, 14516, 14519, 14521, 14523, 14525, 14527, 14529, 14531, 14536, 14538, 14541, 14544, 14550, 14555, 14557, 14559, 14562, 14565, 14567, 14569, 14571, 14573, 14575, 14577, 14580, 14582, 14584, 14586, 14588, 14591, 14593, 14595, 14597, 14601, 14603, 14606, 14608, 14611, 14613, 14616, 14619, 14621, 14624, 14637, 14646, 14657, 14659, 14692, 14706, 14723, 14725, 14727, 14732, 14737, 14748, 14761, 14766, 14773, 14776, 14778, 14783, 14804, 14813, 14815, 14820, 14839, 14841, 14846, 14849, 14851, 14855, 14858, 14868, 14872, 14875, 14886, 14890, 14899, 14901, 14915, 14928, 14930, 14932, 14935, 14937, 14939, 14941, 14947, 14949, 14951, 14953, 14959, 14961, 14966, 14971, 14974, 14992, 14994, 14996, 15002, 15004, 15008, 15010, 15017, 15020, 15038, 15048, 15066, 15074, 15082, 15088, 15102, 15113, 15118, 15120, 15122, 15132, 15136, 15139, 15141, 15143, 15146, 15151, 15155, 15165, 15175, 15179, 15190, 15198, 15206, 15211, 15215, 15219, 15221, 15223, 15226, 15228, 15232, 15236, 15238, 15240, 15243, 15245, 15247, 15249, 15252, 15255, 15264, 15272, 15284, 15305, 15314, 15316, 15318, 15330, 15337, 15346, 15358, 15377, 15394, 15409, 15420, 15423, 15430, 15437, 15448, 15450, 15458, 15465, 15473, 15486, 15491, 15502, 15508, 15516, 15523, 15525, 15531, 15539, 15545, 15550, 15563, 15569, 15571, 15587, 15608, 15621, 15644, 15653, 15670, 15674, 15679, 15684, 15687, 15705, 15716, 15743, 15750, 15767, 15786, 15814, 15830, 15838, 15853, 15859, 15862, 15864, 15866, 15880, 15887, 15896, 15901, 15904, 15910, 15918, 15921, 15924, 15927, 15930, 15937, 15940, 15951, 15954, 15956, 15958, 15967, 15986, 15988, 15990, 16001, 16017, 16037, 16047, 16052, 16064, 16087, 16090, 16111, 16116, 16124, 16129, 16134, 16157, 16176, 16178, 16192, 16207, 16230, 16244, 16264, 16270, 16278, 16280, 16287, 16335, 16363, 16366, 16374, 16376, 16382, 16384, 16386, 16388, 16392, 16396, 16421, 16424, 16433, 16445, 16454, 16466, 16483, 16485, 16501, 16525, 16528, 16532, 16536, 16538, 16553, 16555, 16558, 16560, 16562, 16564, 16567, 16569, 16574, 16576, 16578, 16581, 16583, 16586, 16590, 16592, 16594, 16605, 16608, 16610, 16612, 16615, 16617, 16619, 16623, 16625, 16635, 16637, 16640, 16642, 16644, 16646, 16648, 16661, 16663, 16666, 16668, 16670, 16672, 16676, 16678, 16680, 16683, 16685, 16687, 16689, 16692, 16694, 16696, 16698, 16701, 16705, 16707, 16709, 16711, 16713, 16715, 16717, 16721, 16724, 16726, 16730, 16732, 16734, 16736, 16738, 16741, 16750, 16752, 16757, 16759, 16764, 16774, 16778, 16780, 16782, 16784, 16786, 16790, 16800, 16804, 16806, 16808, 16810, 16812, 16815, 16819, 16825, 16829, 16832, 16834, 16838, 16841, 16843, 16846, 16848, 16850, 16852, 16854, 16856, 16860, 16868, 16872, 16874, 16877, 16880, 16891, 16893, 16895, 16899, 16901, 16903, 16905, 16907, 16914, 16916, 16918, 16922, 16924, 16926, 16928, 16930, 16937, 16939, 16943, 16945, 16947, 16949, 16951, 16957, 16959, 16961, 16963, 16965, 16967, 16972, 16974, 16977, 16979, 16981, 16983, 16985, 16987, 16990, 16996, 16999, 17006, 17008, 17022, 17035, 17037, 17039, 17042, 17044, 17046, 17048, 17054, 17056, 17058, 17060, 17068, 17070, 17072, 17086, 17097, 17103, 17123, 17135, 17172, 17179, 17199, 17212, 17235, 17244, 17253, 17269, 17285, 17287, 17289, 17294, 17296, 17301, 17310, 17312, 17316, 17318, 17320, 17328, 17330, 17349, 17351, 17354, 17370, 17424, 17426, 17428, 17430, 17433, 17435, 17440, 17442, 17444, 17446, 17448, 17450, 17455, 17457, 17460, 17463, 17465, 17467, 17469, 17471, 17473, 17475, 17478, 17480, 17482, 17484, 17486, 17489, 17491, 17493, 17495, 17497, 17499, 17501, 17503, 17505, 17509, 17511, 17517, 17519, 17522, 17524, 17528, 17531, 17533, 17579, 17606, 17622, 17638, 17640, 17654, 17660, 17676, 17692, 17699, 17709, 17717, 17735, 17744, 17751, 17753, 17755, 17758, 17763, 17765, 17768, 17770, 17772, 17774, 17780, 17802, 17804, 17806, 17819, 17821, 17826, 17828, 17835, 17844, 17853, 17859, 17861, 17867, 17869, 17878, 17890, 17902, 17912, 17921, 17945, 17959, 17990, 17998, 18000, 18008, 18018, 18020, 18024, 18030, 18032, 18038, 18040, 18042, 18046, 18048, 18050, 18052, 18054, 18056, 18063, 18067, 18070, 18072, 18074, 18076, 18080, 18090, 18094, 18096, 18098, 18100, 18105, 18107, 18111, 18113, 18116, 18122, 18124, 18130, 18132, 18134, 18141, 18145, 18148, 18150, 18152, 18154, 18158, 18166, 18170, 18172, 18174, 18176, 18178, 18181, 18187, 18192, 18198, 18203, 18209, 18214, 18216, 18221, 18226, 18230, 18232, 18236, 18240, 18244, 18247, 18249, 18252, 18256, 18278, 18284, 18289, 18294, 18312, 18314, 18326, 18339, 18347, 18371, 18380, 18402, 18406, 18427, 18438, 18464, 18481, 18491, 18503, 18520, 18535, 18541, 18549, 18557, 18559, 18562, 18565, 18578, 18588, 18596, 18613, 18622, 18624, 18628, 18638, 18641, 18643, 18645, 18647, 18655, 18670, 18681, 18688, 18698, 18705, 18711, 18722, 18729, 18738, 18744, 18748, 18750, 18753, 18756, 18771, 18778, 18786, 18792, 18800, 18802, 18804, 18806, 18808, 18810, 18813, 18819, 18836, 18844, 18857, 18859, 18878, 18897, 18909, 18932, 18934, 18945, 18963, 18985, 19000, 19022, 19030, 19046, 19048, 19050, 19096, 19124, 19127, 19129, 19147, 19172, 19196, 19214, 19231, 19233, 19250, 19261, 19268, 19277, 19290, 19300, 19320, 19327, 19338, 19360, 19369, 19375, 19378, 19380, 19388, 19390, 19392, 19394, 19397, 19399, 19411, 19430, 19438, 19440, 19443, 19453, 19455, 19457, 19466, 19482, 19501, 19510, 19526, 19529, 19549, 19552, 19554, 19560, 19562, 19564, 19566, 19568, 19579, 19581, 19585, 19587, 19589, 19591, 19593, 19603, 19605, 19607, 19609, 19611, 19615, 19622, 19625, 19627, 19629, 19631, 19633, 19636, 19639, 19642, 19649, 19651, 19653, 19655, 19657, 19667, 19669, 19671, 19673, 19675, 19685, 19689, 19691, 19693, 19695, 19697, 19699, 19703, 19706, 19708, 19712, 19714, 19716, 19718, 19720, 19722, 19724, 19726, 19728, 19730, 19734, 19744, 19747, 19766, 19782, 19792, 19795, 19813, 19822, 19824, 19826, 19828, 19830, 19833, 19835, 19839, 19841, 19843, 19846, 19849, 19851, 19853, 19856, 19859, 19861, 19864, 19866, 19868, 19871, 19873, 19875, 19878, 19881, 19884, 19889, 19891, 19894, 19897, 19899, 19901, 19904, 19907, 19909, 19911, 19913, 19916, 19919, 19921, 19923, 19925, 19927, 19929, 19931, 19937, 19942, 19945, 19954, 19966, 19980, 19982, 19985, 19987, 19990, 19993, 19996, 19999, 20002, 20004, 20006, 20008, 20010, 20012, 20014, 20017, 20019, 20021, 20023, 20025, 20028, 20030, 20032, 20034, 20038, 20040, 20044, 20048, 20050, 20053, 20055, 20057, 20060, 20064, 20101, 20108, 20110, 20112, 20114, 20116, 20126, 20128, 20132, 20136, 20139, 20141, 20148, 20150, 20172, 20186, 20201, 20209, 20211, 20213, 20215, 20217, 20219, 20221, 20223, 20226, 20228, 20230, 20232, 20234, 20236, 20238, 20240, 20242, 20247, 20253, 20255, 20257, 20259, 20261, 20286, 20288, 20290, 20296, 20298, 20300, 20303, 20306, 20309, 20311, 20314, 20318, 20320, 20322, 20334, 20336, 20338, 20341, 20343, 20345, 20347, 20349, 20353, 20355, 20357, 20360, 20362, 20365, 20367, 20369, 20379, 20381, 20384, 20388, 20390, 20395, 20400, 20404, 20406, 20410, 20412, 20421, 20423, 20425, 20430, 20432, 20434, 20437, 20442, 20444, 20447, 20449, 20451, 20455, 20457, 20460, 20462, 20465, 20469, 20471, 20473, 20475, 20477, 20479, 20481, 20485, 20487, 20498, 20505, 20519, 20524, 20527, 20535, 20541, 20549, 20554, 20556, 20558, 20560, 20563, 20565, 20572, 20592, 20603, 20605, 20613, 20624, 20634, 20645, 20652, 20659, 20669, 20677, 20687, 20691, 20697, 20705, 20711, 20722, 20733, 20736, 20747, 20771, 20777, 20787, 20791, 20793, 20799, 20801, 20803, 20807, 20809, 20815, 20817, 20819, 20821, 20824, 20826, 20828, 20830, 20833, 20836, 20838, 20840, 20842, 20846, 20848, 20850, 20852, 20854, 20856, 20866, 20879, 20914, 20929, 20944, 20956, 20961, 20966, 20975, 20985, 21001, 21025, 21033, 21035, 21047, 21050, 21053, 21055, 21058, 21060, 21062, 21066, 21068, 21077, 21079, 21082, 21084, 21086, 21090, 21092, 21103, 21105, 21108, 21110, 21112, 21116, 21118, 21126, 21128, 21131, 21133, 21135, 21139, 21141, 21149, 21151, 21154, 21156, 21158, 21162, 21164, 21175, 21177, 21180, 21182, 21184, 21188, 21190, 21201, 21203, 21206, 21208, 21210, 21214, 21216, 21225, 21227, 21234, 21236, 21239, 21241, 21243, 21247, 21249, 21251, 21253, 21255, 21266, 21269, 21271, 21276, 21295, 21297, 21300, 21302, 21304, 21306, 21308, 21316, 21318, 21321, 21323, 21325, 21329, 21331, 21340, 21342, 21344, 21346, 21348, 21350, 21356, 21358, 21360, 21362, 21364, 21368, 21377, 21379, 21381, 21383, 21385, 21389, 21395, 21397, 21399, 21401, 21403, 21407, 21414, 21416, 21418, 21420, 21422, 21426, 21432, 21434, 21436, 21438, 21440, 21444, 21450, 21452, 21454, 21456, 21458, 21462, 21466, 21468, 21470, 21472, 21474, 21478, 21485, 21487, 21489, 21491, 21493, 21497, 21504, 21506, 21508, 21510, 21512, 21516, 21525, 21527, 21529, 21531, 21533, 21535, 21537, 21539, 21541, 21543, 21545, 21549, 21555, 21557, 21559, 21563, 21565, 21567, 21569, 21571, 21573, 21581, 21583, 21585, 21587, 21591, 21598, 21600, 21602, 21604, 21606, 21610, 21619, 21621, 21624, 21634, 21637, 21643, 21645, 21647, 21649, 21651, 21660, 21663, 21670, 21672, 21674, 21676, 21678, 21680, 21682, 21684, 21686, 21695, 21697, 21699, 21702, 21708, 21710, 21712, 21714, 21716, 21719, 21728, 21730, 21732, 21734, 21736, 21738, 21740, 21743, 21747, 21749, 21751, 21753, 21755, 21757, 21759, 21762, 21764, 21766, 21768, 21770, 21772, 21774, 21776, 21778, 21783, 21789, 21791, 21793, 21795, 21797, 21822, 21824, 21826, 21832, 21834, 21836, 21842, 21846, 21853, 21855, 21857, 21865, 21867, 21869, 21889, 21899, 21922, 21949, 21959, 21967, 21969, 21972, 21983, 21985, 21988, 21999, 22001, 22003, 22011, 22013, 22016, 22018, 22020, 22022, 22024, 22030, 22032, 22035, 22038, 22040, 22044, 22046, 22048, 22051, 22055, 22057, 22059, 22061, 22063, 22065, 22067, 22071, 22073, 22076, 22078, 22080, 22083, 22086, 22088, 22092, 22094, 22096, 22099, 22103, 22105, 22107, 22109, 22111, 22113, 22115, 22119, 22123, 22130, 22132, 22134, 22136, 22138, 22141, 22143, 22146, 22148, 22150, 22154, 22157, 22168, 22170, 22173, 22184, 22187, 22189, 22191, 22193, 22195, 22197, 22199, 22202, 22204, 22206, 22208, 22210, 22213, 22215, 22217, 22219, 22221, 22223, 22227, 22229, 22232, 22234, 22237, 22239, 22241, 22243, 22245, 22247, 22250, 22253, 22256, 22258, 22260, 22262, 22265, 22293, 22295, 22297, 22305, 22319, 22322, 22346, 22361, 22364, 22375, 22386, 22398, 22425, 22441, 22456, 22459, 22468, 22486, 22491, 22493, 22495, 22503, 22505, 22507, 22518, 22520, 22524, 22529, 22531, 22537, 22540, 22544, 22547, 22554, 22584, 22586, 22588, 22592, 22602, 22609, 22618, 22620, 22623, 22630, 22633, 22637, 22645, 22647, 22649, 22652, 22654, 22658, 22662, 22665, 22667, 22669, 22673, 22675, 22679, 22684, 22686, 22689, 22698, 22703, 22705, 22707, 22711, 22716, 22720, 22725, 22727, 22734, 22736, 22742, 22744, 22752, 22755, 22761, 22763, 22765, 22767, 22771, 22784, 22791, 22800, 22807, 22810, 22819, 22825, 22827, 22831, 22833, 22835, 22838, 22845, 22850, 22852, 22858, 22863, 22867, 22870, 22874, 22876, 22886, 22888, 22890, 22892, 22894, 22896, 22898, 22905, 22912, 22916, 22921, 22924, 22934, 22937, 22943, 22945, 22949, 22955, 22966, 22971, 22983, 22989, 22991, 22997, 22999, 23001, 23005, 23007, 23009, 23011, 23013, 23015, 23019, 23022, 23024, 23026, 23028, 23034, 23036, 23039, 23064, 23066, 23068, 23083, 23103, 23139, 23148, 23164, 23170, 23177, 23179, 23183, 23194, 23205, 23207, 23218, 23220, 23224, 23249, 23273, 23275, 23277, 23279, 23284, 23317, 23335, 23349, 23354, 23374, 23376, 23386, 23395, 23400, 23413, 23429, 23463, 23472, 23480, 23497, 23507, 23524, 23531, 23533, 23536, 23540, 23542, 23548, 23550, 23552, 23554, 23556, 23560, 23565, 23568, 23574, 23576, 23578, 23580, 23582, 23588, 23591, 23597, 23599, 23601, 23603, 23605, 23608, 23621, 23623, 23625, 23627, 23629, 23633, 23638, 23641, 23648, 23650, 23652, 23654, 23656, 23660, 23665, 23668, 23674, 23676, 23678, 23680, 23682, 23685, 23694, 23697, 23703, 23705, 23708, 23711, 23720, 23723, 23730, 23732, 23734, 23736, 23738, 23741, 23754, 23756, 23759, 23762, 23771, 23774, 23780, 23782, 23784, 23786, 23788, 23791, 23793, 23797, 23800, 23806, 23808, 23810, 23812, 23814, 23817, 23819, 23823, 23826, 23832, 23834, 23836, 23838, 23840, 23843, 23845, 23849, 23852, 23858, 23860, 23862, 23864, 23866, 23869, 23871, 23875, 23878, 23881, 23885, 23887, 23889, 23891, 23893, 23902, 23904, 23906, 23908, 23910, 23912, 23914, 23916, 23918, 23920, 23922, 23924, 23926, 23928, 23930, 23934, 23937, 23939, 23943, 23945, 23947, 23949, 23951, 23953, 23955, 23957, 23970, 23977, 23990, 24004, 24021, 24036, 24051, 24064, 24066, 24073, 24087, 24089, 24091, 24094, 24097, 24099, 24106, 24108, 24117, 24138, 24140, 24143, 24152, 24167, 24183, 24207, 24214, 24222, 24230, 24244, 24261, 24269, 24271, 24273, 24275, 24282, 24284, 24287, 24290, 24292, 24294, 24296, 24298, 24301, 24307, 24309, 24311, 24315, 24320, 24322, 24324, 24327, 24329, 24332, 24337, 24339, 24342, 24356, 24366, 24369, 24371, 24373, 24375, 24377, 24379, 24381, 24387, 24412, 24418, 24430, 24433, 24435, 24445, 24460, 24466, 24470, 24473, 24481, 24492, 24495, 24498, 24503, 24508, 24511, 24520, 24526, 24529, 24536, 24540, 24553, 24557, 24560, 24564, 24568, 24573, 24577, 24579, 24582, 24586, 24596, 24600, 24602, 24612, 24625, 24628, 24632, 24641, 24645, 24651, 24653, 24656, 24665, 24670, 24674, 24683, 24701, 24721, 24730, 24741, 24749, 24758, 24764, 24769, 24778, 24800, 24814, 24826, 24834, 24846, 24869, 24881, 24900, 24907, 24923, 24927, 24932, 24940, 24949, 24957, 24964, 24970, 24974, 24978, 24980, 24984, 24987, 24990, 24992, 24994, 24999, 25001, 25004, 25006, 25010, 25012, 25015, 25017, 25019, 25021, 25023, 25025, 25027, 25030, 25032, 25034, 25036, 25038, 25041, 25043, 25045, 25047, 25051, 25053, 25055, 25057, 25059, 25062, 25064, 25067, 25070, 25072, 25088, 25095, 25099, 25103, 25130, 25133, 25145, 25151, 25153, 25156, 25161, 25165, 25170, 25181, 25198, 25208, 25228, 25230, 25238, 25247, 25252, 25259, 25277, 25287, 25297, 25299, 25301, 25311, 25316, 25318, 25320, 25324, 25326, 25329, 25338, 25340, 25342, 25347, 25349, 25352, 25354, 25356, 25358, 25370, 25375, 25377, 25381, 25388, 25393, 25395, 25398, 25407, 25409, 25413, 25416, 25428, 25434, 25439, 25441, 25445, 25447, 25449, 25455, 25457, 25463, 25465, 25467, 25473, 25475, 25481, 25483, 25485, 25491, 25493, 25499, 25501, 25503, 25509, 25511, 25517, 25519, 25521, 25527, 25529, 25535, 25537, 25539, 25545, 25547, 25553, 25555, 25557, 25561, 25563, 25565, 25567, 25569, 25571, 25573, 25575, 25577, 25579, 25583, 25585, 25587, 25591, 25593, 25595, 25599, 25601, 25603, 25607, 25609, 25611, 25618, 25622, 25624, 25626, 25633, 25637, 25640, 25642, 25644, 25651, 25655, 25657, 25661, 25664, 25666, 25668, 25670, 25674, 25678, 25681, 25683, 25685, 25687, 25691, 25695, 25698, 25700, 25702, 25704, 25708, 25717, 25721, 25723, 25725, 25727, 25731, 25733, 25735, 25737, 25741, 25743, 25745, 25747, 25751, 25753, 25755, 25757, 25759, 25763, 25765, 25769, 25771, 25775, 25777, 25781, 25783, 25792, 25795, 25804, 25807, 25816, 25819, 25824, 25826, 25828, 25830, 25833, 25839, 25844, 25849, 25851, 25853, 25855, 25858, 25864, 25869, 25874, 25876, 25878, 25880, 25883, 25889, 25894, 25903, 25906, 25910, 25912, 25914, 25916, 25918, 25921, 25925, 25927, 25931, 25933, 25937, 25939, 25943, 25945, 25949, 25951, 25955, 25957, 25961, 25964, 25966, 25968, 25972, 25974, 25976, 25980, 25982, 25984, 25988, 25990, 25992, 25997, 25999, 26001, 26003, 26008, 26011, 26025, 26030, 26034, 26043, 26060, 26068, 26090, 26106, 26115, 26120, 26128, 26137, 26141, 26153, 26155, 26158, 26170, 26173, 26175, 26179, 26181, 26183, 26185, 26187, 26189, 26191, 26193, 26196, 26198, 26200, 26202, 26204, 26206, 26208, 26210, 26213, 26216, 26218, 26221, 26224, 26227, 26230, 26232, 26234, 26236, 26238, 26240, 26242, 26245, 26247, 26249, 26251, 26253, 26256, 26258, 26260, 26262, 26264, 26266, 26268, 26270, 26272, 26274, 26276, 26278, 26280, 26282, 26286, 26288, 26290, 26293, 26295, 26300, 26307, 26309, 26312, 26314, 26316, 26320, 26322, 26327, 26329, 26332, 26334, 26337, 26359, 26361, 26363, 26366, 26370, 26377, 26380, 26397, 26399, 26402, 26404, 26407, 26409, 26413, 26417, 26419, 26421, 26423, 26425, 26429, 26432, 26435, 26437, 26452, 26454, 26461, 26463, 26466, 26468, 26470, 26472, 26474, 26477, 26482, 26484, 26490, 26492, 26496, 26498, 26501, 26503, 26506, 26508, 26511, 26513, 26516, 26519, 26524, 26526, 26540, 26542, 26556, 26572, 26575, 26577, 26579, 26581, 26584, 26586, 26590, 26611, 26614, 26616, 26620, 26629, 26636, 26652, 26654, 26659, 26662, 26664, 26669, 26672, 26674, 26677, 26697, 26699, 26702, 26704, 26708, 26719, 26721, 26724, 26729, 26731, 26734, 26739, 26741, 26744, 26757, 26763, 26765, 26771, 26773, 26775, 26781, 26783, 26789, 26791, 26793, 26799, 26801, 26807, 26809, 26811, 26817, 26819, 26825, 26827, 26829, 26833, 26835, 26837, 26839, 26841, 26843, 26847, 26849, 26851, 26855, 26857, 26859, 26863, 26865, 26867, 26874, 26878, 26880, 26882, 26889, 26893, 26896, 26898, 26900, 26902, 26906, 26910, 26913, 26915, 26917, 26919, 26923, 26927, 26930, 26932, 26934, 26936, 26940, 26945, 26949, 26951, 26953, 26955, 26959, 26961, 26963, 26965, 26969, 26971, 26973, 26975, 26980, 26982, 26984, 26986, 26993, 26995, 27003, 27010, 27013, 27019, 27021, 27025, 27027, 27030, 27042, 27049, 27052, 27059, 27062, 27070, 27088, 27101, 27103, 27119, 27143, 27158, 27160, 27171, 27191, 27193, 27208, 27219, 27223, 27225, 27230, 27237, 27239, 27250, 27257, 27263, 27266, 27275, 27291, 27296, 27312, 27327, 27336, 27349, 27359, 27366, 27377, 27386, 27392, 27417, 27429, 27431, 27434, 27447, 27461, 27472, 27474, 27477, 27480, 27483, 27485, 27491, 27496, 27501, 27507, 27513, 27518, 27520, 27524, 27526, 27528, 27535, 27537, 27539, 27541, 27543, 27547, 27556, 27558, 27560, 27562, 27564, 27567, 27578, 27580, 27582, 27584, 27586, 27590, 27599, 27601, 27603, 27605, 27607, 27611, 27619, 27621, 27623, 27625, 27629, 27639, 27643, 27645, 27647, 27649, 27651, 27658, 27661, 27674, 27678, 27680, 27683, 27690, 27692, 27694, 27696, 27698, 27709, 27715, 27717, 27719, 27721, 27723, 27732, 27734, 27736, 27738, 27740, 27750, 27752, 27755, 27761, 27763, 27765, 27767, 27769, 27771, 27776, 27783, 27785, 27787, 27789, 27791, 27795, 27798, 27800, 27804, 27806, 27808, 27810, 27812, 27814, 27844, 27865, 27876, 27888, 27899, 27923, 27947, 27963, 27971, 27990, 28012, 28039, 28055, 28080, 28084, 28088, 28090, 28108, 28110, 28122, 28142, 28144, 28164, 28173, 28175, 28178, 28189, 28191, 28193, 28205, 28213, 28215, 28218, 28224, 28228, 28230, 28233, 28240, 28245, 28247, 28249, 28252, 28258, 28263, 28265, 28268, 28270, 28273, 28276, 28279, 28282, 28285, 28287, 28289, 28291, 28293, 28295, 28297, 28300, 28302, 28304, 28306, 28308, 28311, 28313, 28315, 28317, 28319, 28321, 28325, 28327, 28334, 28336, 28339, 28341, 28343, 28346, 28349, 28352, 28354, 28357, 28382, 28390, 28393, 28415, 28424, 28439, 28448, 28463, 28466, 28478, 28486, 28498, 28508, 28523, 28536, 28547, 28577, 28595, 28597, 28599, 28614, 28619, 28621, 28623, 28629, 28635, 28642, 28650, 28652, 28654, 28656, 28658, 28660, 28669, 28676, 28680, 28686, 28688, 28690, 28692, 28701, 28704, 28713, 28734, 28744, 28755, 28772, 28782, 28784, 28786, 28788, 28790, 28793, 28811, 28828, 28853, 28862, 28871, 28876, 28878, 28880, 28898, 28912, 28921, 28930, 28932, 28947, 28962, 28977, 28989, 29004, 29011, 29015, 29017, 29022, 29030, 29048, 29052, 29067, 29074, 29091, 29100, 29102, 29110, 29117, 29127, 29142, 29150, 29158, 29169, 29180, 29185, 29194, 29215, 29222, 29239, 29245, 29253, 29260, 29281, 29302, 29310, 29324, 29328, 29341, 29349, 29355, 29364, 29369, 29371, 29374, 29386, 29426, 29429, 29435, 29437, 29441, 29446, 29461, 29497, 29511, 29513, 29515, 29519, 29530, 29534, 29541, 29555, 29561, 29563, 29565, 29567, 29572, 29597, 29609, 29618, 29637, 29656, 29667, 29684, 29700, 29711, 29725, 29739, 29748, 29757, 29771, 29804, 29820, 29824, 29837, 29846, 29860, 29862, 29868, 29873, 29877, 29880, 29883, 29886, 29892, 29894, 29896, 29899, 29902, 29905, 29917, 29931, 29934, 29936, 29943, 29953, 29955, 29964, 29978, 29987, 29996, 30004, 30009, 30011, 30016, 30024, 30029, 30039, 30042, 30056, 30062, 30067, 30069, 30075, 30077, 30081, 30091, 30098, 30113, 30129, 30141, 30151, 30178, 30191, 30194, 30199, 30202, 30211, 30221, 30223, 30233, 30241, 30243, 30249, 30263, 30264, 30267, 30269, 30274, 30278, 30285, 30289, 30291, 30294, 30296, 30299, 30301, 30303, 30305, 30307, 30313, 30317, 30319, 30321, 30323, 30325, 30329, 30337, 30341, 30343, 30345, 30347, 30349, 30352, 30362, 30366, 30368, 30370, 30372, 30374, 30378, 30386, 30390, 30392, 30395, 30404, 30409, 30411, 30416, 30424, 30426, 30428, 30431, 30433, 30435, 30437, 30439, 30441, 30447, 30451, 30453, 30455, 30457, 30459, 30462, 30472, 30476, 30478, 30480, 30482, 30484, 30493, 30497, 30499, 30501, 30503, 30505, 30509, 30512, 30514, 30518, 30520, 30522, 30526, 30528, 30530, 30532, 30534, 30536, 30542, 30545, 30549, 30551, 30553, 30555, 30557, 30559, 30561, 30563, 30565, 30567, 30569, 30572, 30578, 30580, 30584, 30587, 30589, 30592, 30594, 30596, 30598, 30600, 30602, 30608, 30610, 30613, 30615, 30617, 30619, 30621, 30623, 30629, 30633, 30635, 30637, 30639, 30641, 30645, 30648, 30652, 30654, 30656, 30658, 30660, 30664, 30667, 30671, 30673, 30675, 30677, 30679, 30688, 30690, 30692, 30694, 30696, 30698, 30702, 30704, 30708, 30710, 30723, 30725, 30728, 30730, 30732, 30772, 30774, 30777, 30780, 30783, 30785, 30788, 30790, 30793, 30799, 30801, 30812, 30814, 30816, 30818, 30820, 30822, 30824, 30827, 30829, 30831, 30833, 30835, 30838, 30840, 30845, 30847, 30849, 30852, 30854, 30856, 30860, 30862, 30865, 30867, 30870, 30872, 30875, 30878, 30880, 30891, 30903, 30923, 30942, 30948, 30958, 30962, 30976, 30978, 30981, 30987, 30994, 30996, 30998, 31001, 31015, 31017, 31025, 31050, 31062, 31075, 31095, 31104, 31127, 31151, 31168, 31177, 31186, 31188, 31207, 31265, 31275, 31277, 31279, 31283, 31285, 31287, 31298, 31305, 31313, 31317, 31321, 31325, 31336, 31360, 31369, 31378, 31391, 31410, 31429, 31442, 31447, 31449, 31451, 31462, 31467, 31475, 31477, 31479, 31482, 31486, 31493, 31504, 31512, 31529, 31552, 31554, 31556, 31571, 31588, 31590, 31592, 31595, 31604, 31607, 31610, 31626, 31634, 31636, 31639, 31648, 31665, 31668, 31670, 31724, 31726, 31728, 31739, 31747, 31752, 31757, 31761, 31774, 31778, 31788, 31801, 31814, 31817, 31819, 31825, 31827, 31830, 31832, 31835, 31842, 31855, 31874, 31893, 31905, 31908, 31910, 31912, 31915, 31917, 31920, 31922, 31925, 31928, 31930, 31933, 31935, 31938, 31941, 31943, 31946, 31948, 31952, 31954, 31965, 31970, 31973, 31979, 31981, 31990, 31997, 32005, 32015, 32025, 32033, 32064, 32078, 32087, 32100, 32112, 32123, 32140, 32150, 32157, 32163, 32179, 32191, 32197, 32208, 32244, 32258, 32267, 32282, 32293, 32315, 32331, 32335, 32351, 32365, 32377, 32396, 32409, 32422, 32435, 32448, 32455, 32458, 32463, 32466, 32472, 32497, 32509, 32515, 32518, 32522, 32530, 32541, 32543, 32545, 32553, 32558, 32577, 32585, 32609, 32611, 32613, 32616, 32623, 32640, 32644, 32659, 32665, 32674, 32683, 32707, 32718, 32725, 32727, 32729, 32733, 32736, 32747, 32762, 32778, 32788, 32797, 32807, 32811, 32829, 32831, 32834, 32839, 32851, 32855, 32865, 32871, 32881, 32905, 32909, 32916, 32918, 32920, 32923, 32927, 32930, 32944, 32946, 32948, 32952, 32954, 32961, 32963, 32971, 32973, 32977, 32980, 32982, 33001, 33003, 33045, 33047, 33050, 33052, 33056, 33058, 33061, 33065, 33070, 33073, 33076, 33080, 33082, 33084, 33086, 33088, 33090, 33092, 33094, 33096, 33098, 33100, 33104, 33110, 33112, 33116, 33118, 33120, 33122, 33124, 33126, 33128, 33130, 33133, 33138, 33140, 33143, 33146, 33150, 33152, 33154, 33156, 33158, 33167, 33170, 33172, 33174, 33176, 33178, 33180, 33182, 33184, 33186, 33188, 33190, 33192, 33203, 33205, 33213, 33215, 33217, 33230, 33241, 33252, 33275, 33280, 33282, 33284, 33292, 33294, 33296, 33299, 33301, 33306, 33308, 33318, 33320, 33322, 33325, 33333, 33335, 33337, 33340, 33343, 33347, 33349, 33351, 33354, 33356, 33358, 33360, 33362, 33364, 33366, 33369, 33371, 33373, 33375, 33377, 33380, 33382, 33384, 33386, 33390, 33392, 33394, 33396, 33398, 33401, 33403, 33405, 33407, 33417, 33419, 33424, 33427, 33429, 33464, 33482, 33484, 33486, 33488, 33490, 33492, 33494, 33503, 33511, 33513, 33524, 33533, 33535, 33537, 33539, 33541, 33543, 33550, 33552, 33556, 33565, 33567, 33569, 33571, 33575, 33577, 33580, 33587, 33590, 33592, 33594, 33597, 33603, 33605, 33607, 33609, 33613, 33626, 33633, 33642, 33645, 33654, 33660, 33662, 33666, 33668, 33670, 33673, 33680, 33685, 33687, 33693, 33698, 33702, 33705, 33709, 33711, 33716, 33722, 33724, 33727, 33736, 33748, 33751, 33754, 33757, 33759, 33765, 33774, 33776, 33778, 33781, 33783, 33802, 33804, 33806, 33811, 33815, 33839, 33867, 33881, 33891, 33899, 33906, 33921, 33941, 33952, 33973, 33984, 34001, 34003, 34007, 34027, 34039, 34065, 34067, 34071, 34074, 34076, 34099, 34108, 34128, 34131, 34133, 34147, 34155, 34158, 34161, 34185, 34210, 34213, 34215, 34219, 34229, 34241, 34244, 34246, 34249, 34257, 34268, 34283, 34285, 34288, 34297, 34299, 34301, 34308, 34323, 34335, 34341, 34348, 34350, 34360, 34369, 34371, 34385, 34388, 34401, 34413, 34427, 34440, 34442, 34444, 34446, 34448, 34463, 34465, 34467, 34501, 34508, 34518, 34526, 34528, 34530, 34543, 34552, 34560, 34569, 34572, 34581, 34588, 34603, 34605, 34607, 34637, 34646, 34648, 34675, 34680, 34687, 34692, 34694, 34709, 34722, 34729, 34737, 34755, 34763, 34769, 34779, 34786, 34795, 34797, 34817, 34819, 34834, 34838, 34845, 34850, 34865, 34867, 34877, 34879, 34881, 34884, 34896, 34899, 34907, 34923, 34933, 34943, 34946, 34948, 34950, 34952, 34954, 34956, 34958, 34960, 34965, 34970, 34972, 34976, 34982, 34984, 34986, 34988, 34990, 34994, 34997, 34999, 35003, 35005, 35007, 35009, 35011, 35013, 35015, 35017, 35019, 35021, 35034, 35041, 35054, 35068, 35085, 35100, 35115, 35128, 35130, 35137, 35151, 35153, 35155, 35158, 35161, 35168, 35170, 35179, 35195, 35197, 35199, 35201, 35203, 35205, 35212, 35228, 35236, 35238, 35240, 35247, 35249, 35252, 35255, 35257, 35265, 35267, 35269, 35272, 35283, 35285, 35287, 35298, 35300, 35302, 35305, 35307, 35309, 35314, 35322, 35336, 35338, 35340, 35347, 35349, 35351, 35359, 35363, 35365, 35367, 35370, 35372, 35374, 35378, 35382, 35384, 35391, 35394, 35396, 35398, 35400, 35402, 35404, 35406, 35409, 35411, 35413, 35415, 35417, 35420, 35422, 35424, 35426, 35430, 35432, 35434, 35438, 35440, 35443, 35445, 35447, 35450, 35453, 35455, 35457, 35486, 35490, 35493, 35499, 35517, 35525, 35555, 35558, 35564, 35566, 35576, 35587, 35590, 35592, 35610, 35631, 35636, 35655, 35676, 35705, 35708, 35721, 35729, 35733, 35746, 35756, 35766, 35770, 35778, 35782, 35792, 35798, 35815, 35852, 35854, 35856, 35859, 35861, 35863, 35865, 35867, 35873, 35877, 35879, 35881, 35883, 35888, 35897, 35899, 35907, 35917, 35927, 35939, 35945, 35964, 35968, 35973, 35975, 35980, 35994, 36004, 36010, 36012, 36015, 36019, 36021, 36028, 36031, 36033, 36042, 36046, 36050, 36060, 36062, 36066, 36074, 36100, 36117, 36128, 36131, 36140, 36142, 36146, 36152, 36159, 36169, 36181, 36183, 36185, 36199, 36201, 36203, 36207, 36211, 36220, 36223, 36234, 36237, 36239, 36241, 36247, 36249, 36251, 36253, 36255, 36257, 36261, 36273, 36275, 36281, 36283, 36286, 36295, 36299, 36316, 36321, 36348, 36350, 36352, 36354, 36356, 36361, 36370, 36373, 36376, 36379, 36388, 36398, 36418, 36443, 36445, 36447, 36465, 36467, 36472, 36476, 36478, 36480, 36482, 36484, 36500, 36513, 36517, 36522, 36525, 36528, 36531, 36541, 36546, 36562, 36569, 36571, 36582, 36595, 36607, 36611, 36616, 36620, 36622, 36625, 36630, 36636, 36639, 36651, 36667, 36675, 36703, 36713, 36719, 36721, 36723, 36726, 36728, 36735, 36752, 36759, 36792, 36831, 36871, 36882, 36890, 36913, 36941, 36952, 36966, 36992, 36995, 37002, 37013, 37015, 37023, 37030, 37038, 37048, 37050, 37061, 37068, 37081, 37086, 37099, 37110, 37117, 37125, 37134, 37141, 37156, 37158, 37160, 37162, 37170, 37176, 37184, 37187, 37191, 37194, 37196, 37217, 37236, 37238, 37240, 37242, 37254, 37262, 37266, 37275, 37277, 37279, 37296, 37300, 37303, 37309, 37323, 37332, 37334, 37339, 37346, 37360, 37371, 37377, 37383, 37385, 37389, 37391, 37393, 37405, 37421, 37429, 37431, 37450, 37452, 37463, 37465, 37468, 37474, 37478, 37482, 37486, 37501, 37507, 37520, 37529, 37551, 37554, 37567, 37576, 37596, 37598, 37617, 37620, 37625, 37644, 37647, 37649, 37651, 37668, 37678, 37682, 37694, 37708, 37710, 37712, 37741, 37743, 37745, 37748, 37750, 37754, 37756, 37758, 37760, 37763, 37765, 37768, 37771, 37773, 37776, 37779, 37785, 37792, 37801, 37810, 37819, 37825, 37829, 37831, 37833, 37839, 37843, 37846, 37850, 37855, 37861, 37863, 37865, 37872, 37879, 37886, 37895, 37902, 37910, 37918, 37922, 37927, 37931, 37937, 37941, 37943, 37945, 37947, 37949, 37951, 37953, 37955, 37957, 37959, 37961, 37963, 37965, 37967, 37972, 37974, 37976, 37978, 37981, 37983, 37985, 37987, 37989, 37991, 37993, 37995, 37997, 37999, 38002, 38004, 38007, 38010, 38013, 38016, 38018, 38020, 38022, 38024, 38026, 38028, 38031, 38033, 38035, 38037, 38039, 38042, 38044, 38049, 38051, 38053, 38056, 38058, 38060, 38064, 38066, 38068, 38071, 38073, 38076, 38078, 38081, 38084, 38086, 38089, 38092, 38096, 38098, 38101, 38103, 38105, 38107, 38109, 38112, 38115, 38118, 38120, 38122, 38125, 38127, 38129, 38147, 38153, 38170, 38189, 38195, 38205, 38220, 38245, 38251, 38274, 38282, 38285, 38291, 38294, 38296, 38310, 38316, 38319, 38321, 38338, 38341, 38344, 38346, 38352, 38354, 38356, 38358, 38360, 38366, 38368, 38385, 38391, 38397, 38402, 38405, 38415, 38426, 38428, 38441, 38443, 38459, 38466, 38468, 38478, 38493, 38503, 38509, 38511, 38521, 38540, 38551, 38559, 38581, 38583, 38592, 38599, 38608, 38610, 38612, 38615, 38617, 38626, 38631, 38634, 38636, 38638, 38654, 38656, 38658, 38660, 38662, 38665, 38667, 38671, 38678, 38689, 38691, 38693, 38695, 38705, 38708, 38713, 38715, 38723, 38725, 38729, 38734, 38736, 38738, 38740, 38742, 38748, 38750, 38752, 38763, 38784, 38790, 38792, 38794, 38796, 38817, 38835, 38858, 38860, 38864, 38866, 38869, 38872, 38875, 38878, 38881, 38883, 38885, 38888, 38891, 38894, 38897, 38899, 38904, 38907, 38910, 38915, 38918, 38921, 38924, 38927, 38932, 38936, 38939, 38943, 38945, 38948, 38952, 38955, 38958, 38961, 38964, 38967, 38970, 38973, 38976, 38979, 38982, 38985, 38988, 38993, 38996, 38998, 39001, 39004, 39009, 39013, 39016, 39019, 39022, 39025, 39028, 39031, 39034, 39037, 39040, 39043, 39046, 39049, 39052, 39056, 39058, 39060, 39062, 39064, 39067, 39070, 39073, 39076, 39079, 39081, 39084, 39087, 39090, 39093, 39096, 39098, 39100, 39103, 39106, 39109, 39112, 39114, 39117, 39119, 39121, 39124, 39127, 39130, 39137, 39140, 39143, 39145, 39150, 39153, 39156, 39159, 39162, 39167, 39174, 39176, 39178, 39183, 39186, 39188, 39190, 39192, 39195, 39198, 39201, 39203, 39208, 39210, 39212, 39219, 39246, 39253, 39264, 39271, 39283, 39286, 39301, 39319, 39326, 39331, 39333, 39335, 39340, 39351, 39353, 39370, 39382, 39388, 39392, 39395, 39398, 39401, 39404, 39407, 39410, 39413, 39415, 39417, 39420, 39423, 39426, 39431, 39434, 39437, 39440, 39442, 39445, 39448, 39451, 39458, 39461, 39464, 39466, 39469, 39472, 39474, 39476, 39478, 39480, 39482, 39484, 39489, 39493, 39496, 39498, 39501, 39503, 39505, 39508, 39510, 39512, 39514, 39516, 39518, 39523, 39527, 39531, 39536, 39543, 39563, 39570, 39593, 39611, 39613, 39615, 39618, 39622, 39642, 39653, 39666, 39679, 39693, 39705, 39718, 39728, 39731, 39734, 39778, 39794, 39808, 39810, 39812, 39829, 39847, 39856, 39874, 39881, 39883, 39887, 39889, 39891, 39893, 39895, 39897, 39900, 39904, 39911, 39913, 39915, 39919, 39921, 39937, 39949, 39967, 40002, 40022, 40029, 40033, 40050, 40053, 40062, 40069, 40082, 40084, 40086, 40107, 40109, 40111, 40131, 40135, 40163, 40168, 40181, 40187, 40189, 40191, 40193, 40212, 40215, 40217, 40234, 40246, 40259, 40270, 40272, 40275, 40287, 40289, 40299, 40311, 40315, 40317, 40326, 40330, 40334, 40339, 40341, 40347, 40349, 40355, 40357, 40360, 40363, 40368, 40371, 40373, 40375, 40381, 40390, 40395, 40401, 40408, 40413, 40416, 40418, 40421, 40427, 40433, 40440, 40448, 40455, 40467, 40470, 40472, 40474, 40477, 40479, 40481, 40483, 40485, 40488, 40490, 40493, 40495, 40498, 40500, 40503, 40505, 40508, 40510, 40516, 40519, 40522, 40524, 40526, 40528, 40530, 40532, 40534, 40537, 40539, 40541, 40543, 40545, 40550, 40557, 40586, 40588, 40590, 40592, 40594, 40596, 40598, 40600, 40602, 40604, 40612, 40614, 40616, 40618, 40627, 40659, 40678, 40683, 40697, 40702, 40732, 40735, 40737, 40746, 40761, 40772, 40776, 40779, 40781, 40784, 40786, 40803, 40808, 40814, 40816, 40818, 40831, 40863, 40865, 40867, 40883, 40885, 40892, 40900, 40902, 40904, 40906, 40908, 40914, 40918, 40924, 40926, 40928, 40930, 40932, 40935, 40938, 40945, 40955, 40959, 40963, 40971, 40975, 40985, 41001, 41020, 41022, 41029, 41036, 41041, 41049, 41054, 41062, 41065, 41067, 41075, 41085, 41093, 41102, 41111, 41128, 41142, 41150, 41154, 41175, 41190, 41200, 41206, 41208, 41237, 41242, 41269, 41293, 41311, 41345, 41363, 41374, 41399, 41412, 41436, 41447, 41456, 41488, 41506, 41514, 41528, 41530, 41532, 41540, 41542, 41544, 41547, 41552, 41559, 41565, 41576, 41582, 41584, 41642, 41644, 41646, 41656, 41658, 41665, 41675, 41679, 41681, 41690, 41696, 41700, 41705, 41716, 41721, 41732, 41736, 41746, 41749, 41751, 41769, 41771, 41773, 41793, 41803, 41806, 41808, 41819, 41831, 41846, 41859, 41861, 41863, 41876, 41885, 41887, 41894, 41896, 41910, 41915, 41917, 41919, 41923, 41925, 41932, 41934, 41936, 41938, 41945, 41972, 41979, 41986, 41998, 42006, 42013, 42020, 42034, 42042, 42071, 42076, 42080, 42084, 42086, 42089, 42095, 42100, 42103, 42105, 42108, 42110, 42113, 42115, 42118, 42120, 42122, 42127, 42129, 42132, 42134, 42137, 42139, 42141, 42144, 42146, 42148, 42150, 42152, 42154, 42156, 42159, 42161, 42163, 42165, 42167, 42169, 42171, 42175, 42177, 42179, 42183, 42185, 42188, 42190, 42192, 42194, 42197, 42199, 42201, 42203, 42205, 42213, 42217, 42231, 42234, 42240, 42254, 42262, 42281, 42297, 42309, 42315, 42334, 42349, 42351, 42360, 42367, 42387, 42404, 42421, 42427, 42454, 42464, 42467, 42476, 42487, 42501, 42514, 42532, 42534, 42536, 42539, 42542, 42565, 42581, 42587, 42594, 42603, 42615, 42635, 42645, 42658, 42665, 42672, 42674, 42676, 42680, 42684, 42686, 42690, 42695, 42697, 42699, 42701, 42705, 42708, 42711, 42720, 42723, 42726, 42728, 42736, 42738, 42740, 42744, 42746, 42748, 42751, 42754, 42758, 42760, 42764, 42766, 42768, 42775, 42782, 42787, 42789, 42791, 42797, 42802, 42811, 42814, 42819, 42831, 42835, 42843, 42846, 42849, 42851, 42854, 42856, 42858, 42860, 42868, 42870, 42880, 42882, 42892, 42900, 42902, 42911, 42914, 42918, 42920, 42925, 42927, 42931, 42936, 42942, 42949, 42951, 42954, 42957, 42960, 42964, 42968, 42970, 42974, 42977, 42980, 42985, 42990, 43009, 43012, 43016, 43021, 43036, 43038, 43040, 43044, 43053, 43055, 43058, 43068, 43071, 43073, 43076, 43079, 43086, 43094, 43096, 43098, 43100, 43102, 43106, 43113, 43120, 43123, 43125, 43127, 43129, 43131, 43133, 43135, 43142, 43149, 43151, 43156, 43160, 43162, 43164, 43167, 43172, 43177, 43182, 43185, 43187, 43190, 43192, 43195, 43197, 43200, 43202, 43204, 43207, 43209, 43211, 43214, 43216, 43218, 43221, 43224, 43226, 43228, 43233, 43235, 43237, 43242, 43244, 43246, 43251, 43253, 43255, 43258, 43261, 43264, 43266, 43269, 43271, 43274, 43276, 43279, 43281, 43283, 43285, 43289, 43294, 43299, 43309, 43313, 43317, 43323, 43327, 43338, 43346, 43351, 43358, 43370, 43372, 43375, 43384, 43386, 43395, 43397, 43399, 43401, 43407, 43417, 43426, 43428, 43442, 43456, 43461, 43472, 43474, 43480, 43488, 43495, 43497, 43503, 43512, 43514, 43520, 43529, 43535, 43541, 43543, 43564, 43574, 43582, 43591, 43593, 43616, 43625, 43640, 43649, 43651, 43653, 43655, 43659, 43664, 43675, 43678, 43683, 43703, 43705, 43709, 43738, 43750, 43752, 43766, 43771, 43781, 43783, 43789, 43813, 43834, 43850, 43871, 43893, 43910, 43912, 43915, 43928, 43946, 43956, 43973, 43983, 43985, 43994, 44001, 44003, 44019, 44021, 44039, 44041, 44044, 44053, 44058, 44067, 44076, 44084, 44094, 44108, 44114, 44126, 44134, 44142, 44150, 44152, 44164, 44166, 44169, 44171, 44183, 44190, 44192, 44218, 44224, 44232, 44234, 44237, 44244, 44246, 44279, 44301, 44316, 44325, 44331, 44340, 44346, 44352, 44354, 44368, 44376, 44382, 44389, 44401, 44426, 44432, 44434, 44441, 44443, 44453, 44465, 44472, 44490, 44499, 44511, 44526, 44541, 44545, 44557, 44565, 44568, 44573, 44576, 44581, 44583, 44587, 44590, 44595, 44601, 44608, 44615, 44617, 44621, 44626, 44633, 44638, 44646, 44648, 44654, 44661, 44666, 44668, 44675, 44680, 44682, 44685, 44687, 44694, 44696, 44704, 44709, 44711, 44713, 44719, 44725, 44727, 44729, 44732, 44736, 44738, 44740, 44742, 44744, 44746, 44748, 44750, 44752, 44756, 44759, 44764, 44766, 44768, 44770, 44772, 44776, 44779, 44781, 44785, 44787, 44789, 44791, 44793, 44795, 44797, 44800, 44806, 44808, 44810, 44812, 44814, 44816, 44820, 44823, 44825, 44827, 44831, 44833, 44835, 44837, 44839, 44843, 44846, 44848, 44853, 44855, 44861, 44869, 44871, 44875, 44877, 44880, 44884, 44890, 44892, 44896, 44898, 44900, 44902, 44904, 44910, 44914, 44916, 44918, 44920, 44922, 44926, 44934, 44936, 44946, 44950, 44952, 44954, 44956, 44958, 44969, 44971, 44979, 44988, 44990, 44996, 45003, 45005, 45007, 45009, 45013, 45017, 45019, 45029, 45036, 45038, 45043, 45047, 45049, 45051, 45053, 45055, 45061, 45065, 45068, 45070, 45072, 45074, 45081, 45083, 45085, 45087, 45089, 45091, 45093, 45096, 45098, 45100, 45102, 45106, 45108, 45110, 45112, 45125, 45127, 45137, 45139, 45141, 45147, 45175, 45177, 45179, 45184, 45196, 45207, 45218, 45244, 45257, 45270, 45275, 45291, 45314, 45322, 45339, 45356, 45361, 45367, 45380, 45388, 45390, 45404, 45419, 45421, 45423, 45426, 45430, 45448, 45465, 45468, 45477, 45489, 45491, 45534, 45536, 45538, 45547, 45549, 45551, 45554, 45556, 45571, 45577, 45579, 45585, 45594, 45596, 45598, 45601, 45603, 45606, 45610, 45613, 45615, 45630, 45632, 45634, 45637, 45639, 45641, 45643, 45646, 45648, 45653, 45655, 45658, 45661, 45663, 45665, 45667, 45670, 45672, 45676, 45678, 45681, 45685, 45687, 45690, 45693, 45695, 45697, 45699, 45701, 45703, 45705, 45710, 45712, 45715, 45718, 45720, 45722, 45724, 45726, 45728, 45730, 45734, 45736, 45738, 45741, 45744, 45747, 45749, 45751, 45753, 45755, 45757, 45759, 45762, 45764, 45766, 45768, 45770, 45773, 45775, 45777, 45779, 45781, 45785, 45787, 45789, 45796, 45803, 45805, 45808, 45810, 45812, 45833, 45836, 45838, 45840, 45857, 45886, 45892, 45895, 45908, 45926, 45928, 45930, 45932, 45948, 45952, 45957, 45961, 45963, 45965, 45970, 45972, 45976, 45978, 45984, 45988, 45992, 45996, 46004, 46006, 46010, 46017, 46019, 46034, 46044, 46052, 46057, 46061, 46065, 46067, 46072, 46081, 46097, 46114, 46131, 46151, 46157, 46170, 46179, 46193, 46223, 46233, 46249, 46251, 46275, 46298, 46304, 46312, 46338, 46346, 46361, 46363, 46377, 46387, 46397, 46406, 46414, 46423, 46432, 46439, 46445, 46455, 46465, 46486, 46506, 46516, 46526, 46534, 46552, 46565, 46573, 46590, 46601, 46611, 46618, 46624, 46629, 46640, 46656, 46670, 46676, 46683, 46686, 46697, 46702, 46705, 46709, 46713, 46718, 46724, 46726, 46728, 46740, 46762, 46788, 46800, 46805, 46815, 46820, 46828, 46838, 46867, 46870, 46884, 46895, 46911, 46920, 46927, 46937, 46944, 46949, 46959, 46973, 46978, 46990, 47005, 47015, 47039, 47042, 47059, 47087, 47101, 47110, 47125, 47137, 47143, 47152, 47158, 47170, 47179, 47191, 47206, 47214, 47233, 47247, 47259, 47269, 47293, 47323, 47343, 47350, 47375, 47399, 47409, 47437, 47497, 47513, 47517, 47532, 47534, 47536, 47552, 47574, 47587, 47594, 47601, 47611, 47629, 47659, 47679, 47681, 47683, 47686, 47697, 47705, 47707, 47709, 47729, 47740, 47752, 47756, 47758, 47760, 47770, 47792, 47814, 47826, 47828, 47839, 47845, 47847, 47849, 47852, 47854, 47856, 47859, 47871, 47873, 47878, 47881, 47890, 47894, 47896, 47900, 47902, 47906, 47910, 47914, 47918, 47922, 47926, 47928, 47932, 47934, 47937, 47940, 47946, 47948, 47950, 47952, 47954, 47956, 47958, 47960, 47964, 47969, 47972, 47975, 47979, 47983, 47987, 47991, 47997, 48004, 48008, 48011, 48014, 48016, 48020, 48022, 48024, 48028, 48030, 48035, 48038, 48040, 48043, 48046, 48050, 48052, 48054, 48056, 48069, 48081, 48083, 48088, 48093, 48099, 48111, 48117, 48136, 48145, 48152, 48156, 48160, 48162, 48169, 48175, 48203, 48212, 48214, 48216, 48220, 48225, 48236, 48244, 48250, 48253, 48272, 48274, 48279, 48308, 48335, 48338, 48346, 48348, 48356, 48362, 48369, 48374, 48376, 48378, 48381, 48383, 48387, 48389, 48392, 48396, 48399, 48401, 48403, 48405, 48407, 48410, 48412, 48414, 48416, 48421, 48423, 48427, 48430, 48432, 48436, 48439, 48441, 48443, 48445, 48447, 48449, 48452, 48454, 48457, 48460, 48462, 48465, 48467, 48469, 48471, 48473, 48475, 48480, 48483, 48486, 48488, 48491, 48493, 48495, 48497, 48499, 48501, 48506, 48509, 48512, 48517, 48519, 48524, 48533, 48536, 48539, 48543, 48545, 48547, 48549, 48551, 48557, 48560, 48563, 48565, 48569, 48571, 48574, 48578, 48583, 48586, 48589, 48594, 48596, 48598, 48600, 48602, 48610, 48612, 48614, 48619, 48621, 48624, 48628, 48630, 48632, 48634, 48636, 48641, 48644, 48647, 48651, 48653, 48655, 48657, 48659, 48663, 48665, 48668, 48671, 48675, 48677, 48679, 48681, 48683, 48685, 48687, 48689, 48691, 48693, 48695, 48698, 48703, 48705, 48707, 48709, 48712, 48715, 48719, 48721, 48723, 48725, 48727, 48731, 48739, 48742, 48745, 48749, 48751, 48753, 48755, 48757, 48766, 48769, 48771, 48773, 48775, 48777, 48779, 48781, 48783, 48785, 48787, 48791, 48793, 48795, 48806, 48809, 48811, 48813, 48815, 48817, 48819, 48825, 48834, 48839, 48854, 48868, 48881, 48883, 48885, 48893, 48900, 48910, 48916, 48918, 48921, 48924, 48926, 48930, 48933, 48938, 48943, 48951, 48960, 48965, 48969, 48972, 48975, 48977, 48984, 48989, 49003, 49011, 49030, 49038, 49057, 49075, 49083, 49086, 49093, 49105, 49108, 49123, 49135, 49142, 49148, 49150, 49157, 49173, 49177, 49196, 49211, 49234, 49252, 49260, 49263, 49270, 49282, 49285, 49300, 49315, 49322, 49328, 49342, 49350, 49360, 49362, 49374, 49388, 49402, 49410, 49418, 49432, 49440, 49444, 49459, 49468, 49470, 49472, 49474, 49480, 49482, 49491, 49494, 49496, 49499, 49503, 49507, 49510, 49515, 49518, 49520, 49523, 49525, 49528, 49531, 49533, 49536, 49539, 49542, 49547, 49549, 49551, 49553, 49555, 49559, 49561, 49563, 49575, 49577, 49579, 49594, 49596, 49598, 49604, 49606, 49609, 49612, 49614, 49616, 49618, 49620, 49622, 49624, 49627, 49629, 49631, 49633, 49635, 49638, 49640, 49642, 49644, 49646, 49648, 49650, 49652, 49654, 49658, 49660, 49662, 49664, 49666, 49669, 49671, 49673, 49675, 49677, 49683, 49685, 49688, 49690, 49694, 49707, 49728, 49746, 49755, 49764, 49777, 49779, 49781, 49786, 49793, 49808, 49817, 49821, 49824, 49829, 49832, 49834, 49837, 49839, 49841, 49845, 49860, 49870, 49875, 49886, 49894, 49899, 49904, 49906, 49912, 49921, 49927, 49934, 49939, 49943, 49946, 49948, 49959, 49967, 49974, 49983, 49996, 50002, 50007, 50013, 50015, 50017, 50024, 50050, 50058, 50060, 50062, 50082, 50093, 50095, 50097, 50101, 50103, 50105, 50107, 50109, 50112, 50160, 50163, 50187, 50194, 50202, 50212, 50214, 50216, 50222, 50224, 50230, 50232, 50234, 50240, 50242, 50248, 50250, 50252, 50256, 50258, 50264, 50266, 50272, 50274, 50276, 50280, 50282, 50289, 50296, 50300, 50303, 50305, 50307, 50309, 50313, 50317, 50320, 50322, 50324, 50326, 50328, 50332, 50334, 50336, 50340, 50344, 50347, 50349, 50351, 50353, 50357, 50361, 50363, 50369, 50371, 50374, 50378, 50380, 50384, 50386, 50388, 50392, 50394, 50396, 50400, 50402, 50404, 50406, 50408, 50412, 50414, 50416, 50418, 50420, 50425, 50429, 50431, 50433, 50437, 50439, 50449, 50456, 50458, 50461, 50465, 50469, 50471, 50476, 50479, 50481, 50485, 50487, 50493, 50497, 50499, 50504, 50510, 50515, 50520, 50522, 50530, 50544, 50555, 50560, 50576, 50584, 50593, 50595, 50601, 50609, 50615, 50617, 50619, 50662, 50665, 50670, 50686, 50698, 50722, 50728, 50775, 50777, 50784, 50788, 50803, 50815, 50825, 50834, 50843, 50848, 50864, 50867, 50878, 50889, 50893, 50895, 50897, 50900, 50902, 50911, 50930, 50933, 50939, 50944, 50959, 50968, 50970, 50990, 51009, 51011, 51017, 51024, 51030, 51034, 51036, 51038, 51043, 51053, 51072, 51081, 51093, 51096, 51103, 51105, 51111, 51113, 51115, 51117, 51119, 51123, 51129, 51131, 51133, 51135, 51137, 51143, 51146, 51153, 51157, 51159, 51161, 51163, 51165, 51169, 51171, 51174, 51180, 51182, 51184, 51186, 51188, 51192, 51194, 51197, 51199, 51201, 51203, 51205, 51207, 51209, 51211, 51214, 51218, 51222, 51224, 51227, 51230, 51232, 51234, 51236, 51238, 51242, 51245, 51247, 51251, 51253, 51255, 51257, 51259, 51261, 51263, 51265, 51295, 51310, 51334, 51353, 51385, 51430, 51432, 51434, 51437, 51461, 51463, 51465, 51467, 51469, 51472, 51474, 51478, 51480, 51487, 51490, 51493, 51495, 51497, 51500, 51502, 51504, 51507, 51509, 51513, 51515, 51517, 51520, 51522, 51526, 51529, 51531, 51534, 51536, 51540, 51542, 51545, 51548, 51550, 51553, 51555, 51557, 51560, 51562, 51576, 51578, 51580, 51583, 51586, 51588, 51590, 51594, 51596, 51598, 51600, 51602, 51606, 51610, 51612, 51615, 51617, 51620, 51622, 51625, 51627, 51629, 51631, 51633, 51635, 51637, 51640, 51642, 51644, 51646, 51648, 51651, 51653, 51655, 51657, 51659, 51663, 51665, 51667, 51671, 51673, 51675, 51677, 51679, 51682, 51684, 51687, 51689, 51697, 51699, 51705, 51707, 51720, 51723, 51725, 51727, 51733, 51751, 51763, 51765, 51772, 51779, 51781, 51791, 51799, 51805, 51812, 51828, 51836, 51849, 51855, 51873, 51895, 51902, 51905, 51910, 51912, 51917, 51925, 51927, 51929, 51931, 51933, 51938, 51940, 51944, 51951, 51958, 51967, 51975, 51978, 51980, 51984, 51991, 51996, 52001, 52007, 52009, 52011, 52013, 52017, 52019, 52022, 52024, 52027, 52029, 52031, 52033, 52035, 52037, 52039, 52041, 52043, 52058, 52065, 52073, 52076, 52085, 52087, 52089, 52091, 52093, 52100, 52102, 52105, 52108, 52115, 52118, 52129, 52133, 52135, 52137, 52159, 52166, 52168, 52173, 52177, 52179, 52194, 52196, 52203, 52206, 52208, 52213, 52215, 52217, 52220, 52234, 52246, 52249, 52252, 52254, 52258, 52260, 52264, 52266, 52269, 52271, 52279, 52281, 52284, 52286, 52293, 52296, 52298, 52300, 52318, 52320, 52326, 52329, 52342, 52356, 52368, 52378, 52393, 52395, 52397, 52401, 52403, 52405, 52407, 52409, 52412, 52414, 52416, 52418, 52420, 52422, 52424, 52426, 52438, 52446, 52448, 52450, 52459, 52463, 52470, 52481, 52487, 52492, 52495, 52499, 52502, 52505, 52507, 52509, 52511, 52516, 52518, 52522, 52528, 52530, 52532, 52537, 52539, 52546, 52553, 52560, 52564, 52572, 52576, 52581, 52586, 52596, 52611, 52621, 52633, 52637, 52642, 52646, 52656, 52663, 52670, 52674, 52678, 52684, 52687, 52693, 52696, 52703, 52708, 52712, 52715, 52722, 52725, 52736, 52745, 52751, 52754, 52760, 52767, 52769, 52775, 52780, 52783, 52791, 52794, 52799, 52801, 52807, 52812, 52816, 52824, 52826, 52835, 52841, 52843, 52847, 52849, 52851, 52853, 52859, 52877, 52884, 52890, 52892, 52899, 52906, 52908, 52918, 52926, 52932, 52939, 52955, 52963, 52976, 52982, 52992, 53001, 53023, 53030, 53033, 53038, 53040, 53045, 53053, 53065, 53067, 53074, 53081, 53097, 53102, 53107, 53110, 53118, 53124, 53140, 53145, 53158, 53175, 53184, 53195, 53200, 53207, 53210, 53212, 53218, 53220, 53223, 53238, 53245, 53247, 53259, 53278, 53284, 53288, 53301, 53305, 53306, 53309, 53311, 53323, 53325, 53342, 53362, 53370, 53373, 53375, 53378, 53389, 53391, 53396, 53404, 53412, 53421, 53428, 53430, 53432, 53434, 53444, 53446, 53457, 53471, 53477, 53479, 53494, 53504, 53514, 53521, 53523, 53540, 53550, 53552, 53561, 53576, 53589, 53599, 53601, 53605, 53613, 53622, 53627, 53635, 53648, 53650, 53653, 53663, 53669, 53679, 53697, 53713, 53715, 53724, 53732, 53734, 53748, 53763, 53773, 53787, 53795, 53799, 53810, 53812, 53819, 53821, 53836, 53845, 53847, 53849, 53867, 53869, 53871, 53882, 53890, 53892, 53907, 53911, 53915, 53917, 53920, 53923, 53925, 53928, 53930, 53935, 53937, 53944, 53949, 53951, 53959, 53963, 53965, 53981, 53986, 53988, 53992, 53996, 53998, 54004, 54007, 54011, 54013, 54023, 54027, 54029, 54039, 54043, 54045, 54054, 54058, 54060, 54062, 54073, 54075, 54079, 54081, 54093, 54098, 54100, 54111, 54115, 54117, 54123, 54129, 54133, 54135, 54141, 54143, 54145, 54147, 54149, 54151, 54153, 54155, 54168, 54170, 54172, 54174, 54176, 54186, 54188, 54190, 54192, 54194, 54196, 54206, 54209, 54211, 54214, 54216, 54218, 54220, 54222, 54224, 54236, 54238, 54240, 54242, 54244, 54246, 54249, 54262, 54264, 54266, 54268, 54270, 54274, 54287, 54289, 54291, 54293, 54295, 54297, 54299, 54301, 54303, 54305, 54307, 54311, 54323, 54325, 54327, 54329, 54333, 54343, 54345, 54347, 54349, 54351, 54355, 54365, 54367, 54369, 54371, 54373, 54377, 54386, 54388, 54390, 54392, 54394, 54397, 54410, 54412, 54414, 54416, 54418, 54420, 54422, 54424, 54426, 54430, 54445, 54447, 54449, 54451, 54453, 54457, 54470, 54472, 54474, 54476, 54478, 54480, 54482, 54484, 54493, 54495, 54497, 54501, 54503, 54505, 54507, 54509, 54511, 54516, 54525, 54527, 54529, 54531, 54533, 54536, 54550, 54552, 54554, 54556, 54558, 54561, 54571, 54573, 54575, 54577, 54579, 54583, 54590, 54595, 54604, 54606, 54608, 54610, 54612, 54614, 54624, 54626, 54628, 54630, 54633, 54636, 54638, 54642, 54645, 54652, 54654, 54656, 54658, 54660, 54662, 54664, 54667, 54669, 54671, 54676, 54689, 54691, 54693, 54695, 54698, 54700, 54702, 54707, 54716, 54728, 54730, 54732, 54734, 54736, 54738, 54740, 54743, 54746, 54748, 54756, 54768, 54777, 54780, 54782, 54784, 54786, 54790, 54798, 54801, 54805, 54807, 54809, 54812, 54814, 54817, 54821, 54823, 54826, 54828, 54830, 54832, 54834, 54836, 54839, 54841, 54845, 54847, 54849, 54853, 54861, 54863, 54865, 54867, 54874, 54878, 54880, 54882, 54884, 54886, 54890, 54893, 54895, 54899, 54901, 54903, 54906, 54914, 54916, 54918, 54920, 54922, 54926, 54940, 54943, 54958, 54968, 54970, 54972, 54975, 54987, 54998, 55006, 55011, 55014, 55048, 55052, 55066, 55074, 55076, 55078, 55080, 55087, 55099, 55101, 55124, 55128, 55130, 55132, 55134, 55136, 55138, 55140, 55149, 55153, 55155, 55157, 55159, 55165, 55169, 55171, 55173, 55175, 55177, 55186, 55189, 55191, 55194, 55196, 55198, 55200, 55202, 55213, 55215, 55217, 55219, 55221, 55224, 55233, 55237, 55239, 55241, 55243, 55247, 55256, 55260, 55262, 55264, 55266, 55268, 55270, 55272, 55274, 55276, 55280, 55291, 55293, 55295, 55299, 55308, 55310, 55312, 55314, 55318, 55323, 55328, 55330, 55332, 55334, 55338, 55343, 55347, 55349, 55351, 55353, 55356, 55368, 55370, 55372, 55374, 55376, 55378, 55380, 55382, 55386, 55396, 55401, 55403, 55405, 55407, 55411, 55419, 55421, 55423, 55425, 55427, 55429, 55431, 55436, 55440, 55442, 55444, 55448, 55450, 55452, 55454, 55456, 55461, 55466, 55470, 55472, 55474, 55476, 55479, 55488, 55493, 55495, 55497, 55499, 55502, 55511, 55513, 55515, 55517, 55529, 55531, 55533, 55535, 55537, 55546, 55551, 55557, 55574, 55580, 55582, 55584, 55586, 55588, 55592, 55597, 55599, 55604, 55606, 55608, 55611, 55613, 55615, 55618, 55620, 55622, 55627, 55630, 55632, 55634, 55638, 55645, 55648, 55650, 55652, 55659, 55661, 55665, 55668, 55672, 55674, 55677, 55680, 55682, 55684, 55686, 55688, 55690, 55692, 55695, 55697, 55699, 55701, 55703, 55706, 55708, 55710, 55712, 55714, 55716, 55718, 55720, 55724, 55726, 55728, 55731, 55733, 55736, 55738, 55740, 55770, 55773, 55775, 55783, 55789, 55791, 55827, 55832, 55840, 55842, 55845, 55871, 55875, 55882, 55891, 55920, 55936, 55940, 55956, 55975, 55979, 55998, 56004, 56007, 56011, 56017, 56028, 56030, 56032, 56034, 56036, 56038, 56040, 56042, 56044, 56046, 56049, 56060, 56071, 56077, 56079, 56081, 56086, 56088, 56090, 56094, 56097, 56100, 56102, 56104, 56108, 56111, 56114, 56116, 56118, 56121, 56128, 56130, 56133, 56135, 56144, 56146, 56148, 56150, 56153, 56163, 56165, 56167, 56173, 56197, 56199, 56201, 56207, 56209, 56211, 56213, 56215, 56218, 56223, 56230, 56234, 56239, 56242, 56250, 56254, 56263, 56265, 56267, 56270, 56274, 56276, 56279, 56282, 56284, 56287, 56295, 56303, 56314, 56326, 56331, 56335, 56345, 56354, 56356, 56358, 56361, 56369, 56372, 56379, 56383, 56388, 56408, 56410, 56412, 56416, 56429, 56436, 56453, 56468, 56480, 56489, 56505, 56523, 56542, 56560, 56568, 56574, 56586, 56592, 56616, 56623, 56626, 56653, 56671, 56692, 56700, 56704, 56716, 56741, 56749, 56753, 56755, 56761, 56763, 56765, 56769, 56771, 56777, 56779, 56781, 56785, 56787, 56793, 56795, 56797, 56799, 56802, 56804, 56806, 56808, 56811, 56813, 56815, 56817, 56819, 56822, 56824, 56826, 56828, 56831, 56833, 56836, 56838, 56840, 56842, 56845, 56847, 56850, 56852, 56854, 56856, 56859, 56861, 56866, 56870, 56872, 56877, 56879, 56881, 56889, 56895, 56897, 56918, 56921, 56933, 56950, 56958, 56966, 56984, 56989, 57004, 57011, 57015, 57032, 57035, 57038, 57056, 57066, 57070, 57082, 57089, 57102, 57107, 57116, 57133, 57148, 57171, 57186, 57190, 57200, 57202, 57204, 57210, 57212, 57244, 57252, 57260, 57275, 57285, 57287, 57299, 57301, 57320, 57348, 57363, 57365, 57376, 57398, 57405, 57408, 57419, 57427, 57439, 57441, 57446, 57451, 57471, 57483, 57490, 57492, 57494, 57518, 57528, 57534, 57550, 57552, 57554, 57566, 57569, 57597, 57599, 57602, 57609, 57624, 57632, 57637, 57661, 57663, 57673, 57677, 57687, 57700, 57712, 57722, 57739, 57746, 57749, 57751, 57753, 57757, 57759, 57761, 57765, 57767, 57769, 57773, 57779, 57781, 57785, 57787, 57789, 57791, 57793, 57797, 57799, 57801, 57807, 57809, 57813, 57815, 57817, 57826, 57828, 57835, 57837, 57839, 57841, 57847, 57849, 57851, 57855, 57857, 57859, 57861, 57863, 57865, 57877, 57879, 57881, 57883, 57885, 57895, 57898, 57905, 57907, 57909, 57911, 57913, 57917, 57923, 57927, 57929, 57931, 57933, 57935, 57946, 57948, 57950, 57952, 57954, 57958, 57967, 57969, 57971, 57973, 57975, 57977, 57979, 57981, 57983, 57985, 57987, 57991, 57997, 57999, 58001, 58003, 58005, 58009, 58015, 58017, 58019, 58021, 58023, 58027, 58032, 58035, 58042, 58044, 58046, 58048, 58050, 58054, 58063, 58065, 58067, 58069, 58071, 58080, 58083, 58089, 58091, 58094, 58097, 58111, 58113, 58115, 58117, 58119, 58123, 58129, 58131, 58133, 58135, 58138, 58140, 58146, 58148, 58150, 58152, 58154, 58163, 58166, 58168, 58170, 58172, 58174, 58176, 58178, 58180, 58182, 58186, 58188, 58192, 58194, 58196, 58198, 58204, 58206, 58208, 58214, 58216, 58221, 58225, 58227, 58229, 58232, 58246, 58255, 58263, 58265, 58267, 58270, 58274, 58276, 58278, 58280, 58282, 58286, 58289, 58291, 58295, 58297, 58299, 58301, 58303, 58305, 58307, 58309, 58328, 58338, 58348, 58371, 58398, 58408, 58419, 58421, 58424, 58435, 58437, 58439, 58447, 58449, 58451, 58453, 58456, 58458, 58461, 58463, 58467, 58469, 58473, 58475, 58477, 58481, 58483, 58485, 58487, 58490, 58492, 58497, 58502, 58510, 58512, 58514, 58516, 58518, 58521, 58523, 58528, 58531, 58533, 58535, 58537, 58546, 58548, 58551, 58562, 58564, 58567, 58578, 58581, 58583, 58585, 58587, 58589, 58591, 58593, 58596, 58607, 58612, 58622, 58632, 58641, 58651, 58663, 58666, 58668, 58674, 58686, 58702, 58710, 58712, 58742, 58759, 58767, 58780, 58797, 58818, 58824, 58826, 58829, 58831, 58833, 58835, 58854, 58860, 58862, 58864, 58867, 58869, 58871, 58873, 58876, 58894, 58896, 58916, 58926, 58928, 58931, 58954, 58966, 58968, 58978, 58980, 58984, 58991, 58998, 59015, 59017, 59020, 59036, 59039, 59042, 59049, 59056, 59063, 59070, 59075, 59080, 59088, 59103, 59106, 59109, 59114, 59118, 59128, 59134, 59186, 59197, 59224, 59228, 59230, 59234, 59237, 59240, 59242, 59244, 59249, 59251, 59254, 59256, 59260, 59262, 59265, 59267, 59269, 59271, 59273, 59275, 59277, 59280, 59282, 59284, 59286, 59288, 59290, 59292, 59294, 59298, 59300, 59304, 59306, 59309, 59311, 59314, 59317, 59319, 59321, 59325, 59329, 59357, 59373, 59382, 59394, 59416, 59429, 59435, 59444, 59446, 59451, 59473, 59493, 59497, 59501, 59519, 59529, 59538, 59552, 59558, 59564, 59573, 59578, 59582, 59600, 59628, 59653, 59683, 59691, 59699, 59709, 59711, 59713, 59719, 59721, 59723, 59725, 59727, 59739, 59744, 59747, 59754, 59756, 59764, 59766, 59769, 59771, 59774, 59778, 59782, 59785, 59788, 59790, 59792, 59795, 59797, 59802, 59804, 59812, 59814, 59820, 59822, 59827, 59829, 59834, 59836, 59852, 59854, 59860, 59862, 59869, 59873, 59875, 59880, 59882, 59884, 59886, 59888, 59894, 59902, 59906, 59909, 59914, 59916, 59918, 59927, 59933, 59935, 59939, 59942, 59949, 59951, 59959, 59969, 59992, 60008, 60012, 60021, 60024, 60026, 60036, 60052, 60054, 60068, 60071, 60078, 60080, 60084, 60090, 60092, 60098, 60102, 60104, 60106, 60108, 60110, 60112, 60114, 60116, 60118, 60120, 60127, 60131, 60134, 60136, 60138, 60140, 60144, 60154, 60158, 60160, 60162, 60164, 60168, 60170, 60174, 60179, 60184, 60189, 60199, 60206, 60212, 60218, 60221, 60227, 60230, 60236, 60239, 60243, 60249, 60251, 60257, 60259, 60261, 60268, 60272, 60275, 60277, 60279, 60281, 60285, 60295, 60299, 60301, 60303, 60305, 60311, 60315, 60317, 60320, 60325, 60336, 60358, 60365, 60370, 60374, 60376, 60379, 60392, 60415, 60444, 60450, 60455, 60460, 60465, 60467, 60469, 60471, 60476, 60483, 60491, 60499, 60507, 60516, 60524, 60534, 60540, 60554, 60562, 60564, 60570, 60578, 60582, 60588, 60596, 60603, 60610, 60614, 60626, 60630, 60636, 60640, 60649, 60658, 60666, 60676, 60680, 60682, 60685, 60690, 60697, 60709, 60720, 60730, 60737, 60739, 60741, 60743, 60747, 60775, 60777, 60793, 60809, 60842, 60850, 60869, 60887, 60890, 60903, 60920, 60923, 60933, 60948, 60954, 60958, 60971, 60973, 60975, 60977, 60979, 61006, 61021, 61029, 61038, 61047, 61067, 61075, 61085, 61092, 61103, 61118, 61120, 61126, 61141, 61161, 61176, 61191, 61193, 61195, 61200, 61205, 61215, 61248, 61250, 61259, 61273, 61280, 61292, 61315, 61317, 61343, 61354, 61368, 61370, 61380, 61389, 61402, 61410, 61412, 61430, 61440, 61463, 61465, 61474, 61476, 61487, 61495, 61497, 61500, 61502, 61505, 61507, 61510, 61513, 61516, 61518, 61525, 61534, 61536, 61543, 61549, 61558, 61562, 61568, 61572, 61579, 61582, 61584, 61588, 61593, 61596, 61602, 61604, 61606, 61608, 61610, 61612, 61614, 61616, 61618, 61625, 61633, 61635, 61637, 61639, 61641, 61643, 61645, 61647, 61649, 61651, 61653, 61655, 61657, 61659, 61661, 61663, 61666, 61668, 61670, 61672, 61674, 61677, 61679, 61684, 61686, 61688, 61691, 61693, 61695, 61699, 61701, 61706, 61708, 61711, 61713, 61716, 61719, 61721, 61744, 61775, 61782, 61789, 61801, 61812, 61836, 61852, 61856, 61878, 61893, 61915, 61926, 61944, 61951, 61961, 61968, 61971, 61980, 61996, 62010, 62028, 62031, 62041, 62053, 62058, 62062, 62065, 62067, 62079, 62082, 62089, 62097, 62106, 62119, 62125, 62130, 62136, 62138, 62140, 62142, 62146, 62148, 62163, 62174, 62182, 62185, 62191, 62195, 62197, 62199, 62201, 62203, 62206, 62234, 62236, 62238, 62246, 62255, 62257, 62259, 62265, 62267, 62269, 62271, 62273, 62275, 62277, 62279, 62281, 62289, 62291, 62293, 62296, 62306, 62308, 62318, 62336, 62338, 62346, 62348, 62359, 62365, 62367, 62373, 62375, 62392, 62395, 62397, 62408, 62410, 62415, 62421, 62423, 62425, 62431, 62433, 62439, 62441, 62443, 62448, 62450, 62452, 62454, 62458, 62462, 62464, 62466, 62471, 62475, 62477, 62479, 62481, 62498, 62502, 62508, 62517, 62522, 62534, 62566, 62579, 62597, 62613, 62618, 62633, 62635, 62647, 62663, 62665, 62677, 62682, 62684, 62697, 62709, 62711, 62718, 62723, 62725, 62727, 62732, 62734, 62736, 62741, 62742, 62745, 62748, 62750, 62752, 62754, 62757, 62759, 62763, 62765, 62767, 62772, 62774, 62777, 62790, 62792, 62806, 62808, 62813, 62815, 62837, 62839, 62842, 62844, 62848, 62850, 62852, 62854, 62856, 62860, 62866, 62870, 62872, 62874, 62876, 62878, 62882, 62888, 62892, 62894, 62896, 62898, 62900, 62902, 62904, 62906, 62908, 62912, 62915, 62917, 62921, 62923, 62925, 62927, 62930, 62936, 62940, 62942, 62944, 62946, 62948, 62955, 62960, 62962, 62964, 62966, 62968, 62976, 62980, 62982, 62984, 62986, 62988, 62994, 62996, 62998, 63000, 63002, 63004, 63006, 63009, 63011, 63013, 63016, 63018, 63021, 63023, 63025, 63027, 63029, 63031, 63033, 63035, 63039, 63042, 63044, 63048, 63050, 63052, 63054, 63056, 63058, 63060, 63062, 63074, 63083, 63086, 63097, 63102, 63112, 63122, 63126, 63133, 63135, 63138, 63141, 63146, 63159, 63174, 63176, 63178, 63180, 63182, 63184, 63186, 63191, 63213, 63215, 63217, 63219, 63221, 63223, 63225, 63228, 63230, 63233, 63235, 63238, 63241, 63243, 63245, 63247, 63249, 63251, 63253, 63258, 63260, 63263, 63266, 63268, 63270, 63272, 63274, 63277, 63279, 63284, 63286, 63289, 63292, 63304, 63306, 63308, 63310, 63312, 63314, 63316, 63319, 63321, 63323, 63325, 63327, 63329, 63331, 63333, 63336, 63338, 63343, 63345, 63347, 63350, 63352, 63354, 63358, 63360, 63365, 63367, 63370, 63372, 63375, 63377, 63380, 63384, 63386, 63389, 63391, 63402, 63404, 63406, 63408, 63410, 63415, 63418, 63420, 63424, 63426, 63435, 63438, 63440, 63443, 63445, 63447, 63449, 63451, 63453, 63456, 63461, 63468, 63480, 63484, 63490, 63504, 63518, 63529, 63536, 63539, 63545, 63547, 63553, 63555, 63557, 63564, 63568, 63571, 63573, 63575, 63577, 63581, 63589, 63596, 63601, 63607, 63609, 63615, 63617, 63619, 63623, 63626, 63628, 63630, 63632, 63636, 63640, 63643, 63645, 63647, 63649, 63653, 63657, 63660, 63662, 63664, 63666, 63670, 63674, 63677, 63679, 63681, 63683, 63687, 63691, 63694, 63696, 63698, 63700, 63704, 63708, 63711, 63713, 63715, 63717, 63721, 63725, 63728, 63730, 63732, 63734, 63738, 63744, 63750, 63758, 63766, 63777, 63783, 63787, 63815, 63836, 63838, 63840, 63842, 63846, 63855, 63868, 63871, 63880, 63893, 63895, 63907, 63923, 63933, 63945, 63951, 63968, 63980, 63982, 63988, 63996, 64004, 64014, 64025, 64027, 64030, 64035, 64050, 64057, 64069, 64071, 64073, 64076, 64080, 64082, 64084, 64086, 64088, 64096, 64098, 64102, 64104, 64106, 64108, 64110, 64114, 64120, 64122, 64126, 64128, 64130, 64132, 64134, 64138, 64144, 64146, 64150, 64152, 64154, 64156, 64158, 64160, 64162, 64164, 64166, 64168, 64170, 64173, 64179, 64183, 64185, 64187, 64189, 64191, 64199, 64203, 64205, 64208, 64211, 64220, 64223, 64226, 64230, 64232, 64234, 64236, 64238, 64241, 64247, 64251, 64253, 64255, 64257, 64259, 64264, 64268, 64272, 64274, 64276, 64278, 64280, 64287, 64291, 64293, 64295, 64297, 64299, 64305, 64307, 64309, 64311, 64313, 64315, 64317, 64319, 64322, 64324, 64326, 64333, 64335, 64338, 64340, 64343, 64345, 64347, 64354, 64360, 64385, 64387, 64389, 64391, 64394, 64396, 64401, 64404, 64408, 64410, 64413, 64416, 64418, 64421, 64423, 64428, 64431, 64435, 64437, 64440, 64443, 64445, 64448, 64450, 64455, 64458, 64462, 64464, 64467, 64470, 64472, 64474, 64476, 64478, 64480, 64486, 64489, 64492, 64494, 64496, 64498, 64500, 64502, 64504, 64507, 64509, 64511, 64513, 64515, 64518, 64520, 64525, 64527, 64529, 64532, 64534, 64536, 64540, 64542, 64544, 64546, 64548, 64551, 64553, 64555, 64563, 64567, 64569, 64580, 64582, 64587, 64589, 64595, 64598, 64600, 64603, 64613, 64617, 64643, 64652, 64671, 64681, 64702, 64711, 64728, 64739, 64743, 64752, 64765, 64776, 64783, 64785, 64792, 64798, 64800, 64809, 64828, 64839, 64851, 64853, 64855, 64857, 64860, 64863, 64869, 64871, 64873, 64875, 64878, 64880, 64882, 64887, 64890, 64893, 64896, 64904, 64907, 64915, 64917, 64919, 64928, 64936, 64946, 64952, 64954, 64963, 64967, 64991, 65003, 65005, 65013, 65018, 65021, 65023, 65029, 65031, 65040, 65053, 65064, 65066, 65068, 65070, 65072, 65078, 65080, 65086, 65088, 65090, 65094, 65096, 65098, 65100, 65102, 65104, 65106, 65108, 65110, 65112, 65115, 65117, 65121, 65127, 65129, 65131, 65138, 65142, 65144, 65148, 65150, 65155, 65159, 65161, 65163, 65167, 65170, 65172, 65174, 65176, 65180, 65189, 65193, 65195, 65197, 65199, 65202, 65207, 65211, 65213, 65215, 65218, 65220, 65222, 65224, 65226, 65232, 65265, 65279, 65290, 65299, 65315, 65333, 65340, 65352, 65357, 65361, 65365, 65377, 65381, 65383, 65385, 65388, 65390, 65392, 65394, 65396, 65398, 65400, 65415, 65417, 65439, 65441, 65443, 65445, 65452, 65466, 65481, 65489, 65515, 65517, 65521, 65526, 65531, 65537, 65555, 65557, 65559, 65561, 65569, 65571, 65576, 65593, 65603, 65619, 65623, 65626, 65628, 65630, 65633, 65636, 65638, 65640, 65644, 65647, 65649, 65667, 65669, 65672, 65674, 65676, 65684, 65690, 65695, 65700, 65702, 65708, 65717, 65730, 65735, 65744, 65746, 65748, 65755, 65760, 65764, 65769, 65771, 65773, 65778, 65792, 65802, 65835, 65839, 65841, 65843, 65845, 65847, 65849, 65851, 65854, 65861, 65870, 65893, 65895, 65898, 65901, 65919, 65969, 65972, 65974, 65976, 65978, 65980, 65982, 65985, 65988, 65994, 66008, 66010, 66031, 66033, 66036, 66039, 66057, 66060, 66109, 66112, 66114, 66116, 66118, 66120, 66123, 66132, 66154, 66156, 66159, 66162, 66180, 66220, 66223, 66225, 66227, 66229, 66231, 66236, 66246, 66258, 66265, 66283, 66292, 66298, 66303, 66319, 66321, 66323, 66349, 66355, 66361, 66370, 66377, 66379, 66384, 66387, 66389, 66391, 66393, 66395, 66397, 66399, 66402, 66406, 66409, 66411, 66413, 66416, 66418, 66420, 66428, 66448, 66457, 66478, 66482, 66484, 66487, 66489, 66490, 66492, 66494, 66497, 66503, 66510, 66527, 66535, 66546, 66553, 66561, 66568, 66574, 66582, 66589, 66595, 66606, 66610, 66624, 66627, 66629, 66632, 66636, 66650, 66662, 66675, 66679, 66681, 66684, 66696, 66702, 66707, 66716, 66718, 66721, 66730, 66741, 66744, 66746, 66750, 66761, 66777, 66779, 66784, 66792, 66800, 66812, 66822, 66837, 66843, 66853, 66864, 66882, 66886, 66888, 66892, 66915, 66934, 66951, 66970, 66972, 66998, 67000, 67003, 67012, 67015, 67018, 67023, 67031, 67046, 67052, 67069, 67085, 67087, 67091, 67098, 67110, 67118, 67136, 67138, 67145, 67147, 67150, 67159, 67161, 67163, 67166, 67195, 67197, 67219, 67227, 67234, 67241, 67250, 67252, 67261, 67263, 67276, 67278, 67296, 67305, 67311, 67322, 67327, 67332, 67338, 67364, 67380, 67400, 67405, 67413, 67416, 67435, 67453, 67458, 67460, 67462, 67465, 67469, 67471, 67473, 67505, 67519, 67523, 67536, 67548, 67567, 67577, 67607, 67621, 67630, 67640, 67652, 67654, 67658, 67661, 67693, 67701, 67732, 67736, 67746, 67757, 67760, 67763, 67787, 67798, 67805, 67807, 67817, 67849, 67863, 67865, 67867, 67882, 67896, 67905, 67914, 67924, 67926, 67950, 67978, 67988, 67995, 68008, 68011, 68014, 68034, 68045, 68049, 68065, 68067, 68069, 68072, 68075, 68077, 68081, 68100, 68102, 68104, 68107, 68122, 68140, 68142, 68156, 68158, 68160, 68169, 68185, 68205, 68212, 68214, 68216, 68223, 68235, 68255, 68257, 68261, 68268, 68274, 68294, 68315, 68322, 68325, 68327, 68329, 68334, 68339, 68344, 68349, 68352, 68355, 68360, 68367, 68372, 68379, 68382, 68387, 68393, 68399, 68404, 68411, 68418, 68424, 68431, 68433, 68439, 68441, 68443, 68445, 68447, 68449, 68451, 68453, 68455, 68459, 68465, 68467, 68469, 68471, 68473, 68476, 68481, 68484, 68490, 68492, 68494, 68498, 68500, 68502, 68504, 68506, 68508, 68516, 68518, 68520, 68522, 68526, 68533, 68535, 68540, 68549, 68551, 68553, 68555, 68557, 68560, 68562, 68564, 68566, 68568, 68570, 68572, 68574, 68578, 68581, 68583, 68587, 68589, 68591, 68593, 68595, 68597, 68599, 68601, 68603, 68612, 68621, 68636, 68642, 68654, 68672, 68679, 68694, 68714, 68738, 68749, 68776, 68786, 68793, 68799, 68801, 68803, 68806, 68808, 68818, 68846, 68872, 68892, 68903, 68911, 68930, 68932, 68934, 68936, 68938, 68942, 68946, 68948, 68950, 68953, 68958, 68960, 68962, 68965, 68967, 68970, 68972, 68974, 68977, 68981, 68983, 68986, 68989, 68991, 68993, 68996, 69000, 69003, 69005, 69008, 69010, 69014, 69022, 69025, 69027, 69029, 69031, 69033, 69035, 69037, 69040, 69042, 69044, 69046, 69048, 69051, 69053, 69058, 69060, 69062, 69065, 69067, 69069, 69073, 69075, 69077, 69079, 69081, 69084, 69086, 69089, 69091, 69093, 69095, 69103, 69115, 69117, 69120, 69122, 69124, 69126, 69158, 69170, 69186, 69222, 69228, 69230, 69239, 69260, 69267, 69274, 69278, 69285, 69296, 69298, 69312, 69314, 69316, 69332, 69356, 69376, 69381, 69386, 69388, 69404, 69427, 69442, 69444, 69467, 69478, 69485, 69487, 69489, 69491, 69496, 69498, 69500, 69503, 69505, 69507, 69510, 69512, 69514, 69519, 69523, 69525, 69527, 69530, 69532, 69534, 69536, 69540, 69542, 69547, 69549, 69551, 69553, 69555, 69558, 69563, 69569, 69571, 69577, 69579, 69585, 69587, 69593, 69595, 69608, 69610, 69612, 69614, 69620, 69639, 69653, 69673, 69675, 69681, 69690, 69702, 69705, 69739, 69752, 69761, 69767, 69769, 69771, 69779, 69781, 69783, 69785, 69787, 69789, 69791, 69796, 69798, 69809, 69811, 69814, 69816, 69818, 69821, 69825, 69836, 69859, 69869, 69881, 69908, 69910, 69936, 69938, 69952, 69983, 69990, 69998, 70001, 70011, 70056, 70086, 70107, 70109, 70111, 70116, 70125, 70131, 70137, 70144, 70152, 70156, 70177, 70185, 70187, 70200, 70212, 70214, 70219, 70221, 70223, 70230, 70232, 70239, 70244, 70249, 70251, 70253, 70255, 70257, 70259, 70261, 70263, 70265, 70267, 70269, 70271, 70280, 70286, 70291, 70294, 70297, 70300, 70303, 70305, 70307, 70309, 70312, 70314, 70316, 70322, 70324, 70330, 70332, 70334, 70338, 70341, 70343, 70345, 70347, 70354, 70356, 70363, 70367, 70370, 70372, 70377, 70380, 70382, 70391, 70394, 70400, 70403, 70405, 70412, 70415, 70417, 70422, 70428, 70433, 70435, 70437, 70439, 70443, 70446, 70448, 70450, 70453, 70456, 70460, 70473, 70489, 70497, 70499, 70501, 70511, 70517, 70525, 70528, 70530, 70532, 70534, 70536, 70573, 70588, 70590, 70595, 70597, 70606, 70617, 70633, 70669, 70681, 70693, 70700, 70713, 70727, 70743, 70766, 70781, 70793, 70797, 70802, 70805, 70807, 70811, 70815, 70818, 70820, 70837, 70848, 70866, 70870, 70876, 70878, 70880, 70887, 70890, 70895, 70899, 70908, 70914, 70916, 70930, 70937, 70939, 70955, 70963, 70965, 70967, 70969, 70982, 70984, 70998, 71000, 71002, 71016, 71042, 71069, 71080, 71082, 71084, 71102, 71104, 71108, 71124, 71139, 71141, 71143, 71167, 71184, 71186, 71201, 71206, 71214, 71221, 71223, 71226, 71254, 71256, 71283, 71295, 71300, 71316, 71330, 71333, 71335, 71339, 71343, 71346, 71348, 71351, 71353, 71357, 71359, 71361, 71363, 71365, 71369, 71375, 71379, 71381, 71383, 71385, 71387, 71391, 71397, 71399, 71403, 71406, 71408, 71410, 71412, 71414, 71416, 71420, 71423, 71427, 71429, 71431, 71433, 71435, 71438, 71456, 71459, 71462, 71466, 71468, 71470, 71472, 71474, 71478, 71481, 71484, 71486, 71488, 71490, 71492, 71494, 71496, 71498, 71506, 71510, 71513, 71516, 71518, 71520, 71522, 71524, 71526, 71529, 71539, 71543, 71545, 71547, 71549, 71551, 71554, 71562, 71565, 71568, 71572, 71574, 71576, 71578, 71580, 71583, 71596, 71599, 71602, 71606, 71608, 71612, 71625, 71627, 71630, 71632, 71635, 71639, 71645, 71648, 71657, 71663, 71693, 71697, 71699, 71701, 71703, 71705, 71708, 71713, 71717, 71719, 71721, 71723, 71726, 71731, 71733, 71735, 71737, 71739, 71741, 71744, 71746, 71748, 71753, 71755, 71757, 71759, 71764, 71769, 71771, 71773, 71775, 71778, 71781, 71783, 71785, 71790, 71792, 71799, 71820, 71837, 71848, 71851, 71853, 71857, 71859, 71862, 71878, 71894, 71896, 71916, 71934, 71954, 71962, 71974, 71989, 72009, 72018, 72021, 72028, 72030, 72033, 72037, 72044, 72051, 72062, 72077, 72086, 72100, 72130, 72132, 72136, 72138, 72140, 72143, 72145, 72148, 72158, 72160, 72162, 72165, 72167, 72169, 72172, 72174, 72176, 72180, 72182, 72187, 72189, 72194, 72197, 72199, 72202, 72208, 72211, 72213, 72215, 72217, 72219, 72222, 72225, 72227, 72232, 72234, 72238, 72243, 72245, 72248, 72250, 72254, 72257, 72259, 72268, 72270, 72275, 72277, 72279, 72281, 72284, 72286, 72288, 72290, 72292, 72294, 72296, 72299, 72301, 72303, 72305, 72307, 72310, 72312, 72314, 72316, 72320, 72322, 72324, 72340, 72357, 72363, 72378, 72401, 72415, 72423, 72431, 72433, 72435, 72438, 72440, 72445, 72447, 72449, 72451, 72455, 72461, 72465, 72467, 72469, 72471, 72473, 72475, 72477, 72479, 72481, 72483, 72485, 72488, 72494, 72498, 72500, 72502, 72504, 72506, 72508, 72510, 72512, 72514, 72516, 72518, 72522, 72525, 72529, 72531, 72533, 72535, 72537, 72541, 72544, 72548, 72550, 72552, 72554, 72556, 72558, 72560, 72562, 72568, 72570, 72572, 72574, 72578, 72580, 72582, 72584, 72586, 72590, 72593, 72597, 72599, 72601, 72603, 72605, 72607, 72615, 72617, 72621, 72623, 72625, 72627, 72629, 72633, 72636, 72638, 72642, 72644, 72646, 72648, 72650, 72655, 72658, 72664, 72666, 72670, 72672, 72674, 72676, 72678, 72681, 72689, 72691, 72696, 72698, 72700, 72702, 72714, 72716, 72718, 72722, 72724, 72726, 72728, 72731, 72742, 72746, 72748, 72750, 72752, 72754, 72757, 72765, 72769, 72771, 72773, 72775, 72777, 72779, 72782, 72789, 72791, 72794, 72796, 72798, 72800, 72802, 72804, 72812, 72817, 72819, 72822, 72825, 72835, 72838, 72840, 72842, 72844, 72846, 72848, 72851, 72859, 72861, 72864, 72870, 72873, 72875, 72881, 72883, 72887, 72889, 72891, 72893, 72895, 72899, 72904, 72906, 72908, 72910, 72912, 72914, 72916, 72918, 72920, 72922, 72924, 72926, 72928, 72930, 72932, 72934, 72938, 72940, 72942, 72944, 72947, 72949, 72951, 72953, 72956, 72958, 72960, 72962, 72965, 72967, 72969, 72971, 72973, 72975, 72977, 72979, 72981, 72983, 72985, 72987, 72989, 72991, 72993, 72995, 73001, 73009, 73017, 73034, 73041, 73049, 73051, 73056, 73061, 73063, 73065, 73068, 73070, 73073, 73075, 73077, 73080, 73082, 73084, 73086, 73088, 73091, 73093, 73100, 73102, 73105, 73107, 73112, 73118, 73120, 73122, 73125, 73127, 73130, 73132, 73135, 73137, 73140, 73146, 73148, 73150, 73152, 73159, 73161, 73163, 73165, 73168, 73170, 73176, 73179, 73182, 73184, 73186, 73188, 73190, 73192, 73194, 73197, 73199, 73204, 73206, 73208, 73211, 73213, 73215, 73219, 73221, 73224, 73226, 73229, 73231, 73233, 73235, 73238, 73240, 73243, 73245, 73261, 73272, 73279, 73293, 73295, 73307, 73332, 73345, 73371, 73375, 73402, 73414, 73424, 73426, 73428, 73430, 73432, 73440, 73442, 73444, 73447, 73449, 73457, 73459, 73462, 73471, 73473, 73478, 73482, 73486, 73489, 73494, 73500, 73502, 73504, 73506, 73508, 73510, 73512, 73516, 73520, 73522, 73524, 73526, 73528, 73538, 73540, 73542, 73545, 73547, 73551, 73553, 73556, 73562, 73567, 73569, 73571, 73581, 73583, 73586, 73593, 73603, 73618, 73621, 73626, 73628, 73632, 73639, 73655, 73671, 73673, 73675, 73681, 73683, 73685, 73691, 73693, 73699, 73701, 73703, 73710, 73714, 73717, 73719, 73721, 73723, 73727, 73736, 73741, 73746, 73750, 73752, 73754, 73756, 73758, 73778, 73780, 73805, 73825, 73837, 73852, 73865, 73867, 73882, 73888, 73894, 73896, 73899, 73926, 73928, 73934, 73936, 73940, 73944, 73949, 73952, 73954, 73961, 73964, 73966, 73973, 73975, 73977, 73979, 73981, 73992, 73998, 74013, 74026, 74028, 74030, 74035, 74047, 74049, 74054, 74062, 74064, 74066, 74070, 74072, 74075, 74078, 74082, 74084, 74086, 74088, 74090, 74092, 74094, 74098, 74100, 74102, 74106, 74108, 74110, 74112, 74114, 74118, 74120, 74124, 74126, 74128, 74130, 74132, 74136, 74138, 74142, 74144, 74146, 74148, 74150, 74152, 74154, 74156, 74158, 74160, 74162, 74165, 74170, 74172, 74174, 74178, 74180, 74182, 74184, 74186, 74190, 74192, 74194, 74196, 74198, 74200, 74202, 74206, 74208, 74212, 74214, 74216, 74218, 74220, 74224, 74226, 74230, 74232, 74236, 74238, 74240, 74242, 74244, 74246, 74248, 74252, 74257, 74261, 74263, 74266, 74270, 74277, 74279, 74283, 74285, 74287, 74289, 74291, 74295, 74300, 74302, 74306, 74308, 74310, 74312, 74314, 74321, 74325, 74327, 74330, 74334, 74339, 74341, 74343, 74345, 74347, 74349, 74351, 74355, 74357, 74360, 74362, 74364, 74367, 74369, 74371, 74373, 74375, 74388, 74398, 74426, 74429, 74446, 74454, 74473, 74475, 74477, 74485, 74487, 74490, 74492, 74495, 74497, 74500, 74502, 74504, 74506, 74508, 74510, 74512, 74517, 74519, 74522, 74525, 74528, 74530, 74533, 74536, 74539, 74542, 74544, 74546, 74548, 74550, 74552, 74554, 74557, 74559, 74561, 74563, 74565, 74568, 74570, 74575, 74577, 74579, 74582, 74584, 74586, 74590, 74592, 74595, 74597, 74600, 74602, 74606, 74609, 74611, 74613, 74638, 74654, 74662, 74690, 74692, 74694, 74697, 74709, 74711, 74724, 74726, 74737, 74739, 74741, 74747, 74749, 74755, 74757, 74759, 74765, 74767, 74773, 74775, 74777, 74783, 74785, 74791, 74793, 74795, 74801, 74803, 74809, 74811, 74813, 74820, 74827, 74834, 74838, 74840, 74844, 74846, 74850, 74852, 74856, 74859, 74861, 74863, 74865, 74869, 74873, 74876, 74878, 74880, 74882, 74886, 74894, 74904, 74912, 74920, 74924, 74926, 74928, 74930, 74932, 74936, 74938, 74940, 74942, 74944, 74949, 74954, 74959, 74972, 74976, 74978, 74980, 74982, 74984, 74987, 74989, 74997, 74999, 75003, 75008, 75011, 75013, 75015, 75017, 75023, 75025, 75027, 75029, 75031, 75033, 75036, 75041, 75044, 75046, 75048, 75050, 75053, 75057, 75059, 75062, 75064, 75067, 75069, 75073, 75075, 75078, 75080, 75088, 75092, 75095, 75098, 75100, 75102, 75105, 75107, 75109, 75112, 75114, 75117, 75119, 75123, 75126, 75128, 75131, 75136, 75138, 75140, 75143, 75145, 75147, 75149, 75152, 75156, 75159, 75162, 75177, 75182, 75193, 75209, 75214, 75217, 75222, 75230, 75234, 75241, 75246, 75249, 75261, 75271, 75280, 75285, 75287, 75297, 75316, 75332, 75342, 75354, 75363, 75369, 75380, 75391, 75403, 75410, 75446, 75449, 75456, 75469, 75494, 75511, 75518, 75534, 75552, 75575, 75578, 75582, 75589, 75615, 75618, 75621, 75623, 75625, 75628, 75630, 75632, 75635, 75637, 75640, 75642, 75646, 75649, 75653, 75657, 75659, 75662, 75667, 75669, 75671, 75674, 75676, 75678, 75680, 75682, 75688, 75698, 75709, 75718, 75720, 75722, 75724, 75760, 75772, 75788, 75809, 75817, 75833, 75844, 75860, 75874, 75886, 75896, 75930, 75942, 75957, 75960, 75969, 75971, 75973, 75975, 75977, 75979, 75982, 75987, 75989, 75994, 75996, 75999, 76001, 76003, 76005, 76008, 76010, 76032, 76035, 76037, 76052, 76056, 76059, 76063, 76065, 76069, 76071, 76074, 76076, 76078, 76081, 76083, 76085, 76087, 76089, 76091, 76093, 76095, 76097, 76103, 76106, 76109, 76112, 76114, 76116, 76118, 76120, 76122, 76124, 76130, 76133, 76136, 76139, 76141, 76143, 76145, 76147, 76149, 76151, 76157, 76160, 76163, 76166, 76168, 76170, 76172, 76174, 76176, 76182, 76185, 76188, 76190, 76192, 76194, 76196, 76198, 76200, 76203, 76205, 76207, 76209, 76211, 76214, 76216, 76218, 76220, 76224, 76226, 76229, 76231, 76234, 76236, 76238, 76240, 76243, 76245, 76273, 76281, 76289, 76294, 76310, 76321, 76327, 76339, 76357, 76371, 76374, 76379, 76386, 76389, 76400, 76405, 76407, 76410, 76412, 76415, 76421, 76430, 76456, 76482, 76486, 76497, 76499, 76501, 76506, 76509, 76515, 76517, 76520, 76542, 76546, 76548, 76551, 76559, 76561, 76563, 76565, 76568, 76573, 76578, 76590, 76595, 76598, 76600, 76603, 76611, 76613, 76617, 76635, 76643, 76659, 76679, 76681, 76683, 76685, 76688, 76690, 76693, 76699, 76701, 76707, 76709, 76711, 76717, 76719, 76725, 76727, 76729, 76731, 76738, 76745, 76747, 76751, 76754, 76756, 76758, 76760, 76764, 76768, 76771, 76773, 76775, 76777, 76781, 76785, 76787, 76789, 76798, 76800, 76805, 76812, 76816, 76818, 76820, 76826, 76835, 76839, 76843, 76845, 76849, 76856, 76860, 76862, 76866, 76868, 76870, 76875, 76880, 76882, 76888, 76893, 76918, 76943, 76952, 76959, 76968, 76970, 76973, 76975, 76982, 76989, 76997, 77008, 77023, 77025, 77036, 77038, 77047, 77054, 77066, 77077, 77082, 77093, 77099, 77107, 77114, 77116, 77122, 77136, 77152, 77160, 77164, 77170, 77178, 77184, 77198, 77206, 77214, 77216, 77218, 77220, 77222, 77234, 77254, 77269, 77290, 77307, 77320, 77333, 77335, 77342, 77352, 77358, 77366, 77368, 77374, 77389, 77391, 77393, 77395, 77397, 77423, 77434, 77449, 77456, 77461, 77473, 77476, 77502, 77514, 77519, 77531, 77552, 77562, 77564, 77566, 77582, 77592, 77605, 77611, 77636, 77649, 77667, 77672, 77675, 77677, 77687, 77694, 77697, 77702, 77707, 77714, 77730, 77737, 77739, 77741, 77743, 77763, 77769, 77780, 77791, 77800, 77807, 77809, 77811, 77813, 77815, 77818, 77821, 77823, 77828, 77833, 77836, 77838, 77842, 77845, 77847, 77850, 77852, 77858, 77862, 77866, 77869, 77871, 77875, 77877, 77880, 77884, 77886, 77888, 77890, 77892, 77898, 77901, 77904, 77908, 77910, 77912, 77914, 77916, 77920, 77923, 77927, 77929, 77932, 77936, 77942, 77946, 77948, 77950, 77952, 77954, 77958, 77961, 77965, 77967, 77969, 77971, 77973, 77977, 77983, 77987, 77989, 77991, 77993, 77995, 78002, 78006, 78008, 78010, 78012, 78014, 78025, 78029, 78031, 78033, 78035, 78037, 78041, 78047, 78051, 78053, 78055, 78057, 78059, 78065, 78068, 78071, 78075, 78077, 78080, 78084, 78086, 78089, 78092, 78096, 78098, 78100, 78102, 78104, 78113, 78116, 78119, 78123, 78125, 78127, 78129, 78131, 78140, 78143, 78146, 78148, 78150, 78152, 78158, 78161, 78164, 78169, 78171, 78173, 78182, 78184, 78186, 78191, 78193, 78198, 78200, 78202, 78205, 78209, 78211, 78215, 78217, 78219, 78221, 78228, 78230, 78232, 78239, 78241, 78243, 78246, 78250, 78252, 78254, 78256, 78258, 78260, 78262, 78264, 78266, 78269, 78271, 78273, 78275, 78278, 78280, 78282, 78284, 78286, 78288, 78290, 78292, 78294, 78296, 78298, 78300, 78302, 78304, 78306, 78308, 78310, 78312, 78314, 78316, 78319, 78321, 78323, 78335, 78345, 78347, 78349, 78364, 78375, 78395, 78397, 78399, 78416, 78430, 78438, 78460, 78481, 78498, 78517, 78527, 78529, 78537, 78547, 78558, 78568, 78588, 78591, 78594, 78607, 78612, 78619, 78622, 78629, 78631, 78634, 78636, 78638, 78644, 78646, 78648, 78651, 78653, 78658, 78660, 78663, 78669, 78671, 78675, 78685, 78692, 78694, 78696, 78698, 78702, 78704, 78717, 78720, 78725, 78727, 78730, 78738, 78740, 78743, 78745, 78748, 78758, 78761, 78766, 78768, 78771, 78784, 78792, 78794, 78796, 78801, 78803, 78806, 78809, 78811, 78813, 78816, 78818, 78821, 78823, 78825, 78828, 78831, 78842, 78844, 78846, 78849, 78851, 78853, 78862, 78864, 78866, 78868, 78870, 78872, 78874, 78879, 78881, 78883, 78886, 78888, 78891, 78900, 78905, 78908, 78910, 78912, 78914, 78916, 78918, 78920, 78923, 78925, 78927, 78929, 78931, 78934, 78936, 78938, 78940, 78942, 78944, 78946, 78948, 78950, 78952, 78956, 78958, 78963, 78965, 78968, 78970, 78973, 78976, 78978, 78994, 79013, 79048, 79063, 79070, 79089, 79120, 79138, 79146, 79154, 79157, 79167, 79173, 79235, 79257, 79286, 79289, 79293, 79309, 79325, 79335, 79337, 79339, 79344, 79349, 79356, 79361, 79369, 79372, 79377, 79383, 79386, 79389, 79394, 79396, 79398, 79424, 79428, 79432, 79436, 79440, 79444, 79447, 79450, 79452, 79454, 79456, 79463, 79467, 79476, 79490, 79497, 79502, 79508, 79510, 79514, 79520, 79522, 79524, 79531, 79533, 79539, 79541, 79547, 79556, 79558, 79562, 79569, 79571, 79599, 79619, 79623, 79639, 79647, 79656, 79668, 79671, 79675, 79677, 79679, 79681, 79683, 79689, 79691, 79697, 79699, 79701, 79705, 79707, 79709, 79711, 79713, 79715, 79722, 79726, 79729, 79731, 79733, 79735, 79739, 79748, 79753, 79755, 79757, 79759, 79761, 79763, 79767, 79769, 79771, 79773, 79775, 79781, 79783, 79789, 79791, 79793, 79797, 79800, 79802, 79804, 79806, 79810, 79814, 79816, 79818, 79821, 79831, 79833, 79835, 79837, 79839, 79841, 79850, 79862, 79878, 79885, 79902, 79914, 79923, 79931, 79937, 79954, 79956, 79958, 79960, 79967, 79972, 79979, 79983, 79985, 79987, 79995, 80013, 80015, 80019, 80021, 80024, 80029, 80036, 80039, 80044, 80055, 80057, 80064, 80069, 80071, 80073, 80076, 80079, 80081, 80087, 80092, 80094, 80099, 80102, 80107, 80109, 80114, 80116, 80122, 80127, 80129, 80132, 80134, 80139, 80141, 80146, 80150, 80155, 80157, 80163, 80165, 80171, 80179, 80181, 80183, 80186, 80188, 80190, 80192, 80194, 80196, 80199, 80203, 80205, 80207, 80209, 80211, 80216, 80220, 80222, 80224, 80226, 80228, 80232, 80235, 80239, 80241, 80243, 80245, 80247, 80254, 80258, 80260, 80262, 80264, 80266, 80268, 80270, 80272, 80274, 80281, 80283, 80285, 80289, 80291, 80293, 80295, 80297, 80302, 80304, 80306, 80308, 80310, 80312, 80319, 80323, 80325, 80327, 80329, 80331, 80335, 80338, 80342, 80344, 80346, 80348, 80350, 80352, 80354, 80366, 80371, 80373, 80375, 80377, 80379, 80386, 80390, 80392, 80394, 80396, 80398, 80409, 80413, 80415, 80417, 80419, 80421, 80432, 80436, 80438, 80440, 80442, 80444, 80447, 80456, 80459, 80462, 80466, 80468, 80470, 80472, 80474, 80485, 80487, 80490, 80493, 80497, 80499, 80502, 80512, 80514, 80516, 80518, 80520, 80522, 80524, 80526, 80530, 80532, 80535, 80537, 80539, 80547, 80549, 80551, 80556, 80565, 80579, 80592, 80600, 80604, 80606, 80625, 80633, 80635, 80638, 80640, 80651, 80656, 80662, 80667, 80674, 80678, 80680, 80686, 80689, 80694, 80703, 80708, 80716, 80723, 80734, 80739, 80741, 80743, 80748, 80757, 80759, 80765, 80775, 80788, 80796, 80803, 80805, 80807, 80809, 80811, 80815, 80819, 80821, 80825, 80827, 80831, 80834, 80836, 80839, 80841, 80843, 80846, 80848, 80851, 80856, 80859, 80864, 80866, 80868, 80872, 80874, 80877, 80879, 80881, 80884, 80889, 80893, 80896, 80898, 80900, 80902, 80904, 80907, 80909, 80912, 80915, 80920, 80922, 80924, 80926, 80928, 80931, 80933, 80938, 80940, 80943, 80945, 80947, 80949, 80951, 80954, 80956, 80958, 80960, 80963, 80965, 80968, 80970, 80974, 80977, 80979, 80981, 80983, 80985, 80988, 80990, 80992, 80994, 80996, 80998, 81000, 81002, 81005, 81007, 81009, 81011, 81013, 81016, 81018, 81020, 81022, 81026, 81028, 81033, 81035, 81038, 81040, 81043, 81046, 81048, 81051, 81056, 81059, 81078, 81087, 81090, 81092, 81109, 81118, 81125, 81136, 81146, 81152, 81169, 81176, 81178, 81180, 81183, 81186, 81196, 81209, 81220, 81232, 81245, 81252, 81259, 81261, 81265, 81274, 81276, 81289, 81291, 81293, 81295, 81300, 81302, 81304, 81306, 81308, 81319, 81322, 81328, 81330, 81335, 81337, 81367, 81401, 81403, 81405, 81411, 81413, 81419, 81421, 81423, 81429, 81431, 81437, 81439, 81441, 81447, 81449, 81455, 81457, 81459, 81465, 81467, 81473, 81475, 81477, 81481, 81483, 81485, 81487, 81489, 81491, 81495, 81497, 81499, 81501, 81503, 81505, 81512, 81519, 81523, 81526, 81528, 81530, 81532, 81536, 81540, 81543, 81545, 81547, 81549, 81553, 81557, 81560, 81562, 81564, 81566, 81570, 81574, 81577, 81579, 81581, 81583, 81587, 81596, 81605, 81612, 81616, 81618, 81620, 81622, 81624, 81628, 81630, 81632, 81634, 81636, 81640, 81642, 81644, 81646, 81648, 81655, 81659, 81661, 81666, 81675, 81685, 81691, 81695, 81697, 81699, 81701, 81703, 81706, 81708, 81721, 81729, 81731, 81741, 81750, 81761, 81769, 81778, 81787, 81792, 81805, 81807, 81810, 81812, 81815, 81817, 81819, 81821, 81823, 81825, 81828, 81830, 81833, 81836, 81840, 81849, 81851, 81853, 81866, 81869, 81877, 81882, 81902, 81919, 81932, 81936, 81947, 81951, 81958, 81963, 81969, 81983, 81986, 81992, 82006, 82022, 82025, 82030, 82041, 82061, 82075, 82078, 82109, 82142, 82158, 82160, 82163, 82179, 82191, 82193, 82195, 82211, 82221, 82228, 82231, 82233, 82240, 82246, 82251, 82256, 82260, 82262, 82268, 82274, 82280, 82285, 82290, 82293, 82296, 82298, 82300, 82306, 82308, 82311, 82313, 82317, 82319, 82321, 82323, 82325, 82329, 82331, 82334, 82337, 82340, 82342, 82344, 82346, 82348, 82350, 82352, 82356, 82358, 82361, 82364, 82366, 82368, 82370, 82372, 82374, 82378, 82380, 82383, 82386, 82391, 82393, 82395, 82397, 82399, 82403, 82405, 82408, 82410, 82412, 82414, 82416, 82418, 82420, 82428, 82430, 82435, 82437, 82439, 82447, 82449, 82451, 82486, 82503, 82521, 82531, 82547, 82569, 82587, 82601, 82615, 82625, 82643, 82648, 82651, 82654, 82659, 82664, 82680, 82687, 82694, 82720, 82722, 82724, 82731, 82733, 82736, 82738, 82741, 82743, 82746, 82748, 82755, 82760, 82764, 82771, 82777, 82780, 82782, 82784, 82786, 82788, 82790, 82792, 82794, 82796, 82799, 82801, 82803, 82805, 82807, 82810, 82813, 82815, 82817, 82819, 82821, 82825, 82827, 82829, 82831, 82833, 82835, 82838, 82840, 82842, 82844, 82846, 82848, 82850, 82857, 82880, 82883, 82885, 82913, 82929, 82940, 82944, 82958, 82974, 82979, 82985, 82991, 83012, 83014, 83016, 83018, 83020, 83022, 83024, 83026, 83028, 83035, 83039, 83044, 83046, 83048, 83050, 83052, 83054, 83058, 83062, 83065, 83067, 83072, 83074, 83079, 83081, 83085, 83089, 83092, 83095, 83099, 83101, 83103, 83108, 83117, 83123, 83125, 83127, 83129, 83131, 83135, 83137, 83139, 83141, 83143, 83146, 83148, 83150, 83160, 83162, 83165, 83169, 83171, 83176, 83180, 83182, 83184, 83186, 83188, 83197, 83199, 83201, 83206, 83208, 83210, 83213, 83215, 83219, 83221, 83223, 83226, 83230, 83233, 83237, 83242, 83245, 83247, 83249, 83251, 83253, 83255, 83261, 83263, 83269, 83271, 83273, 83280, 83284, 83287, 83289, 83291, 83293, 83297, 83303, 83305, 83311, 83313, 83315, 83321, 83323, 83329, 83331, 83333, 83337, 83340, 83342, 83344, 83346, 83350, 83354, 83357, 83359, 83361, 83363, 83367, 83371, 83374, 83376, 83378, 83380, 83384, 83388, 83400, 83402, 83404, 83406, 83408, 83410, 83412, 83414, 83416, 83438, 83446, 83450, 83454, 83460, 83468, 83474, 83482, 83487, 83490, 83495, 83501, 83506, 83517, 83522, 83525, 83529, 83533, 83536, 83556, 83564, 83575, 83577, 83587, 83601, 83610, 83620, 83627, 83634, 83640, 83648, 83654, 83661, 83672, 83677, 83682, 83687, 83689, 83692, 83694, 83697, 83700, 83706, 83708, 83710, 83712, 83714, 83717, 83722, 83724, 83735, 83739, 83750, 83755, 83761, 83767, 83776, 83782, 83789, 83806, 83808, 83811, 83817, 83821, 83824, 83833, 83852, 83860, 83867, 83879, 83897, 83905, 83918, 83924, 83926, 83932, 83934, 83936, 83942, 83944, 83950, 83952, 83954, 83960, 83962, 83968, 83970, 83972, 83978, 83980, 83986, 83988, 83990, 83996, 83998, 84004, 84006, 84008, 84014, 84016, 84022, 84024, 84026, 84032, 84034, 84040, 84042, 84044, 84050, 84052, 84058, 84060, 84062, 84068, 84070, 84076, 84078, 84080, 84086, 84088, 84094, 84096, 84098, 84104, 84106, 84112, 84114, 84116, 84122, 84124, 84130, 84132, 84134, 84140, 84142, 84148, 84150, 84152, 84156, 84158, 84160, 84162, 84164, 84166, 84173, 84177, 84179, 84181, 84185, 84187, 84189, 84193, 84196, 84198, 84200, 84202, 84206, 84210, 84213, 84215, 84217, 84219, 84223, 84227, 84230, 84232, 84234, 84236, 84240, 84244, 84247, 84249, 84251, 84253, 84257, 84261, 84264, 84266, 84268, 84270, 84274, 84278, 84281, 84283, 84285, 84287, 84291, 84295, 84298, 84300, 84302, 84304, 84308, 84313, 84315, 84317, 84319, 84321, 84329, 84332, 84337, 84342, 84347, 84352, 84358, 84360, 84365, 84370, 84375, 84381, 84385, 84391, 84393, 84395, 84397, 84399, 84410, 84421, 84428, 84438, 84445, 84463, 84486, 84494, 84512, 84526, 84544, 84555, 84570, 84572, 84595, 84611, 84627, 84638, 84640, 84653, 84658, 84684, 84694, 84711, 84718, 84721, 84723, 84725, 84730, 84732, 84737, 84739, 84744, 84746, 84750, 84755, 84757, 84763, 84765, 84767, 84769, 84771, 84775, 84777, 84780, 84787, 84789, 84791, 84793, 84795, 84799, 84801, 84804, 84811, 84813, 84815, 84817, 84819, 84823, 84828, 84831, 84837, 84839, 84841, 84843, 84845, 84847, 84849, 84851, 84853, 84855, 84857, 84861, 84863, 84865, 84867, 84869, 84872, 84878, 84880, 84882, 84884, 84886, 84888, 84890, 84892, 84894, 84898, 84900, 84902, 84904, 84907, 84913, 84915, 84917, 84919, 84921, 84925, 84930, 84933, 84939, 84941, 84943, 84945, 84947, 84950, 84965, 84967, 84970, 84974, 84979, 84982, 84988, 84990, 84992, 84994, 84996, 85008, 85010, 85012, 85018, 85023, 85026, 85031, 85033, 85035, 85041, 85044, 85052, 85054, 85056, 85058, 85061, 85065, 85080, 85082, 85086, 85088, 85090, 85092, 85095, 85099, 85119, 85121, 85123, 85125, 85127, 85136, 85139, 85146, 85148, 85150, 85152, 85154, 85156, 85158, 85160, 85162, 85171, 85173, 85175, 85178, 85180, 85182, 85184, 85186, 85188, 85190, 85192, 85194, 85196, 85198, 85200, 85202, 85204, 85206, 85208, 85210, 85212, 85214, 85225, 85229, 85231, 85233, 85235, 85237, 85239, 85246, 85250, 85255, 85257, 85259, 85265, 85270, 85277, 85279, 85281, 85289, 85291, 85293, 85301, 85303, 85305, 85307, 85309, 85328, 85338, 85348, 85371, 85398, 85408, 85416, 85418, 85421, 85432, 85434, 85437, 85448, 85450, 85452, 85460, 85462, 85464, 85466, 85469, 85471, 85474, 85480, 85482, 85486, 85488, 85490, 85492, 85494, 85496, 85498, 85503, 85510, 85512, 85515, 85520, 85522, 85527, 85529, 85531, 85533, 85541, 85543, 85545, 85547, 85549, 85554, 85557, 85559, 85562, 85573, 85575, 85578, 85589, 85592, 85595, 85598, 85601, 85604, 85606, 85608, 85610, 85612, 85614, 85616, 85619, 85621, 85623, 85625, 85627, 85630, 85632, 85634, 85636, 85638, 85640, 85642, 85644, 85646, 85650, 85652, 85655, 85657, 85660, 85662, 85665, 85668, 85670, 85674, 85688, 85690, 85708, 85713, 85715, 85717, 85726, 85740, 85762, 85780, 85811, 85818, 85821, 85826, 85830, 85835, 85842, 85850, 85857, 85860, 85865, 85873, 85888, 85892, 85902, 85908, 85918, 85931, 85936, 85944, 85946, 85948, 85967, 85977, 85979, 85981, 85986, 85997, 86000, 86006, 86014, 86016, 86018, 86020, 86028, 86030, 86032, 86037, 86041, 86043, 86052, 86066, 86074, 86076, 86086, 86092, 86094, 86100, 86115, 86127, 86142, 86154, 86156, 86158, 86162, 86165, 86174, 86198, 86200, 86236, 86257, 86276, 86290, 86312, 86318, 86323, 86327, 86329, 86336, 86354, 86357, 86361, 86382, 86393, 86418, 86433, 86451, 86461, 86485, 86493, 86496, 86498, 86510, 86515, 86522, 86542, 86544, 86546, 86549, 86554, 86559, 86577, 86589, 86596, 86605, 86617, 86623, 86633, 86635, 86639, 86642, 86651, 86653, 86657, 86661, 86666, 86684, 86686, 86697, 86702, 86718, 86721, 86742, 86750, 86752, 86774, 86779, 86788, 86791, 86802, 86822, 86824, 86826, 86829, 86833, 86835, 86836, 86843, 86846, 86866, 86881, 86883, 86885, 86887, 86895, 86897, 86899, 86902, 86904, 86910, 86961, 86963, 86965, 86971, 86974, 86976, 86995, 86997, 87001, 87011, 87014, 87017, 87019, 87021, 87024, 87028, 87030, 87040, 87047, 87049, 87064, 87068, 87070, 87081, 87098, 87104, 87106, 87108, 87112, 87114, 87128, 87131, 87134, 87147, 87168, 87170, 87191, 87194, 87196, 87201, 87204, 87211, 87215, 87219, 87223, 87226, 87228, 87234, 87239, 87243, 87247, 87249, 87255, 87257, 87259, 87261, 87263, 87267, 87272, 87275, 87281, 87284, 87286, 87288, 87290, 87292, 87295, 87297, 87299, 87301, 87306, 87308, 87312, 87318, 87320, 87322, 87324, 87326, 87330, 87332, 87335, 87341, 87343, 87345, 87347, 87349, 87355, 87360, 87363, 87369, 87371, 87373, 87375, 87377, 87383, 87386, 87392, 87394, 87396, 87398, 87400, 87404, 87413, 87415, 87417, 87419, 87421, 87426, 87432, 87434, 87436, 87438, 87440, 87444, 87446, 87449, 87456, 87458, 87460, 87462, 87464, 87469, 87472, 87477, 87480, 87486, 87488, 87490, 87492, 87494, 87496, 87498, 87500, 87502, 87504, 87506, 87512, 87514, 87516, 87518, 87521, 87527, 87529, 87531, 87533, 87535, 87541, 87544, 87547, 87551, 87553, 87555, 87557, 87559, 87565, 87568, 87574, 87576, 87578, 87580, 87582, 87584, 87586, 87588, 87590, 87596, 87598, 87600, 87603, 87610, 87612, 87614, 87616, 87618, 87624, 87627, 87633, 87635, 87637, 87639, 87641, 87646, 87649, 87651, 87653, 87655, 87657, 87659, 87661, 87663, 87665, 87667, 87669, 87671, 87673, 87680, 87682, 87686, 87688, 87690, 87692, 87694, 87696, 87698, 87702, 87705, 87707, 87711, 87713, 87715, 87717, 87719, 87721, 87723, 87725, 87736, 87750, 87763, 87782, 87790, 87805, 87816, 87827, 87840, 87848, 87883, 87885, 87888, 87905, 87910, 87913, 87916, 87919, 87924, 87926, 87928, 87958, 87978, 87980, 87987, 87990, 87993, 87998, 88001, 88003, 88006, 88011, 88014, 88017, 88019, 88021, 88023, 88026, 88028, 88031, 88034, 88039, 88042, 88044, 88046, 88048, 88050, 88052, 88054, 88057, 88059, 88061, 88063, 88065, 88068, 88070, 88072, 88074, 88076, 88080, 88082, 88090, 88092, 88095, 88097, 88103, 88106, 88108, 88116, 88128, 88133, 88147, 88159, 88165, 88169, 88182, 88189, 88199, 88208, 88220, 88222, 88230, 88233, 88245, 88264, 88272, 88286, 88299, 88306, 88310, 88316, 88326, 88348, 88352, 88356, 88361, 88374, 88388, 88398, 88422, 88424, 88440, 88471, 88482, 88508, 88510, 88512, 88514, 88516, 88518, 88523, 88549, 88564, 88570, 88583, 88598, 88600, 88612, 88624, 88644, 88646, 88648, 88650, 88652, 88658, 88664, 88668, 88673, 88679, 88690, 88692, 88698, 88704, 88706, 88708, 88716, 88722, 88725, 88728, 88737, 88739, 88758, 88760, 88765, 88770, 88780, 88783, 88786, 88791, 88794, 88796, 88798, 88802, 88807, 88812, 88815, 88827, 88830, 88834, 88837, 88839, 88841, 88844, 88846, 88850, 88855, 88858, 88865, 88867, 88871, 88873, 88880, 88882, 88884, 88889, 88894, 88899, 88907, 88915, 88917, 88919, 88921, 88923, 88931, 88952, 88957, 88959, 88961, 88968, 88971, 88974, 88976, 88978, 88988, 89000, 89007, 89009, 89018, 89025, 89029, 89033, 89050, 89058, 89073, 89085, 89087, 89089, 89099, 89108, 89115, 89124, 89127, 89138, 89146, 89148, 89150, 89159, 89170, 89176, 89182, 89196, 89201, 89211, 89221, 89226, 89236, 89251, 89253, 89255, 89257, 89281, 89283, 89299, 89330, 89341, 89367, 89373, 89383, 89406, 89408, 89413, 89415, 89417, 89428, 89441, 89456, 89464, 89467, 89501, 89505, 89510, 89519, 89544, 89549, 89559, 89570, 89572, 89577, 89590, 89609, 89611, 89623, 89629, 89675, 89685, 89696, 89706, 89717, 89730, 89741, 89744, 89747, 89754, 89772, 89804, 89806, 89835, 89856, 89881, 89892, 89898, 89900, 89904, 89918, 89933, 89937, 89948, 89951, 89953, 89958, 89962, 89964, 89967, 89977, 90014, 90016, 90021, 90024, 90031, 90033, 90041, 90043, 90054, 90067, 90075, 90085, 90113, 90116, 90120, 90124, 90126, 90129, 90147, 90150, 90152, 90157, 90162, 90168, 90171, 90173, 90177, 90179, 90183, 90187, 90190, 90192, 90195, 90199, 90203, 90206, 90208, 90211, 90215, 90217, 90220, 90222, 90236, 90238, 90242, 90244, 90246, 90248, 90250, 90252, 90254, 90268, 90270, 90274, 90276, 90278, 90280, 90282, 90286, 90292, 90296, 90298, 90300, 90303, 90305, 90307, 90309, 90311, 90313, 90317, 90333, 90337, 90339, 90341, 90344, 90346, 90348, 90350, 90352, 90354, 90372, 90377, 90379, 90381, 90384, 90386, 90388, 90390, 90392, 90394, 90402, 90406, 90409, 90411, 90413, 90415, 90418, 90420, 90426, 90430, 90432, 90434, 90436, 90438, 90442, 90452, 90457, 90459, 90461, 90463, 90465, 90469, 90479, 90483, 90485, 90488, 90498, 90500, 90502, 90504, 90506, 90508, 90510, 90512, 90514, 90516, 90518, 90529, 90546, 90548, 90551, 90553, 90555, 90579, 90595, 90635, 90638, 90647, 90662, 90678, 90684, 90691, 90693, 90695, 90697, 90699, 90703, 90705, 90710, 90712, 90715, 90718, 90720, 90722, 90724, 90726, 90729, 90731, 90736, 90738, 90741, 90744, 90746, 90748, 90751, 90753, 90758, 90761, 90764, 90767, 90769, 90771, 90773, 90775, 90777, 90779, 90782, 90784, 90786, 90788, 90790, 90793, 90795, 90797, 90799, 90801, 90805, 90807, 90809, 90813, 90815, 90818, 90820, 90822, 90824, 90826, 90829, 90831, 90835, 90855, 90866, 90869, 90874, 90890, 90903, 90910, 90944, 90949, 90966, 90972, 90974, 90985, 90996, 91003, 91013, 91015, 91017, 91019, 91021, 91023, 91025, 91031, 91033, 91035, 91037, 91045, 91048, 91050, 91056, 91058, 91060, 91062, 91065, 91068, 91070, 91074, 91076, 91078, 91080, 91082, 91088, 91090, 91097, 91099, 91104, 91107, 91116, 91118, 91121, 91123, 91127, 91131, 91134, 91145, 91147, 91149, 91155, 91157, 91161, 91168, 91175, 91184, 91189, 91191, 91193, 91196, 91199, 91204, 91206, 91210, 91217, 91219, 91226, 91229, 91233, 91238, 91259, 91262, 91268, 91280, 91289, 91292, 91294, 91297, 91301, 91305, 91308, 91312, 91315, 91317, 91321, 91327, 91329, 91335, 91337, 91339, 91343, 91345, 91347, 91349, 91351, 91353, 91360, 91364, 91367, 91369, 91371, 91373, 91377, 91386, 91392, 91396, 91398, 91400, 91402, 91404, 91410, 91416, 91422, 91424, 91426, 91430, 91432, 91436, 91438, 91442, 91444, 91446, 91448, 91450, 91456, 91460, 91462, 91464, 91466, 91468, 91471, 91473, 91481, 91487, 91492, 91494, 91498, 91513, 91531, 91555, 91559, 91576, 91594, 91609, 91624, 91628, 91639, 91646, 91652, 91654, 91660, 91662, 91664, 91668, 91671, 91673, 91675, 91677, 91681, 91683, 91685, 91693, 91717, 91719, 91741, 91769, 91804, 91825, 91835, 91849, 91851, 91855, 91857, 91866, 91877, 91884, 91904, 91920, 91931, 91960, 91972, 91974, 91990, 91994, 91996, 92013, 92029, 92057, 92060, 92062, 92064, 92068, 92070, 92072, 92078, 92080, 92082, 92084, 92086, 92089, 92097, 92100, 92106, 92108, 92110, 92112, 92114, 92118, 92123, 92126, 92133, 92135, 92140, 92149, 92157, 92160, 92162, 92164, 92166, 92168, 92170, 92174, 92176, 92179, 92181, 92185, 92187, 92194, 92196, 92198, 92200, 92202, 92206, 92209, 92211, 92215, 92217, 92219, 92221, 92223, 92225, 92227, 92229, 92231, 92248, 92266, 92283, 92305, 92307, 92310, 92314, 92319, 92321, 92331, 92333, 92336, 92338, 92340, 92343, 92345, 92347, 92349, 92359, 92361, 92369, 92371, 92374, 92376, 92379, 92381, 92384, 92395, 92411, 92413, 92416, 92418, 92420, 92422, 92424, 92426, 92428, 92431, 92433, 92435, 92437, 92439, 92442, 92444, 92446, 92448, 92450, 92452, 92454, 92456, 92458, 92462, 92464, 92466, 92468, 92470, 92473, 92475, 92477, 92479, 92482, 92484, 92486, 92488, 92509, 92528, 92547, 92564, 92569, 92571, 92574, 92576, 92579, 92599, 92614, 92642, 92648, 92650, 92666, 92678, 92698, 92710, 92722, 92730, 92743, 92759, 92773, 92803, 92807, 92810, 92819, 92821, 92824, 92832, 92838, 92845, 92854, 92863, 92866, 92871, 92873, 92875, 92877, 92890, 92897, 92906, 92913, 92919, 92922, 92924, 92926, 92930, 92933, 92937, 92939, 92941, 92945, 92947, 92950, 92953, 92965, 92967, 92970, 92975, 92977, 92979, 92982, 92984, 92987, 92990, 93001, 93003, 93005, 93008, 93013, 93033, 93036, 93040, 93044, 93046, 93048, 93053, 93062, 93064, 93066, 93068, 93073, 93076, 93079, 93084, 93086, 93095, 93101, 93106, 93108, 93116, 93121, 93123, 93126, 93132, 93143, 93145, 93164, 93195, 93197, 93199, 93201, 93203, 93209, 93211, 93217, 93219, 93221, 93228, 93232, 93235, 93237, 93239, 93241, 93245, 93253, 93257, 93259, 93261, 93263, 93266, 93272, 93274, 93280, 93282, 93284, 93288, 93291, 93293, 93295, 93297, 93301, 93304, 93307, 93320, 93337, 93355, 93357, 93360, 93366, 93374, 93401, 93407, 93415, 93424, 93430, 93433, 93444, 93450, 93477, 93482, 93486, 93499, 93508, 93517, 93519, 93521, 93523, 93525, 93545, 93559, 93561, 93563, 93567, 93573, 93606, 93614, 93620, 93640, 93648, 93657, 93662, 93664, 93666, 93690, 93704, 93721, 93730, 93746, 93751, 93759, 93789, 93791, 93802, 93826, 93834, 93841, 93845, 93847, 93855, 93857, 93869, 93889, 93897, 93900, 93910, 93920, 93926, 93929, 93931, 93945, 93949, 93952, 93956, 93961, 93963, 93970, 93978, 93981, 93996, 93998, 94011, 94017, 94023, 94025, 94028, 94035, 94037, 94053, 94060, 94065, 94069, 94073, 94075, 94078, 94081, 94083, 94085, 94088, 94090, 94097, 94106, 94108, 94113, 94118, 94120, 94122, 94124, 94126, 94128, 94133, 94135, 94139, 94141, 94144, 94148, 94151, 94153, 94163, 94165, 94167, 94169, 94171, 94173, 94178, 94180, 94185, 94188, 94190, 94193, 94197, 94199, 94201, 94203, 94205, 94207, 94209, 94211, 94213, 94224, 94228, 94230, 94232, 94234, 94236, 94243, 94247, 94249, 94251, 94253, 94255, 94262, 94266, 94268, 94270, 94272, 94274, 94280, 94284, 94286, 94288, 94290, 94292, 94294, 94296, 94298, 94300, 94302, 94304, 94307, 94313, 94315, 94319, 94321, 94323, 94325, 94328, 94332, 94334, 94336, 94338, 94340, 94342, 94344, 94346, 94348, 94355, 94357, 94361, 94363, 94365, 94367, 94369, 94378, 94380, 94383, 94385, 94389, 94391, 94393, 94395, 94397, 94401, 94404, 94408, 94410, 94412, 94414, 94416, 94423, 94425, 94427, 94429, 94431, 94433, 94437, 94440, 94444, 94446, 94448, 94450, 94452, 94455, 94463, 94466, 94469, 94472, 94474, 94476, 94478, 94480, 94482, 94484, 94486, 94488, 94490, 94492, 94494, 94496, 94500, 94505, 94511, 94513, 94515, 94517, 94519, 94521, 94523, 94527, 94530, 94532, 94536, 94538, 94540, 94542, 94544, 94546, 94548, 94550, 94566, 94589, 94612, 94639, 94665, 94679, 94702, 94712, 94715, 94727, 94729, 94735, 94739, 94768, 94801, 94803, 94805, 94809, 94816, 94822, 94824, 94826, 94831, 94833, 94839, 94844, 94848, 94864, 94876, 94878, 94880, 94882, 94884, 94887, 94889, 94894, 94896, 94899, 94902, 94905, 94908, 94911, 94914, 94917, 94919, 94921, 94923, 94925, 94927, 94929, 94932, 94934, 94936, 94938, 94940, 94943, 94945, 94950, 94952, 94954, 94957, 94959, 94961, 94965, 94967, 94969, 94975, 94977, 94980, 94982, 94984, 94986, 94989, 94991, 95015, 95021, 95039, 95056, 95058, 95061, 95064, 95088, 95092, 95110, 95112, 95114, 95120, 95125, 95127, 95129, 95141, 95156, 95171, 95192, 95208, 95214, 95231, 95244, 95258, 95260, 95262, 95269, 95276, 95300, 95302, 95316, 95319, 95322, 95324, 95328, 95330, 95339, 95343, 95353, 95355, 95357, 95362, 95366, 95368, 95371, 95380, 95385, 95418, 95433, 95440, 95445, 95453, 95455, 95469, 95471, 95473, 95475, 95485, 95491, 95493, 95499, 95501, 95503, 95507, 95509, 95511, 95515, 95518, 95520, 95522, 95524, 95528, 95532, 95534, 95536, 95539, 95546, 95551, 95556, 95562, 95568, 95571, 95576, 95579, 95589, 95594, 95597, 95602, 95604, 95606, 95608, 95610, 95612, 95614, 95616, 95619, 95621, 95634, 95638, 95640, 95642, 95645, 95647, 95656, 95670, 95672, 95683, 95685, 95689, 95691, 95730, 95745, 95773, 95810, 95812, 95814, 95817, 95830, 95845, 95861, 95886, 95909, 95911, 95914, 95934, 95984, 96015, 96017, 96030, 96048, 96080, 96083, 96085, 96087, 96089, 96091, 96093, 96095, 96099, 96101, 96104, 96106, 96110, 96112, 96114, 96116, 96118, 96122, 96124, 96127, 96130, 96133, 96138, 96140, 96147, 96150, 96153, 96156, 96158, 96160, 96162, 96164, 96166, 96170, 96173, 96178, 96180, 96182, 96184, 96186, 96190, 96192, 96195, 96198, 96201, 96203, 96207, 96209, 96211, 96213, 96215, 96219, 96221, 96224, 96227, 96230, 96234, 96236, 96238, 96240, 96242, 96246, 96248, 96251, 96254, 96257, 96261, 96263, 96266, 96268, 96270, 96277, 96280, 96283, 96286, 96290, 96293, 96295, 96297, 96299, 96302, 96304, 96306, 96311, 96317, 96320, 96324, 96326, 96328, 96330, 96332, 96336, 96341, 96343, 96346, 96349, 96351, 96355, 96357, 96359, 96361, 96363, 96365, 96367, 96369, 96371, 96373, 96375, 96378, 96383, 96385, 96387, 96389, 96391, 96394, 96397, 96399, 96403, 96405, 96407, 96409, 96411, 96415, 96420, 96422, 96425, 96428, 96432, 96434, 96436, 96438, 96440, 96444, 96451, 96453, 96456, 96459, 96463, 96465, 96467, 96469, 96471, 96477, 96479, 96482, 96485, 96489, 96491, 96493, 96495, 96497, 96506, 96509, 96519, 96522, 96532, 96541, 96550, 96553, 96563, 96566, 96569, 96572, 96574, 96577, 96580, 96584, 96586, 96588, 96590, 96593, 96599, 96602, 96604, 96607, 96610, 96612, 96615, 96617, 96619, 96621, 96624, 96631, 96634, 96639, 96649, 96652, 96654, 96667, 96670, 96672, 96682, 96685, 96687, 96692, 96696, 96698, 96701, 96714, 96717, 96719, 96722, 96724, 96726, 96728, 96730, 96732, 96734, 96738, 96744, 96746, 96748, 96750, 96752, 96754, 96761, 96774, 96779, 96793, 96807, 96813, 96823, 96825, 96828, 96830, 96837, 96846, 96848, 96850, 96853, 96855, 96857, 96859, 96863, 96877, 96879, 96883, 96886, 96899, 96902, 96904, 96906, 96908, 96911, 96913, 96917, 96919, 96921, 96939, 96941, 96943, 96945, 96947, 96949, 96951, 96956, 96958, 96961, 96964, 96966, 96969, 96972, 96974, 96976, 96978, 96980, 96982, 96984, 96987, 96989, 96991, 96993, 96995, 96998, 97000, 97005, 97007, 97009, 97012, 97014, 97016, 97020, 97022, 97024, 97033, 97035, 97038, 97040, 97043, 97046, 97048, 97051, 97053, 97056, 97063, 97070, 97073, 97080, 97103, 97117, 97134, 97151, 97153, 97155, 97157, 97174, 97176, 97178, 97182, 97188, 97190, 97192, 97199, 97208, 97210, 97212, 97214, 97222, 97228, 97230, 97255, 97257, 97262, 97265, 97270, 97272, 97274, 97277, 97283, 97290, 97296, 97305, 97308, 97310, 97312, 97315, 97320, 97325, 97332, 97334, 97336, 97347, 97364, 97367, 97384, 97392, 97396, 97400, 97403, 97417, 97419, 97423, 97425, 97429, 97432, 97438, 97442, 97444, 97446, 97448, 97450, 97452, 97458, 97460, 97466, 97482, 97498, 97500, 97510, 97515, 97517, 97522, 97525, 97533, 97535, 97537, 97543, 97545, 97551, 97553, 97555, 97561, 97563, 97569, 97571, 97573, 97579, 97581, 97587, 97589, 97591, 97597, 97599, 97605, 97607, 97609, 97615, 97617, 97623, 97625, 97627, 97633, 97635, 97641, 97643, 97645, 97651, 97653, 97659, 97661, 97663, 97669, 97671, 97677, 97679, 97681, 97687, 97689, 97695, 97697, 97699, 97705, 97707, 97713, 97715, 97717, 97721, 97723, 97725, 97727, 97729, 97731, 97735, 97737, 97739, 97741, 97743, 97745, 97749, 97751, 97753, 97757, 97759, 97761, 97765, 97767, 97769, 97773, 97775, 97777, 97781, 97783, 97785, 97789, 97791, 97793, 97797, 97799, 97801, 97805, 97807, 97809, 97813, 97815, 97817, 97824, 97828, 97830, 97832, 97839, 97843, 97846, 97848, 97850, 97852, 97856, 97860, 97863, 97865, 97867, 97869, 97873, 97877, 97880, 97882, 97884, 97886, 97890, 97894, 97897, 97899, 97901, 97903, 97907, 97911, 97914, 97916, 97918, 97920, 97924, 97928, 97931, 97933, 97935, 97937, 97941, 97945, 97948, 97950, 97952, 97954, 97958, 97962, 97965, 97967, 97969, 97971, 97975, 97979, 97982, 97984, 97986, 97988, 97992, 97996, 97999, 98001, 98003, 98005, 98009, 98018, 98027, 98035, 98040, 98045, 98054, 98061, 98065, 98067, 98073, 98078, 98083, 98088, 98092, 98094, 98096, 98098, 98102, 98104, 98106, 98108, 98112, 98114, 98116, 98118, 98122, 98124, 98126, 98128, 98132, 98134, 98136, 98138, 98142, 98144, 98146, 98148, 98152, 98154, 98156, 98158, 98162, 98164, 98166, 98168, 98172, 98174, 98176, 98178, 98180, 98184, 98186, 98188, 98190, 98192, 98196, 98198, 98203, 98207, 98212, 98216, 98221, 98226, 98231, 98236, 98240, 98242, 98246, 98248, 98258, 98267, 98270, 98279, 98282, 98291, 98294, 98303, 98306, 98315, 98318, 98323, 98331, 98336, 98341, 98348, 98353, 98358, 98365, 98370, 98375, 98381, 98384, 98388, 98390, 98392, 98396, 98398, 98400, 98404, 98406, 98410, 98412, 98414, 98418, 98420, 98422, 98426, 98428, 98430, 98435, 98440, 98445, 98450, 98455, 98460, 98462, 98464, 98466, 98470, 98486, 98495, 98511, 98514, 98516, 98529, 98543, 98579, 98593, 98606, 98630, 98661, 98676, 98678, 98681, 98686, 98688, 98691, 98693, 98696, 98698, 98700, 98702, 98704, 98710, 98714, 98716, 98718, 98720, 98722, 98726, 98729, 98733, 98735, 98737, 98739, 98741, 98745, 98751, 98753, 98757, 98759, 98761, 98763, 98765, 98769, 98779, 98782, 98786, 98788, 98790, 98792, 98794, 98798, 98808, 98811, 98815, 98817, 98820, 98824, 98830, 98837, 98839, 98841, 98843, 98846, 98848, 98856, 98858, 98863, 98865, 98867, 98869, 98872, 98874, 98884, 98888, 98890, 98892, 98894, 98897, 98899, 98908, 98911, 98915, 98917, 98919, 98921, 98923, 98927, 98930, 98934, 98936, 98939, 98942, 98954, 98958, 98960, 98962, 98964, 98966, 98970, 98972, 98974, 98976, 98978, 98980, 98982, 98984, 98986, 98988, 98990, 98993, 98995, 99000, 99002, 99005, 99007, 99009, 99018, 99041, 99068, 99076, 99078, 99080, 99082, 99085, 99088, 99090, 99092, 99095, 99098, 99101, 99103, 99105, 99108, 99110, 99112, 99115, 99118, 99121, 99123, 99131, 99134, 99136, 99145, 99147, 99151, 99162, 99164, 99167, 99173, 99176, 99179, 99181, 99183, 99185, 99187, 99189, 99191, 99194, 99196, 99198, 99200, 99202, 99205, 99207, 99209, 99211, 99215, 99217, 99224, 99226, 99229, 99231, 99233, 99238, 99241, 99243, 99253, 99255, 99257, 99259, 99287, 99304, 99312, 99317, 99335, 99339, 99372, 99390, 99414, 99425, 99444, 99449, 99451, 99453, 99463, 99478, 99483, 99486, 99488, 99490, 99497, 99502, 99518, 99529, 99531, 99533, 99541, 99546, 99554, 99577, 99587, 99594, 99606, 99608, 99610, 99617, 99620, 99626, 99636, 99640, 99651, 99653, 99655, 99661, 99666, 99675, 99677, 99679, 99681, 99683, 99692, 99700, 99702, 99714, 99721, 99728, 99730, 99749, 99751, 99758, 99760, 99766, 99768, 99772, 99778, 99780, 99786, 99788, 99790, 99794, 99796, 99798, 99800, 99802, 99804, 99806, 99808, 99810, 99813, 99820, 99824, 99827, 99829, 99831, 99833, 99837, 99845, 99848, 99857, 99866, 99870, 99872, 99876, 99878, 99882, 99884, 99886, 99888, 99890, 99895, 99898, 99908, 99914, 99923, 99928, 99932, 99934, 99936, 99938, 99942, 99948, 99964, 99968, 99978, 99980, 99983, 99986, 99996, 100007, 100032, 100034, 100036, 100038, 100041, 100049, 100060, 100068, 100077, 100092, 100094, 100097, 100099, 100103, 100105, 100107, 100111, 100117, 100130, 100138, 100148, 100150, 100158, 100173, 100177, 100180, 100183, 100187, 100190, 100192, 100195, 100197, 100200, 100202, 100204, 100206, 100210, 100213, 100215, 100219, 100222, 100224, 100227, 100229, 100233, 100237, 100240, 100242, 100245, 100247, 100250, 100252, 100255, 100257, 100259, 100262, 100265, 100267, 100270, 100272, 100274, 100277, 100279, 100282, 100284, 100286, 100288, 100290, 100293, 100295, 100297, 100303, 100305, 100311, 100313, 100315, 100319, 100322, 100324, 100326, 100328, 100332, 100336, 100338, 100340, 100342, 100344, 100346, 100350, 100376, 100379, 100383, 100385, 100387, 100416, 100428, 100436, 100448, 100470, 100480, 100487, 100494, 100516, 100528, 100536, 100544, 100557, 100567, 100569, 100591, 100601, 100607, 100610, 100613, 100618, 100626, 100634, 100637, 100656, 100658, 100665, 100669, 100674, 100676, 100678, 100681, 100685, 100687, 100689, 100699, 100704, 100707, 100713, 100715, 100717, 100734, 100736, 100738, 100759, 100765, 100771, 100776, 100778, 100782, 100788, 100802, 100804, 100806, 100808, 100823, 100829, 100831, 100838, 100840, 100843, 100855, 100872, 100880, 100882, 100888, 100899, 100918, 100936, 100945, 100947, 100951, 100953, 100955, 100966, 100971, 100973, 100976, 100978, 101003, 101011, 101015, 101024, 101031, 101035, 101041, 101046, 101048, 101050, 101052, 101054, 101059, 101061, 101072, 101074, 101076, 101080, 101085, 101090, 101098, 101104, 101107, 101109, 101112, 101117, 101124, 101126, 101128, 101131, 101134, 101136, 101138, 101142, 101144, 101148, 101151, 101155, 101157, 101160, 101163, 101165, 101171, 101173, 101178, 101183, 101185, 101192, 101196, 101200, 101202, 101208, 101215, 101217, 101224, 101231, 101235, 101237, 101239, 101242, 101250, 101254, 101256, 101258, 101260, 101265, 101267, 101270, 101272, 101274, 101276, 101278, 101280, 101284, 101287, 101291, 101294, 101296, 101298, 101300, 101302, 101305, 101307, 101309, 101311, 101317, 101321, 101323, 101329, 101335, 101340, 101342, 101347, 101355, 101357, 101360, 101362, 101364, 101366, 101368, 101370, 101373, 101379, 101381, 101385, 101387, 101389, 101391, 101393, 101397, 101403, 101407, 101409, 101412, 101415, 101427, 101430, 101433, 101435, 101437, 101439, 101442, 101444, 101454, 101458, 101460, 101462, 101464, 101466, 101470, 101476, 101480, 101482, 101484, 101486, 101488, 101492, 101495, 101499, 101501, 101503, 101505, 101507, 101516, 101518, 101522, 101524, 101527, 101530, 101533, 101538, 101547, 101550, 101554, 101556, 101558, 101560, 101562, 101564, 101566, 101568, 101570, 101572, 101574, 101577, 101583, 101585, 101588, 101590, 101592, 101594, 101597, 101599, 101607, 101611, 101613, 101615, 101617, 101619, 101621, 101623, 101625, 101627, 101634, 101638, 101641, 101645, 101647, 101649, 101651, 101653, 101655, 101657, 101659, 101661, 101665, 101671, 101675, 101677, 101679, 101681, 101683, 101685, 101687, 101689, 101691, 101694, 101700, 101705, 101707, 101709, 101711, 101713, 101715, 101718, 101720, 101728, 101731, 101733, 101741, 101744, 101747, 101753, 101755, 101757, 101759, 101762, 101764, 101772, 101775, 101777, 101785, 101788, 101791, 101795, 101797, 101799, 101801, 101804, 101806, 101814, 101817, 101819, 101828, 101831, 101836, 101838, 101842, 101844, 101855, 101859, 101861, 101863, 101865, 101868, 101870, 101881, 101885, 101887, 101889, 101891, 101893, 101897, 101899, 101904, 101920, 101923, 101925, 101929, 101931, 101933, 101938, 101943, 101953, 101955, 101957, 101961, 101963, 101965, 101967, 101970, 101976, 101979, 101996, 101999, 102001, 102003, 102005, 102007, 102009, 102012, 102014, 102016, 102020, 102022, 102024, 102027, 102031, 102033, 102035, 102039, 102041, 102043, 102046, 102050, 102052, 102056, 102058, 102060, 102062, 102064, 102066, 102068, 102072, 102077, 102082, 102084, 102087, 102094, 102101, 102103, 102125, 102127, 102130, 102137, 102139, 102142, 102144, 102147, 102150, 102156, 102158, 102165, 102167, 102173, 102184, 102193]\n"
          ]
        }
      ]
    },
    {
      "cell_type": "code",
      "source": [
        "labels_list = set()\n",
        "with open(\"/content/dev-n2c2.txt\",'r') as f1:\n",
        "  text = f1.readlines()\n",
        "  count = 0\n",
        "  print(str(text).count('B-', 0, len(str(text))))\n",
        "  for line in text:\n",
        "    count+=1\n",
        "    if(\"B-\" in line):\n",
        "      #print(line,count)\n",
        "      for i in range(len(support_list)-1):\n",
        "        if (support_list[i]<=count and support_list[i+1]>=count):\n",
        "          #print(i,count,i+1)\n",
        "          labels_list.add(support_list[i])\n",
        "#print(count)"
      ],
      "metadata": {
        "colab": {
          "base_uri": "https://localhost:8080/"
        },
        "id": "M2pUF7YwbMjY",
        "outputId": "871c7045-2dbc-4cd5-daa8-b890a739ff7a"
      },
      "execution_count": null,
      "outputs": [
        {
          "output_type": "stream",
          "name": "stdout",
          "text": [
            "6351\n"
          ]
        }
      ]
    },
    {
      "cell_type": "code",
      "source": [
        "print(labels_list)"
      ],
      "metadata": {
        "colab": {
          "base_uri": "https://localhost:8080/"
        },
        "id": "4fgKVcuIdLkB",
        "outputId": "29b156fb-e2fd-4cde-a360-c14d9c61c87c"
      },
      "execution_count": null,
      "outputs": [
        {
          "output_type": "stream",
          "name": "stdout",
          "text": [
            "{57348, 24582, 24586, 19, 24596, 57365, 24600, 24602, 73758, 57376, 24612, 16421, 16424, 8233, 41001, 90152, 90157, 8239, 90162, 73780, 8248, 90168, 16445, 90173, 90179, 90183, 90187, 90192, 16466, 32851, 90195, 82006, 32855, 8280, 90199, 90203, 57439, 57441, 73825, 8291, 90211, 16485, 32871, 90215, 90217, 90220, 73837, 82030, 90222, 16501, 119, 82041, 90236, 90242, 90246, 32905, 90250, 57483, 90252, 141, 82061, 90254, 16528, 57490, 16532, 32916, 32918, 16536, 32920, 8346, 16538, 32923, 82075, 90270, 73888, 32930, 90274, 90278, 90282, 178, 32946, 32948, 90292, 24764, 82109, 57534, 98495, 24769, 90305, 96104, 90309, 73926, 73928, 90313, 16586, 24778, 90317, 16590, 96106, 98511, 16594, 98514, 73940, 8405, 32982, 98516, 8408, 217, 90333, 82142, 24800, 90346, 16619, 33003, 24814, 16623, 73966, 16625, 90350, 82163, 90354, 98543, 24826, 73981, 90372, 16646, 16648, 73992, 49418, 8459, 73998, 8463, 8465, 90386, 8468, 90390, 8471, 49432, 33050, 90394, 33052, 74013, 16672, 33056, 33058, 8483, 90402, 33061, 57637, 90406, 90411, 74028, 74030, 90418, 74035, 33076, 8501, 16694, 90420, 82233, 90426, 8507, 16701, 8510, 90430, 82240, 16705, 33090, 74049, 8516, 90434, 33094, 16711, 8520, 74054, 82246, 82251, 33100, 16717, 8526, 90438, 82256, 90442, 74066, 90452, 8534, 16726, 33112, 74070, 16730, 74072, 8540, 33116, 8542, 16734, 33118, 8545, 16738, 33122, 41311, 8549, 16741, 33126, 33128, 8553, 33130, 8555, 74088, 82280, 74094, 82285, 16752, 90479, 82290, 8563, 74100, 16757, 24949, 8567, 16759, 74102, 33146, 74106, 16764, 8573, 33150, 74110, 82296, 41345, 33154, 387, 8579, 74114, 16774, 33158, 74120, 82311, 16778, 395, 8588, 74124, 16782, 82313, 74128, 82317, 16786, 98702, 74132, 82325, 16790, 90518, 98704, 8601, 57753, 74138, 82331, 8605, 57757, 98710, 16800, 8609, 57761, 82337, 16804, 57765, 98718, 98722, 74152, 8617, 16810, 49579, 57769, 8621, 57773, 16815, 74156, 8625, 74162, 16819, 82348, 8629, 57781, 74165, 82352, 57785, 74170, 82358, 8636, 57789, 74174, 82364, 8640, 16832, 16834, 57793, 8644, 57797, 74178, 74182, 8648, 57801, 74186, 82374, 8652, 82380, 98757, 98761, 74192, 57809, 16850, 25043, 74194, 57813, 8662, 16854, 74198, 33241, 8666, 57817, 16860, 74202, 8670, 82391, 74208, 82399, 8674, 90595, 16868, 57828, 74212, 82405, 16872, 74216, 16874, 98786, 74220, 16877, 8686, 57837, 16880, 57841, 8690, 98794, 82420, 98798, 57847, 74232, 8698, 16891, 74236, 98811, 8702, 16895, 98815, 57857, 8706, 16899, 74242, 57861, 98817, 16903, 74248, 521, 8713, 16907, 8716, 57865, 90635, 90638, 8721, 16914, 74257, 82451, 8725, 16918, 57877, 536, 57881, 8730, 16922, 8732, 57885, 542, 16926, 74263, 74266, 16930, 41506, 98846, 551, 74279, 16937, 25130, 16939, 41514, 25133, 49707, 16943, 560, 57898, 57905, 16947, 74283, 57909, 74287, 16951, 41528, 57913, 74291, 98867, 98872, 98874, 74302, 49728, 74306, 579, 8771, 57923, 74310, 57927, 98884, 8777, 74314, 57931, 98888, 8781, 98892, 57935, 41552, 8785, 74321, 595, 98897, 8789, 74325, 41559, 74327, 84787, 57946, 74330, 98899, 25181, 41565, 57950, 98911, 8801, 57954, 98915, 8805, 33382, 57958, 98919, 8809, 98923, 8813, 25198, 41582, 41584, 57967, 98930, 629, 98934, 8823, 25208, 57977, 98936, 8827, 98939, 57981, 98942, 8831, 49793, 8835, 57987, 57991, 8842, 98954, 25228, 57997, 8846, 98958, 49808, 58001, 8850, 98962, 58005, 8854, 25238, 98966, 8857, 58009, 82587, 74398, 58015, 8866, 58019, 49829, 8870, 58023, 49832, 82601, 8874, 25259, 41642, 49834, 8878, 49837, 90795, 8881, 49841, 58035, 82615, 41658, 58042, 8893, 17086, 8895, 58046, 8898, 58050, 8902, 58054, 17097, 8906, 41675, 8908, 58063, 58067, 82643, 58071, 82648, 82651, 49886, 82654, 41696, 58083, 41700, 82659, 49894, 58089, 58091, 58094, 58097, 49906, 58111, 58115, 58119, 41736, 41746, 17172, 41751, 58140, 90910, 58146, 58150, 41769, 58154, 41773, 90944, 17244, 58208, 58214, 50024, 90985, 82810, 82813, 82815, 9089, 82817, 99207, 17294, 17296, 41876, 17301, 41885, 17312, 17316, 17318, 17320, 17330, 50112, 82885, 17351, 17354, 99287, 99304, 41972, 41979, 41986, 99335, 99339, 41998, 42006, 42013, 42020, 99372, 42034, 42042, 101171, 101173, 17511, 17533, 101185, 17579, 42161, 42163, 42165, 42167, 17606, 99554, 91386, 99594, 17676, 91404, 91410, 42262, 91416, 58651, 17692, 58663, 42281, 58666, 101215, 9530, 50493, 17735, 42315, 58702, 58710, 42334, 17774, 42351, 42360, 9597, 42367, 42387, 26011, 58780, 9635, 26030, 101239, 26034, 50619, 101250, 101254, 58876, 42501, 50698, 58894, 26128, 58896, 42514, 101260, 26141, 58916, 50728, 26153, 98729, 26155, 42542, 58931, 9780, 26175, 34371, 26179, 26181, 26183, 26185, 26187, 101270, 26189, 34388, 42587, 91741, 34401, 42594, 58978, 50788, 58980, 1641, 101276, 34413, 50803, 42615, 91769, 50825, 1675, 59020, 26258, 50834, 26260, 26262, 50843, 59036, 59039, 26272, 50848, 26274, 26276, 9894, 26278, 59049, 59056, 91825, 59063, 91835, 59070, 59075, 1733, 59080, 34508, 1741, 83661, 59088, 59106, 59109, 91877, 59114, 91884, 59118, 59128, 59134, 18181, 67338, 18192, 91920, 34581, 50968, 50970, 18203, 34588, 91931, 67364, 50990, 59186, 91960, 59197, 18240, 51009, 1858, 51011, 18244, 91974, 51017, 100180, 51030, 100183, 34648, 100187, 100192, 51043, 1893, 100197, 92013, 100206, 1905, 100210, 100215, 34680, 100219, 1916, 34687, 100224, 1925, 100229, 100233, 18314, 10124, 67469, 100237, 67473, 59282, 100242, 59284, 59286, 100247, 51096, 59288, 59290, 100252, 92064, 51105, 34722, 92068, 51111, 92072, 51115, 92078, 51119, 67505, 92082, 51123, 92086, 51129, 92089, 51133, 67519, 51137, 1986, 67523, 92097, 92100, 51146, 92106, 1996, 75724, 92110, 51153, 92114, 51157, 92118, 51161, 51165, 92126, 2016, 92133, 51174, 92135, 10218, 51180, 10221, 34797, 92140, 51184, 51188, 67577, 18427, 2045, 34817, 34819, 18438, 2058, 34834, 2071, 67607, 100376, 67630, 18481, 18491, 51265, 101370, 34884, 34896, 34899, 18520, 92248, 51295, 59497, 92266, 59501, 2164, 67701, 100470, 2171, 92283, 100480, 51334, 67732, 92310, 2199, 51353, 92314, 2204, 92321, 2210, 67757, 92336, 59573, 75960, 51385, 2235, 2237, 100544, 100557, 2260, 100567, 2265, 35034, 100569, 67807, 2291, 2293, 100601, 2305, 76037, 100613, 67849, 43289, 100634, 67867, 35100, 92444, 92446, 100637, 92448, 92450, 2350, 2352, 2361, 35130, 43323, 2365, 43327, 35137, 67914, 100685, 35151, 100687, 35153, 100689, 35155, 35158, 100699, 100704, 2406, 2411, 2413, 67950, 2418, 2426, 84352, 100736, 2436, 2440, 2446, 59797, 27030, 2456, 59804, 2461, 100765, 2465, 27042, 2467, 100771, 27049, 27052, 2478, 2488, 76216, 27070, 2495, 2498, 100804, 51653, 92614, 51655, 2504, 84428, 2518, 100823, 2523, 100831, 2529, 2534, 92648, 100840, 92650, 68075, 27119, 2544, 68081, 2548, 2552, 2556, 2562, 2566, 27143, 2570, 68107, 2574, 27160, 2585, 68122, 2589, 2593, 2597, 92710, 59949, 68142, 84526, 2608, 2612, 51765, 2616, 92730, 2620, 51772, 68156, 51779, 2632, 68169, 100936, 2637, 2643, 76371, 19030, 2648, 2654, 35422, 2660, 76389, 2662, 27239, 2665, 68205, 2670, 68212, 2678, 2682, 2684, 2687, 68223, 35457, 2697, 92810, 68235, 2711, 2715, 2719, 68255, 51873, 84640, 101024, 68261, 101031, 2731, 101035, 2735, 101041, 68274, 2739, 2743, 19127, 19129, 51895, 101048, 101052, 2750, 51902, 101054, 51905, 2754, 101061, 2758, 2762, 19147, 92877, 2779, 51933, 2785, 19172, 27366, 2792, 43752, 2794, 51944, 68329, 76520, 68334, 27377, 92913, 68339, 2804, 84725, 51958, 2808, 68344, 2810, 43771, 19196, 68349, 84732, 68355, 84739, 2821, 43783, 68360, 2825, 84746, 2829, 84750, 68367, 2833, 68372, 84757, 2839, 92953, 2842, 68379, 84763, 2846, 19231, 68382, 19233, 2850, 68387, 2852, 43813, 84767, 60199, 84771, 68393, 27434, 84777, 84780, 101165, 60206, 68399, 2864, 52017, 19250, 52019, 2868, 60212, 11062, 27447, 2872, 52022, 68404, 68411, 2876, 60221, 84791, 84795, 101178, 2881, 11074, 52033, 68418, 84801, 60230, 35655, 68424, 52041, 84804, 84811, 101192, 101196, 84815, 68433, 101202, 84819, 68439, 101208, 2906, 84828, 27485, 2910, 43871, 68447, 84831, 2914, 27491, 68451, 84837, 2918, 68455, 27496, 101217, 101224, 68459, 2924, 27501, 52076, 84847, 2928, 68465, 101231, 27507, 84851, 43893, 2934, 68469, 101235, 27513, 68473, 52091, 2940, 68476, 27518, 84857, 27520, 84865, 101242, 2947, 27524, 2949, 52102, 68484, 27528, 43912, 52105, 2955, 68490, 2957, 84872, 27535, 84878, 2961, 101258, 27539, 2964, 35733, 52118, 27543, 43928, 68500, 68504, 27547, 68508, 84886, 84890, 2975, 84894, 101272, 35746, 2979, 27556, 52133, 84902, 2983, 27560, 101280, 101287, 2987, 27564, 84907, 68526, 27567, 101291, 84913, 101298, 43956, 68533, 84917, 68535, 101302, 84921, 27578, 101307, 11196, 3005, 27582, 68540, 3009, 27586, 84930, 43973, 27590, 3015, 84933, 101317, 101321, 84939, 101323, 3021, 27599, 84943, 11217, 27603, 3028, 11220, 3030, 27607, 84947, 84950, 3034, 11227, 43994, 101335, 3038, 101340, 101342, 3042, 27619, 44003, 84965, 3046, 19430, 35815, 27625, 84967, 52203, 84970, 27629, 101355, 3055, 19440, 101357, 101360, 19443, 84979, 3061, 84982, 27639, 3064, 52217, 101368, 11259, 3068, 27643, 52220, 27647, 3072, 11265, 3074, 27651, 84988, 76805, 3078, 84992, 11272, 84996, 27658, 101379, 101381, 27661, 101385, 101389, 101393, 35863, 52249, 19482, 101403, 68636, 52254, 101407, 101409, 52258, 27683, 11300, 101412, 11303, 101415, 27690, 52266, 3117, 27694, 52269, 3121, 27698, 101427, 85044, 3125, 3129, 101433, 85052, 3133, 27709, 52286, 68672, 101437, 27715, 101444, 85061, 27719, 68679, 19529, 27723, 3148, 44108, 101454, 44114, 101458, 27732, 68694, 101462, 3160, 27736, 85080, 85082, 3164, 19549, 27740, 85086, 3168, 101466, 19554, 85090, 101476, 27750, 85095, 19560, 27752, 35945, 27755, 19564, 85099, 44142, 101480, 3184, 19568, 3186, 101484, 101488, 3189, 101495, 44152, 3193, 19579, 101499, 3197, 19581, 3199, 85119, 19585, 101503, 85123, 101507, 19589, 44166, 35975, 85127, 19593, 35980, 101516, 3214, 101518, 85136, 3218, 19603, 85139, 101522, 3222, 19607, 3226, 19611, 35994, 85146, 101530, 19615, 85158, 19625, 85162, 52397, 101550, 19633, 101554, 19636, 85173, 19642, 3264, 19649, 44224, 101568, 19653, 101574, 19657, 44234, 101577, 101583, 101585, 36050, 101588, 101592, 101594, 19675, 101597, 11486, 101599, 27876, 101607, 36074, 11499, 101611, 101619, 101623, 101627, 36100, 101641, 11533, 44301, 101645, 27923, 36117, 85270, 101653, 101657, 11548, 44316, 101661, 11555, 19747, 11557, 44325, 101671, 3371, 27947, 44331, 101675, 68911, 101683, 101687, 44346, 101691, 101694, 52546, 3395, 101700, 101705, 60747, 44368, 36181, 101718, 44376, 36185, 101720, 101733, 93545, 3438, 44401, 101747, 11636, 11641, 60793, 101753, 11647, 101762, 11651, 101764, 60809, 11658, 101777, 44434, 28055, 11673, 11677, 101791, 101795, 101799, 11688, 60842, 101804, 101806, 11700, 93620, 44472, 101819, 11708, 11711, 101831, 93640, 101836, 101838, 3535, 101842, 101844, 3543, 3547, 11741, 93662, 3551, 44511, 101855, 93666, 3555, 101859, 101863, 101868, 101870, 101881, 101885, 3584, 101889, 101893, 11783, 101899, 101904, 3602, 28178, 44576, 101920, 44581, 101925, 3624, 101931, 44590, 101938, 44595, 101943, 44601, 3645, 20030, 44608, 101953, 11844, 101957, 28233, 44617, 101961, 44621, 61006, 44626, 101970, 44633, 101979, 44638, 93791, 44648, 93802, 101996, 44654, 69230, 44661, 44666, 44668, 93826, 44675, 11910, 93834, 11915, 44685, 11919, 44687, 11921, 102035, 44696, 28313, 52892, 44704, 52899, 44713, 52906, 93869, 44719, 11957, 44725, 102072, 11961, 85690, 44732, 11965, 44736, 11969, 69312, 69316, 11975, 44744, 11980, 44748, 11984, 44752, 11988, 69332, 44759, 11994, 44764, 11998, 44768, 12002, 44772, 12006, 93926, 93931, 12012, 44781, 69356, 12016, 12020, 44791, 12024, 44795, 44797, 12030, 44800, 12035, 93956, 69381, 44806, 12039, 44808, 53001, 69386, 12043, 44812, 93961, 12047, 44816, 93970, 85780, 12053, 20247, 12058, 44827, 93978, 93981, 12063, 44831, 53023, 61215, 12067, 44835, 77605, 53030, 12071, 44839, 53033, 93996, 44846, 93998, 44848, 44853, 44855, 12089, 94011, 94017, 12103, 44871, 94023, 12107, 44875, 44877, 61259, 94028, 44880, 12113, 12116, 12121, 53081, 61273, 28508, 12125, 44896, 12129, 85857, 44900, 12133, 85860, 44904, 53097, 77672, 28523, 77675, 85865, 12142, 44910, 12146, 44914, 53107, 12150, 44918, 53110, 12154, 44922, 44926, 12160, 12165, 94085, 94088, 12169, 94090, 77707, 12174, 12177, 44946, 77714, 94097, 44950, 44954, 12188, 94108, 44958, 12192, 94113, 12200, 85931, 77743, 12208, 94128, 44979, 12213, 53175, 94135, 94141, 12223, 94144, 12227, 44996, 77763, 12231, 94153, 12235, 12237, 4049, 74075, 45013, 4055, 12248, 53207, 45019, 12252, 94171, 94173, 77791, 12256, 74078, 12260, 45029, 94180, 53223, 94185, 12271, 94193, 45043, 12276, 94197, 12278, 45047, 61430, 74082, 12282, 45051, 94203, 53245, 12287, 45055, 77823, 94207, 94209, 77828, 94213, 77833, 77838, 94224, 77842, 94228, 12310, 77847, 94232, 45081, 61465, 77850, 12316, 77852, 94236, 12320, 77858, 94243, 12324, 77862, 12327, 53288, 94247, 77866, 94251, 77869, 77871, 12336, 94255, 12340, 53301, 94262, 12344, 77880, 94266, 12348, 77884, 94270, 77888, 94274, 77892, 12359, 94280, 12363, 61516, 61518, 12367, 77904, 12371, 77908, 61525, 77912, 94298, 77916, 12381, 61534, 61536, 12385, 94304, 77923, 94307, 12389, 61543, 12393, 77929, 94313, 77932, 61549, 12402, 94325, 12406, 61558, 77942, 94328, 12410, 61562, 77946, 94332, 12414, 77950, 61568, 53378, 77954, 61572, 94340, 77961, 61579, 94348, 77965, 61582, 61584, 77969, 12434, 61588, 77973, 94357, 12440, 61593, 94361, 61596, 94365, 86174, 77983, 94369, 12450, 77987, 53412, 12454, 77991, 12458, 77995, 94378, 94380, 94385, 78002, 12468, 94389, 78006, 12472, 53432, 78010, 82262, 12476, 86200, 78014, 94393, 94397, 94404, 53446, 94408, 12489, 78025, 12491, 94412, 78029, 12496, 78033, 94416, 78037, 82268, 94423, 12505, 94425, 86236, 94429, 12511, 78047, 94433, 12515, 78051, 12519, 78055, 94440, 12522, 78059, 94444, 94448, 86257, 12532, 94452, 82274, 78071, 12536, 78075, 12540, 78077, 20736, 78080, 12549, 12552, 78092, 12558, 78096, 12562, 78100, 12566, 78104, 12575, 12578, 78119, 12584, 78123, 78127, 12592, 45361, 78131, 86323, 45367, 12600, 12603, 86336, 12610, 45380, 12615, 12621, 45390, 12625, 78164, 12629, 82293, 12632, 86361, 12641, 12644, 94566, 12650, 53613, 12654, 86382, 12658, 53622, 82300, 12667, 53627, 12670, 4480, 53635, 12679, 12688, 53648, 4499, 94612, 45465, 4507, 12699, 45468, 37279, 4512, 86433, 45477, 12718, 45489, 4531, 20929, 61893, 90457, 61915, 20956, 90461, 53732, 20966, 61926, 90465, 86522, 37371, 94715, 37377, 21001, 53773, 86542, 94735, 94739, 37405, 86559, 53795, 53799, 61996, 21050, 21062, 21066, 90483, 21068, 86605, 78416, 53845, 82344, 90485, 53849, 86617, 21086, 86623, 21090, 21092, 90488, 53867, 53871, 21112, 53882, 86651, 21116, 78460, 21118, 94848, 37507, 86661, 21135, 21139, 53907, 21141, 86684, 78498, 21158, 21162, 53930, 21164, 53935, 53937, 53944, 53949, 53951, 21184, 86721, 21188, 82366, 21190, 53959, 53963, 53965, 45775, 45777, 78547, 86742, 21210, 37596, 53981, 21214, 21216, 86752, 53986, 53988, 53992, 53996, 53998, 37617, 37620, 54007, 21243, 54011, 54013, 86779, 21247, 78591, 78594, 13061, 13063, 21255, 13065, 54023, 54027, 54029, 13071, 13073, 21266, 21269, 21271, 54039, 54043, 21276, 54045, 45857, 54054, 86822, 4905, 54058, 82386, 54060, 86829, 54062, 95021, 86836, 54073, 21306, 54075, 21308, 86846, 54079, 54081, 21325, 54093, 21329, 54098, 21331, 4948, 54100, 95064, 54111, 86881, 54115, 4964, 54117, 21350, 86887, 98681, 21356, 21360, 21364, 95092, 54135, 21368, 86904, 74261, 54141, 21377, 54145, 21381, 54149, 54151, 21385, 54155, 21389, 21395, 21399, 54168, 37785, 95129, 21403, 54172, 21407, 37792, 54176, 95141, 21414, 98693, 37801, 21418, 54186, 21422, 54190, 21426, 37810, 54194, 54196, 95156, 98696, 21432, 37819, 21436, 70590, 21440, 37825, 21444, 37833, 21450, 54218, 21454, 37839, 54222, 54224, 21458, 37843, 21462, 37846, 21466, 37850, 54236, 21470, 37855, 54240, 21474, 54244, 21478, 54246, 37865, 54249, 70633, 21485, 95214, 37872, 21489, 29684, 21493, 54262, 37879, 21497, 54266, 37886, 54270, 21504, 95231, 54274, 21508, 37895, 21512, 21516, 70669, 37902, 29711, 98714, 21525, 37910, 54297, 70681, 54301, 37918, 21535, 95262, 37922, 54307, 62498, 70693, 62502, 37927, 54311, 21545, 95269, 37931, 70700, 21549, 37937, 21555, 54323, 54327, 54329, 70713, 21565, 54333, 21569, 21573, 62534, 54343, 87114, 54347, 46157, 54351, 54355, 5205, 21591, 78936, 46170, 78938, 78940, 54365, 21598, 78942, 78944, 54369, 21602, 78946, 78948, 54373, 21606, 62566, 54377, 21610, 87147, 98733, 54386, 21619, 21621, 54390, 21624, 54394, 54397, 78978, 98737, 21637, 62597, 21643, 21647, 54418, 21651, 70802, 54422, 98741, 54426, 62618, 70811, 87196, 54430, 21663, 70815, 87201, 87204, 21670, 62635, 87211, 54445, 87215, 29873, 54449, 87219, 29877, 21686, 54453, 87223, 54457, 87228, 70848, 87234, 29892, 21702, 54470, 62663, 87239, 54474, 29899, 21708, 87243, 54478, 21712, 29905, 54480, 87249, 21716, 54484, 62677, 21719, 79063, 87255, 98753, 87259, 62684, 29917, 70876, 70878, 70880, 87263, 54503, 70887, 87272, 29931, 54507, 87275, 29934, 54511, 70895, 87281, 70899, 54516, 62709, 29943, 87288, 70908, 54525, 13566, 62718, 87292, 54529, 87297, 62723, 54533, 13574, 62727, 54536, 62732, 13581, 62736, 87312, 70930, 98765, 54550, 21783, 87318, 13594, 54554, 13596, 87322, 54558, 87326, 54561, 98769, 87335, 13611, 54571, 87341, 54575, 87345, 54579, 30004, 70965, 13622, 54583, 87349, 62777, 87363, 79173, 62792, 87369, 54604, 87373, 54608, 87377, 54612, 21846, 54614, 62808, 71002, 87386, 62815, 87392, 87396, 98782, 71016, 87400, 87404, 30062, 30067, 54645, 87413, 87417, 62842, 62844, 87421, 54654, 62848, 13697, 38274, 87426, 62852, 90647, 62856, 87432, 38282, 54667, 87436, 98790, 87440, 30098, 38291, 54676, 62866, 62870, 79257, 62874, 87449, 95645, 62878, 95647, 87456, 30113, 54689, 87460, 54693, 62888, 87464, 54698, 62892, 71084, 30129, 38321, 54707, 62900, 87480, 95672, 54716, 30141, 62908, 87486, 62915, 71108, 38341, 62917, 95683, 54728, 62921, 38346, 87496, 87500, 62925, 54734, 95689, 95691, 38354, 54738, 62930, 87506, 62936, 54748, 62940, 79325, 38368, 62944, 87521, 62948, 71141, 87527, 62955, 87531, 87535, 54768, 62960, 62964, 62968, 87547, 87551, 62976, 95745, 87555, 62980, 87559, 62984, 62988, 54798, 87568, 87574, 95773, 87582, 87586, 98820, 71206, 87590, 87603, 13876, 71223, 87610, 30269, 87614, 13889, 30274, 13891, 87618, 30278, 95817, 87627, 30285, 87633, 54867, 87637, 30294, 63062, 30296, 87641, 95830, 30299, 30305, 30307, 95845, 30313, 63083, 30317, 63086, 30321, 71283, 30325, 95861, 98837, 63102, 71295, 30337, 30341, 46728, 30345, 30349, 98841, 30352, 63122, 30362, 30366, 30370, 30374, 71335, 95914, 71339, 13996, 87725, 71343, 30386, 14003, 30390, 71351, 30392, 71353, 14011, 30395, 71357, 71361, 14018, 30404, 71365, 14025, 30409, 22219, 30411, 14030, 71375, 71379, 14037, 14039, 30424, 71383, 71387, 30428, 14046, 30431, 71397, 30439, 14056, 30441, 38634, 71399, 38638, 30447, 14064, 71408, 30451, 14068, 71412, 14070, 30455, 71416, 30459, 98863, 30462, 71423, 71427, 14084, 71431, 30472, 14090, 71435, 30476, 14094, 71438, 30480, 96015, 14098, 30484, 14104, 14109, 30493, 96030, 14113, 30497, 14116, 30501, 14118, 55078, 55080, 14121, 30505, 14123, 71462, 71466, 71470, 30512, 30514, 71474, 30518, 71481, 55099, 71484, 55101, 30528, 71488, 30532, 71492, 71494, 30536, 87888, 30545, 71506, 55124, 96085, 96087, 55128, 71513, 55130, 96089, 71516, 96091, 55134, 96093, 55136, 71520, 87905, 30563, 55140, 71524, 71526, 87910, 96095, 30569, 71529, 87913, 30572, 55149, 87916, 46959, 87919, 55153, 30578, 55155, 30580, 71539, 96110, 55159, 71543, 96114, 96118, 71547, 55165, 71551, 55169, 71554, 55171, 30596, 55175, 30600, 55177, 30602, 96138, 96140, 30608, 71568, 30610, 71572, 30613, 71576, 30617, 55196, 30621, 71580, 30623, 55200, 71583, 55202, 96156, 96158, 30629, 96162, 47015, 96166, 30633, 30637, 55213, 55215, 96173, 30641, 71602, 55219, 96178, 55221, 71606, 96182, 30648, 55224, 71608, 96186, 30652, 71612, 30656, 55233, 30660, 55237, 55239, 96201, 30667, 55243, 96203, 30671, 55247, 96207, 30675, 96211, 30679, 55256, 96215, 55260, 55266, 96230, 79850, 96234, 55276, 96238, 55280, 96242, 55291, 55293, 55295, 96257, 55299, 96261, 79878, 88070, 88072, 96263, 96266, 55308, 71693, 55310, 96268, 96270, 71697, 55314, 47125, 71701, 55323, 71708, 79902, 96286, 55328, 71713, 55330, 96290, 71717, 55334, 71721, 79914, 96297, 88108, 71726, 55343, 96306, 55347, 79923, 55349, 88116, 55353, 79931, 55356, 96320, 96324, 55368, 96328, 96332, 55374, 79956, 55382, 47191, 96351, 55396, 79972, 47206, 88165, 55401, 88169, 55403, 79979, 96365, 71790, 55407, 79983, 96369, 55411, 79987, 71799, 96375, 55419, 79995, 55421, 88189, 55425, 55427, 55436, 71820, 96399, 55440, 96403, 96407, 55448, 96411, 88222, 55456, 80036, 55461, 88230, 55466, 80044, 96428, 55470, 55472, 96432, 55476, 96436, 71862, 55479, 96440, 55493, 55495, 55499, 96459, 55502, 96463, 80081, 96467, 55511, 80087, 55513, 96471, 80092, 55517, 80094, 80099, 96485, 80102, 55529, 96489, 55531, 80107, 80109, 96493, 55535, 55537, 80114, 96497, 80116, 88310, 55546, 80122, 96509, 55551, 80127, 14593, 80129, 80132, 55557, 80134, 96522, 80139, 80141, 80146, 96532, 55574, 80150, 80155, 80157, 96541, 88352, 80163, 88356, 80165, 88361, 96553, 80171, 14637, 31025, 71989, 80181, 88374, 80186, 80188, 80190, 80192, 14659, 96580, 80199, 96584, 80203, 96588, 96590, 80207, 96593, 80211, 80216, 80220, 80224, 96610, 14692, 72037, 80228, 96612, 96615, 80235, 72044, 96619, 96621, 80239, 96624, 72051, 80243, 80247, 88440, 72062, 80254, 80258, 80266, 80270, 6545, 80274, 63895, 80281, 55708, 80285, 55710, 55712, 80289, 55714, 88482, 55716, 80293, 80297, 22955, 80302, 80304, 80308, 96692, 80312, 96696, 96698, 96701, 80319, 31168, 80323, 88518, 80327, 80331, 96719, 80338, 31188, 80342, 80348, 14815, 63968, 80354, 14820, 31207, 63982, 80366, 80371, 80375, 14841, 88570, 80379, 96761, 80386, 80390, 88583, 14858, 80394, 64014, 80398, 55832, 80409, 88600, 80413, 55840, 80417, 80421, 80432, 80436, 80440, 80444, 55871, 80447, 55882, 64076, 80462, 64080, 80466, 64084, 80470, 64088, 80474, 31325, 88673, 64098, 64102, 88679, 64106, 80493, 64110, 80497, 80499, 80502, 64122, 88698, 64126, 64130, 88706, 64134, 31369, 88716, 64146, 55956, 88725, 64150, 64160, 64170, 64173, 64179, 64183, 64187, 88765, 64191, 80579, 56004, 56007, 64199, 56011, 64203, 64205, 88783, 64208, 80600, 80604, 64226, 64230, 88807, 64234, 64238, 88815, 80625, 72438, 64247, 72440, 80633, 64251, 80635, 72445, 80638, 64255, 72449, 64259, 72451, 64268, 72461, 88846, 64272, 80656, 88850, 64276, 80662, 64280, 80667, 64287, 80674, 64291, 72485, 80678, 64295, 80680, 64299, 72494, 80686, 80689, 80694, 72508, 80703, 80708, 72518, 15175, 15179, 80716, 72525, 72529, 80723, 72533, 72537, 72544, 80739, 72548, 80741, 72552, 72556, 80748, 72558, 80757, 80759, 72568, 80765, 72574, 72578, 23429, 72582, 72586, 72593, 72597, 72603, 72605, 72607, 7072, 23463, 72615, 72617, 7085, 72621, 72625, 72629, 48056, 72636, 72638, 72642, 48069, 72646, 72650, 23507, 48083, 72664, 72666, 72670, 72674, 72678, 72681, 23536, 31728, 72689, 72691, 48117, 23542, 72696, 23548, 72702, 23552, 7170, 23556, 48136, 72714, 7179, 72718, 23568, 48145, 72722, 7189, 23574, 72726, 72728, 23578, 72731, 48156, 23582, 7199, 48162, 72742, 23591, 72746, 23597, 72750, 48175, 23601, 72754, 23605, 23608, 72765, 72769, 23621, 72773, 89159, 23625, 72777, 72779, 23629, 64589, 72782, 48212, 72789, 72791, 48216, 23641, 72794, 40029, 72798, 23648, 40033, 48225, 72802, 23652, 72804, 23656, 48236, 72812, 72817, 72819, 23668, 40053, 72822, 72825, 23674, 48250, 81018, 48253, 23678, 23682, 31874, 72835, 23685, 40069, 72838, 72842, 72846, 72848, 23697, 23703, 48279, 23705, 72859, 23708, 72861, 23711, 72864, 31908, 72870, 31912, 23723, 40107, 31917, 40111, 72881, 23730, 31922, 72883, 31925, 23734, 72887, 23738, 31930, 72891, 23741, 31935, 72895, 81087, 31938, 31943, 23754, 23756, 23759, 48335, 23762, 89299, 23774, 23780, 7400, 23784, 48362, 23788, 23791, 64752, 40181, 48374, 23800, 81146, 31997, 23806, 48383, 89341, 40193, 23810, 23814, 48392, 23817, 7434, 48396, 23826, 48403, 48407, 23832, 23836, 48412, 81183, 23840, 7457, 81186, 23843, 23852, 48432, 23858, 23862, 23866, 48443, 23869, 48447, 48449, 23881, 48460, 23885, 48462, 7504, 23889, 48465, 89428, 23893, 48469, 48473, 48475, 7517, 40287, 40289, 89441, 7524, 48486, 48488, 40299, 48491, 48495, 89456, 81265, 48499, 81274, 89467, 48512, 48517, 7559, 48519, 48524, 48539, 89501, 48543, 23970, 32163, 48547, 48551, 40368, 48565, 40375, 48569, 48571, 48574, 40395, 48589, 89549, 40401, 48594, 48598, 40408, 48602, 89570, 24036, 40421, 48612, 89572, 89577, 40427, 48619, 48624, 40433, 24051, 48628, 89590, 40440, 48632, 48636, 40448, 24066, 40455, 48647, 24073, 89609, 48651, 48655, 40467, 48659, 40470, 24087, 89623, 24089, 24091, 89629, 24094, 48671, 48689, 24117, 48695, 48698, 7753, 7755, 24140, 48715, 24143, 48719, 48723, 48727, 24152, 48731, 15967, 48745, 89706, 48749, 48753, 48757, 7803, 56958, 16001, 73345, 89730, 7818, 89741, 89747, 89754, 73371, 56989, 73375, 57004, 89772, 57011, 57015, 16064, 7875, 57032, 7907, 57066, 57070, 73459, 7924, 16116, 48885, 73462, 57082, 89856, 48900, 16134, 57102, 98067, 89881, 16157, 98078, 98083, 40746, 48943, 16176, 16178, 48951, 40761, 57148, 16192, 48965, 40776, 48969, 40779, 89933, 48977, 57171, 48989, 89951, 40803, 32616, 89962, 89967, 57202, 16244, 89977, 57210, 57212, 40831, 32644, 32665, 90016, 57252, 57260, 90031, 90033, 90041, 24508, 24511, 40900, 40902, 90054, 40904, 40906, 40908, 40914, 57301, 40918, 40924, 40926, 8161, 40930, 40932, 40935, 24553, 24557, 81902, 24560, 24564, 24568, 24573}\n"
          ]
        }
      ]
    },
    {
      "cell_type": "code",
      "source": [
        "with open(\"/content/dev-n2c2.txt\",'r') as f1:\n",
        "  with open(\"/content/dev-n2c2_alllabeltexts.txt\",'w') as wf:\n",
        "    text = f1.readlines()\n",
        "    for i in range(len(text)):\n",
        "      if(i in labels_list):\n",
        "        j = i\n",
        "        while(text[j]!=\"\\n\"):\n",
        "          wf.write(text[j])\n",
        "          j+=1\n",
        "        wf.write(\"\\n\")\n",
        "        i = j"
      ],
      "metadata": {
        "id": "4GvCEGmNgLrF"
      },
      "execution_count": null,
      "outputs": []
    },
    {
      "cell_type": "markdown",
      "source": [
        "2.找200个带有标签的数据作为support"
      ],
      "metadata": {
        "id": "qpkvoGXsYY4C"
      }
    },
    {
      "cell_type": "code",
      "source": [
        "path = \"/content/dev-n2c2_alllabeltexts.txt\"\n",
        "path1 = \"/content/dev-n2c2-withnum.txt\"\n",
        "\n",
        "count = 0\n",
        "with open(path,'r') as f:\n",
        "  with open(path1,'a') as wf:\n",
        "    text = f.readlines()\n",
        "    for line in text:\n",
        "      if(line==\"\\n\"):\n",
        "        count+=1\n",
        "        wf.write(line)\n",
        "      else:\n",
        "        wf.write(line.strip(\"\\n\") + \"\\t\" + str(count) + \"\\n\")"
      ],
      "metadata": {
        "id": "rveC7VRqYPyh"
      },
      "execution_count": null,
      "outputs": []
    },
    {
      "cell_type": "code",
      "source": [
        "print(count)"
      ],
      "metadata": {
        "colab": {
          "base_uri": "https://localhost:8080/"
        },
        "id": "b313vypNh-XQ",
        "outputId": "32993236-1125-4380-811f-ab5d75922ed3"
      },
      "execution_count": null,
      "outputs": [
        {
          "output_type": "stream",
          "name": "stdout",
          "text": [
            "3665\n"
          ]
        }
      ]
    },
    {
      "cell_type": "code",
      "source": [
        "import random\n",
        "\n",
        "random_list = [random.randint(0,count-1) for _ in range(200)]\n",
        "print(random_list)"
      ],
      "metadata": {
        "colab": {
          "base_uri": "https://localhost:8080/"
        },
        "id": "zeIIoENHhqx7",
        "outputId": "5ee4b322-e59d-4927-8743-06c01a3a16eb"
      },
      "execution_count": null,
      "outputs": [
        {
          "output_type": "stream",
          "name": "stdout",
          "text": [
            "[3008, 321, 2219, 2398, 2364, 3295, 761, 851, 872, 3332, 3537, 2910, 3429, 1082, 38, 2966, 590, 763, 2429, 1642, 395, 1128, 2675, 2917, 2384, 1898, 603, 91, 3273, 3298, 948, 1571, 1680, 2809, 2080, 1404, 264, 1350, 110, 539, 2467, 1387, 881, 1581, 1891, 2717, 2773, 304, 593, 1690, 1090, 2078, 1424, 537, 1097, 162, 2244, 1482, 2422, 1417, 1639, 373, 3265, 2937, 2520, 1454, 1020, 2283, 1314, 1831, 1213, 3290, 1208, 3514, 3137, 1903, 1182, 1110, 2642, 203, 1070, 2937, 541, 1494, 3455, 2183, 1048, 734, 2723, 1778, 913, 3461, 3481, 6, 3436, 787, 1679, 2678, 2412, 3593, 2920, 2733, 1239, 2507, 2188, 3244, 1295, 3201, 570, 2777, 1838, 308, 3343, 3594, 1416, 3305, 2732, 2813, 1069, 585, 3390, 3309, 2116, 3376, 65, 682, 2560, 2124, 2730, 1939, 1658, 3657, 2789, 2789, 1970, 3131, 1844, 1304, 783, 3467, 2701, 126, 2458, 567, 3433, 128, 1518, 2097, 3506, 3572, 3338, 434, 811, 2100, 2799, 1070, 289, 1274, 590, 3433, 2223, 3294, 1093, 1327, 1497, 1124, 172, 461, 1236, 2195, 1420, 3334, 3169, 1753, 2457, 1253, 3415, 2478, 1153, 286, 2877, 1468, 2762, 513, 860, 1395, 2062, 2466, 806, 2404, 3337, 2431, 961, 194, 1747, 3174, 1548, 820, 453, 3074]\n"
          ]
        }
      ]
    },
    {
      "cell_type": "code",
      "source": [
        "path = \"/content/dev-n2c2-withnum.txt\"\n",
        "\n",
        "count = 0\n",
        "with open(path,'r') as f:\n",
        "  text = f.readlines()\n",
        "  for line in text:\n",
        "    if(line!=\"\\n\"):\n",
        "      new_line = line.strip(\"\\n\").split(\"\\t\")\n",
        "      #new_line = line.strip(\"\\n\").split(\" \")\n",
        "      #print(new_line[2])\n",
        "      #print(int(new_line[2]))\n",
        "      if int(new_line[2]) in random_list:\n",
        "        #print(\" \")\n",
        "        with open(\"/content/dev-n2c2-support-200.txt\",'a') as wf1:\n",
        "          wf1.write(new_line[0] + \"\\t\" + new_line[1] + \"\\n\")\n",
        "      else:\n",
        "        with open(\"/content/dev-n2c2-NOnesupport-200.txt\",'a') as wf2:\n",
        "          wf2.write(new_line[0] + \"\\t\" + new_line[1] + \"\\n\")\n",
        "    else:\n",
        "      with open(\"/content/dev-n2c2-support-200.txt\",'a') as wf1:\n",
        "          wf1.write(line)\n",
        "      with open(\"/content/dev-n2c2-NOnesupport-200.txt\",'a') as wf2:\n",
        "          wf2.write(line)"
      ],
      "metadata": {
        "id": "ALPGuZkCUdzZ"
      },
      "execution_count": null,
      "outputs": []
    },
    {
      "cell_type": "markdown",
      "source": [
        "到这里需要下载下来手动给support-200和NOnesupport-200删除过多的\\n，方法就是不停替换\\n\\n\\n为\\n\\n直到文本里没有为止"
      ],
      "metadata": {
        "id": "z5Ad7CA-mq4y"
      }
    },
    {
      "cell_type": "markdown",
      "source": [
        "3.下一步是把support-200和NOnesupport-200都替换成tokenized"
      ],
      "metadata": {
        "id": "RrPWxSHDnMbJ"
      }
    },
    {
      "cell_type": "code",
      "source": [
        "!pip install allennlp"
      ],
      "metadata": {
        "id": "NF24E3CIonnG"
      },
      "execution_count": null,
      "outputs": []
    },
    {
      "cell_type": "code",
      "source": [
        "from transformers import BertTokenizer\n",
        "tz = BertTokenizer.from_pretrained(\"bert-base-uncased\")\n",
        "tz.convert_tokens_to_ids([\"characteristically\"])\n",
        "\n",
        "sent = \"2202-2-1\"\n",
        "print(tz.tokenize(sent))\n",
        "\n",
        "\n",
        "tz.convert_tokens_to_ids(tz.tokenize(sent))"
      ],
      "metadata": {
        "colab": {
          "base_uri": "https://localhost:8080/",
          "height": 178,
          "referenced_widgets": [
            "ae09074e2e0b49db8710ee1737d5b565",
            "8b53f0cbc3c44a6185d4294e8739b6c6",
            "1a1e12277f764b99bb8595e516057ed5",
            "9bbc5f32a9554898baf6ee18244cc6eb",
            "500684977a2944f3b1772aa56455edfd",
            "5de3a547a0634b218350db8484f71bba",
            "906e10c435854c67a63be9baf9b4aec9",
            "df35287dc18843619137fae952fecb08",
            "110ff47762a447cba0ce6bf0901a4d19",
            "e974ad16c6ea41369ae4b93c609b74f9",
            "1dc7253c687c43a6b9a761ed864998fa",
            "1895b417c8af430bb30bb632f7c915c3",
            "5fb22c9b90cb41aabdc5ed93dc47bd55",
            "67b29f585c464a2fa6a2970eba834d4b",
            "3e84c5c40c8d4c39ae7e24162b3f5455",
            "29da8cc5495f40739dcbf98c3e6351b5",
            "2043109f24504c0db9d6cca705fc8eae",
            "f396e5403c6a4c1391c686b6e0e88d29",
            "5c7b7778c14248938ac47f458d67610a",
            "b130d4f1e52446ea80af6b2ad5305cfd",
            "a41f2102e1da4f45b8910a6d2749332f",
            "c05d26918b9748c6876791da074a9982",
            "35cf166996db4af8a9506647859df1b3",
            "a11433fbb1be49e9aa9edc65fbf478c6",
            "6290154dc5bb4282a38b3fd2f786e184",
            "7b412f5091ae436d89e70a7ea2a972a2",
            "4837f5093d7a4d26806192d778484826",
            "74f833bb586c42b78f5818c6c2571cf9",
            "140c19901b784217814af148240c5113",
            "3c88e19f5dae460687c94e39f9ae2b78",
            "e00158575a0a41d0b7e1078da1a34815",
            "b7737e89de7d4cce8ae60e54727fe29e",
            "ba311d38453a4f3a8aa45bc57e81f869",
            "835d094e5b9f41bea9f43be8f0b870e6",
            "dd70ebf21dad4a38bf0ab456a221a2d9",
            "e556c7aa0dba446bbbb439059746a76c",
            "2158550a5b2a4d00b292dcbc27f87fcf",
            "2f605fa239914600928eae26e09bb143",
            "6942e7446cdb4d30b0949d30aec489d7",
            "29bc24060be243f4b039e01ca9f5552d",
            "ea44818d3bbe4fceaadbc2ece8b2073f",
            "9f0188f9eecd45c8919f906d01af105d",
            "61424d40252446bea640909fc6771271",
            "5a3f8e691baa4aef83252191d606ac87"
          ]
        },
        "id": "vTzC4FMwmzUu",
        "outputId": "0afe42ee-0d50-4cd8-ec5c-9449f32a9d91"
      },
      "execution_count": null,
      "outputs": [
        {
          "output_type": "display_data",
          "data": {
            "application/vnd.jupyter.widget-view+json": {
              "model_id": "ae09074e2e0b49db8710ee1737d5b565",
              "version_minor": 0,
              "version_major": 2
            },
            "text/plain": [
              "Downloading:   0%|          | 0.00/226k [00:00<?, ?B/s]"
            ]
          },
          "metadata": {}
        },
        {
          "output_type": "display_data",
          "data": {
            "application/vnd.jupyter.widget-view+json": {
              "model_id": "1895b417c8af430bb30bb632f7c915c3",
              "version_minor": 0,
              "version_major": 2
            },
            "text/plain": [
              "Downloading:   0%|          | 0.00/28.0 [00:00<?, ?B/s]"
            ]
          },
          "metadata": {}
        },
        {
          "output_type": "display_data",
          "data": {
            "application/vnd.jupyter.widget-view+json": {
              "model_id": "35cf166996db4af8a9506647859df1b3",
              "version_minor": 0,
              "version_major": 2
            },
            "text/plain": [
              "Downloading:   0%|          | 0.00/455k [00:00<?, ?B/s]"
            ]
          },
          "metadata": {}
        },
        {
          "output_type": "display_data",
          "data": {
            "application/vnd.jupyter.widget-view+json": {
              "model_id": "835d094e5b9f41bea9f43be8f0b870e6",
              "version_minor": 0,
              "version_major": 2
            },
            "text/plain": [
              "Downloading:   0%|          | 0.00/570 [00:00<?, ?B/s]"
            ]
          },
          "metadata": {}
        },
        {
          "output_type": "stream",
          "name": "stdout",
          "text": [
            "['220', '##2', '-', '2', '-', '1']\n"
          ]
        },
        {
          "output_type": "execute_result",
          "data": {
            "text/plain": [
              "[10545, 2475, 1011, 1016, 1011, 1015]"
            ]
          },
          "metadata": {},
          "execution_count": 27
        }
      ]
    },
    {
      "cell_type": "code",
      "source": [
        "#path = \"/content/dev-n2c2-support-200.txt\"\n",
        "#path1 = \"/content/dev-n2c2-support-200-tokenized.txt\"\n",
        "path = \"/content/dev-n2c2-NOnesupport-200.txt\"\n",
        "path1 = \"/content/dev-n2c2-NOnesupport-200-tokenized.txt\"\n",
        "\n",
        "with open(path,'r') as f:\n",
        "  with open(path1,'a') as wf:\n",
        "    text = f.readlines()\n",
        "    for line in text:\n",
        "      if(line!=\"\\n\"):\n",
        "        new_line = line.strip(\"\\n\").split(\"\\t\")\n",
        "        word_piece = tz.tokenize(new_line[0])\n",
        "        for i in range(len(word_piece)):\n",
        "          if(new_line[1].startswith(\"O\") or new_line[1].startswith(\"I-\")):\n",
        "            wf.write(word_piece[i] + \"\\t\" + new_line[1] + \"\\n\")\n",
        "          elif(new_line[1].startswith(\"B-\")):\n",
        "            if(i==0):\n",
        "              wf.write(word_piece[i] + \"\\t\" + new_line[1] + \"\\n\")\n",
        "            else:\n",
        "              wf.write(word_piece[i] + \"\\t\" + new_line[1].replace(\"B-\",\"I-\") + \"\\n\")\n",
        "      else:\n",
        "        wf.write(line)\n"
      ],
      "metadata": {
        "id": "9BI7Rt92qQBB"
      },
      "execution_count": null,
      "outputs": []
    },
    {
      "cell_type": "markdown",
      "source": [
        "4.最后一步，写成few-shot tagging的格式"
      ],
      "metadata": {
        "id": "KFKS1BacsFM9"
      }
    },
    {
      "cell_type": "code",
      "source": [
        "#path = \"/content/text6.txt\"\n",
        "\n",
        "count = 0\n",
        "count1 = 0\n",
        "support_list = [0]\n",
        "#with open(\"/content/support--del-punc.txt\", 'r') as f1:\n",
        "with open(\"/content/dev-n2c2-support-200.txt\",'r') as f1:\n",
        "  text = f1.readlines()\n",
        "  for line in text:\n",
        "    count +=1\n",
        "    if(line==\"\\n\"):\n",
        "      count1+=1\n",
        "      support_list.append(count)\n",
        "print(count,count1)\n",
        "print(support_list)"
      ],
      "metadata": {
        "colab": {
          "base_uri": "https://localhost:8080/"
        },
        "id": "N_MHZ4I3wcH1",
        "outputId": "d215fc27-97e5-4625-a3ef-de727a17d038"
      },
      "execution_count": null,
      "outputs": [
        {
          "output_type": "stream",
          "name": "stdout",
          "text": [
            "1233 195\n",
            "[0, 14, 30, 35, 43, 45, 47, 54, 56, 62, 83, 95, 99, 101, 105, 108, 110, 127, 131, 135, 137, 139, 141, 148, 167, 177, 188, 198, 202, 206, 210, 214, 217, 220, 224, 226, 233, 243, 252, 254, 260, 267, 270, 272, 274, 283, 292, 298, 309, 313, 315, 317, 319, 322, 326, 328, 330, 333, 337, 341, 350, 352, 361, 367, 373, 375, 381, 383, 390, 399, 428, 441, 449, 455, 460, 462, 466, 468, 470, 472, 481, 488, 491, 493, 496, 498, 512, 521, 525, 532, 534, 543, 548, 550, 556, 558, 562, 565, 567, 571, 582, 584, 586, 594, 596, 607, 621, 623, 628, 630, 635, 639, 645, 649, 662, 675, 682, 687, 693, 700, 707, 709, 713, 715, 723, 734, 736, 739, 743, 769, 784, 790, 802, 806, 810, 816, 824, 828, 833, 837, 841, 843, 847, 850, 860, 866, 899, 905, 911, 914, 949, 954, 966, 977, 987, 989, 993, 999, 1004, 1006, 1016, 1018, 1021, 1023, 1037, 1048, 1050, 1054, 1081, 1097, 1115, 1127, 1129, 1131, 1138, 1140, 1145, 1147, 1149, 1153, 1155, 1158, 1160, 1162, 1172, 1174, 1186, 1203, 1207, 1209, 1216, 1224, 1227, 1229, 1231, 1233]\n"
          ]
        }
      ]
    },
    {
      "cell_type": "code",
      "source": [
        "#path = \"/content/text6.txt\"\n",
        "\n",
        "count = 0\n",
        "count1 = 0\n",
        "support_token_list = [0]\n",
        "#with open(\"/content/support--del-punc.txt\", 'r') as f1:\n",
        "with open(\"/content/dev-n2c2-support-200-tokenized.txt\",'r') as f1:\n",
        "  text = f1.readlines()\n",
        "  for line in text:\n",
        "    count +=1\n",
        "    if(line==\"\\n\"):\n",
        "      count1+=1\n",
        "      support_token_list.append(count)\n",
        "print(count,count1)\n",
        "print(support_token_list)"
      ],
      "metadata": {
        "colab": {
          "base_uri": "https://localhost:8080/"
        },
        "id": "gkdeyY97xgAT",
        "outputId": "9e381575-6726-4181-bf08-3e61b38133a2"
      },
      "execution_count": null,
      "outputs": [
        {
          "output_type": "stream",
          "name": "stdout",
          "text": [
            "1765 195\n",
            "[0, 21, 46, 55, 64, 66, 68, 75, 77, 84, 114, 131, 138, 142, 148, 151, 153, 176, 185, 189, 191, 193, 195, 215, 241, 256, 298, 310, 315, 321, 327, 333, 336, 339, 343, 345, 357, 369, 378, 380, 387, 399, 402, 404, 408, 419, 434, 443, 458, 465, 467, 469, 471, 476, 480, 482, 484, 503, 508, 513, 522, 527, 538, 548, 556, 558, 572, 576, 586, 596, 638, 654, 666, 680, 688, 692, 698, 700, 702, 704, 720, 729, 732, 736, 741, 745, 759, 781, 787, 798, 803, 815, 825, 827, 833, 835, 839, 842, 844, 848, 870, 872, 876, 886, 888, 901, 919, 921, 930, 933, 944, 951, 959, 965, 990, 1007, 1018, 1027, 1037, 1052, 1063, 1065, 1069, 1071, 1081, 1096, 1098, 1102, 1106, 1140, 1161, 1170, 1187, 1191, 1196, 1206, 1218, 1224, 1230, 1237, 1244, 1246, 1252, 1258, 1270, 1278, 1314, 1322, 1328, 1333, 1376, 1385, 1401, 1416, 1429, 1431, 1439, 1449, 1455, 1458, 1471, 1473, 1476, 1478, 1504, 1516, 1518, 1522, 1550, 1566, 1593, 1610, 1612, 1618, 1633, 1635, 1643, 1645, 1647, 1654, 1657, 1666, 1668, 1670, 1680, 1682, 1697, 1719, 1726, 1728, 1736, 1751, 1759, 1761, 1763, 1765]\n"
          ]
        }
      ]
    },
    {
      "cell_type": "code",
      "source": [
        "count = 0\n",
        "count1 = 0\n",
        "query_list = [0]\n",
        "with open(\"/content/dev-n2c2-NOnesupport-200.txt\",'r') as f1:\n",
        "  text = f1.readlines()\n",
        "  for line in text:\n",
        "    count +=1\n",
        "    if(line==\"\\n\"):\n",
        "      count1+=1\n",
        "      query_list.append(count)\n",
        "print(count,count1,len(query_list))\n",
        "print(query_list)"
      ],
      "metadata": {
        "colab": {
          "base_uri": "https://localhost:8080/"
        },
        "id": "VqbdBGMgzE8B",
        "outputId": "038ee94e-65ed-4a74-80e7-3648757926ec"
      },
      "execution_count": null,
      "outputs": [
        {
          "output_type": "stream",
          "name": "stdout",
          "text": [
            "21731 3470 3471\n",
            "[0, 6, 24, 41, 70, 93, 101, 114, 120, 129, 134, 137, 146, 156, 160, 171, 199, 207, 223, 233, 245, 256, 265, 290, 300, 320, 322, 331, 335, 348, 355, 371, 374, 380, 395, 397, 409, 411, 413, 423, 435, 437, 440, 442, 445, 450, 452, 457, 465, 473, 477, 483, 493, 498, 502, 504, 513, 521, 526, 529, 535, 549, 554, 560, 565, 569, 571, 573, 579, 583, 585, 587, 598, 602, 604, 606, 617, 621, 623, 625, 629, 634, 636, 638, 644, 647, 649, 652, 657, 661, 663, 666, 671, 675, 677, 679, 685, 689, 691, 693, 697, 701, 703, 705, 713, 719, 726, 730, 732, 734, 738, 742, 744, 746, 750, 753, 755, 757, 759, 761, 765, 767, 772, 776, 778, 780, 786, 790, 792, 794, 801, 803, 809, 811, 813, 816, 821, 825, 827, 829, 834, 838, 840, 842, 846, 848, 852, 854, 856, 860, 869, 872, 875, 877, 879, 881, 890, 894, 896, 898, 902, 911, 915, 917, 919, 921, 924, 926, 928, 930, 932, 936, 938, 940, 947, 956, 969, 990, 1019, 1027, 1031, 1035, 1039, 1048, 1066, 1078, 1106, 1108, 1110, 1127, 1133, 1136, 1142, 1172, 1188, 1198, 1209, 1222, 1235, 1241, 1250, 1260, 1270, 1275, 1288, 1290, 1301, 1314, 1316, 1330, 1342, 1344, 1363, 1378, 1394, 1412, 1429, 1442, 1466, 1468, 1477, 1483, 1494, 1513, 1518, 1521, 1524, 1528, 1530, 1533, 1536, 1548, 1552, 1554, 1557, 1563, 1567, 1569, 1571, 1577, 1579, 1582, 1584, 1586, 1588, 1596, 1600, 1602, 1604, 1608, 1612, 1614, 1616, 1621, 1623, 1625, 1632, 1636, 1638, 1640, 1644, 1654, 1658, 1660, 1662, 1666, 1670, 1672, 1674, 1676, 1683, 1686, 1691, 1693, 1695, 1709, 1715, 1717, 1719, 1723, 1727, 1729, 1731, 1735, 1739, 1741, 1743, 1747, 1751, 1753, 1755, 1764, 1768, 1770, 1773, 1785, 1787, 1790, 1792, 1794, 1796, 1803, 1812, 1814, 1823, 1840, 1856, 1879, 1882, 1888, 1900, 1911, 1927, 1930, 1937, 1948, 1950, 1952, 1954, 1957, 1959, 1966, 1977, 1983, 1990, 1992, 2000, 2005, 2011, 2015, 2017, 2026, 2030, 2041, 2048, 2056, 2059, 2067, 2077, 2085, 2107, 2112, 2114, 2116, 2120, 2124, 2126, 2128, 2132, 2137, 2139, 2141, 2147, 2151, 2153, 2155, 2159, 2161, 2163, 2167, 2172, 2176, 2178, 2180, 2184, 2189, 2194, 2196, 2198, 2202, 2206, 2208, 2210, 2213, 2218, 2222, 2224, 2226, 2230, 2232, 2234, 2238, 2243, 2245, 2247, 2250, 2261, 2265, 2267, 2269, 2274, 2284, 2288, 2290, 2292, 2294, 2298, 2302, 2304, 2306, 2312, 2317, 2319, 2323, 2328, 2349, 2355, 2357, 2359, 2362, 2371, 2373, 2375, 2379, 2390, 2392, 2396, 2406, 2408, 2410, 2414, 2423, 2425, 2427, 2431, 2437, 2439, 2449, 2451, 2453, 2463, 2465, 2467, 2470, 2475, 2481, 2487, 2489, 2491, 2494, 2504, 2506, 2510, 2513, 2519, 2521, 2523, 2532, 2535, 2541, 2543, 2545, 2548, 2553, 2555, 2561, 2563, 2565, 2568, 2577, 2580, 2586, 2588, 2590, 2594, 2597, 2606, 2608, 2613, 2615, 2626, 2628, 2630, 2632, 2634, 2636, 2644, 2651, 2664, 2666, 2675, 2683, 2693, 2720, 2733, 2735, 2742, 2747, 2751, 2756, 2761, 2764, 2766, 2773, 2780, 2788, 2790, 2792, 2803, 2809, 2811, 2813, 2819, 2824, 2828, 2831, 2833, 2836, 2838, 2840, 2842, 2851, 2884, 2898, 2903, 2908, 2912, 2931, 2947, 2970, 2978, 3001, 3020, 3022, 3036, 3051, 3071, 3074, 3083, 3092, 3109, 3125, 3149, 3153, 3157, 3159, 3174, 3178, 3180, 3191, 3195, 3197, 3199, 3212, 3214, 3218, 3220, 3222, 3226, 3230, 3232, 3234, 3237, 3246, 3251, 3253, 3258, 3268, 3270, 3272, 3276, 3286, 3288, 3290, 3296, 3298, 3302, 3304, 3306, 3314, 3318, 3320, 3323, 3334, 3336, 3340, 3342, 3344, 3351, 3353, 3357, 3359, 3361, 3368, 3370, 3374, 3376, 3378, 3384, 3395, 3401, 3408, 3417, 3419, 3424, 3433, 3437, 3439, 3441, 3449, 3468, 3471, 3487, 3493, 3539, 3566, 3582, 3598, 3605, 3614, 3620, 3626, 3632, 3638, 3642, 3645, 3657, 3668, 3694, 3704, 3716, 3731, 3747, 3749, 3767, 3792, 3816, 3834, 3836, 3853, 3864, 3872, 3875, 3885, 3904, 3924, 3927, 3933, 3935, 3937, 3948, 3950, 3954, 3956, 3958, 3968, 3970, 3972, 3976, 3983, 3985, 3988, 3995, 3997, 3999, 4009, 4019, 4038, 4040, 4046, 4057, 4072, 4077, 4086, 4110, 4113, 4117, 4119, 4128, 4132, 4134, 4145, 4149, 4151, 4159, 4163, 4165, 4173, 4177, 4179, 4190, 4194, 4196, 4207, 4211, 4213, 4222, 4226, 4228, 4239, 4242, 4244, 4249, 4268, 4270, 4278, 4282, 4284, 4293, 4299, 4301, 4303, 4312, 4314, 4316, 4320, 4326, 4328, 4330, 4334, 4341, 4343, 4345, 4349, 4355, 4357, 4359, 4363, 4369, 4371, 4373, 4377, 4381, 4383, 4385, 4389, 4396, 4398, 4402, 4404, 4406, 4410, 4419, 4421, 4423, 4427, 4433, 4435, 4437, 4439, 4447, 4454, 4456, 4458, 4462, 4471, 4473, 4476, 4482, 4484, 4486, 4493, 4495, 4504, 4510, 4512, 4514, 4517, 4526, 4532, 4539, 4541, 4552, 4586, 4595, 4612, 4616, 4622, 4624, 4628, 4634, 4636, 4638, 4644, 4646, 4648, 4651, 4664, 4666, 4668, 4672, 4674, 4676, 4680, 4686, 4688, 4690, 4693, 4702, 4708, 4710, 4713, 4716, 4725, 4732, 4734, 4736, 4739, 4752, 4754, 4757, 4760, 4769, 4775, 4777, 4779, 4782, 4784, 4790, 4792, 4794, 4796, 4802, 4804, 4806, 4809, 4811, 4817, 4819, 4822, 4824, 4828, 4830, 4832, 4841, 4848, 4863, 4876, 4883, 4897, 4899, 4902, 4905, 4926, 4929, 4938, 4953, 4956, 4960, 4963, 4967, 4971, 4976, 4980, 4984, 4994, 4998, 5000, 5010, 5023, 5028, 5037, 5059, 5073, 5085, 5093, 5101, 5103, 5106, 5118, 5135, 5145, 5165, 5167, 5176, 5194, 5208, 5212, 5221, 5233, 5235, 5238, 5242, 5244, 5246, 5248, 5250, 5252, 5254, 5256, 5258, 5260, 5262, 5264, 5266, 5268, 5280, 5287, 5290, 5297, 5315, 5339, 5354, 5365, 5376, 5387, 5396, 5409, 5423, 5429, 5434, 5439, 5445, 5450, 5452, 5456, 5458, 5465, 5467, 5469, 5473, 5482, 5484, 5486, 5489, 5491, 5493, 5497, 5506, 5508, 5510, 5514, 5516, 5520, 5530, 5534, 5536, 5538, 5545, 5548, 5561, 5568, 5570, 5572, 5583, 5589, 5591, 5593, 5602, 5604, 5606, 5616, 5618, 5621, 5627, 5639, 5663, 5679, 5704, 5715, 5722, 5724, 5739, 5752, 5768, 5782, 5786, 5789, 5791, 5794, 5806, 5820, 5823, 5825, 5835, 5840, 5845, 5847, 5862, 5878, 5890, 5900, 5905, 5912, 5916, 5918, 5921, 5923, 5925, 5931, 5935, 5937, 5939, 5943, 5947, 5949, 5951, 5954, 5964, 5968, 5970, 5972, 5976, 5980, 5982, 5985, 5994, 5999, 6001, 6006, 6009, 6011, 6013, 6019, 6023, 6025, 6027, 6030, 6040, 6044, 6046, 6048, 6057, 6061, 6063, 6065, 6069, 6071, 6075, 6077, 6083, 6087, 6089, 6092, 6098, 6100, 6104, 6106, 6108, 6114, 6116, 6118, 6120, 6122, 6128, 6132, 6134, 6136, 6140, 6142, 6146, 6150, 6152, 6161, 6186, 6195, 6214, 6272, 6283, 6292, 6303, 6322, 6324, 6327, 6330, 6333, 6336, 6339, 6342, 6345, 6353, 6369, 6376, 6391, 6400, 6404, 6414, 6424, 6426, 6428, 6431, 6445, 6447, 6451, 6470, 6512, 6514, 6518, 6520, 6523, 6527, 6531, 6533, 6535, 6539, 6543, 6545, 6547, 6549, 6551, 6553, 6556, 6560, 6562, 6564, 6575, 6577, 6591, 6604, 6616, 6630, 6640, 6647, 6662, 6689, 6696, 6701, 6708, 6728, 6730, 6745, 6749, 6761, 6764, 6772, 6779, 6794, 6801, 6815, 6817, 6819, 6822, 6825, 6854, 6875, 6888, 6898, 6935, 6937, 6956, 6961, 6975, 6985, 6995, 7021, 7038, 7049, 7051, 7065, 7082, 7088, 7094, 7110, 7123, 7125, 7128, 7133, 7140, 7149, 7158, 7164, 7168, 7172, 7175, 7179, 7184, 7190, 7197, 7204, 7211, 7220, 7227, 7235, 7243, 7247, 7252, 7256, 7262, 7266, 7274, 7277, 7280, 7297, 7300, 7302, 7319, 7335, 7339, 7356, 7365, 7378, 7380, 7400, 7406, 7425, 7427, 7437, 7449, 7452, 7458, 7465, 7470, 7476, 7482, 7489, 7497, 7504, 7516, 7519, 7521, 7536, 7547, 7550, 7552, 7557, 7589, 7591, 7593, 7595, 7601, 7605, 7611, 7613, 7615, 7617, 7620, 7623, 7642, 7676, 7694, 7702, 7716, 7718, 7725, 7731, 7742, 7744, 7802, 7804, 7808, 7812, 7817, 7827, 7830, 7848, 7850, 7870, 7872, 7879, 7886, 7898, 7906, 7913, 7920, 7934, 7942, 7944, 7946, 7948, 7950, 7969, 7985, 8004, 8019, 8028, 8035, 8055, 8072, 8090, 8113, 8120, 8129, 8149, 8154, 8158, 8169, 8183, 8193, 8199, 8220, 8242, 8259, 8262, 8280, 8297, 8307, 8314, 8330, 8336, 8348, 8360, 8363, 8371, 8374, 8389, 8398, 8404, 8413, 8419, 8427, 8433, 8458, 8465, 8483, 8498, 8503, 8505, 8510, 8516, 8523, 8530, 8534, 8539, 8546, 8551, 8559, 8565, 8572, 8577, 8579, 8586, 8591, 8593, 8600, 8608, 8613, 8619, 8621, 8625, 8627, 8629, 8631, 8635, 8637, 8639, 8643, 8647, 8649, 8651, 8654, 8660, 8662, 8664, 8668, 8672, 8674, 8676, 8680, 8682, 8687, 8689, 8695, 8698, 8702, 8704, 8710, 8714, 8716, 8720, 8728, 8732, 8734, 8736, 8747, 8756, 8763, 8767, 8777, 8784, 8788, 8790, 8792, 8798, 8800, 8806, 8819, 8827, 8841, 8844, 8853, 8865, 8867, 8869, 8871, 8900, 8913, 8925, 8939, 8963, 8975, 8990, 8998, 9011, 9023, 9028, 9047, 9056, 9063, 9067, 9095, 9097, 9101, 9112, 9120, 9123, 9142, 9171, 9174, 9181, 9183, 9187, 9191, 9193, 9196, 9198, 9202, 9204, 9206, 9209, 9211, 9214, 9216, 9218, 9223, 9225, 9227, 9229, 9231, 9236, 9238, 9243, 9252, 9256, 9258, 9260, 9266, 9270, 9272, 9275, 9279, 9284, 9286, 9288, 9296, 9298, 9302, 9304, 9306, 9311, 9315, 9317, 9319, 9323, 9327, 9329, 9332, 9337, 9341, 9343, 9345, 9349, 9357, 9361, 9363, 9365, 9374, 9382, 9392, 9400, 9409, 9413, 9416, 9423, 9437, 9445, 9460, 9481, 9499, 9514, 9523, 9526, 9528, 9531, 9533, 9537, 9545, 9550, 9556, 9582, 9630, 9634, 9677, 9701, 9748, 9763, 9775, 9784, 9789, 9805, 9807, 9827, 9846, 9848, 9854, 9861, 9871, 9878, 9884, 9886, 9888, 9892, 9898, 9900, 9902, 9908, 9915, 9919, 9921, 9923, 9927, 9933, 9935, 9937, 9941, 9971, 9986, 10005, 10037, 10082, 10084, 10086, 10093, 10100, 10102, 10124, 10131, 10134, 10139, 10144, 10151, 10160, 10162, 10165, 10167, 10169, 10171, 10180, 10182, 10185, 10188, 10199, 10201, 10204, 10207, 10221, 10224, 10228, 10230, 10233, 10235, 10242, 10246, 10253, 10260, 10282, 10289, 10292, 10297, 10313, 10318, 10321, 10329, 10338, 10341, 10356, 10358, 10371, 10375, 10386, 10388, 10399, 10408, 10413, 10421, 10434, 10436, 10438, 10452, 10456, 10467, 10469, 10487, 10489, 10500, 10508, 10512, 10517, 10519, 10526, 10534, 10538, 10540, 10556, 10561, 10563, 10567, 10571, 10573, 10577, 10579, 10589, 10593, 10595, 10605, 10609, 10611, 10620, 10624, 10626, 10628, 10639, 10641, 10645, 10647, 10659, 10664, 10666, 10677, 10681, 10683, 10689, 10695, 10697, 10699, 10701, 10703, 10716, 10718, 10720, 10730, 10732, 10734, 10736, 10746, 10748, 10750, 10762, 10764, 10766, 10768, 10771, 10784, 10786, 10788, 10792, 10805, 10807, 10809, 10813, 10825, 10827, 10829, 10833, 10843, 10845, 10849, 10859, 10861, 10863, 10872, 10874, 10876, 10879, 10892, 10894, 10896, 10900, 10915, 10917, 10919, 10923, 10936, 10938, 10940, 10942, 10944, 10953, 10955, 10957, 10962, 10971, 10973, 10975, 10989, 10991, 10993, 10996, 11006, 11008, 11010, 11014, 11021, 11023, 11025, 11027, 11037, 11044, 11046, 11048, 11061, 11063, 11065, 11067, 11076, 11088, 11090, 11092, 11094, 11102, 11111, 11114, 11121, 11123, 11130, 11132, 11155, 11159, 11161, 11163, 11165, 11167, 11176, 11180, 11182, 11184, 11190, 11194, 11196, 11198, 11200, 11209, 11211, 11213, 11224, 11226, 11228, 11231, 11240, 11244, 11246, 11248, 11257, 11261, 11263, 11265, 11269, 11271, 11273, 11277, 11286, 11288, 11290, 11294, 11299, 11301, 11303, 11307, 11311, 11313, 11315, 11318, 11330, 11332, 11334, 11338, 11343, 11345, 11347, 11351, 11359, 11361, 11363, 11365, 11367, 11371, 11373, 11375, 11380, 11385, 11389, 11391, 11393, 11396, 11405, 11407, 11409, 11412, 11421, 11423, 11425, 11437, 11439, 11441, 11450, 11455, 11461, 11478, 11484, 11486, 11488, 11490, 11492, 11494, 11498, 11507, 11526, 11529, 11533, 11539, 11547, 11562, 11569, 11573, 11590, 11593, 11597, 11609, 11616, 11621, 11644, 11659, 11661, 11663, 11695, 11703, 11718, 11737, 11752, 11763, 11785, 11787, 11792, 11799, 11801, 11817, 11841, 11845, 11849, 11851, 11855, 11861, 11865, 11867, 11869, 11873, 11875, 11881, 11885, 11887, 11896, 11903, 11905, 11911, 11913, 11915, 11917, 11929, 11931, 11933, 11943, 11950, 11952, 11954, 11958, 11962, 11964, 11966, 11968, 11970, 11974, 11983, 11985, 11987, 11989, 11993, 11999, 12001, 12003, 12007, 12013, 12015, 12017, 12021, 12028, 12030, 12032, 12036, 12045, 12047, 12049, 12058, 12064, 12066, 12069, 12072, 12086, 12088, 12090, 12094, 12100, 12102, 12104, 12113, 12119, 12121, 12133, 12136, 12138, 12146, 12148, 12165, 12183, 12185, 12205, 12215, 12238, 12240, 12244, 12260, 12263, 12266, 12273, 12280, 12287, 12292, 12297, 12305, 12320, 12323, 12328, 12332, 12342, 12348, 12400, 12411, 12438, 12440, 12442, 12444, 12446, 12448, 12452, 12470, 12475, 12480, 12488, 12490, 12497, 12503, 12509, 12515, 12521, 12549, 12565, 12598, 12606, 12621, 12654, 12661, 12671, 12680, 12682, 12689, 12698, 12700, 12707, 12713, 12722, 12726, 12732, 12736, 12743, 12746, 12750, 12753, 12759, 12781, 12792, 12810, 12824, 12828, 12834, 12866, 12879, 12895, 12910, 12922, 12924, 12929, 12942, 12947, 12949, 12951, 12956, 12969, 12983, 12988, 13010, 13012, 13016, 13018, 13020, 13024, 13028, 13030, 13032, 13036, 13038, 13040, 13044, 13046, 13050, 13052, 13054, 13058, 13060, 13062, 13069, 13074, 13076, 13078, 13086, 13090, 13092, 13094, 13100, 13112, 13115, 13126, 13136, 13140, 13152, 13164, 13170, 13181, 13185, 13187, 13189, 13197, 13201, 13203, 13205, 13209, 13213, 13215, 13217, 13221, 13225, 13227, 13229, 13232, 13238, 13242, 13244, 13246, 13254, 13258, 13260, 13263, 13266, 13270, 13272, 13274, 13277, 13281, 13283, 13285, 13290, 13294, 13296, 13298, 13305, 13307, 13309, 13315, 13321, 13347, 13363, 13365, 13397, 13411, 13415, 13445, 13459, 13469, 13500, 13504, 13507, 13517, 13531, 13546, 13556, 13584, 13586, 13605, 13620, 13638, 13652, 13654, 13670, 13677, 13679, 13691, 13711, 13713, 13733, 13738, 13743, 13748, 13751, 13756, 13763, 13768, 13775, 13778, 13783, 13789, 13795, 13800, 13807, 13814, 13820, 13827, 13833, 13835, 13837, 13839, 13843, 13845, 13847, 13850, 13855, 13861, 13863, 13865, 13867, 13875, 13882, 13884, 13889, 13898, 13904, 13911, 13926, 13946, 13965, 13974, 13976, 13992, 14016, 14036, 14041, 14043, 14048, 14084, 14096, 14108, 14115, 14128, 14142, 14145, 14149, 14152, 14170, 14172, 14174, 14177, 14181, 14190, 14196, 14203, 14205, 14219, 14245, 14263, 14279, 14281, 14289, 14292, 14304, 14309, 14313, 14317, 14320, 14322, 14326, 14328, 14330, 14334, 14338, 14340, 14342, 14346, 14348, 14352, 14354, 14356, 14360, 14364, 14366, 14368, 14371, 14389, 14393, 14395, 14397, 14401, 14404, 14406, 14408, 14410, 14412, 14416, 14419, 14421, 14423, 14425, 14428, 14438, 14442, 14444, 14446, 14449, 14457, 14461, 14463, 14465, 14468, 14481, 14485, 14487, 14491, 14504, 14508, 14510, 14512, 14517, 14521, 14523, 14525, 14530, 14532, 14553, 14570, 14586, 14606, 14613, 14624, 14639, 14641, 14646, 14648, 14650, 14654, 14658, 14661, 14665, 14667, 14671, 14675, 14677, 14679, 14683, 14687, 14689, 14691, 14693, 14695, 14699, 14701, 14703, 14707, 14711, 14713, 14715, 14717, 14725, 14727, 14729, 14731, 14735, 14737, 14741, 14743, 14748, 14750, 14754, 14756, 14758, 14761, 14763, 14768, 14770, 14782, 14784, 14788, 14790, 14792, 14795, 14799, 14801, 14803, 14806, 14810, 14812, 14814, 14821, 14823, 14826, 14828, 14830, 14832, 14840, 14845, 14847, 14850, 14853, 14863, 14866, 14868, 14870, 14872, 14875, 14877, 14880, 14886, 14889, 14891, 14895, 14897, 14899, 14903, 14930, 14933, 14942, 14962, 14987, 14999, 15001, 15007, 15011, 15018, 15029, 15035, 15050, 15063, 15065, 15070, 15075, 15083, 15087, 15089, 15092, 15095, 15099, 15101, 15103, 15107, 15109, 15113, 15115, 15117, 15121, 15125, 15127, 15129, 15133, 15137, 15139, 15141, 15144, 15149, 15151, 15155, 15157, 15159, 15161, 15163, 15165, 15169, 15173, 15175, 15177, 15181, 15185, 15187, 15189, 15193, 15195, 15198, 15202, 15206, 15208, 15210, 15214, 15218, 15220, 15222, 15229, 15233, 15235, 15238, 15242, 15270, 15306, 15315, 15330, 15332, 15335, 15346, 15368, 15375, 15381, 15384, 15386, 15393, 15409, 15429, 15435, 15444, 15449, 15454, 15457, 15461, 15464, 15467, 15469, 15473, 15477, 15480, 15482, 15486, 15490, 15492, 15494, 15500, 15504, 15506, 15508, 15512, 15516, 15519, 15523, 15527, 15529, 15531, 15535, 15539, 15541, 15543, 15547, 15551, 15553, 15555, 15562, 15566, 15568, 15570, 15581, 15585, 15587, 15589, 15593, 15597, 15599, 15601, 15607, 15611, 15613, 15616, 15620, 15624, 15626, 15628, 15637, 15641, 15643, 15645, 15654, 15659, 15673, 15694, 15713, 15724, 15727, 15740, 15742, 15744, 15746, 15748, 15750, 15752, 15754, 15770, 15777, 15839, 15868, 15878, 15890, 15897, 15909, 15918, 15926, 15932, 15934, 15941, 15945, 15947, 15965, 15968, 15979, 15985, 15990, 15992, 15997, 16000, 16005, 16007, 16012, 16014, 16020, 16025, 16027, 16030, 16032, 16037, 16039, 16044, 16048, 16053, 16055, 16061, 16063, 16069, 16077, 16079, 16081, 16083, 16085, 16087, 16089, 16091, 16095, 16097, 16099, 16103, 16107, 16109, 16111, 16118, 16122, 16124, 16126, 16128, 16135, 16137, 16141, 16143, 16145, 16150, 16152, 16154, 16156, 16163, 16165, 16167, 16171, 16175, 16177, 16179, 16191, 16196, 16198, 16200, 16207, 16211, 16213, 16215, 16226, 16228, 16230, 16241, 16245, 16247, 16250, 16259, 16263, 16265, 16267, 16278, 16280, 16293, 16297, 16299, 16307, 16309, 16312, 16314, 16320, 16325, 16332, 16336, 16338, 16344, 16347, 16352, 16361, 16366, 16374, 16381, 16392, 16394, 16396, 16405, 16407, 16413, 16423, 16425, 16428, 16431, 16441, 16450, 16452, 16469, 16485, 16496, 16516, 16530, 16533, 16549, 16565, 16572, 16577, 16582, 16586, 16592, 16598, 16604, 16609, 16614, 16617, 16620, 16622, 16624, 16628, 16630, 16634, 16637, 16640, 16642, 16644, 16648, 16650, 16652, 16656, 16659, 16664, 16666, 16670, 16673, 16681, 16695, 16709, 16719, 16722, 16725, 16730, 16735, 16738, 16740, 16742, 16744, 16772, 16783, 16789, 16799, 16817, 16830, 16835, 16840, 16845, 16849, 16854, 16860, 16862, 16864, 16868, 16871, 16878, 16880, 16882, 16886, 16889, 16896, 16898, 16900, 16904, 16907, 16913, 16915, 16917, 16919, 16923, 16925, 16931, 16933, 16935, 16937, 16941, 16943, 16949, 16951, 16953, 16957, 16960, 16966, 16968, 16970, 16973, 16988, 16990, 16993, 16997, 17000, 17006, 17008, 17010, 17018, 17020, 17024, 17026, 17030, 17032, 17034, 17038, 17058, 17060, 17062, 17071, 17074, 17081, 17083, 17085, 17094, 17096, 17103, 17121, 17152, 17155, 17160, 17168, 17173, 17197, 17233, 17254, 17273, 17277, 17295, 17316, 17334, 17354, 17356, 17374, 17386, 17392, 17394, 17399, 17420, 17428, 17450, 17459, 17461, 17465, 17472, 17492, 17494, 17502, 17508, 17522, 17543, 17548, 17551, 17558, 17562, 17566, 17569, 17575, 17580, 17584, 17588, 17594, 17596, 17598, 17602, 17605, 17611, 17614, 17616, 17619, 17621, 17627, 17629, 17631, 17635, 17641, 17643, 17645, 17651, 17657, 17659, 17661, 17667, 17669, 17671, 17675, 17684, 17686, 17688, 17693, 17699, 17701, 17703, 17707, 17714, 17716, 17718, 17723, 17729, 17731, 17733, 17735, 17741, 17747, 17749, 17751, 17757, 17761, 17763, 17765, 17771, 17777, 17779, 17781, 17783, 17789, 17796, 17798, 17800, 17806, 17812, 17814, 17816, 17827, 17844, 17849, 17852, 17855, 17858, 17863, 17865, 17867, 17875, 17887, 17891, 17904, 17914, 17922, 17925, 17931, 17935, 17940, 17953, 17967, 17998, 18024, 18029, 18042, 18057, 18069, 18075, 18086, 18092, 18094, 18100, 18103, 18108, 18111, 18116, 18128, 18132, 18137, 18148, 18179, 18205, 18218, 18233, 18241, 18275, 18279, 18289, 18291, 18296, 18309, 18328, 18330, 18336, 18382, 18393, 18404, 18407, 18414, 18432, 18464, 18489, 18500, 18504, 18506, 18516, 18553, 18558, 18560, 18568, 18570, 18583, 18588, 18593, 18599, 18602, 18606, 18610, 18614, 18617, 18620, 18624, 18628, 18631, 18635, 18637, 18640, 18642, 18656, 18658, 18660, 18662, 18664, 18666, 18680, 18684, 18686, 18688, 18692, 18696, 18698, 18700, 18704, 18720, 18724, 18726, 18728, 18746, 18751, 18753, 18755, 18763, 18767, 18770, 18772, 18774, 18780, 18784, 18786, 18788, 18792, 18797, 18799, 18801, 18805, 18809, 18812, 18822, 18833, 18873, 18876, 18885, 18900, 18902, 18936, 18941, 18952, 18958, 18964, 18970, 18976, 19004, 19039, 19049, 19063, 19070, 19090, 19101, 19130, 19142, 19158, 19174, 19178, 19180, 19186, 19188, 19190, 19198, 19201, 19207, 19209, 19213, 19218, 19225, 19227, 19232, 19241, 19259, 19276, 19298, 19302, 19307, 19317, 19319, 19321, 19323, 19325, 19327, 19355, 19357, 19373, 19385, 19398, 19407, 19420, 19426, 19438, 19458, 19466, 19468, 19492, 19503, 19527, 19535, 19542, 19562, 19565, 19579, 19584, 19586, 19594, 19597, 19612, 19614, 19627, 19633, 19639, 19641, 19648, 19651, 19653, 19660, 19669, 19674, 19679, 19684, 19688, 19691, 19695, 19705, 19707, 19712, 19717, 19720, 19724, 19726, 19728, 19730, 19732, 19736, 19738, 19740, 19747, 19751, 19753, 19755, 19762, 19766, 19768, 19770, 19776, 19780, 19782, 19785, 19791, 19793, 19796, 19800, 19802, 19809, 19813, 19815, 19817, 19826, 19828, 19831, 19833, 19835, 19839, 19843, 19845, 19847, 19854, 19856, 19858, 19860, 19864, 19868, 19870, 19872, 19875, 19898, 19910, 19914, 19943, 19967, 19985, 20000, 20015, 20032, 20045, 20052, 20059, 20068, 20079, 20081, 20120, 20148, 20185, 20198, 20213, 20229, 20254, 20274, 20276, 20294, 20296, 20298, 20300, 20302, 20304, 20308, 20310, 20314, 20316, 20318, 20322, 20324, 20326, 20328, 20332, 20334, 20338, 20340, 20344, 20346, 20350, 20354, 20356, 20358, 20362, 20366, 20368, 20371, 20373, 20375, 20382, 20386, 20389, 20391, 20396, 20400, 20402, 20404, 20408, 20412, 20414, 20416, 20419, 20423, 20425, 20427, 20431, 20435, 20437, 20439, 20443, 20445, 20447, 20453, 20457, 20459, 20461, 20470, 20480, 20490, 20499, 20508, 20518, 20522, 20524, 20527, 20533, 20535, 20538, 20540, 20542, 20545, 20552, 20556, 20558, 20561, 20574, 20577, 20590, 20596, 20601, 20606, 20622, 20625, 20627, 20640, 20676, 20681, 20683, 20685, 20691, 20695, 20697, 20699, 20703, 20707, 20709, 20711, 20715, 20719, 20721, 20725, 20735, 20739, 20741, 20745, 20749, 20751, 20754, 20758, 20760, 20762, 20764, 20766, 20768, 20770, 20780, 20784, 20786, 20788, 20790, 20799, 20803, 20805, 20809, 20813, 20815, 20818, 20821, 20825, 20827, 20829, 20833, 20835, 20843, 20847, 20880, 20898, 20921, 20933, 20936, 20940, 20943, 20946, 20949, 20953, 20956, 20959, 20962, 20966, 20970, 20973, 20976, 20979, 20982, 20985, 20995, 21002, 21015, 21025, 21027, 21049, 21055, 21060, 21063, 21082, 21084, 21086, 21096, 21101, 21104, 21110, 21115, 21117, 21123, 21130, 21133, 21142, 21146, 21152, 21157, 21159, 21161, 21166, 21177, 21183, 21185, 21190, 21195, 21202, 21206, 21210, 21216, 21223, 21225, 21232, 21239, 21243, 21245, 21248, 21252, 21254, 21256, 21261, 21263, 21265, 21267, 21271, 21275, 21278, 21280, 21283, 21285, 21289, 21291, 21297, 21302, 21304, 21309, 21311, 21314, 21316, 21318, 21321, 21323, 21327, 21329, 21331, 21335, 21339, 21341, 21344, 21347, 21359, 21361, 21363, 21373, 21377, 21379, 21381, 21385, 21389, 21391, 21393, 21397, 21401, 21403, 21405, 21414, 21416, 21420, 21422, 21425, 21429, 21432, 21438, 21440, 21443, 21445, 21447, 21450, 21452, 21460, 21464, 21466, 21468, 21470, 21477, 21481, 21483, 21485, 21487, 21491, 21495, 21497, 21499, 21501, 21504, 21510, 21515, 21517, 21519, 21527, 21535, 21541, 21543, 21545, 21553, 21561, 21565, 21567, 21569, 21571, 21579, 21588, 21593, 21595, 21599, 21601, 21612, 21616, 21618, 21620, 21622, 21633, 21637, 21639, 21641, 21645, 21650, 21666, 21669, 21673, 21675, 21680, 21690, 21694, 21696, 21702, 21719, 21722, 21726, 21731]\n"
          ]
        }
      ]
    },
    {
      "cell_type": "code",
      "source": [
        "count = 0\n",
        "count1 = 0\n",
        "query_token_list = [0]\n",
        "with open(\"/content/dev-n2c2-NOnesupport-200-tokenized.txt\",'r') as f1:\n",
        "  text = f1.readlines()\n",
        "  for line in text:\n",
        "    count +=1\n",
        "    if(line==\"\\n\"):\n",
        "      count1+=1\n",
        "      query_token_list.append(count)\n",
        "print(count,count1,len(query_token_list))\n",
        "print(query_token_list)"
      ],
      "metadata": {
        "colab": {
          "base_uri": "https://localhost:8080/"
        },
        "id": "g-UvXIw9zQIa",
        "outputId": "6d6a2d0b-fd9c-43ce-80b5-92c6409840b3"
      },
      "execution_count": null,
      "outputs": [
        {
          "output_type": "stream",
          "name": "stdout",
          "text": [
            "31211 3470 3471\n",
            "[0, 15, 38, 59, 95, 130, 146, 165, 178, 191, 200, 205, 232, 252, 261, 305, 357, 365, 389, 404, 420, 431, 440, 466, 481, 505, 509, 525, 532, 551, 563, 580, 585, 600, 622, 626, 641, 644, 648, 670, 691, 694, 700, 703, 708, 717, 722, 730, 745, 760, 769, 783, 804, 815, 820, 822, 834, 845, 854, 857, 869, 889, 898, 910, 919, 936, 938, 940, 950, 957, 959, 961, 973, 980, 982, 984, 996, 1003, 1005, 1007, 1011, 1021, 1023, 1025, 1033, 1055, 1057, 1063, 1068, 1075, 1077, 1081, 1087, 1093, 1095, 1097, 1103, 1113, 1115, 1117, 1121, 1128, 1130, 1132, 1140, 1152, 1162, 1166, 1168, 1170, 1175, 1181, 1183, 1185, 1193, 1200, 1202, 1204, 1207, 1209, 1217, 1219, 1224, 1231, 1233, 1235, 1242, 1249, 1251, 1253, 1261, 1265, 1271, 1273, 1275, 1278, 1283, 1291, 1293, 1295, 1300, 1306, 1308, 1310, 1315, 1319, 1323, 1325, 1327, 1331, 1341, 1347, 1357, 1360, 1362, 1365, 1376, 1381, 1383, 1385, 1389, 1399, 1406, 1408, 1410, 1415, 1418, 1420, 1422, 1425, 1427, 1434, 1436, 1438, 1445, 1462, 1476, 1497, 1527, 1540, 1546, 1553, 1559, 1572, 1596, 1610, 1648, 1654, 1658, 1701, 1717, 1724, 1737, 1806, 1823, 1838, 1849, 1879, 1895, 1909, 1926, 1942, 1959, 1970, 1986, 1989, 2008, 2027, 2030, 2048, 2068, 2072, 2102, 2121, 2143, 2166, 2186, 2201, 2232, 2234, 2247, 2259, 2275, 2296, 2301, 2307, 2312, 2320, 2322, 2328, 2331, 2347, 2354, 2356, 2359, 2367, 2375, 2377, 2379, 2388, 2392, 2397, 2399, 2401, 2405, 2415, 2421, 2423, 2425, 2430, 2437, 2439, 2441, 2447, 2449, 2451, 2459, 2466, 2468, 2470, 2475, 2485, 2491, 2493, 2495, 2500, 2505, 2507, 2509, 2511, 2521, 2527, 2535, 2539, 2541, 2557, 2563, 2565, 2567, 2572, 2578, 2580, 2582, 2586, 2595, 2597, 2599, 2603, 2611, 2613, 2615, 2626, 2642, 2644, 2647, 2663, 2668, 2673, 2675, 2677, 2681, 2690, 2702, 2707, 2719, 2743, 2765, 2798, 2801, 2813, 2837, 2851, 2871, 2877, 2891, 2902, 2908, 2912, 2917, 2921, 2926, 2935, 2947, 2954, 2961, 2965, 2973, 2980, 2986, 2992, 2995, 3007, 3016, 3031, 3040, 3052, 3058, 3068, 3078, 3088, 3115, 3124, 3126, 3128, 3132, 3139, 3141, 3143, 3147, 3152, 3154, 3156, 3162, 3179, 3181, 3183, 3187, 3189, 3191, 3195, 3202, 3208, 3210, 3212, 3216, 3226, 3236, 3238, 3240, 3244, 3251, 3253, 3255, 3258, 3265, 3272, 3274, 3276, 3283, 3285, 3287, 3291, 3300, 3302, 3304, 3310, 3324, 3331, 3333, 3335, 3340, 3350, 3358, 3361, 3363, 3366, 3373, 3380, 3382, 3384, 3390, 3398, 3400, 3405, 3412, 3436, 3445, 3447, 3449, 3452, 3466, 3468, 3470, 3474, 3488, 3490, 3494, 3511, 3513, 3515, 3519, 3541, 3543, 3545, 3549, 3558, 3560, 3574, 3576, 3578, 3591, 3593, 3595, 3598, 3604, 3612, 3624, 3626, 3628, 3631, 3648, 3650, 3654, 3659, 3671, 3673, 3675, 3686, 3692, 3702, 3704, 3706, 3709, 3716, 3718, 3731, 3733, 3735, 3738, 3749, 3754, 3765, 3767, 3769, 3773, 3778, 3794, 3796, 3803, 3805, 3822, 3826, 3830, 3837, 3841, 3846, 3854, 3863, 3878, 3882, 3891, 3899, 3912, 3941, 3954, 3959, 3970, 3978, 3984, 3992, 3999, 4002, 4004, 4014, 4021, 4035, 4037, 4039, 4053, 4064, 4066, 4068, 4074, 4082, 4088, 4091, 4094, 4097, 4100, 4102, 4105, 4119, 4159, 4175, 4183, 4191, 4208, 4240, 4259, 4291, 4305, 4344, 4370, 4374, 4395, 4412, 4433, 4440, 4452, 4467, 4486, 4512, 4549, 4559, 4563, 4565, 4586, 4590, 4592, 4608, 4612, 4614, 4616, 4633, 4636, 4642, 4644, 4646, 4651, 4656, 4658, 4660, 4663, 4674, 4684, 4686, 4694, 4706, 4708, 4710, 4715, 4725, 4728, 4730, 4736, 4740, 4744, 4746, 4748, 4759, 4767, 4769, 4775, 4789, 4796, 4801, 4803, 4805, 4812, 4816, 4824, 4826, 4828, 4835, 4837, 4841, 4843, 4845, 4851, 4862, 4870, 4880, 4895, 4897, 4905, 4916, 4922, 4924, 4926, 4934, 4960, 4967, 4988, 4999, 5071, 5110, 5136, 5160, 5171, 5186, 5193, 5215, 5237, 5260, 5264, 5267, 5282, 5294, 5325, 5336, 5353, 5378, 5402, 5408, 5432, 5477, 5505, 5528, 5532, 5556, 5578, 5594, 5597, 5608, 5627, 5667, 5676, 5687, 5689, 5691, 5702, 5704, 5710, 5712, 5714, 5728, 5730, 5732, 5736, 5743, 5745, 5749, 5761, 5763, 5765, 5776, 5793, 5818, 5822, 5834, 5856, 5876, 5883, 5895, 5924, 5929, 5933, 5935, 5949, 5953, 5955, 5967, 5971, 5973, 5985, 5990, 5992, 6003, 6007, 6009, 6025, 6029, 6031, 6047, 6051, 6053, 6062, 6066, 6068, 6086, 6089, 6091, 6097, 6128, 6130, 6141, 6145, 6147, 6156, 6165, 6167, 6169, 6180, 6182, 6184, 6188, 6197, 6199, 6201, 6205, 6213, 6215, 6217, 6221, 6232, 6234, 6236, 6240, 6249, 6251, 6253, 6257, 6263, 6265, 6267, 6271, 6281, 6283, 6287, 6289, 6291, 6295, 6306, 6308, 6310, 6314, 6323, 6325, 6327, 6329, 6338, 6350, 6352, 6354, 6358, 6379, 6381, 6387, 6398, 6400, 6402, 6413, 6415, 6426, 6439, 6441, 6443, 6446, 6457, 6469, 6479, 6483, 6527, 6567, 6576, 6600, 6608, 6617, 6619, 6623, 6635, 6637, 6639, 6652, 6654, 6656, 6659, 6677, 6679, 6681, 6685, 6687, 6689, 6693, 6704, 6706, 6708, 6711, 6725, 6738, 6740, 6746, 6749, 6760, 6775, 6777, 6779, 6782, 6801, 6803, 6809, 6812, 6823, 6836, 6838, 6840, 6843, 6846, 6859, 6861, 6863, 6866, 6879, 6881, 6883, 6886, 6889, 6902, 6904, 6907, 6910, 6917, 6922, 6924, 6937, 6944, 6964, 6978, 6988, 7004, 7008, 7012, 7018, 7040, 7044, 7055, 7071, 7076, 7083, 7090, 7097, 7104, 7113, 7118, 7124, 7140, 7145, 7149, 7165, 7184, 7193, 7206, 7233, 7247, 7259, 7271, 7284, 7290, 7294, 7314, 7332, 7346, 7373, 7376, 7389, 7421, 7437, 7443, 7458, 7473, 7477, 7480, 7492, 7495, 7500, 7503, 7506, 7510, 7514, 7518, 7520, 7522, 7527, 7533, 7537, 7540, 7554, 7564, 7569, 7578, 7598, 7628, 7651, 7665, 7685, 7698, 7712, 7733, 7753, 7762, 7771, 7781, 7788, 7797, 7800, 7807, 7809, 7818, 7820, 7822, 7826, 7839, 7841, 7843, 7846, 7848, 7850, 7854, 7866, 7868, 7870, 7874, 7876, 7880, 7895, 7900, 7902, 7904, 7914, 7919, 7941, 7953, 7955, 7957, 7970, 7979, 7981, 7983, 7995, 7997, 7999, 8011, 8013, 8017, 8023, 8037, 8062, 8080, 8111, 8127, 8139, 8142, 8162, 8183, 8199, 8225, 8234, 8241, 8245, 8251, 8268, 8287, 8292, 8297, 8309, 8317, 8325, 8328, 8352, 8372, 8384, 8397, 8404, 8417, 8426, 8430, 8439, 8443, 8445, 8455, 8460, 8462, 8464, 8468, 8476, 8478, 8480, 8483, 8495, 8502, 8504, 8506, 8511, 8518, 8520, 8524, 8534, 8544, 8546, 8554, 8560, 8564, 8567, 8577, 8584, 8586, 8588, 8591, 8603, 8610, 8612, 8614, 8624, 8631, 8633, 8635, 8639, 8644, 8650, 8652, 8658, 8665, 8667, 8670, 8678, 8682, 8686, 8688, 8692, 8700, 8705, 8707, 8709, 8713, 8721, 8727, 8729, 8731, 8738, 8740, 8744, 8749, 8751, 8760, 8804, 8817, 8844, 8922, 8937, 8949, 8992, 9016, 9021, 9029, 9037, 9043, 9048, 9056, 9062, 9068, 9076, 9107, 9118, 9139, 9148, 9152, 9165, 9178, 9181, 9185, 9189, 9210, 9215, 9219, 9248, 9339, 9344, 9350, 9352, 9356, 9360, 9366, 9368, 9370, 9375, 9380, 9382, 9386, 9388, 9390, 9394, 9400, 9409, 9411, 9413, 9424, 9428, 9446, 9466, 9483, 9501, 9518, 9528, 9550, 9594, 9605, 9612, 9621, 9645, 9649, 9670, 9677, 9690, 9697, 9710, 9717, 9737, 9747, 9763, 9767, 9771, 9775, 9781, 9823, 9853, 9874, 9896, 9954, 9958, 9986, 9992, 10012, 10029, 10048, 10100, 10124, 10142, 10144, 10164, 10189, 10197, 10205, 10223, 10241, 10243, 10249, 10257, 10267, 10281, 10292, 10301, 10308, 10315, 10320, 10328, 10338, 10346, 10356, 10366, 10382, 10398, 10410, 10424, 10440, 10446, 10453, 10459, 10470, 10479, 10488, 10493, 10498, 10524, 10528, 10531, 10553, 10573, 10583, 10606, 10617, 10633, 10636, 10665, 10673, 10696, 10701, 10712, 10727, 10733, 10745, 10756, 10766, 10776, 10788, 10801, 10815, 10826, 10846, 10850, 10855, 10874, 10888, 10895, 10901, 10912, 10957, 10961, 10965, 10968, 10978, 10985, 10994, 10996, 10998, 11001, 11007, 11013, 11039, 11076, 11100, 11108, 11127, 11133, 11143, 11150, 11166, 11170, 11242, 11245, 11250, 11256, 11262, 11275, 11278, 11300, 11305, 11330, 11335, 11343, 11352, 11369, 11378, 11388, 11398, 11417, 11428, 11431, 11437, 11441, 11446, 11477, 11494, 11520, 11538, 11550, 11558, 11585, 11610, 11633, 11668, 11679, 11699, 11725, 11747, 11764, 11807, 11828, 11843, 11851, 11881, 11910, 11931, 11937, 11959, 11984, 11998, 12005, 12029, 12037, 12051, 12066, 12069, 12077, 12083, 12102, 12112, 12120, 12133, 12140, 12152, 12158, 12192, 12200, 12225, 12251, 12259, 12263, 12273, 12280, 12289, 12299, 12303, 12309, 12321, 12328, 12339, 12348, 12356, 12364, 12368, 12376, 12383, 12385, 12393, 12403, 12409, 12420, 12423, 12430, 12432, 12434, 12436, 12441, 12443, 12445, 12449, 12453, 12455, 12457, 12461, 12469, 12471, 12473, 12477, 12482, 12484, 12486, 12490, 12495, 12509, 12511, 12521, 12525, 12529, 12531, 12541, 12547, 12549, 12553, 12561, 12567, 12569, 12571, 12583, 12596, 12606, 12613, 12625, 12636, 12643, 12645, 12647, 12653, 12657, 12666, 12681, 12692, 12714, 12720, 12731, 12746, 12750, 12754, 12758, 12800, 12817, 12833, 12847, 12874, 12894, 12912, 12927, 12948, 12965, 12972, 12998, 13008, 13021, 13030, 13071, 13076, 13085, 13103, 13113, 13119, 13144, 13178, 13185, 13197, 13201, 13210, 13226, 13228, 13231, 13235, 13241, 13243, 13245, 13250, 13254, 13259, 13261, 13263, 13270, 13275, 13277, 13279, 13283, 13301, 13303, 13311, 13324, 13330, 13332, 13334, 13340, 13346, 13348, 13352, 13356, 13365, 13369, 13371, 13381, 13385, 13391, 13393, 13395, 13401, 13409, 13411, 13413, 13417, 13424, 13426, 13429, 13436, 13444, 13446, 13448, 13453, 13461, 13469, 13471, 13473, 13482, 13492, 13504, 13514, 13523, 13530, 13536, 13545, 13561, 13569, 13591, 13620, 13648, 13669, 13683, 13690, 13696, 13704, 13708, 13715, 13726, 13733, 13746, 13797, 13883, 13887, 13965, 14001, 14060, 14080, 14095, 14111, 14121, 14142, 14145, 14172, 14194, 14199, 14206, 14213, 14228, 14244, 14255, 14257, 14259, 14263, 14272, 14274, 14276, 14283, 14295, 14299, 14301, 14303, 14307, 14319, 14321, 14323, 14327, 14359, 14375, 14399, 14433, 14485, 14488, 14493, 14501, 14510, 14515, 14544, 14553, 14559, 14566, 14571, 14580, 14594, 14598, 14604, 14609, 14614, 14618, 14632, 14637, 14641, 14646, 14661, 14664, 14669, 14676, 14692, 14696, 14700, 14704, 14707, 14712, 14725, 14733, 14741, 14750, 14779, 14788, 14794, 14801, 14823, 14833, 14839, 14849, 14862, 14868, 14886, 14891, 14913, 14918, 14935, 14940, 14955, 14969, 14976, 14991, 15006, 15010, 15013, 15028, 15033, 15048, 15053, 15084, 15086, 15097, 15111, 15118, 15127, 15129, 15136, 15146, 15153, 15155, 15200, 15212, 15216, 15223, 15231, 15233, 15241, 15243, 15253, 15260, 15262, 15273, 15280, 15282, 15292, 15299, 15301, 15303, 15314, 15321, 15326, 15328, 15340, 15349, 15351, 15367, 15377, 15379, 15385, 15394, 15396, 15398, 15400, 15405, 15424, 15426, 15428, 15444, 15446, 15448, 15452, 15466, 15468, 15472, 15495, 15498, 15500, 15503, 15507, 15523, 15525, 15527, 15531, 15550, 15552, 15554, 15558, 15581, 15583, 15585, 15589, 15605, 15607, 15612, 15625, 15627, 15629, 15641, 15643, 15645, 15648, 15667, 15669, 15671, 15675, 15692, 15694, 15696, 15700, 15719, 15721, 15723, 15726, 15728, 15741, 15743, 15745, 15750, 15765, 15767, 15769, 15789, 15791, 15793, 15797, 15811, 15815, 15817, 15823, 15835, 15837, 15839, 15841, 15853, 15862, 15865, 15869, 15887, 15889, 15891, 15893, 15905, 15921, 15924, 15926, 15930, 15941, 15953, 15957, 15975, 15978, 15986, 15990, 16017, 16024, 16026, 16028, 16030, 16035, 16047, 16054, 16056, 16058, 16065, 16074, 16076, 16078, 16082, 16095, 16097, 16101, 16123, 16126, 16129, 16133, 16144, 16149, 16151, 16153, 16165, 16172, 16174, 16176, 16180, 16183, 16185, 16189, 16204, 16206, 16208, 16213, 16221, 16223, 16225, 16229, 16236, 16238, 16240, 16243, 16261, 16263, 16265, 16269, 16276, 16278, 16280, 16284, 16295, 16297, 16299, 16302, 16304, 16312, 16314, 16316, 16321, 16328, 16336, 16338, 16340, 16343, 16354, 16356, 16358, 16362, 16375, 16379, 16381, 16401, 16403, 16405, 16416, 16424, 16431, 16451, 16460, 16465, 16469, 16473, 16478, 16482, 16488, 16502, 16523, 16529, 16535, 16545, 16558, 16578, 16590, 16598, 16627, 16632, 16639, 16662, 16671, 16680, 16710, 16730, 16737, 16742, 16796, 16808, 16826, 16853, 16873, 16892, 16929, 16933, 16941, 16949, 16952, 16979, 17013, 17019, 17029, 17031, 17039, 17047, 17054, 17056, 17058, 17066, 17068, 17078, 17084, 17086, 17111, 17122, 17125, 17134, 17136, 17138, 17140, 17165, 17167, 17169, 17181, 17193, 17195, 17197, 17201, 17207, 17209, 17211, 17213, 17215, 17219, 17230, 17232, 17234, 17236, 17240, 17250, 17252, 17254, 17258, 17266, 17268, 17270, 17274, 17289, 17291, 17293, 17297, 17311, 17313, 17315, 17324, 17337, 17339, 17345, 17348, 17369, 17371, 17373, 17377, 17388, 17390, 17392, 17401, 17414, 17419, 17433, 17438, 17442, 17452, 17455, 17479, 17502, 17506, 17531, 17542, 17569, 17573, 17582, 17614, 17619, 17624, 17636, 17646, 17656, 17664, 17669, 17682, 17702, 17707, 17718, 17727, 17740, 17746, 17826, 17837, 17867, 17873, 17877, 17881, 17885, 17893, 17898, 17918, 17925, 17933, 17942, 17945, 17969, 17993, 18010, 18027, 18045, 18082, 18107, 18147, 18156, 18176, 18218, 18232, 18244, 18262, 18267, 18277, 18291, 18293, 18301, 18313, 18324, 18334, 18340, 18349, 18359, 18365, 18370, 18375, 18385, 18412, 18425, 18444, 18473, 18483, 18491, 18531, 18547, 18566, 18584, 18599, 18602, 18608, 18624, 18635, 18637, 18640, 18646, 18668, 18692, 18702, 18736, 18741, 18747, 18749, 18751, 18755, 18761, 18763, 18765, 18769, 18771, 18773, 18777, 18779, 18787, 18789, 18791, 18800, 18802, 18804, 18811, 18820, 18822, 18824, 18832, 18839, 18841, 18843, 18849, 18864, 18871, 18882, 18897, 18907, 18922, 18940, 18948, 18960, 18977, 18979, 18981, 18990, 18994, 18996, 18998, 19002, 19009, 19011, 19013, 19017, 19021, 19023, 19025, 19028, 19036, 19043, 19045, 19047, 19056, 19072, 19074, 19080, 19083, 19090, 19092, 19094, 19097, 19102, 19104, 19106, 19111, 19116, 19118, 19120, 19127, 19129, 19131, 19137, 19152, 19186, 19209, 19213, 19257, 19276, 19281, 19331, 19360, 19372, 19411, 19417, 19423, 19443, 19467, 19493, 19514, 19547, 19552, 19573, 19592, 19614, 19633, 19637, 19658, 19667, 19672, 19690, 19715, 19720, 19743, 19751, 19759, 19767, 19770, 19780, 19794, 19801, 19817, 19820, 19832, 19844, 19853, 19860, 19872, 19886, 19898, 19911, 19920, 19922, 19924, 19926, 19931, 19933, 19935, 19938, 19945, 19957, 19959, 19961, 19963, 19972, 19987, 19989, 19997, 20008, 20014, 20021, 20036, 20057, 20087, 20096, 20100, 20117, 20152, 20173, 20181, 20185, 20197, 20237, 20249, 20262, 20275, 20297, 20312, 20319, 20329, 20334, 20363, 20366, 20370, 20379, 20384, 20395, 20403, 20414, 20418, 20433, 20462, 20483, 20501, 20504, 20516, 20519, 20537, 20545, 20554, 20561, 20566, 20570, 20574, 20576, 20578, 20582, 20587, 20589, 20591, 20595, 20599, 20603, 20605, 20607, 20611, 20627, 20629, 20631, 20634, 20654, 20661, 20663, 20665, 20669, 20676, 20678, 20680, 20683, 20685, 20693, 20703, 20706, 20708, 20711, 20715, 20727, 20736, 20738, 20740, 20743, 20753, 20760, 20762, 20764, 20767, 20782, 20789, 20791, 20796, 20811, 20817, 20819, 20821, 20829, 20835, 20837, 20839, 20851, 20855, 20880, 20907, 20931, 20961, 20973, 20987, 21010, 21014, 21020, 21022, 21024, 21028, 21035, 21038, 21044, 21046, 21050, 21058, 21060, 21062, 21066, 21076, 21079, 21081, 21085, 21087, 21091, 21093, 21095, 21099, 21115, 21118, 21121, 21125, 21135, 21138, 21140, 21142, 21146, 21148, 21154, 21156, 21164, 21170, 21182, 21184, 21186, 21189, 21191, 21198, 21200, 21216, 21218, 21223, 21225, 21227, 21230, 21238, 21240, 21242, 21245, 21252, 21257, 21262, 21272, 21276, 21281, 21283, 21285, 21289, 21299, 21309, 21311, 21315, 21318, 21331, 21341, 21344, 21346, 21349, 21353, 21355, 21358, 21366, 21369, 21374, 21380, 21382, 21384, 21389, 21420, 21427, 21445, 21475, 21501, 21513, 21520, 21531, 21539, 21553, 21575, 21586, 21606, 21624, 21628, 21637, 21644, 21655, 21664, 21666, 21670, 21673, 21679, 21681, 21683, 21688, 21691, 21695, 21697, 21699, 21703, 21711, 21713, 21715, 21719, 21726, 21728, 21730, 21733, 21740, 21747, 21752, 21754, 21756, 21761, 21763, 21765, 21769, 21775, 21777, 21779, 21784, 21788, 21790, 21792, 21797, 21799, 21805, 21809, 21813, 21815, 21817, 21821, 21827, 21829, 21831, 21838, 21844, 21846, 21851, 21855, 21889, 21934, 21949, 21974, 21978, 21983, 22002, 22042, 22069, 22079, 22084, 22091, 22102, 22126, 22152, 22160, 22175, 22186, 22194, 22201, 22211, 22219, 22226, 22228, 22236, 22245, 22251, 22253, 22264, 22271, 22273, 22275, 22281, 22290, 22292, 22294, 22298, 22304, 22308, 22312, 22319, 22321, 22323, 22327, 22333, 22335, 22337, 22342, 22349, 22351, 22353, 22361, 22368, 22370, 22372, 22386, 22393, 22395, 22397, 22401, 22407, 22409, 22411, 22417, 22426, 22428, 22432, 22436, 22442, 22444, 22446, 22455, 22460, 22462, 22464, 22473, 22480, 22494, 22518, 22542, 22561, 22569, 22584, 22588, 22593, 22599, 22602, 22606, 22611, 22615, 22641, 22651, 22727, 22769, 22782, 22795, 22804, 22823, 22838, 22848, 22858, 22860, 22869, 22876, 22880, 22904, 22907, 22922, 22931, 22939, 22941, 22947, 22950, 22958, 22960, 22968, 22970, 22980, 22988, 22990, 22995, 22997, 23004, 23006, 23014, 23020, 23027, 23029, 23039, 23044, 23051, 23070, 23075, 23080, 23086, 23092, 23097, 23099, 23101, 23108, 23110, 23112, 23116, 23121, 23123, 23125, 23132, 23139, 23141, 23143, 23145, 23153, 23158, 23162, 23164, 23166, 23172, 23176, 23178, 23180, 23187, 23189, 23191, 23195, 23202, 23204, 23206, 23220, 23228, 23230, 23232, 23239, 23244, 23246, 23248, 23262, 23264, 23266, 23280, 23288, 23290, 23293, 23304, 23311, 23313, 23315, 23326, 23328, 23344, 23351, 23355, 23364, 23368, 23374, 23377, 23385, 23393, 23401, 23408, 23410, 23419, 23424, 23431, 23444, 23451, 23465, 23473, 23491, 23496, 23501, 23514, 23518, 23528, 23543, 23547, 23552, 23557, 23571, 23581, 23585, 23610, 23635, 23650, 23675, 23694, 23698, 23718, 23741, 23752, 23759, 23767, 23774, 23781, 23789, 23797, 23805, 23814, 23819, 23823, 23825, 23828, 23832, 23834, 23838, 23843, 23848, 23850, 23852, 23856, 23860, 23862, 23866, 23871, 23879, 23881, 23885, 23890, 23905, 23920, 23939, 23951, 23956, 23960, 23967, 23975, 23982, 23985, 23989, 23992, 24031, 24047, 24065, 24078, 24111, 24126, 24134, 24143, 24152, 24159, 24167, 24177, 24179, 24181, 24185, 24190, 24204, 24206, 24208, 24212, 24217, 24229, 24231, 24233, 24237, 24243, 24254, 24256, 24258, 24260, 24264, 24266, 24278, 24280, 24282, 24284, 24289, 24291, 24302, 24304, 24306, 24310, 24315, 24328, 24330, 24332, 24335, 24357, 24359, 24363, 24367, 24372, 24382, 24384, 24386, 24398, 24400, 24404, 24407, 24412, 24414, 24416, 24422, 24444, 24446, 24448, 24457, 24462, 24473, 24475, 24477, 24486, 24488, 24499, 24522, 24561, 24567, 24574, 24590, 24599, 24638, 24694, 24718, 24742, 24750, 24768, 24809, 24832, 24861, 24865, 24888, 24901, 24911, 24914, 24921, 24953, 24968, 24994, 25011, 25013, 25019, 25032, 25063, 25065, 25078, 25085, 25104, 25133, 25144, 25152, 25164, 25172, 25180, 25186, 25194, 25203, 25212, 25220, 25229, 25231, 25233, 25237, 25242, 25263, 25266, 25268, 25271, 25275, 25289, 25291, 25293, 25297, 25311, 25313, 25315, 25321, 25333, 25335, 25337, 25350, 25352, 25354, 25358, 25370, 25372, 25374, 25379, 25388, 25390, 25392, 25396, 25408, 25410, 25412, 25420, 25431, 25433, 25435, 25437, 25443, 25455, 25457, 25459, 25465, 25471, 25473, 25475, 25481, 25493, 25495, 25497, 25499, 25506, 25517, 25519, 25521, 25527, 25539, 25541, 25543, 25554, 25578, 25589, 25595, 25601, 25608, 25617, 25621, 25625, 25636, 25656, 25662, 25676, 25691, 25699, 25705, 25714, 25722, 25730, 25749, 25768, 25808, 25836, 25843, 25865, 25888, 25910, 25918, 25935, 25943, 25947, 25955, 25960, 25968, 25973, 25983, 25997, 26006, 26015, 26057, 26097, 26125, 26148, 26175, 26187, 26226, 26230, 26243, 26249, 26255, 26275, 26295, 26299, 26308, 26371, 26389, 26403, 26408, 26421, 26446, 26485, 26515, 26529, 26539, 26543, 26562, 26607, 26616, 26619, 26633, 26635, 26652, 26662, 26670, 26680, 26687, 26695, 26704, 26712, 26721, 26729, 26737, 26745, 26750, 26759, 26762, 26768, 26771, 26792, 26797, 26800, 26802, 26804, 26808, 26827, 26831, 26833, 26835, 26839, 26847, 26849, 26851, 26856, 26878, 26886, 26888, 26890, 26913, 26919, 26921, 26923, 26932, 26940, 26944, 26946, 26950, 26959, 26964, 26966, 26968, 26972, 26981, 26983, 26985, 26990, 26998, 27004, 27016, 27031, 27074, 27079, 27090, 27109, 27112, 27172, 27179, 27195, 27217, 27239, 27260, 27281, 27314, 27367, 27383, 27400, 27409, 27433, 27448, 27484, 27504, 27528, 27552, 27559, 27561, 27569, 27571, 27573, 27583, 27588, 27601, 27603, 27607, 27612, 27632, 27634, 27642, 27653, 27678, 27697, 27721, 27727, 27734, 27751, 27755, 27760, 27763, 27768, 27772, 27804, 27808, 27835, 27855, 27870, 27881, 27900, 27912, 27927, 27955, 27968, 27973, 28009, 28022, 28052, 28065, 28077, 28110, 28116, 28132, 28137, 28144, 28152, 28155, 28181, 28187, 28203, 28212, 28222, 28225, 28232, 28238, 28243, 28251, 28273, 28281, 28289, 28297, 28302, 28305, 28312, 28322, 28326, 28331, 28338, 28343, 28353, 28355, 28357, 28359, 28361, 28368, 28370, 28372, 28379, 28385, 28387, 28389, 28396, 28403, 28405, 28407, 28414, 28421, 28423, 28426, 28434, 28437, 28442, 28449, 28451, 28458, 28463, 28465, 28467, 28476, 28480, 28483, 28485, 28487, 28491, 28497, 28499, 28501, 28508, 28512, 28514, 28516, 28520, 28527, 28529, 28531, 28534, 28561, 28579, 28590, 28627, 28664, 28686, 28707, 28735, 28760, 28779, 28789, 28800, 28814, 28835, 28839, 28899, 28932, 28981, 28999, 29020, 29040, 29076, 29098, 29101, 29122, 29126, 29130, 29134, 29138, 29143, 29151, 29156, 29160, 29162, 29164, 29168, 29170, 29174, 29176, 29180, 29182, 29186, 29189, 29193, 29195, 29199, 29209, 29211, 29213, 29217, 29226, 29229, 29235, 29238, 29242, 29251, 29267, 29270, 29272, 29277, 29283, 29285, 29287, 29292, 29296, 29298, 29300, 29303, 29307, 29309, 29311, 29315, 29320, 29322, 29324, 29328, 29330, 29332, 29338, 29345, 29347, 29349, 29358, 29370, 29382, 29397, 29412, 29423, 29432, 29434, 29438, 29446, 29450, 29455, 29457, 29459, 29463, 29474, 29483, 29485, 29491, 29506, 29509, 29531, 29552, 29568, 29584, 29603, 29608, 29611, 29631, 29688, 29694, 29698, 29700, 29710, 29720, 29722, 29724, 29728, 29735, 29737, 29739, 29743, 29752, 29754, 29759, 29769, 29777, 29779, 29784, 29791, 29793, 29797, 29802, 29804, 29806, 29808, 29810, 29812, 29816, 29831, 29838, 29840, 29842, 29844, 29856, 29864, 29866, 29870, 29878, 29880, 29886, 29889, 29896, 29898, 29900, 29904, 29908, 29923, 29932, 29974, 30001, 30037, 30057, 30063, 30072, 30080, 30087, 30093, 30099, 30106, 30113, 30118, 30125, 30139, 30145, 30152, 30158, 30164, 30172, 30182, 30192, 30208, 30222, 30226, 30253, 30265, 30273, 30277, 30313, 30317, 30322, 30336, 30341, 30349, 30357, 30364, 30366, 30373, 30381, 30384, 30393, 30398, 30406, 30414, 30417, 30422, 30428, 30439, 30448, 30453, 30460, 30468, 30483, 30489, 30503, 30512, 30521, 30525, 30533, 30542, 30547, 30549, 30552, 30560, 30562, 30564, 30570, 30575, 30577, 30579, 30583, 30599, 30602, 30604, 30607, 30611, 30619, 30621, 30630, 30645, 30647, 30655, 30657, 30661, 30664, 30667, 30671, 30675, 30679, 30681, 30683, 30687, 30694, 30696, 30702, 30705, 30721, 30723, 30725, 30739, 30744, 30746, 30748, 30752, 30759, 30761, 30763, 30767, 30774, 30776, 30778, 30788, 30792, 30798, 30800, 30804, 30811, 30814, 30822, 30827, 30832, 30834, 30836, 30841, 30845, 30855, 30864, 30866, 30868, 30870, 30877, 30885, 30887, 30889, 30891, 30895, 30900, 30902, 30904, 30906, 30909, 30917, 30926, 30929, 30933, 30943, 30951, 30969, 30973, 30977, 30987, 30995, 31002, 31004, 31006, 31008, 31018, 31027, 31037, 31039, 31044, 31048, 31061, 31067, 31071, 31073, 31075, 31088, 31095, 31097, 31099, 31103, 31108, 31126, 31132, 31137, 31139, 31146, 31158, 31163, 31165, 31173, 31193, 31197, 31205, 31211]\n"
          ]
        }
      ]
    },
    {
      "cell_type": "code",
      "metadata": {
        "id": "hvfAyZ6NsSM5"
      },
      "source": [
        "path = \"/content/dev-n2c2-slottagging.txt\"\n",
        "\n",
        "with open(path,'a') as wf:\n",
        "  with open(\"/content/dev-n2c2-support-200.txt\", 'r') as f1:\n",
        "    text1 = f1.readlines()\n",
        "    with open(\"/content/dev-n2c2-NOnesupport-200.txt\", 'r') as f2:\n",
        "      text2 = f2.readlines()\n",
        "      with open(\"/content/dev-n2c2-support-200-tokenized.txt\", 'r') as f3:\n",
        "        text3 = f3.readlines()\n",
        "        with open(\"/content/dev-n2c2-NOnesupport-200-tokenized.txt\", 'r') as f4:\n",
        "          text4 = f4.readlines()\n",
        "          wf.write('{\"N2C2\": [')\n",
        "          #for i in range(len(support_list)):\n",
        "          for i in range(5):\n",
        "            ## support start\n",
        "\n",
        "            wf.write('{\"support\": {\"seq_ins\": [[')\n",
        "            start = support_list[i]\n",
        "            end = support_list[i+1]-1\n",
        "            for j in range(start,end-1):\n",
        "              #print(text1[j].strip(\"\\n\").split(\" \"))\n",
        "              wf.write('\"'+ str(text1[j].strip(\"\\n\").split(\"\\t\")[0]) + '\"' + ', ')\n",
        "            wf.write('\"'+ str(text1[end-1].strip(\"\\n\").split(\"\\t\")[0]) + '\"' + ']')\n",
        "            wf.write('], \"labels\": [\"N2C2\"], \"seq_outs\": [[')\n",
        "            for j in range(start,end-1):\n",
        "              #print(text1[j].strip(\"\\n\").split(\" \"))\n",
        "              wf.write('\"'+ str(text1[j].strip(\"\\n\").split(\"\\t\")[1]) + '\"' + ', ')\n",
        "            wf.write('\"'+ str(text1[end-1].strip(\"\\n\").split(\"\\t\")[1]) + '\"' + ']')\n",
        "            wf.write('], \"word_piece_marks\": [[')\n",
        "            for j in range(start,end-1):\n",
        "              label = str(text1[j].strip(\"\\n\").split(\"\\t\")[1])\n",
        "              #print(label)\n",
        "              if(str(text1[j].strip(\"\\n\").split(\"\\t\")[1])==\"O\"):\n",
        "                wf.write('0' + ',')\n",
        "              else:\n",
        "                wf.write('1' + ',')\n",
        "            if(str(text1[end-1].strip(\"\\n\").split(\"\\t\")[1])=='O'):\n",
        "              wf.write('0' + ']')\n",
        "            else:\n",
        "              wf.write('1' + ']')\n",
        "            wf.write('], \"tokenized_texts\": [[')\n",
        "            start1 = support_token_list[i]\n",
        "            end1 = support_token_list[i+1]-1\n",
        "            for j in range(start1,end1-1):\n",
        "              #print(text1[j].strip(\"\\n\").split(\" \"))\n",
        "              wf.write('\"'+ str(text3[j].strip(\"\\n\").split(\"\\t\")[0]) + '\"' + ', ')\n",
        "            wf.write('\"'+ str(text3[end1-1].strip(\"\\n\").split(\"\\t\")[0]) + '\"' + ']')\n",
        "            wf.write('], \"word_piece_labels\": [[')\n",
        "            for j in range(start1,end1-1):\n",
        "              #print(text1[j].strip(\"\\n\").split(\" \"))\n",
        "              wf.write('\"'+ str(text3[j].strip(\"\\n\").split(\"\\t\")[1]) + '\"' + \", \")\n",
        "            wf.write('\"'+ str(text3[end1-1].strip(\"\\n\").split(\"\\t\")[1]) + '\"' + ']')\n",
        "            wf.write(']}, \"batch\": {\"seq_ins\": [')\n",
        "\n",
        "            ## batch start:\n",
        "\n",
        "            rand_list = []\n",
        "            for k in range(20):\n",
        "              while True:\n",
        "                rand = random.randint(0,len(query_list))\n",
        "                if(rand not in rand_list):\n",
        "                  rand_list.append(rand)\n",
        "                  break\n",
        "              start2 = query_list[rand]\n",
        "              end2 = query_list[rand+1]-1\n",
        "              #print(\"end2?????\",start2,end2)\n",
        "              if(start2==end2):\n",
        "                wf.write('[')\n",
        "              elif(start2==(end2-1)):\n",
        "                wf.write('[' + '\"'+ str(text2[start2].strip(\"\\n\").split(\"\\t\")[0]) + '\"' + ', ')\n",
        "              for j in range(start2,end2-1):\n",
        "\n",
        "                if(j==start2):\n",
        "                  wf.write('[')\n",
        "                wf.write('\"'+ str(text2[j].strip(\"\\n\").split(\"\\t\")[0]) + '\"' + ', ')\n",
        "                #print(\"+++++++++++\")\n",
        "                #print(j,start2,text2[j])\n",
        "              if(k!=19):\n",
        "                wf.write('\"'+ str(text2[end2-1].strip(\"\\n\").split(\"\\t\")[0]) + '\"' + '], ')\n",
        "                #print(\"===============\")\n",
        "                #print(j,start2,text2[end2-1])\n",
        "              else:\n",
        "                wf.write('\"'+ str(text2[end2-1].strip(\"\\n\").split(\"\\t\")[0]) + '\"' + ']], ')\n",
        "                #print(\"-----------------\")\n",
        "                #print(j,start2,text2[end2-1])\n",
        "            wf.write('\"labels\": [\"N2C2\", \"N2C2\", \"N2C2\", \"N2C2\", \"N2C2\", \"N2C2\", \"N2C2\", \"N2C2\", \"N2C2\", \"N2C2\", \"N2C2\", \"N2C2\", \"N2C2\", \"N2C2\", \"N2C2\", \"N2C2\", \"N2C2\", \"N2C2\", \"N2C2\", \"N2C2\"], \"seq_outs\": [')\n",
        "\n",
        "            k = 0\n",
        "            for rand in rand_list:\n",
        "              k+=1\n",
        "              start2 = query_list[rand]\n",
        "              end2 = query_list[rand+1]-1\n",
        "              if(start2==end2):\n",
        "                wf.write('[')\n",
        "              elif(start2==(end2-1)):\n",
        "                wf.write('[' + '\"'+ str(text2[start2].strip(\"\\n\").split(\"\\t\")[1]) + '\"' + ', ')\n",
        "              for j in range(start2,end2-1):\n",
        "                #print(text1[j].strip(\"\\n\").split(\" \"))\n",
        "                if(j==start2):\n",
        "                  wf.write('[')\n",
        "                wf.write('\"'+ str(text2[j].strip(\"\\n\").split(\"\\t\")[1]) + '\"' + ', ')\n",
        "              if(k!=20):\n",
        "                wf.write('\"'+ str(text2[end2-1].strip(\"\\n\").split(\"\\t\")[1]) + '\"' + '], ')\n",
        "              else:\n",
        "                wf.write('\"'+ str(text2[end2-1].strip(\"\\n\").split(\"\\t\")[1]) + '\"' + ']], ')\n",
        "            wf.write('\"word_piece_marks\": [')\n",
        "\n",
        "            k = 0\n",
        "            for rand in rand_list:\n",
        "              k+=1\n",
        "              start2 = query_list[rand]\n",
        "              end2 = query_list[rand+1]-1\n",
        "              if(start2==end2):\n",
        "                wf.write('[')\n",
        "              elif(start2==(end2-1)):\n",
        "                wf.write('[')\n",
        "                if(str(text2[j].strip(\"\\n\").split(\"\\t\")[1])==\"O\"):\n",
        "                  wf.write('0' + ',')\n",
        "                else:\n",
        "                  wf.write('1' + ',')\n",
        "              for j in range(start2,end2-1):\n",
        "                label = str(text2[j].strip(\"\\n\").split(\"\\t\")[1])\n",
        "                #print(label)\n",
        "                if(j==start2):\n",
        "                  wf.write('[')\n",
        "                if(str(text2[j].strip(\"\\n\").split(\"\\t\")[1])==\"O\"):\n",
        "                  wf.write('0' + ',')\n",
        "                else:\n",
        "                  wf.write('1' + ',')\n",
        "              if(k!=20):\n",
        "                if(str(text2[end2-1].strip(\"\\n\").split(\"\\t\")[1])=='O'):\n",
        "                  wf.write('0' + '], ')\n",
        "                else:\n",
        "                  wf.write('1' + '], ')\n",
        "              else:\n",
        "                if(str(text2[end2-1].strip(\"\\n\").split(\"\\t\")[1])=='O'):\n",
        "                  wf.write('0' + ']], ')\n",
        "                else:\n",
        "                  wf.write('1' + ']], ')\n",
        "            wf.write('\"tokenized_texts\": [')\n",
        "\n",
        "            k = 0\n",
        "            for rand in rand_list:\n",
        "              k+=1\n",
        "              start3 = query_token_list[rand]\n",
        "              end3 = query_token_list[rand+1]-1\n",
        "              if(start3==end3):\n",
        "                wf.write('[')\n",
        "              elif(start3==(end3-1)):\n",
        "                wf.write('[' + '\"'+ str(text4[start3].strip(\"\\n\").split(\"\\t\")[0]) + '\"' + ', ')\n",
        "              for j in range(start3,end3-1):\n",
        "                if(j==start3):\n",
        "                  wf.write('[')\n",
        "                wf.write('\"'+ str(text4[j].strip(\"\\n\").split(\"\\t\")[0]) + '\"' + ', ')\n",
        "              if(k!=20):\n",
        "                wf.write('\"'+ str(text4[end3-1].strip(\"\\n\").split(\"\\t\")[0]) + '\"' + '], ')\n",
        "              else:\n",
        "                wf.write('\"'+ str(text4[end3-1].strip(\"\\n\").split(\"\\t\")[0]) + '\"' + ']], ')\n",
        "            wf.write('\"word_piece_labels\": [')\n",
        "\n",
        "            k = 0\n",
        "            for rand in rand_list:\n",
        "              k+=1\n",
        "              start3 = query_token_list[rand]\n",
        "              end3 = query_token_list[rand+1]-1\n",
        "              if(start3==end3):\n",
        "                wf.write('[')\n",
        "              elif(start3==(end3-1)):\n",
        "                wf.write('[' + '\"'+ str(text4[start3].strip(\"\\n\").split(\"\\t\")[1]) + '\"' + ', ')\n",
        "              for j in range(start3,end3-1):\n",
        "                if(j==start3):\n",
        "                  wf.write('[')\n",
        "                wf.write('\"'+ str(text4[j].strip(\"\\n\").split(\"\\t\")[1]) + '\"' + ', ')\n",
        "              if(k!=20):\n",
        "                wf.write('\"'+ str(text4[end3-1].strip(\"\\n\").split(\"\\t\")[1]) + '\"' + '], ')\n",
        "              else:\n",
        "                wf.write('\"'+ str(text4[end3-1].strip(\"\\n\").split(\"\\t\")[1]) + '\"' + ']]}}, ')\n",
        "          wf.write(']}')\n"
      ],
      "execution_count": null,
      "outputs": []
    },
    {
      "cell_type": "markdown",
      "source": [
        "如果每个support都有四个seq_in"
      ],
      "metadata": {
        "id": "naWmlnoTI5Bv"
      }
    },
    {
      "cell_type": "code",
      "source": [
        "path = \"/content/dev-n2c2-slottagging.txt\"\n",
        "\n",
        "with open(path,'a') as wf:\n",
        "  with open(\"/content/dev-n2c2-support-200.txt\", 'r') as f1:\n",
        "    text1 = f1.readlines()\n",
        "    with open(\"/content/dev-n2c2-NOnesupport-200.txt\", 'r') as f2:\n",
        "      text2 = f2.readlines()\n",
        "      with open(\"/content/dev-n2c2-support-200-tokenized.txt\", 'r') as f3:\n",
        "        text3 = f3.readlines()\n",
        "        with open(\"/content/dev-n2c2-NOnesupport-200-tokenized.txt\", 'r') as f4:\n",
        "          text4 = f4.readlines()\n",
        "          wf.write('{\"N2C2\": [')\n",
        "          #for i in range(len(support_list)):\n",
        "          i = 0\n",
        "          while(i<8):\n",
        "\n",
        "            ## support start\n",
        "            wf.write('{\"support\": {\"seq_ins\": [[')\n",
        "\n",
        "            for h in range(4):\n",
        "              start = support_list[i]\n",
        "              end = support_list[i+1]-1\n",
        "              for j in range(start,end-1):\n",
        "                #print(text1[j].strip(\"\\n\").split(\" \"))\n",
        "                wf.write('\"'+ str(text1[j].strip(\"\\n\").split(\"\\t\")[0]) + '\"' + ', ')\n",
        "              if(h!=3):\n",
        "                wf.write('\"'+ str(text1[end-1].strip(\"\\n\").split(\"\\t\")[0]) + '\"' + '], ')\n",
        "              else:\n",
        "                wf.write('\"'+ str(text1[end-1].strip(\"\\n\").split(\"\\t\")[0]) + '\"' + ']')\n",
        "              i=i+1\n",
        "            wf.write('], \"labels\": [\"N2C2\", \"N2C2\", \"N2C2\", \"N2C2\"], \"seq_outs\": [[')\n",
        "            i = i-3\n",
        "            for h in range(4):\n",
        "              start = support_list[i]\n",
        "              end = support_list[i+1]-1\n",
        "              for j in range(start,end-1):\n",
        "                #print(text1[j].strip(\"\\n\").split(\" \"))\n",
        "                if(h!=3):\n",
        "                  wf.write('\"'+ str(text1[end-1].strip(\"\\n\").split(\"\\t\")[1]) + '\"' + '], ')\n",
        "                else:\n",
        "                  wf.write('\"'+ str(text1[end-1].strip(\"\\n\").split(\"\\t\")[1]) + '\"' + ']')\n",
        "              i=i+1\n",
        "            wf.write('], \"word_piece_marks\": [[')\n",
        "            i = i-3\n",
        "            for h in range(4):\n",
        "              start = support_list[i]\n",
        "              end = support_list[i+1]-1\n",
        "              for j in range(start,end-1):\n",
        "                label = str(text1[j].strip(\"\\n\").split(\"\\t\")[1])\n",
        "                #print(label)\n",
        "                if(str(text1[j].strip(\"\\n\").split(\"\\t\")[1])==\"O\"):\n",
        "                  wf.write('0' + ',')\n",
        "                else:\n",
        "                  wf.write('1' + ',')\n",
        "                if(h!=3):\n",
        "                  if(str(text1[end-1].strip(\"\\n\").split(\"\\t\")[1])=='O'):\n",
        "                    wf.write('0' + '], ')\n",
        "                  else:\n",
        "                    wf.write('1' + '], ')\n",
        "                else:\n",
        "                  if(str(text1[end-1].strip(\"\\n\").split(\"\\t\")[1])=='O'):\n",
        "                    wf.write('0' + ']')\n",
        "                  else:\n",
        "                    wf.write('1' + ']')\n",
        "              i=i+1\n",
        "            wf.write('], \"tokenized_texts\": [[')\n",
        "            i = i-3\n",
        "\n",
        "            for h in range(4):\n",
        "              start1 = support_token_list[i]\n",
        "              end1 = support_token_list[i+1]-1\n",
        "              for j in range(start1,end1-1):\n",
        "                #print(text1[j].strip(\"\\n\").split(\" \"))\n",
        "                wf.write('\"'+ str(text3[j].strip(\"\\n\").split(\"\\t\")[0]) + '\"' + ', ')\n",
        "              wf.write('\"'+ str(text3[end1-1].strip(\"\\n\").split(\"\\t\")[0]) + '\"' + ']')\n",
        "            wf.write('], \"word_piece_labels\": [[')\n",
        "            for j in range(start1,end1-1):\n",
        "              #print(text1[j].strip(\"\\n\").split(\" \"))\n",
        "              wf.write('\"'+ str(text3[j].strip(\"\\n\").split(\"\\t\")[1]) + '\"' + \", \")\n",
        "            wf.write('\"'+ str(text3[end1-1].strip(\"\\n\").split(\"\\t\")[1]) + '\"' + ']')\n",
        "            wf.write(']}, \"batch\": {\"seq_ins\": [')\n",
        "\n",
        "            ## batch start:\n",
        "\n",
        "            rand_list = []\n",
        "            for k in range(20):\n",
        "              while True:\n",
        "                rand = random.randint(0,len(query_list))\n",
        "                if(rand not in rand_list):\n",
        "                  rand_list.append(rand)\n",
        "                  break\n",
        "              start2 = query_list[rand]+1\n",
        "              end2 = query_list[rand+1]-1\n",
        "              #print(\"end2?????\",start2,end2)\n",
        "              if(start2==end2):\n",
        "                wf.write('[')\n",
        "              elif(start2==(end2-1)):\n",
        "                wf.write('[' + '\"'+ str(text2[start2].strip(\"\\n\").split(\"\\t\")[0]) + '\"' + ', ')\n",
        "              for j in range(start2,end2-1):\n",
        "\n",
        "                if(j==start2):\n",
        "                  wf.write('[')\n",
        "                wf.write('\"'+ str(text2[j].strip(\"\\n\").split(\"\\t\")[0]) + '\"' + ', ')\n",
        "                #print(\"+++++++++++\")\n",
        "                #print(j,start2,text2[j])\n",
        "              if(k!=19):\n",
        "                wf.write('\"'+ str(text2[end2-1].strip(\"\\n\").split(\"\\t\")[0]) + '\"' + '], ')\n",
        "                #print(\"===============\")\n",
        "                #print(j,start2,text2[end2-1])\n",
        "              else:\n",
        "                wf.write('\"'+ str(text2[end2-1].strip(\"\\n\").split(\"\\t\")[0]) + '\"' + ']], ')\n",
        "                #print(\"-----------------\")\n",
        "                #print(j,start2,text2[end2-1])\n",
        "            wf.write('\"labels\": [\"N2C2\", \"N2C2\", \"N2C2\", \"N2C2\", \"N2C2\", \"N2C2\", \"N2C2\", \"N2C2\", \"N2C2\", \"N2C2\", \"N2C2\", \"N2C2\", \"N2C2\", \"N2C2\", \"N2C2\", \"N2C2\", \"N2C2\", \"N2C2\", \"N2C2\", \"N2C2\"], \"seq_outs\": [')\n",
        "\n",
        "            k = 0\n",
        "            for rand in rand_list:\n",
        "              k+=1\n",
        "              start2 = query_list[rand]+1\n",
        "              end2 = query_list[rand+1]-1\n",
        "              if(start2==end2):\n",
        "                wf.write('[')\n",
        "              elif(start2==(end2-1)):\n",
        "                wf.write('[' + '\"'+ str(text2[start2].strip(\"\\n\").split(\"\\t\")[1]) + '\"' + ', ')\n",
        "              for j in range(start2,end2-1):\n",
        "                #print(text1[j].strip(\"\\n\").split(\" \"))\n",
        "                if(j==start2):\n",
        "                  wf.write('[')\n",
        "                wf.write('\"'+ str(text2[j].strip(\"\\n\").split(\"\\t\")[1]) + '\"' + ', ')\n",
        "              if(k!=20):\n",
        "                wf.write('\"'+ str(text2[end2-1].strip(\"\\n\").split(\"\\t\")[1]) + '\"' + '], ')\n",
        "              else:\n",
        "                wf.write('\"'+ str(text2[end2-1].strip(\"\\n\").split(\"\\t\")[1]) + '\"' + ']], ')\n",
        "            wf.write('\"word_piece_marks\": [')\n",
        "\n",
        "            k = 0\n",
        "            for rand in rand_list:\n",
        "              k+=1\n",
        "              start2 = query_list[rand]+1\n",
        "              end2 = query_list[rand+1]-1\n",
        "              if(start2==end2):\n",
        "                wf.write('[')\n",
        "              elif(start2==(end2-1)):\n",
        "                wf.write('[')\n",
        "                if(str(text2[j].strip(\"\\n\").split(\"\\t\")[1])==\"O\"):\n",
        "                  wf.write('0' + ',')\n",
        "                else:\n",
        "                  wf.write('1' + ',')\n",
        "              for j in range(start2,end2-1):\n",
        "                label = str(text2[j].strip(\"\\n\").split(\"\\t\")[1])\n",
        "                #print(label)\n",
        "                if(j==start2):\n",
        "                  wf.write('[')\n",
        "                if(str(text2[j].strip(\"\\n\").split(\"\\t\")[1])==\"O\"):\n",
        "                  wf.write('0' + ',')\n",
        "                else:\n",
        "                  wf.write('1' + ',')\n",
        "              if(k!=20):\n",
        "                if(str(text2[end2-1].strip(\"\\n\").split(\"\\t\")[1])=='O'):\n",
        "                  wf.write('0' + '], ')\n",
        "                else:\n",
        "                  wf.write('1' + '], ')\n",
        "              else:\n",
        "                if(str(text2[end2-1].strip(\"\\n\").split(\"\\t\")[1])=='O'):\n",
        "                  wf.write('0' + ']], ')\n",
        "                else:\n",
        "                  wf.write('1' + ']], ')\n",
        "            wf.write('\"tokenized_texts\": [')\n",
        "\n",
        "            k = 0\n",
        "            for rand in rand_list:\n",
        "              k+=1\n",
        "              start3 = query_token_list[rand]\n",
        "              end3 = query_token_list[rand+1]-1\n",
        "              if(start3==end3):\n",
        "                wf.write('[')\n",
        "              elif(start3==(end3-1)):\n",
        "                wf.write('[' + '\"'+ str(text4[start3].strip(\"\\n\").split(\"\\t\")[0]) + '\"' + ', ')\n",
        "              for j in range(start3,end3-1):\n",
        "                if(j==start3):\n",
        "                  wf.write('[')\n",
        "                wf.write('\"'+ str(text4[j].strip(\"\\n\").split(\"\\t\")[0]) + '\"' + ', ')\n",
        "              if(k!=20):\n",
        "                wf.write('\"'+ str(text4[end3-1].strip(\"\\n\").split(\"\\t\")[0]) + '\"' + '], ')\n",
        "              else:\n",
        "                wf.write('\"'+ str(text4[end3-1].strip(\"\\n\").split(\"\\t\")[0]) + '\"' + ']], ')\n",
        "            wf.write('\"word_piece_labels\": [')\n",
        "\n",
        "            k = 0\n",
        "            for rand in rand_list:\n",
        "              k+=1\n",
        "              start3 = query_token_list[rand]\n",
        "              end3 = query_token_list[rand+1]-1\n",
        "              if(start3==end3):\n",
        "                wf.write('[')\n",
        "              elif(start3==(end3-1)):\n",
        "                wf.write('[' + '\"'+ str(text4[start3].strip(\"\\n\").split(\"\\t\")[1]) + '\"' + ', ')\n",
        "              for j in range(start3,end3-1):\n",
        "                if(j==start3):\n",
        "                  wf.write('[')\n",
        "                wf.write('\"'+ str(text4[j].strip(\"\\n\").split(\"\\t\")[1]) + '\"' + ', ')\n",
        "              if(k!=20):\n",
        "                wf.write('\"'+ str(text4[end3-1].strip(\"\\n\").split(\"\\t\")[1]) + '\"' + '], ')\n",
        "              else:\n",
        "                wf.write('\"'+ str(text4[end3-1].strip(\"\\n\").split(\"\\t\")[1]) + '\"' + ']]}}, ')\n",
        "          wf.write(']}')\n"
      ],
      "metadata": {
        "id": "4tjGws_hI4pV"
      },
      "execution_count": null,
      "outputs": []
    },
    {
      "cell_type": "markdown",
      "source": [
        "5.txt转json，直接改后缀名就好了"
      ],
      "metadata": {
        "id": "AvO11cr5u5I7"
      }
    }
  ]
}